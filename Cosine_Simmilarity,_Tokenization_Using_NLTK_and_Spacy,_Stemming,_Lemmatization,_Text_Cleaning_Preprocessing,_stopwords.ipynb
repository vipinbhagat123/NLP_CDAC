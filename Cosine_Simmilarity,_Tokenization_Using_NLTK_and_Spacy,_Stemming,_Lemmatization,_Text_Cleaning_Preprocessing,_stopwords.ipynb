{
  "nbformat": 4,
  "nbformat_minor": 0,
  "metadata": {
    "colab": {
      "provenance": [],
      "include_colab_link": true
    },
    "kernelspec": {
      "name": "python3",
      "display_name": "Python 3"
    },
    "language_info": {
      "name": "python"
    }
  },
  "cells": [
    {
      "cell_type": "markdown",
      "metadata": {
        "id": "view-in-github",
        "colab_type": "text"
      },
      "source": [
        "<a href=\"https://colab.research.google.com/github/vipinbhagat123/NLP_CDAC/blob/main/Cosine_Simmilarity%2C_Tokenization_Using_NLTK_and_Spacy%2C_Stemming%2C_Lemmatization%2C_Text_Cleaning_Preprocessing%2C_stopwords.ipynb\" target=\"_parent\"><img src=\"https://colab.research.google.com/assets/colab-badge.svg\" alt=\"Open In Colab\"/></a>"
      ]
    },
    {
      "cell_type": "markdown",
      "source": [
        "Cosine similarity"
      ],
      "metadata": {
        "id": "qhV9nIXzpibF"
      }
    },
    {
      "cell_type": "code",
      "execution_count": null,
      "metadata": {
        "id": "GmcdnqunntN5"
      },
      "outputs": [],
      "source": [
        "from sklearn.feature_extraction.text import TfidfVectorizer\n",
        "from sklearn.metrics.pairwise import cosine_similarity\n"
      ]
    },
    {
      "cell_type": "code",
      "source": [
        "sentence1 = 'I love flying with this airline'\n",
        "sentence2 = 'This ailine is my favourite'"
      ],
      "metadata": {
        "id": "092WvReEoK6S"
      },
      "execution_count": null,
      "outputs": []
    },
    {
      "cell_type": "code",
      "source": [
        "#convert to tfidf vector\n",
        "vectorizer = TfidfVectorizer()\n",
        "tfidf_matrix = vectorizer.fit_transform([sentence1, sentence2])\n",
        "cos_sim = cosine_similarity(tfidf_matrix[0:1], tfidf_matrix[1:2])\n",
        "print(f' Cosine similarity: {cos_sim[0][0]:.4f}')\n"
      ],
      "metadata": {
        "colab": {
          "base_uri": "https://localhost:8080/"
        },
        "id": "2GwACT-HoYeT",
        "outputId": "7a4299c4-76d7-4926-f95e-5f4c8eac9bbc"
      },
      "execution_count": null,
      "outputs": [
        {
          "output_type": "stream",
          "name": "stdout",
          "text": [
            " Cosine similarity: 0.1123\n"
          ]
        }
      ]
    },
    {
      "cell_type": "code",
      "source": [
        "sentence1 = 'I like to eat early in the morning.'\n",
        "sentence2 = 'Eating late is what i like.'"
      ],
      "metadata": {
        "id": "4pmyXjvgo3R8"
      },
      "execution_count": null,
      "outputs": []
    },
    {
      "cell_type": "code",
      "source": [
        "vectorizer = TfidfVectorizer()\n",
        "tfidf_matrix = vectorizer.fit_transform([sentence1, sentence2])\n",
        "cos_sim = cosine_similarity(tfidf_matrix[0:1], tfidf_matrix[1:2])\n",
        "print(f' Cosine similarity: {cos_sim[0][0]:.4f}')"
      ],
      "metadata": {
        "colab": {
          "base_uri": "https://localhost:8080/"
        },
        "id": "tLjHmutBpHRz",
        "outputId": "0fb7a5e9-fb38-43e4-a977-3ec2623890eb"
      },
      "execution_count": null,
      "outputs": [
        {
          "output_type": "stream",
          "name": "stdout",
          "text": [
            " Cosine similarity: 0.0935\n"
          ]
        }
      ]
    },
    {
      "cell_type": "markdown",
      "source": [
        "Download article from wikipedia and perform extraction using nltk"
      ],
      "metadata": {
        "id": "bOtTOEMDtXps"
      }
    },
    {
      "cell_type": "code",
      "source": [
        "import urllib3\n",
        "import nltk\n",
        "# nltk.download()\n",
        "# pip install -U pip setuptools wheel\n",
        "# pip install -U spacy\n",
        "# python -m spacy download en\n",
        "from bs4 import BeautifulSoup\n",
        "import spacy\n"
      ],
      "metadata": {
        "id": "63JX8kTFtenM"
      },
      "execution_count": null,
      "outputs": []
    },
    {
      "cell_type": "code",
      "source": [
        "url = 'https://en.wikipedia.org/wiki/Natural_language_processing'\n",
        "http = urllib3.PoolManager()\n",
        "response = http.request('GET', url)\n",
        "html = response.data.decode('utf-8')\n",
        "html\n"
      ],
      "metadata": {
        "colab": {
          "base_uri": "https://localhost:8080/",
          "height": 105
        },
        "id": "WpGXTn-Ttnr-",
        "outputId": "cd44060e-941c-488d-c036-21a29df8f356"
      },
      "execution_count": null,
      "outputs": [
        {
          "output_type": "execute_result",
          "data": {
            "text/plain": [
              "'<!DOCTYPE html>\\n<html class=\"client-nojs vector-feature-language-in-header-enabled vector-feature-language-in-main-page-header-disabled vector-feature-page-tools-pinned-disabled vector-feature-toc-pinned-clientpref-1 vector-feature-main-menu-pinned-disabled vector-feature-limited-width-clientpref-1 vector-feature-limited-width-content-enabled vector-feature-custom-font-size-clientpref-1 vector-feature-appearance-pinned-clientpref-1 vector-feature-night-mode-enabled skin-theme-clientpref-day vector-sticky-header-enabled vector-toc-available\" lang=\"en\" dir=\"ltr\">\\n<head>\\n<meta charset=\"UTF-8\">\\n<title>Natural language processing - Wikipedia</title>\\n<script>(function(){var className=\"client-js vector-feature-language-in-header-enabled vector-feature-language-in-main-page-header-disabled vector-feature-page-tools-pinned-disabled vector-feature-toc-pinned-clientpref-1 vector-feature-main-menu-pinned-disabled vector-feature-limited-width-clientpref-1 vector-feature-limited-width-content-enabled vector-feature-custom-font-size-clientpref-1 vector-feature-appearance-pinned-clientpref-1 vector-feature-night-mode-enabled skin-theme-clientpref-day vector-sticky-header-enabled vector-toc-available\";var cookie=document.cookie.match(/(?:^|; )enwikimwclientpreferences=([^;]+)/);if(cookie){cookie[1].split(\\'%2C\\').forEach(function(pref){className=className.replace(new RegExp(\\'(^| )\\'+pref.replace(/-clientpref-\\\\w+$|[^\\\\w-]+/g,\\'\\')+\\'-clientpref-\\\\\\\\w+( |$)\\'),\\'$1\\'+pref+\\'$2\\');});}document.documentElement.className=className;}());RLCONF={\"wgBreakFrames\":false,\"wgSeparatorTransformTable\":[\"\",\"\"],\"wgDigitTransformTable\":[\"\",\"\"],\"wgDefaultDateFormat\":\"dmy\",\"wgMonthNames\":[\"\",\"January\",\"February\",\"March\",\"April\",\"May\",\"June\",\"July\",\"August\",\"September\",\"October\",\"November\",\"December\"],\"wgRequestId\":\"cadcc6cd-31ee-4e01-94ca-bf266f628e49\",\"wgCanonicalNamespace\":\"\",\"wgCanonicalSpecialPageName\":false,\"wgNamespaceNumber\":0,\"wgPageName\":\"Natural_language_processing\",\"wgTitle\":\"Natural language processing\",\"wgCurRevisionId\":1292777221,\"wgRevisionId\":1292777221,\"wgArticleId\":21652,\"wgIsArticle\":true,\"wgIsRedirect\":false,\"wgAction\":\"view\",\"wgUserName\":null,\"wgUserGroups\":[\"*\"],\"wgCategories\":[\"All accuracy disputes\",\"Accuracy disputes from December 2013\",\"Harv and Sfn no-target errors\",\"CS1 errors: periodical ignored\",\"CS1 maint: location\",\"Articles with short description\",\"Short description is different from Wikidata\",\"Articles needing additional references from May 2024\",\"All articles needing additional references\",\"All articles with unsourced statements\",\"Articles with unsourced statements from May 2024\",\"Commons category link from Wikidata\",\"Natural language processing\",\"Computational fields of study\",\"Computational linguistics\",\"Speech recognition\"],\"wgPageViewLanguage\":\"en\",\"wgPageContentLanguage\":\"en\",\"wgPageContentModel\":\"wikitext\",\"wgRelevantPageName\":\"Natural_language_processing\",\"wgRelevantArticleId\":21652,\"wgIsProbablyEditable\":true,\"wgRelevantPageIsProbablyEditable\":true,\"wgRestrictionEdit\":[],\"wgRestrictionMove\":[],\"wgNoticeProject\":\"wikipedia\",\"wgCiteReferencePreviewsActive\":false,\"wgFlaggedRevsParams\":{\"tags\":{\"status\":{\"levels\":1}}},\"wgMediaViewerOnClick\":true,\"wgMediaViewerEnabledByDefault\":true,\"wgPopupsFlags\":0,\"wgVisualEditor\":{\"pageLanguageCode\":\"en\",\"pageLanguageDir\":\"ltr\",\"pageVariantFallbacks\":\"en\"},\"wgMFDisplayWikibaseDescriptions\":{\"search\":true,\"watchlist\":true,\"tagline\":false,\"nearby\":true},\"wgWMESchemaEditAttemptStepOversample\":false,\"wgWMEPageLength\":60000,\"wgEditSubmitButtonLabelPublish\":true,\"wgULSPosition\":\"interlanguage\",\"wgULSisCompactLinksEnabled\":false,\"wgVector2022LanguageInHeader\":true,\"wgULSisLanguageSelectorEmpty\":false,\"wgWikibaseItemId\":\"Q30642\",\"wgCheckUserClientHintsHeadersJsApi\":[\"brands\",\"architecture\",\"bitness\",\"fullVersionList\",\"mobile\",\"model\",\"platform\",\"platformVersion\"],\"GEHomepageSuggestedEditsEnableTopics\":true,\"wgGETopicsMatchModeEnabled\":false,\"wgGELevelingUpEnabledForUser\":false};\\nRLSTATE={\"ext.globalCssJs.user.styles\":\"ready\",\"site.styles\":\"ready\",\"user.styles\":\"ready\",\"ext.globalCssJs.user\":\"ready\",\"user\":\"ready\",\"user.options\":\"loading\",\"ext.cite.styles\":\"ready\",\"ext.math.styles\":\"ready\",\"skins.vector.search.codex.styles\":\"ready\",\"skins.vector.styles\":\"ready\",\"skins.vector.icons\":\"ready\",\"jquery.makeCollapsible.styles\":\"ready\",\"ext.wikimediamessages.styles\":\"ready\",\"ext.visualEditor.desktopArticleTarget.noscript\":\"ready\",\"ext.uls.interlanguage\":\"ready\",\"wikibase.client.init\":\"ready\",\"ext.wikimediaBadges\":\"ready\"};RLPAGEMODULES=[\"ext.cite.ux-enhancements\",\"ext.scribunto.logs\",\"site\",\"mediawiki.page.ready\",\"jquery.makeCollapsible\",\"mediawiki.toc\",\"skins.vector.js\",\"ext.centralNotice.geoIP\",\"ext.centralNotice.startUp\",\"ext.gadget.ReferenceTooltips\",\"ext.gadget.switcher\",\"ext.urlShortener.toolbar\",\"ext.centralauth.centralautologin\",\"mmv.bootstrap\",\"ext.popups\",\"ext.visualEditor.desktopArticleTarget.init\",\"ext.visualEditor.targetLoader\",\"ext.echo.centralauth\",\"ext.eventLogging\",\"ext.wikimediaEvents\",\"ext.navigationTiming\",\"ext.uls.interface\",\"ext.cx.eventlogging.campaigns\",\"ext.cx.uls.quick.actions\",\"wikibase.client.vector-2022\",\"ext.checkUser.clientHints\",\"ext.quicksurveys.init\",\"ext.growthExperiments.SuggestedEditSession\"];</script>\\n<script>(RLQ=window.RLQ||[]).push(function(){mw.loader.impl(function(){return[\"user.options@12s5i\",function($,jQuery,require,module){mw.user.tokens.set({\"patrolToken\":\"+\\\\\\\\\",\"watchToken\":\"+\\\\\\\\\",\"csrfToken\":\"+\\\\\\\\\"});\\n}];});});</script>\\n<link rel=\"stylesheet\" href=\"/w/load.php?lang=en&amp;modules=ext.cite.styles%7Cext.math.styles%7Cext.uls.interlanguage%7Cext.visualEditor.desktopArticleTarget.noscript%7Cext.wikimediaBadges%7Cext.wikimediamessages.styles%7Cjquery.makeCollapsible.styles%7Cskins.vector.icons%2Cstyles%7Cskins.vector.search.codex.styles%7Cwikibase.client.init&amp;only=styles&amp;skin=vector-2022\">\\n<script async=\"\" src=\"/w/load.php?lang=en&amp;modules=startup&amp;only=scripts&amp;raw=1&amp;skin=vector-2022\"></script>\\n<meta name=\"ResourceLoaderDynamicStyles\" content=\"\">\\n<link rel=\"stylesheet\" href=\"/w/load.php?lang=en&amp;modules=site.styles&amp;only=styles&amp;skin=vector-2022\">\\n<meta name=\"generator\" content=\"MediaWiki 1.45.0-wmf.2\">\\n<meta name=\"referrer\" content=\"origin\">\\n<meta name=\"referrer\" content=\"origin-when-cross-origin\">\\n<meta name=\"robots\" content=\"max-image-preview:standard\">\\n<meta name=\"format-detection\" content=\"telephone=no\">\\n<meta name=\"viewport\" content=\"width=1120\">\\n<meta property=\"og:title\" content=\"Natural language processing - Wikipedia\">\\n<meta property=\"og:type\" content=\"website\">\\n<link rel=\"preconnect\" href=\"//upload.wikimedia.org\">\\n<link rel=\"alternate\" media=\"only screen and (max-width: 640px)\" href=\"//en.m.wikipedia.org/wiki/Natural_language_processing\">\\n<link rel=\"alternate\" type=\"application/x-wiki\" title=\"Edit this page\" href=\"/w/index.php?title=Natural_language_processing&amp;action=edit\">\\n<link rel=\"apple-touch-icon\" href=\"/static/apple-touch/wikipedia.png\">\\n<link rel=\"icon\" href=\"/static/favicon/wikipedia.ico\">\\n<link rel=\"search\" type=\"application/opensearchdescription+xml\" href=\"/w/rest.php/v1/search\" title=\"Wikipedia (en)\">\\n<link rel=\"EditURI\" type=\"application/rsd+xml\" href=\"//en.wikipedia.org/w/api.php?action=rsd\">\\n<link rel=\"canonical\" href=\"https://en.wikipedia.org/wiki/Natural_language_processing\">\\n<link rel=\"license\" href=\"https://creativecommons.org/licenses/by-sa/4.0/deed.en\">\\n<link rel=\"alternate\" type=\"application/atom+xml\" title=\"Wikipedia Atom feed\" href=\"/w/index.php?title=Special:RecentChanges&amp;feed=atom\">\\n<link rel=\"dns-prefetch\" href=\"//meta.wikimedia.org\" />\\n<link rel=\"dns-prefetch\" href=\"auth.wikimedia.org\">\\n</head>\\n<body class=\"skin--responsive skin-vector skin-vector-search-vue mediawiki ltr sitedir-ltr mw-hide-empty-elt ns-0 ns-subject mw-editable page-Natural_language_processing rootpage-Natural_language_processing skin-vector-2022 action-view\"><a class=\"mw-jump-link\" href=\"#bodyContent\">Jump to content</a>\\n<div class=\"vector-header-container\">\\n\\t<header class=\"vector-header mw-header no-font-mode-scale\">\\n\\t\\t<div class=\"vector-header-start\">\\n\\t\\t\\t<nav class=\"vector-main-menu-landmark\" aria-label=\"Site\">\\n\\t\\t\\t\\t\\n<div id=\"vector-main-menu-dropdown\" class=\"vector-dropdown vector-main-menu-dropdown vector-button-flush-left vector-button-flush-right\"  title=\"Main menu\" >\\n\\t<input type=\"checkbox\" id=\"vector-main-menu-dropdown-checkbox\" role=\"button\" aria-haspopup=\"true\" data-event-name=\"ui.dropdown-vector-main-menu-dropdown\" class=\"vector-dropdown-checkbox \"  aria-label=\"Main menu\"  >\\n\\t<label id=\"vector-main-menu-dropdown-label\" for=\"vector-main-menu-dropdown-checkbox\" class=\"vector-dropdown-label cdx-button cdx-button--fake-button cdx-button--fake-button--enabled cdx-button--weight-quiet cdx-button--icon-only \" aria-hidden=\"true\"  ><span class=\"vector-icon mw-ui-icon-menu mw-ui-icon-wikimedia-menu\"></span>\\n\\n<span class=\"vector-dropdown-label-text\">Main menu</span>\\n\\t</label>\\n\\t<div class=\"vector-dropdown-content\">\\n\\n\\n\\t\\t\\t\\t<div id=\"vector-main-menu-unpinned-container\" class=\"vector-unpinned-container\">\\n\\t\\t\\n<div id=\"vector-main-menu\" class=\"vector-main-menu vector-pinnable-element\">\\n\\t<div\\n\\tclass=\"vector-pinnable-header vector-main-menu-pinnable-header vector-pinnable-header-unpinned\"\\n\\tdata-feature-name=\"main-menu-pinned\"\\n\\tdata-pinnable-element-id=\"vector-main-menu\"\\n\\tdata-pinned-container-id=\"vector-main-menu-pinned-container\"\\n\\tdata-unpinned-container-id=\"vector-main-menu-unpinned-container\"\\n>\\n\\t<div class=\"vector-pinnable-header-label\">Main menu</div>\\n\\t<button class=\"vector-pinnable-header-toggle-button vector-pinnable-header-pin-button\" data-event-name=\"pinnable-header.vector-main-menu.pin\">move to sidebar</button>\\n\\t<button class=\"vector-pinnable-header-toggle-button vector-pinnable-header-unpin-button\" data-event-name=\"pinnable-header.vector-main-menu.unpin\">hide</button>\\n</div>\\n\\n\\t\\n<div id=\"p-navigation\" class=\"vector-menu mw-portlet mw-portlet-navigation\"  >\\n\\t<div class=\"vector-menu-heading\">\\n\\t\\tNavigation\\n\\t</div>\\n\\t<div class=\"vector-menu-content\">\\n\\t\\t\\n\\t\\t<ul class=\"vector-menu-content-list\">\\n\\t\\t\\t\\n\\t\\t\\t<li id=\"n-mainpage-description\" class=\"mw-list-item\"><a href=\"/wiki/Main_Page\" title=\"Visit the main page [z]\" accesskey=\"z\"><span>Main page</span></a></li><li id=\"n-contents\" class=\"mw-list-item\"><a href=\"/wiki/Wikipedia:Contents\" title=\"Guides to browsing Wikipedia\"><span>Contents</span></a></li><li id=\"n-currentevents\" class=\"mw-list-item\"><a href=\"/wiki/Portal:Current_events\" title=\"Articles related to current events\"><span>Current events</span></a></li><li id=\"n-randompage\" class=\"mw-list-item\"><a href=\"/wiki/Special:Random\" title=\"Visit a randomly selected article [x]\" accesskey=\"x\"><span>Random article</span></a></li><li id=\"n-aboutsite\" class=\"mw-list-item\"><a href=\"/wiki/Wikipedia:About\" title=\"Learn about Wikipedia and how it works\"><span>About Wikipedia</span></a></li><li id=\"n-contactpage\" class=\"mw-list-item\"><a href=\"//en.wikipedia.org/wiki/Wikipedia:Contact_us\" title=\"How to contact Wikipedia\"><span>Contact us</span></a></li>\\n\\t\\t</ul>\\n\\t\\t\\n\\t</div>\\n</div>\\n\\n\\t\\n\\t\\n<div id=\"p-interaction\" class=\"vector-menu mw-portlet mw-portlet-interaction\"  >\\n\\t<div class=\"vector-menu-heading\">\\n\\t\\tContribute\\n\\t</div>\\n\\t<div class=\"vector-menu-content\">\\n\\t\\t\\n\\t\\t<ul class=\"vector-menu-content-list\">\\n\\t\\t\\t\\n\\t\\t\\t<li id=\"n-help\" class=\"mw-list-item\"><a href=\"/wiki/Help:Contents\" title=\"Guidance on how to use and edit Wikipedia\"><span>Help</span></a></li><li id=\"n-introduction\" class=\"mw-list-item\"><a href=\"/wiki/Help:Introduction\" title=\"Learn how to edit Wikipedia\"><span>Learn to edit</span></a></li><li id=\"n-portal\" class=\"mw-list-item\"><a href=\"/wiki/Wikipedia:Community_portal\" title=\"The hub for editors\"><span>Community portal</span></a></li><li id=\"n-recentchanges\" class=\"mw-list-item\"><a href=\"/wiki/Special:RecentChanges\" title=\"A list of recent changes to Wikipedia [r]\" accesskey=\"r\"><span>Recent changes</span></a></li><li id=\"n-upload\" class=\"mw-list-item\"><a href=\"/wiki/Wikipedia:File_upload_wizard\" title=\"Add images or other media for use on Wikipedia\"><span>Upload file</span></a></li><li id=\"n-specialpages\" class=\"mw-list-item\"><a href=\"/wiki/Special:SpecialPages\"><span>Special pages</span></a></li>\\n\\t\\t</ul>\\n\\t\\t\\n\\t</div>\\n</div>\\n\\n</div>\\n\\n\\t\\t\\t\\t</div>\\n\\n\\t</div>\\n</div>\\n\\n\\t\\t</nav>\\n\\t\\t\\t\\n<a href=\"/wiki/Main_Page\" class=\"mw-logo\">\\n\\t<img class=\"mw-logo-icon\" src=\"/static/images/icons/wikipedia.png\" alt=\"\" aria-hidden=\"true\" height=\"50\" width=\"50\">\\n\\t<span class=\"mw-logo-container skin-invert\">\\n\\t\\t<img class=\"mw-logo-wordmark\" alt=\"Wikipedia\" src=\"/static/images/mobile/copyright/wikipedia-wordmark-en.svg\" style=\"width: 7.5em; height: 1.125em;\">\\n\\t\\t<img class=\"mw-logo-tagline\" alt=\"The Free Encyclopedia\" src=\"/static/images/mobile/copyright/wikipedia-tagline-en.svg\" width=\"117\" height=\"13\" style=\"width: 7.3125em; height: 0.8125em;\">\\n\\t</span>\\n</a>\\n\\n\\t\\t</div>\\n\\t\\t<div class=\"vector-header-end\">\\n\\t\\t\\t\\n<div id=\"p-search\" role=\"search\" class=\"vector-search-box-vue  vector-search-box-collapses vector-search-box-show-thumbnail vector-search-box-auto-expand-width vector-search-box\">\\n\\t<a href=\"/wiki/Special:Search\" class=\"cdx-button cdx-button--fake-button cdx-button--fake-button--enabled cdx-button--weight-quiet cdx-button--icon-only search-toggle\" title=\"Search Wikipedia [f]\" accesskey=\"f\"><span class=\"vector-icon mw-ui-icon-search mw-ui-icon-wikimedia-search\"></span>\\n\\n<span>Search</span>\\n\\t</a>\\n\\t<div class=\"vector-typeahead-search-container\">\\n\\t\\t<div class=\"cdx-typeahead-search cdx-typeahead-search--show-thumbnail cdx-typeahead-search--auto-expand-width\">\\n\\t\\t\\t<form action=\"/w/index.php\" id=\"searchform\" class=\"cdx-search-input cdx-search-input--has-end-button\">\\n\\t\\t\\t\\t<div id=\"simpleSearch\" class=\"cdx-search-input__input-wrapper\"  data-search-loc=\"header-moved\">\\n\\t\\t\\t\\t\\t<div class=\"cdx-text-input cdx-text-input--has-start-icon\">\\n\\t\\t\\t\\t\\t\\t<input\\n\\t\\t\\t\\t\\t\\t\\tclass=\"cdx-text-input__input mw-searchInput\"\\n\\t\\t\\t\\t\\t\\t\\t type=\"search\" name=\"search\" placeholder=\"Search Wikipedia\" aria-label=\"Search Wikipedia\" autocapitalize=\"sentences\" spellcheck=\"false\" title=\"Search Wikipedia [f]\" accesskey=\"f\" id=\"searchInput\"\\n\\t\\t\\t\\t\\t\\t\\t>\\n\\t\\t\\t\\t\\t\\t<span class=\"cdx-text-input__icon cdx-text-input__start-icon\"></span>\\n\\t\\t\\t\\t\\t</div>\\n\\t\\t\\t\\t\\t<input type=\"hidden\" name=\"title\" value=\"Special:Search\">\\n\\t\\t\\t\\t</div>\\n\\t\\t\\t\\t<button class=\"cdx-button cdx-search-input__end-button\">Search</button>\\n\\t\\t\\t</form>\\n\\t\\t</div>\\n\\t</div>\\n</div>\\n\\n\\t\\t\\t<nav class=\"vector-user-links vector-user-links-wide\" aria-label=\"Personal tools\">\\n\\t<div class=\"vector-user-links-main\">\\n\\t\\n<div id=\"p-vector-user-menu-preferences\" class=\"vector-menu mw-portlet emptyPortlet\"  >\\n\\t<div class=\"vector-menu-content\">\\n\\t\\t\\n\\t\\t<ul class=\"vector-menu-content-list\">\\n\\t\\t\\t\\n\\t\\t\\t\\n\\t\\t</ul>\\n\\t\\t\\n\\t</div>\\n</div>\\n\\n\\t\\n<div id=\"p-vector-user-menu-userpage\" class=\"vector-menu mw-portlet emptyPortlet\"  >\\n\\t<div class=\"vector-menu-content\">\\n\\t\\t\\n\\t\\t<ul class=\"vector-menu-content-list\">\\n\\t\\t\\t\\n\\t\\t\\t\\n\\t\\t</ul>\\n\\t\\t\\n\\t</div>\\n</div>\\n\\n\\t<nav class=\"vector-appearance-landmark\" aria-label=\"Appearance\">\\n\\t\\t\\n<div id=\"vector-appearance-dropdown\" class=\"vector-dropdown \"  title=\"Change the appearance of the page&#039;s font size, width, and color\" >\\n\\t<input type=\"checkbox\" id=\"vector-appearance-dropdown-checkbox\" role=\"button\" aria-haspopup=\"true\" data-event-name=\"ui.dropdown-vector-appearance-dropdown\" class=\"vector-dropdown-checkbox \"  aria-label=\"Appearance\"  >\\n\\t<label id=\"vector-appearance-dropdown-label\" for=\"vector-appearance-dropdown-checkbox\" class=\"vector-dropdown-label cdx-button cdx-button--fake-button cdx-button--fake-button--enabled cdx-button--weight-quiet cdx-button--icon-only \" aria-hidden=\"true\"  ><span class=\"vector-icon mw-ui-icon-appearance mw-ui-icon-wikimedia-appearance\"></span>\\n\\n<span class=\"vector-dropdown-label-text\">Appearance</span>\\n\\t</label>\\n\\t<div class=\"vector-dropdown-content\">\\n\\n\\n\\t\\t\\t<div id=\"vector-appearance-unpinned-container\" class=\"vector-unpinned-container\">\\n\\t\\t\\t\\t\\n\\t\\t\\t</div>\\n\\t\\t\\n\\t</div>\\n</div>\\n\\n\\t</nav>\\n\\t\\n<div id=\"p-vector-user-menu-notifications\" class=\"vector-menu mw-portlet emptyPortlet\"  >\\n\\t<div class=\"vector-menu-content\">\\n\\t\\t\\n\\t\\t<ul class=\"vector-menu-content-list\">\\n\\t\\t\\t\\n\\t\\t\\t\\n\\t\\t</ul>\\n\\t\\t\\n\\t</div>\\n</div>\\n\\n\\t\\n<div id=\"p-vector-user-menu-overflow\" class=\"vector-menu mw-portlet\"  >\\n\\t<div class=\"vector-menu-content\">\\n\\t\\t\\n\\t\\t<ul class=\"vector-menu-content-list\">\\n\\t\\t\\t<li id=\"pt-sitesupport-2\" class=\"user-links-collapsible-item mw-list-item user-links-collapsible-item\"><a data-mw=\"interface\" href=\"https://donate.wikimedia.org/?wmf_source=donate&amp;wmf_medium=sidebar&amp;wmf_campaign=en.wikipedia.org&amp;uselang=en\" class=\"\"><span>Donate</span></a>\\n</li>\\n<li id=\"pt-createaccount-2\" class=\"user-links-collapsible-item mw-list-item user-links-collapsible-item\"><a data-mw=\"interface\" href=\"/w/index.php?title=Special:CreateAccount&amp;returnto=Natural+language+processing\" title=\"You are encouraged to create an account and log in; however, it is not mandatory\" class=\"\"><span>Create account</span></a>\\n</li>\\n<li id=\"pt-login-2\" class=\"user-links-collapsible-item mw-list-item user-links-collapsible-item\"><a data-mw=\"interface\" href=\"/w/index.php?title=Special:UserLogin&amp;returnto=Natural+language+processing\" title=\"You&#039;re encouraged to log in; however, it&#039;s not mandatory. [o]\" accesskey=\"o\" class=\"\"><span>Log in</span></a>\\n</li>\\n\\n\\t\\t\\t\\n\\t\\t</ul>\\n\\t\\t\\n\\t</div>\\n</div>\\n\\n\\t</div>\\n\\t\\n<div id=\"vector-user-links-dropdown\" class=\"vector-dropdown vector-user-menu vector-button-flush-right vector-user-menu-logged-out\"  title=\"Log in and more options\" >\\n\\t<input type=\"checkbox\" id=\"vector-user-links-dropdown-checkbox\" role=\"button\" aria-haspopup=\"true\" data-event-name=\"ui.dropdown-vector-user-links-dropdown\" class=\"vector-dropdown-checkbox \"  aria-label=\"Personal tools\"  >\\n\\t<label id=\"vector-user-links-dropdown-label\" for=\"vector-user-links-dropdown-checkbox\" class=\"vector-dropdown-label cdx-button cdx-button--fake-button cdx-button--fake-button--enabled cdx-button--weight-quiet cdx-button--icon-only \" aria-hidden=\"true\"  ><span class=\"vector-icon mw-ui-icon-ellipsis mw-ui-icon-wikimedia-ellipsis\"></span>\\n\\n<span class=\"vector-dropdown-label-text\">Personal tools</span>\\n\\t</label>\\n\\t<div class=\"vector-dropdown-content\">\\n\\n\\n\\t\\t\\n<div id=\"p-personal\" class=\"vector-menu mw-portlet mw-portlet-personal user-links-collapsible-item\"  title=\"User menu\" >\\n\\t<div class=\"vector-menu-content\">\\n\\t\\t\\n\\t\\t<ul class=\"vector-menu-content-list\">\\n\\t\\t\\t\\n\\t\\t\\t<li id=\"pt-sitesupport\" class=\"user-links-collapsible-item mw-list-item\"><a href=\"https://donate.wikimedia.org/?wmf_source=donate&amp;wmf_medium=sidebar&amp;wmf_campaign=en.wikipedia.org&amp;uselang=en\"><span>Donate</span></a></li><li id=\"pt-createaccount\" class=\"user-links-collapsible-item mw-list-item\"><a href=\"/w/index.php?title=Special:CreateAccount&amp;returnto=Natural+language+processing\" title=\"You are encouraged to create an account and log in; however, it is not mandatory\"><span class=\"vector-icon mw-ui-icon-userAdd mw-ui-icon-wikimedia-userAdd\"></span> <span>Create account</span></a></li><li id=\"pt-login\" class=\"user-links-collapsible-item mw-list-item\"><a href=\"/w/index.php?title=Special:UserLogin&amp;returnto=Natural+language+processing\" title=\"You&#039;re encouraged to log in; however, it&#039;s not mandatory. [o]\" accesskey=\"o\"><span class=\"vector-icon mw-ui-icon-logIn mw-ui-icon-wikimedia-logIn\"></span> <span>Log in</span></a></li>\\n\\t\\t</ul>\\n\\t\\t\\n\\t</div>\\n</div>\\n\\n<div id=\"p-user-menu-anon-editor\" class=\"vector-menu mw-portlet mw-portlet-user-menu-anon-editor\"  >\\n\\t<div class=\"vector-menu-heading\">\\n\\t\\tPages for logged out editors <a href=\"/wiki/Help:Introduction\" aria-label=\"Learn more about editing\"><span>learn more</span></a>\\n\\t</div>\\n\\t<div class=\"vector-menu-content\">\\n\\t\\t\\n\\t\\t<ul class=\"vector-menu-content-list\">\\n\\t\\t\\t\\n\\t\\t\\t<li id=\"pt-anoncontribs\" class=\"mw-list-item\"><a href=\"/wiki/Special:MyContributions\" title=\"A list of edits made from this IP address [y]\" accesskey=\"y\"><span>Contributions</span></a></li><li id=\"pt-anontalk\" class=\"mw-list-item\"><a href=\"/wiki/Special:MyTalk\" title=\"Discussion about edits from this IP address [n]\" accesskey=\"n\"><span>Talk</span></a></li>\\n\\t\\t</ul>\\n\\t\\t\\n\\t</div>\\n</div>\\n\\n\\t\\n\\t</div>\\n</div>\\n\\n</nav>\\n\\n\\t\\t</div>\\n\\t</header>\\n</div>\\n<div class=\"mw-page-container\">\\n\\t<div class=\"mw-page-container-inner\">\\n\\t\\t<div class=\"vector-sitenotice-container\">\\n\\t\\t\\t<div id=\"siteNotice\"><!-- CentralNotice --></div>\\n\\t\\t</div>\\n\\t\\t<div class=\"vector-column-start\">\\n\\t\\t\\t<div class=\"vector-main-menu-container\">\\n\\t\\t<div id=\"mw-navigation\">\\n\\t\\t\\t<nav id=\"mw-panel\" class=\"vector-main-menu-landmark\" aria-label=\"Site\">\\n\\t\\t\\t\\t<div id=\"vector-main-menu-pinned-container\" class=\"vector-pinned-container\">\\n\\t\\t\\t\\t\\n\\t\\t\\t\\t</div>\\n\\t\\t</nav>\\n\\t\\t</div>\\n\\t</div>\\n\\t<div class=\"vector-sticky-pinned-container\">\\n\\t\\t\\t\\t<nav id=\"mw-panel-toc\" aria-label=\"Contents\" data-event-name=\"ui.sidebar-toc\" class=\"mw-table-of-contents-container vector-toc-landmark\">\\n\\t\\t\\t\\t\\t<div id=\"vector-toc-pinned-container\" class=\"vector-pinned-container\">\\n\\t\\t\\t\\t\\t<div id=\"vector-toc\" class=\"vector-toc vector-pinnable-element\">\\n\\t<div\\n\\tclass=\"vector-pinnable-header vector-toc-pinnable-header vector-pinnable-header-pinned\"\\n\\tdata-feature-name=\"toc-pinned\"\\n\\tdata-pinnable-element-id=\"vector-toc\"\\n\\t\\n\\t\\n>\\n\\t<h2 class=\"vector-pinnable-header-label\">Contents</h2>\\n\\t<button class=\"vector-pinnable-header-toggle-button vector-pinnable-header-pin-button\" data-event-name=\"pinnable-header.vector-toc.pin\">move to sidebar</button>\\n\\t<button class=\"vector-pinnable-header-toggle-button vector-pinnable-header-unpin-button\" data-event-name=\"pinnable-header.vector-toc.unpin\">hide</button>\\n</div>\\n\\n\\n\\t<ul class=\"vector-toc-contents\" id=\"mw-panel-toc-list\">\\n\\t\\t<li id=\"toc-mw-content-text\"\\n\\t\\t\\tclass=\"vector-toc-list-item vector-toc-level-1\">\\n\\t\\t\\t<a href=\"#\" class=\"vector-toc-link\">\\n\\t\\t\\t\\t<div class=\"vector-toc-text\">(Top)</div>\\n\\t\\t\\t</a>\\n\\t\\t</li>\\n\\t\\t<li id=\"toc-History\"\\n\\t\\tclass=\"vector-toc-list-item vector-toc-level-1 vector-toc-list-item-expanded\">\\n\\t\\t<a class=\"vector-toc-link\" href=\"#History\">\\n\\t\\t\\t<div class=\"vector-toc-text\">\\n\\t\\t\\t\\t<span class=\"vector-toc-numb\">1</span>\\n\\t\\t\\t\\t<span>History</span>\\n\\t\\t\\t</div>\\n\\t\\t</a>\\n\\t\\t\\n\\t\\t\\t<button aria-controls=\"toc-History-sublist\" class=\"cdx-button cdx-button--weight-quiet cdx-button--icon-only vector-toc-toggle\">\\n\\t\\t\\t\\t<span class=\"vector-icon mw-ui-icon-wikimedia-expand\"></span>\\n\\t\\t\\t\\t<span>Toggle History subsection</span>\\n\\t\\t\\t</button>\\n\\t\\t\\n\\t\\t<ul id=\"toc-History-sublist\" class=\"vector-toc-list\">\\n\\t\\t\\t<li id=\"toc-Symbolic_NLP_(1950s_–_early_1990s)\"\\n\\t\\t\\tclass=\"vector-toc-list-item vector-toc-level-2\">\\n\\t\\t\\t<a class=\"vector-toc-link\" href=\"#Symbolic_NLP_(1950s_–_early_1990s)\">\\n\\t\\t\\t\\t<div class=\"vector-toc-text\">\\n\\t\\t\\t\\t\\t<span class=\"vector-toc-numb\">1.1</span>\\n\\t\\t\\t\\t\\t<span>Symbolic NLP (1950s – early 1990s)</span>\\n\\t\\t\\t\\t</div>\\n\\t\\t\\t</a>\\n\\t\\t\\t\\n\\t\\t\\t<ul id=\"toc-Symbolic_NLP_(1950s_–_early_1990s)-sublist\" class=\"vector-toc-list\">\\n\\t\\t\\t</ul>\\n\\t\\t</li>\\n\\t\\t<li id=\"toc-Statistical_NLP_(1990s–present)\"\\n\\t\\t\\tclass=\"vector-toc-list-item vector-toc-level-2\">\\n\\t\\t\\t<a class=\"vector-toc-link\" href=\"#Statistical_NLP_(1990s–present)\">\\n\\t\\t\\t\\t<div class=\"vector-toc-text\">\\n\\t\\t\\t\\t\\t<span class=\"vector-toc-numb\">1.2</span>\\n\\t\\t\\t\\t\\t<span>Statistical NLP (1990s–present)</span>\\n\\t\\t\\t\\t</div>\\n\\t\\t\\t</a>\\n\\t\\t\\t\\n\\t\\t\\t<ul id=\"toc-Statistical_NLP_(1990s–present)-sublist\" class=\"vector-toc-list\">\\n\\t\\t\\t</ul>\\n\\t\\t</li>\\n\\t</ul>\\n\\t</li>\\n\\t<li id=\"toc-Approaches:_Symbolic,_statistical,_neural_networks\"\\n\\t\\tclass=\"vector-toc-list-item vector-toc-level-1 vector-toc-list-item-expanded\">\\n\\t\\t<a class=\"vector-toc-link\" href=\"#Approaches:_Symbolic,_statistical,_neural_networks\">\\n\\t\\t\\t<div class=\"vector-toc-text\">\\n\\t\\t\\t\\t<span class=\"vector-toc-numb\">2</span>\\n\\t\\t\\t\\t<span>Approaches: Symbolic, statistical, neural networks</span>\\n\\t\\t\\t</div>\\n\\t\\t</a>\\n\\t\\t\\n\\t\\t\\t<button aria-controls=\"toc-Approaches:_Symbolic,_statistical,_neural_networks-sublist\" class=\"cdx-button cdx-button--weight-quiet cdx-button--icon-only vector-toc-toggle\">\\n\\t\\t\\t\\t<span class=\"vector-icon mw-ui-icon-wikimedia-expand\"></span>\\n\\t\\t\\t\\t<span>Toggle Approaches: Symbolic, statistical, neural networks subsection</span>\\n\\t\\t\\t</button>\\n\\t\\t\\n\\t\\t<ul id=\"toc-Approaches:_Symbolic,_statistical,_neural_networks-sublist\" class=\"vector-toc-list\">\\n\\t\\t\\t<li id=\"toc-Statistical_approach\"\\n\\t\\t\\tclass=\"vector-toc-list-item vector-toc-level-2\">\\n\\t\\t\\t<a class=\"vector-toc-link\" href=\"#Statistical_approach\">\\n\\t\\t\\t\\t<div class=\"vector-toc-text\">\\n\\t\\t\\t\\t\\t<span class=\"vector-toc-numb\">2.1</span>\\n\\t\\t\\t\\t\\t<span>Statistical approach</span>\\n\\t\\t\\t\\t</div>\\n\\t\\t\\t</a>\\n\\t\\t\\t\\n\\t\\t\\t<ul id=\"toc-Statistical_approach-sublist\" class=\"vector-toc-list\">\\n\\t\\t\\t</ul>\\n\\t\\t</li>\\n\\t\\t<li id=\"toc-Neural_networks\"\\n\\t\\t\\tclass=\"vector-toc-list-item vector-toc-level-2\">\\n\\t\\t\\t<a class=\"vector-toc-link\" href=\"#Neural_networks\">\\n\\t\\t\\t\\t<div class=\"vector-toc-text\">\\n\\t\\t\\t\\t\\t<span class=\"vector-toc-numb\">2.2</span>\\n\\t\\t\\t\\t\\t<span>Neural networks</span>\\n\\t\\t\\t\\t</div>\\n\\t\\t\\t</a>\\n\\t\\t\\t\\n\\t\\t\\t<ul id=\"toc-Neural_networks-sublist\" class=\"vector-toc-list\">\\n\\t\\t\\t</ul>\\n\\t\\t</li>\\n\\t</ul>\\n\\t</li>\\n\\t<li id=\"toc-Common_NLP_tasks\"\\n\\t\\tclass=\"vector-toc-list-item vector-toc-level-1 vector-toc-list-item-expanded\">\\n\\t\\t<a class=\"vector-toc-link\" href=\"#Common_NLP_tasks\">\\n\\t\\t\\t<div class=\"vector-toc-text\">\\n\\t\\t\\t\\t<span class=\"vector-toc-numb\">3</span>\\n\\t\\t\\t\\t<span>Common NLP tasks</span>\\n\\t\\t\\t</div>\\n\\t\\t</a>\\n\\t\\t\\n\\t\\t\\t<button aria-controls=\"toc-Common_NLP_tasks-sublist\" class=\"cdx-button cdx-button--weight-quiet cdx-button--icon-only vector-toc-toggle\">\\n\\t\\t\\t\\t<span class=\"vector-icon mw-ui-icon-wikimedia-expand\"></span>\\n\\t\\t\\t\\t<span>Toggle Common NLP tasks subsection</span>\\n\\t\\t\\t</button>\\n\\t\\t\\n\\t\\t<ul id=\"toc-Common_NLP_tasks-sublist\" class=\"vector-toc-list\">\\n\\t\\t\\t<li id=\"toc-Text_and_speech_processing\"\\n\\t\\t\\tclass=\"vector-toc-list-item vector-toc-level-2\">\\n\\t\\t\\t<a class=\"vector-toc-link\" href=\"#Text_and_speech_processing\">\\n\\t\\t\\t\\t<div class=\"vector-toc-text\">\\n\\t\\t\\t\\t\\t<span class=\"vector-toc-numb\">3.1</span>\\n\\t\\t\\t\\t\\t<span>Text and speech processing</span>\\n\\t\\t\\t\\t</div>\\n\\t\\t\\t</a>\\n\\t\\t\\t\\n\\t\\t\\t<ul id=\"toc-Text_and_speech_processing-sublist\" class=\"vector-toc-list\">\\n\\t\\t\\t</ul>\\n\\t\\t</li>\\n\\t\\t<li id=\"toc-Morphological_analysis\"\\n\\t\\t\\tclass=\"vector-toc-list-item vector-toc-level-2\">\\n\\t\\t\\t<a class=\"vector-toc-link\" href=\"#Morphological_analysis\">\\n\\t\\t\\t\\t<div class=\"vector-toc-text\">\\n\\t\\t\\t\\t\\t<span class=\"vector-toc-numb\">3.2</span>\\n\\t\\t\\t\\t\\t<span>Morphological analysis</span>\\n\\t\\t\\t\\t</div>\\n\\t\\t\\t</a>\\n\\t\\t\\t\\n\\t\\t\\t<ul id=\"toc-Morphological_analysis-sublist\" class=\"vector-toc-list\">\\n\\t\\t\\t</ul>\\n\\t\\t</li>\\n\\t\\t<li id=\"toc-Syntactic_analysis\"\\n\\t\\t\\tclass=\"vector-toc-list-item vector-toc-level-2\">\\n\\t\\t\\t<a class=\"vector-toc-link\" href=\"#Syntactic_analysis\">\\n\\t\\t\\t\\t<div class=\"vector-toc-text\">\\n\\t\\t\\t\\t\\t<span class=\"vector-toc-numb\">3.3</span>\\n\\t\\t\\t\\t\\t<span>Syntactic analysis</span>\\n\\t\\t\\t\\t</div>\\n\\t\\t\\t</a>\\n\\t\\t\\t\\n\\t\\t\\t<ul id=\"toc-Syntactic_analysis-sublist\" class=\"vector-toc-list\">\\n\\t\\t\\t</ul>\\n\\t\\t</li>\\n\\t\\t<li id=\"toc-Lexical_semantics_(of_individual_words_in_context)\"\\n\\t\\t\\tclass=\"vector-toc-list-item vector-toc-level-2\">\\n\\t\\t\\t<a class=\"vector-toc-link\" href=\"#Lexical_semantics_(of_individual_words_in_context)\">\\n\\t\\t\\t\\t<div class=\"vector-toc-text\">\\n\\t\\t\\t\\t\\t<span class=\"vector-toc-numb\">3.4</span>\\n\\t\\t\\t\\t\\t<span>Lexical semantics (of individual words in context)</span>\\n\\t\\t\\t\\t</div>\\n\\t\\t\\t</a>\\n\\t\\t\\t\\n\\t\\t\\t<ul id=\"toc-Lexical_semantics_(of_individual_words_in_context)-sublist\" class=\"vector-toc-list\">\\n\\t\\t\\t</ul>\\n\\t\\t</li>\\n\\t\\t<li id=\"toc-Relational_semantics_(semantics_of_individual_sentences)\"\\n\\t\\t\\tclass=\"vector-toc-list-item vector-toc-level-2\">\\n\\t\\t\\t<a class=\"vector-toc-link\" href=\"#Relational_semantics_(semantics_of_individual_sentences)\">\\n\\t\\t\\t\\t<div class=\"vector-toc-text\">\\n\\t\\t\\t\\t\\t<span class=\"vector-toc-numb\">3.5</span>\\n\\t\\t\\t\\t\\t<span>Relational semantics (semantics of individual sentences)</span>\\n\\t\\t\\t\\t</div>\\n\\t\\t\\t</a>\\n\\t\\t\\t\\n\\t\\t\\t<ul id=\"toc-Relational_semantics_(semantics_of_individual_sentences)-sublist\" class=\"vector-toc-list\">\\n\\t\\t\\t</ul>\\n\\t\\t</li>\\n\\t\\t<li id=\"toc-Discourse_(semantics_beyond_individual_sentences)\"\\n\\t\\t\\tclass=\"vector-toc-list-item vector-toc-level-2\">\\n\\t\\t\\t<a class=\"vector-toc-link\" href=\"#Discourse_(semantics_beyond_individual_sentences)\">\\n\\t\\t\\t\\t<div class=\"vector-toc-text\">\\n\\t\\t\\t\\t\\t<span class=\"vector-toc-numb\">3.6</span>\\n\\t\\t\\t\\t\\t<span>Discourse (semantics beyond individual sentences)</span>\\n\\t\\t\\t\\t</div>\\n\\t\\t\\t</a>\\n\\t\\t\\t\\n\\t\\t\\t<ul id=\"toc-Discourse_(semantics_beyond_individual_sentences)-sublist\" class=\"vector-toc-list\">\\n\\t\\t\\t</ul>\\n\\t\\t</li>\\n\\t\\t<li id=\"toc-Higher-level_NLP_applications\"\\n\\t\\t\\tclass=\"vector-toc-list-item vector-toc-level-2\">\\n\\t\\t\\t<a class=\"vector-toc-link\" href=\"#Higher-level_NLP_applications\">\\n\\t\\t\\t\\t<div class=\"vector-toc-text\">\\n\\t\\t\\t\\t\\t<span class=\"vector-toc-numb\">3.7</span>\\n\\t\\t\\t\\t\\t<span>Higher-level NLP applications</span>\\n\\t\\t\\t\\t</div>\\n\\t\\t\\t</a>\\n\\t\\t\\t\\n\\t\\t\\t<ul id=\"toc-Higher-level_NLP_applications-sublist\" class=\"vector-toc-list\">\\n\\t\\t\\t</ul>\\n\\t\\t</li>\\n\\t</ul>\\n\\t</li>\\n\\t<li id=\"toc-General_tendencies_and_(possible)_future_directions\"\\n\\t\\tclass=\"vector-toc-list-item vector-toc-level-1 vector-toc-list-item-expanded\">\\n\\t\\t<a class=\"vector-toc-link\" href=\"#General_tendencies_and_(possible)_future_directions\">\\n\\t\\t\\t<div class=\"vector-toc-text\">\\n\\t\\t\\t\\t<span class=\"vector-toc-numb\">4</span>\\n\\t\\t\\t\\t<span>General tendencies and (possible) future directions</span>\\n\\t\\t\\t</div>\\n\\t\\t</a>\\n\\t\\t\\n\\t\\t\\t<button aria-controls=\"toc-General_tendencies_and_(possible)_future_directions-sublist\" class=\"cdx-button cdx-button--weight-quiet cdx-button--icon-only vector-toc-toggle\">\\n\\t\\t\\t\\t<span class=\"vector-icon mw-ui-icon-wikimedia-expand\"></span>\\n\\t\\t\\t\\t<span>Toggle General tendencies and (possible) future directions subsection</span>\\n\\t\\t\\t</button>\\n\\t\\t\\n\\t\\t<ul id=\"toc-General_tendencies_and_(possible)_future_directions-sublist\" class=\"vector-toc-list\">\\n\\t\\t\\t<li id=\"toc-Cognition\"\\n\\t\\t\\tclass=\"vector-toc-list-item vector-toc-level-2\">\\n\\t\\t\\t<a class=\"vector-toc-link\" href=\"#Cognition\">\\n\\t\\t\\t\\t<div class=\"vector-toc-text\">\\n\\t\\t\\t\\t\\t<span class=\"vector-toc-numb\">4.1</span>\\n\\t\\t\\t\\t\\t<span>Cognition</span>\\n\\t\\t\\t\\t</div>\\n\\t\\t\\t</a>\\n\\t\\t\\t\\n\\t\\t\\t<ul id=\"toc-Cognition-sublist\" class=\"vector-toc-list\">\\n\\t\\t\\t</ul>\\n\\t\\t</li>\\n\\t</ul>\\n\\t</li>\\n\\t<li id=\"toc-See_also\"\\n\\t\\tclass=\"vector-toc-list-item vector-toc-level-1 vector-toc-list-item-expanded\">\\n\\t\\t<a class=\"vector-toc-link\" href=\"#See_also\">\\n\\t\\t\\t<div class=\"vector-toc-text\">\\n\\t\\t\\t\\t<span class=\"vector-toc-numb\">5</span>\\n\\t\\t\\t\\t<span>See also</span>\\n\\t\\t\\t</div>\\n\\t\\t</a>\\n\\t\\t\\n\\t\\t<ul id=\"toc-See_also-sublist\" class=\"vector-toc-list\">\\n\\t\\t</ul>\\n\\t</li>\\n\\t<li id=\"toc-References\"\\n\\t\\tclass=\"vector-toc-list-item vector-toc-level-1 vector-toc-list-item-expanded\">\\n\\t\\t<a class=\"vector-toc-link\" href=\"#References\">\\n\\t\\t\\t<div class=\"vector-toc-text\">\\n\\t\\t\\t\\t<span class=\"vector-toc-numb\">6</span>\\n\\t\\t\\t\\t<span>References</span>\\n\\t\\t\\t</div>\\n\\t\\t</a>\\n\\t\\t\\n\\t\\t<ul id=\"toc-References-sublist\" class=\"vector-toc-list\">\\n\\t\\t</ul>\\n\\t</li>\\n\\t<li id=\"toc-Further_reading\"\\n\\t\\tclass=\"vector-toc-list-item vector-toc-level-1 vector-toc-list-item-expanded\">\\n\\t\\t<a class=\"vector-toc-link\" href=\"#Further_reading\">\\n\\t\\t\\t<div class=\"vector-toc-text\">\\n\\t\\t\\t\\t<span class=\"vector-toc-numb\">7</span>\\n\\t\\t\\t\\t<span>Further reading</span>\\n\\t\\t\\t</div>\\n\\t\\t</a>\\n\\t\\t\\n\\t\\t<ul id=\"toc-Further_reading-sublist\" class=\"vector-toc-list\">\\n\\t\\t</ul>\\n\\t</li>\\n\\t<li id=\"toc-External_links\"\\n\\t\\tclass=\"vector-toc-list-item vector-toc-level-1 vector-toc-list-item-expanded\">\\n\\t\\t<a class=\"vector-toc-link\" href=\"#External_links\">\\n\\t\\t\\t<div class=\"vector-toc-text\">\\n\\t\\t\\t\\t<span class=\"vector-toc-numb\">8</span>\\n\\t\\t\\t\\t<span>External links</span>\\n\\t\\t\\t</div>\\n\\t\\t</a>\\n\\t\\t\\n\\t\\t<ul id=\"toc-External_links-sublist\" class=\"vector-toc-list\">\\n\\t\\t</ul>\\n\\t</li>\\n</ul>\\n</div>\\n\\n\\t\\t\\t\\t\\t</div>\\n\\t\\t</nav>\\n\\t\\t\\t</div>\\n\\t\\t</div>\\n\\t\\t<div class=\"mw-content-container\">\\n\\t\\t\\t<main id=\"content\" class=\"mw-body\">\\n\\t\\t\\t\\t<header class=\"mw-body-header vector-page-titlebar no-font-mode-scale\">\\n\\t\\t\\t\\t\\t<nav aria-label=\"Contents\" class=\"vector-toc-landmark\">\\n\\t\\t\\t\\t\\t\\t\\n<div id=\"vector-page-titlebar-toc\" class=\"vector-dropdown vector-page-titlebar-toc vector-button-flush-left\"  title=\"Table of Contents\" >\\n\\t<input type=\"checkbox\" id=\"vector-page-titlebar-toc-checkbox\" role=\"button\" aria-haspopup=\"true\" data-event-name=\"ui.dropdown-vector-page-titlebar-toc\" class=\"vector-dropdown-checkbox \"  aria-label=\"Toggle the table of contents\"  >\\n\\t<label id=\"vector-page-titlebar-toc-label\" for=\"vector-page-titlebar-toc-checkbox\" class=\"vector-dropdown-label cdx-button cdx-button--fake-button cdx-button--fake-button--enabled cdx-button--weight-quiet cdx-button--icon-only \" aria-hidden=\"true\"  ><span class=\"vector-icon mw-ui-icon-listBullet mw-ui-icon-wikimedia-listBullet\"></span>\\n\\n<span class=\"vector-dropdown-label-text\">Toggle the table of contents</span>\\n\\t</label>\\n\\t<div class=\"vector-dropdown-content\">\\n\\n\\n\\t\\t\\t\\t\\t\\t\\t<div id=\"vector-page-titlebar-toc-unpinned-container\" class=\"vector-unpinned-container\">\\n\\t\\t\\t</div>\\n\\t\\t\\n\\t</div>\\n</div>\\n\\n\\t\\t\\t\\t\\t</nav>\\n\\t\\t\\t\\t\\t<h1 id=\"firstHeading\" class=\"firstHeading mw-first-heading\"><span class=\"mw-page-title-main\">Natural language processing</span></h1>\\n\\t\\t\\t\\t\\t\\t\\t\\n<div id=\"p-lang-btn\" class=\"vector-dropdown mw-portlet mw-portlet-lang\"  >\\n\\t<input type=\"checkbox\" id=\"p-lang-btn-checkbox\" role=\"button\" aria-haspopup=\"true\" data-event-name=\"ui.dropdown-p-lang-btn\" class=\"vector-dropdown-checkbox mw-interlanguage-selector\" aria-label=\"Go to an article in another language. Available in 70 languages\"   >\\n\\t<label id=\"p-lang-btn-label\" for=\"p-lang-btn-checkbox\" class=\"vector-dropdown-label cdx-button cdx-button--fake-button cdx-button--fake-button--enabled cdx-button--weight-quiet cdx-button--action-progressive mw-portlet-lang-heading-70\" aria-hidden=\"true\"  ><span class=\"vector-icon mw-ui-icon-language-progressive mw-ui-icon-wikimedia-language-progressive\"></span>\\n\\n<span class=\"vector-dropdown-label-text\">70 languages</span>\\n\\t</label>\\n\\t<div class=\"vector-dropdown-content\">\\n\\n\\t\\t<div class=\"vector-menu-content\">\\n\\t\\t\\t\\n\\t\\t\\t<ul class=\"vector-menu-content-list\">\\n\\t\\t\\t\\t\\n\\t\\t\\t\\t<li class=\"interlanguage-link interwiki-af mw-list-item\"><a href=\"https://af.wikipedia.org/wiki/Natuurliketaalverwerking\" title=\"Natuurliketaalverwerking – Afrikaans\" lang=\"af\" hreflang=\"af\" data-title=\"Natuurliketaalverwerking\" data-language-autonym=\"Afrikaans\" data-language-local-name=\"Afrikaans\" class=\"interlanguage-link-target\"><span>Afrikaans</span></a></li><li class=\"interlanguage-link interwiki-ar mw-list-item\"><a href=\"https://ar.wikipedia.org/wiki/%D9%85%D8%B9%D8%A7%D9%84%D8%AC%D8%A9_%D8%A7%D9%84%D9%84%D8%BA%D8%A9_%D8%A7%D9%84%D8%B7%D8%A8%D9%8A%D8%B9%D9%8A%D8%A9\" title=\"معالجة اللغة الطبيعية – Arabic\" lang=\"ar\" hreflang=\"ar\" data-title=\"معالجة اللغة الطبيعية\" data-language-autonym=\"العربية\" data-language-local-name=\"Arabic\" class=\"interlanguage-link-target\"><span>العربية</span></a></li><li class=\"interlanguage-link interwiki-hyw mw-list-item\"><a href=\"https://hyw.wikipedia.org/wiki/%D4%B2%D5%B6%D5%A1%D5%AF%D5%A1%D5%B6_%D4%BC%D5%A5%D5%A6%D5%B8%D6%82%D5%AB_%D5%84%D5%B7%D5%A1%D5%AF%D5%B8%D6%82%D5%B4\" title=\"Բնական Լեզուի Մշակում – Western Armenian\" lang=\"hyw\" hreflang=\"hyw\" data-title=\"Բնական Լեզուի Մշակում\" data-language-autonym=\"Արեւմտահայերէն\" data-language-local-name=\"Western Armenian\" class=\"interlanguage-link-target\"><span>Արեւմտահայերէն</span></a></li><li class=\"interlanguage-link interwiki-az mw-list-item\"><a href=\"https://az.wikipedia.org/wiki/T%C9%99bii_dilin_emal%C4%B1\" title=\"Təbii dilin emalı – Azerbaijani\" lang=\"az\" hreflang=\"az\" data-title=\"Təbii dilin emalı\" data-language-autonym=\"Azərbaycanca\" data-language-local-name=\"Azerbaijani\" class=\"interlanguage-link-target\"><span>Azərbaycanca</span></a></li><li class=\"interlanguage-link interwiki-bn mw-list-item\"><a href=\"https://bn.wikipedia.org/wiki/%E0%A6%B8%E0%A7%8D%E0%A6%AC%E0%A6%BE%E0%A6%AD%E0%A6%BE%E0%A6%AC%E0%A6%BF%E0%A6%95_%E0%A6%AD%E0%A6%BE%E0%A6%B7%E0%A6%BE_%E0%A6%AA%E0%A7%8D%E0%A6%B0%E0%A6%95%E0%A7%8D%E0%A6%B0%E0%A6%BF%E0%A6%AF%E0%A6%BC%E0%A6%BE%E0%A6%9C%E0%A6%BE%E0%A6%A4%E0%A6%95%E0%A6%B0%E0%A6%A3\" title=\"স্বাভাবিক ভাষা প্রক্রিয়াজাতকরণ – Bangla\" lang=\"bn\" hreflang=\"bn\" data-title=\"স্বাভাবিক ভাষা প্রক্রিয়াজাতকরণ\" data-language-autonym=\"বাংলা\" data-language-local-name=\"Bangla\" class=\"interlanguage-link-target\"><span>বাংলা</span></a></li><li class=\"interlanguage-link interwiki-zh-min-nan mw-list-item\"><a href=\"https://zh-min-nan.wikipedia.org/wiki/Ch%C5%AB-ji%C3%A2n_gi%C3%A2n-g%C3%BA_chh%C3%BA-l%C3%AD\" title=\"Chū-jiân giân-gú chhú-lí – Minnan\" lang=\"nan\" hreflang=\"nan\" data-title=\"Chū-jiân giân-gú chhú-lí\" data-language-autonym=\"閩南語 / Bân-lâm-gú\" data-language-local-name=\"Minnan\" class=\"interlanguage-link-target\"><span>閩南語 / Bân-lâm-gú</span></a></li><li class=\"interlanguage-link interwiki-be mw-list-item\"><a href=\"https://be.wikipedia.org/wiki/%D0%90%D0%BF%D1%80%D0%B0%D1%86%D0%BE%D1%9E%D0%BA%D0%B0_%D0%BD%D0%B0%D1%82%D1%83%D1%80%D0%B0%D0%BB%D1%8C%D0%BD%D0%B0%D0%B9_%D0%BC%D0%BE%D0%B2%D1%8B\" title=\"Апрацоўка натуральнай мовы – Belarusian\" lang=\"be\" hreflang=\"be\" data-title=\"Апрацоўка натуральнай мовы\" data-language-autonym=\"Беларуская\" data-language-local-name=\"Belarusian\" class=\"interlanguage-link-target\"><span>Беларуская</span></a></li><li class=\"interlanguage-link interwiki-be-x-old mw-list-item\"><a href=\"https://be-tarask.wikipedia.org/wiki/%D0%90%D0%BF%D1%80%D0%B0%D1%86%D0%BE%D1%9E%D0%BA%D0%B0_%D0%BD%D0%B0%D1%82%D1%83%D1%80%D0%B0%D0%BB%D1%8C%D0%BD%D0%B0%D0%B9_%D0%BC%D0%BE%D0%B2%D1%8B\" title=\"Апрацоўка натуральнай мовы – Belarusian (Taraškievica orthography)\" lang=\"be-tarask\" hreflang=\"be-tarask\" data-title=\"Апрацоўка натуральнай мовы\" data-language-autonym=\"Беларуская (тарашкевіца)\" data-language-local-name=\"Belarusian (Taraškievica orthography)\" class=\"interlanguage-link-target\"><span>Беларуская (тарашкевіца)</span></a></li><li class=\"interlanguage-link interwiki-bg mw-list-item\"><a href=\"https://bg.wikipedia.org/wiki/%D0%9E%D0%B1%D1%80%D0%B0%D0%B1%D0%BE%D1%82%D0%BA%D0%B0_%D0%BD%D0%B0_%D0%B5%D1%81%D1%82%D0%B5%D1%81%D1%82%D0%B2%D0%B5%D0%BD_%D0%B5%D0%B7%D0%B8%D0%BA\" title=\"Обработка на естествен език – Bulgarian\" lang=\"bg\" hreflang=\"bg\" data-title=\"Обработка на естествен език\" data-language-autonym=\"Български\" data-language-local-name=\"Bulgarian\" class=\"interlanguage-link-target\"><span>Български</span></a></li><li class=\"interlanguage-link interwiki-bs mw-list-item\"><a href=\"https://bs.wikipedia.org/wiki/Obrada_prirodnog_jezika\" title=\"Obrada prirodnog jezika – Bosnian\" lang=\"bs\" hreflang=\"bs\" data-title=\"Obrada prirodnog jezika\" data-language-autonym=\"Bosanski\" data-language-local-name=\"Bosnian\" class=\"interlanguage-link-target\"><span>Bosanski</span></a></li><li class=\"interlanguage-link interwiki-br mw-list-item\"><a href=\"https://br.wikipedia.org/wiki/Treterezh_emgefre_al_lavar\" title=\"Treterezh emgefre al lavar – Breton\" lang=\"br\" hreflang=\"br\" data-title=\"Treterezh emgefre al lavar\" data-language-autonym=\"Brezhoneg\" data-language-local-name=\"Breton\" class=\"interlanguage-link-target\"><span>Brezhoneg</span></a></li><li class=\"interlanguage-link interwiki-ca mw-list-item\"><a href=\"https://ca.wikipedia.org/wiki/Processament_del_llenguatge_natural\" title=\"Processament del llenguatge natural – Catalan\" lang=\"ca\" hreflang=\"ca\" data-title=\"Processament del llenguatge natural\" data-language-autonym=\"Català\" data-language-local-name=\"Catalan\" class=\"interlanguage-link-target\"><span>Català</span></a></li><li class=\"interlanguage-link interwiki-cs mw-list-item\"><a href=\"https://cs.wikipedia.org/wiki/Zpracov%C3%A1n%C3%AD_p%C5%99irozen%C3%A9ho_jazyka\" title=\"Zpracování přirozeného jazyka – Czech\" lang=\"cs\" hreflang=\"cs\" data-title=\"Zpracování přirozeného jazyka\" data-language-autonym=\"Čeština\" data-language-local-name=\"Czech\" class=\"interlanguage-link-target\"><span>Čeština</span></a></li><li class=\"interlanguage-link interwiki-cy mw-list-item\"><a href=\"https://cy.wikipedia.org/wiki/Prosesu_Iaith_Naturiol\" title=\"Prosesu Iaith Naturiol – Welsh\" lang=\"cy\" hreflang=\"cy\" data-title=\"Prosesu Iaith Naturiol\" data-language-autonym=\"Cymraeg\" data-language-local-name=\"Welsh\" class=\"interlanguage-link-target\"><span>Cymraeg</span></a></li><li class=\"interlanguage-link interwiki-da mw-list-item\"><a href=\"https://da.wikipedia.org/wiki/Sprogteknologi\" title=\"Sprogteknologi – Danish\" lang=\"da\" hreflang=\"da\" data-title=\"Sprogteknologi\" data-language-autonym=\"Dansk\" data-language-local-name=\"Danish\" class=\"interlanguage-link-target\"><span>Dansk</span></a></li><li class=\"interlanguage-link interwiki-de badge-Q70894304 mw-list-item\" title=\"\"><a href=\"https://de.wikipedia.org/wiki/Verarbeitung_nat%C3%BCrlicher_Sprache\" title=\"Verarbeitung natürlicher Sprache – German\" lang=\"de\" hreflang=\"de\" data-title=\"Verarbeitung natürlicher Sprache\" data-language-autonym=\"Deutsch\" data-language-local-name=\"German\" class=\"interlanguage-link-target\"><span>Deutsch</span></a></li><li class=\"interlanguage-link interwiki-et mw-list-item\"><a href=\"https://et.wikipedia.org/wiki/Loomuliku_keele_t%C3%B6%C3%B6tlus\" title=\"Loomuliku keele töötlus – Estonian\" lang=\"et\" hreflang=\"et\" data-title=\"Loomuliku keele töötlus\" data-language-autonym=\"Eesti\" data-language-local-name=\"Estonian\" class=\"interlanguage-link-target\"><span>Eesti</span></a></li><li class=\"interlanguage-link interwiki-el mw-list-item\"><a href=\"https://el.wikipedia.org/wiki/%CE%95%CF%80%CE%B5%CE%BE%CE%B5%CF%81%CE%B3%CE%B1%CF%83%CE%AF%CE%B1_%CF%86%CF%85%CF%83%CE%B9%CE%BA%CE%AE%CF%82_%CE%B3%CE%BB%CF%8E%CF%83%CF%83%CE%B1%CF%82\" title=\"Επεξεργασία φυσικής γλώσσας – Greek\" lang=\"el\" hreflang=\"el\" data-title=\"Επεξεργασία φυσικής γλώσσας\" data-language-autonym=\"Ελληνικά\" data-language-local-name=\"Greek\" class=\"interlanguage-link-target\"><span>Ελληνικά</span></a></li><li class=\"interlanguage-link interwiki-es mw-list-item\"><a href=\"https://es.wikipedia.org/wiki/Procesamiento_de_lenguajes_naturales\" title=\"Procesamiento de lenguajes naturales – Spanish\" lang=\"es\" hreflang=\"es\" data-title=\"Procesamiento de lenguajes naturales\" data-language-autonym=\"Español\" data-language-local-name=\"Spanish\" class=\"interlanguage-link-target\"><span>Español</span></a></li><li class=\"interlanguage-link interwiki-eo mw-list-item\"><a href=\"https://eo.wikipedia.org/wiki/Natur-lingva_prilaborado\" title=\"Natur-lingva prilaborado – Esperanto\" lang=\"eo\" hreflang=\"eo\" data-title=\"Natur-lingva prilaborado\" data-language-autonym=\"Esperanto\" data-language-local-name=\"Esperanto\" class=\"interlanguage-link-target\"><span>Esperanto</span></a></li><li class=\"interlanguage-link interwiki-eu mw-list-item\"><a href=\"https://eu.wikipedia.org/wiki/Hizkuntzaren_prozesamendu\" title=\"Hizkuntzaren prozesamendu – Basque\" lang=\"eu\" hreflang=\"eu\" data-title=\"Hizkuntzaren prozesamendu\" data-language-autonym=\"Euskara\" data-language-local-name=\"Basque\" class=\"interlanguage-link-target\"><span>Euskara</span></a></li><li class=\"interlanguage-link interwiki-fa mw-list-item\"><a href=\"https://fa.wikipedia.org/wiki/%D9%BE%D8%B1%D8%AF%D8%A7%D8%B2%D8%B4_%D8%B2%D8%A8%D8%A7%D9%86%E2%80%8C%D9%87%D8%A7%DB%8C_%D8%B7%D8%A8%DB%8C%D8%B9%DB%8C\" title=\"پردازش زبان\\u200cهای طبیعی – Persian\" lang=\"fa\" hreflang=\"fa\" data-title=\"پردازش زبان\\u200cهای طبیعی\" data-language-autonym=\"فارسی\" data-language-local-name=\"Persian\" class=\"interlanguage-link-target\"><span>فارسی</span></a></li><li class=\"interlanguage-link interwiki-fr mw-list-item\"><a href=\"https://fr.wikipedia.org/wiki/Traitement_automatique_des_langues\" title=\"Traitement automatique des langues – French\" lang=\"fr\" hreflang=\"fr\" data-title=\"Traitement automatique des langues\" data-language-autonym=\"Français\" data-language-local-name=\"French\" class=\"interlanguage-link-target\"><span>Français</span></a></li><li class=\"interlanguage-link interwiki-ga mw-list-item\"><a href=\"https://ga.wikipedia.org/wiki/Pr%C3%B3ise%C3%A1il_teanga_n%C3%A1d%C3%BArtha\" title=\"Próiseáil teanga nádúrtha – Irish\" lang=\"ga\" hreflang=\"ga\" data-title=\"Próiseáil teanga nádúrtha\" data-language-autonym=\"Gaeilge\" data-language-local-name=\"Irish\" class=\"interlanguage-link-target\"><span>Gaeilge</span></a></li><li class=\"interlanguage-link interwiki-gl mw-list-item\"><a href=\"https://gl.wikipedia.org/wiki/Procesamento_da_linguaxe_natural\" title=\"Procesamento da linguaxe natural – Galician\" lang=\"gl\" hreflang=\"gl\" data-title=\"Procesamento da linguaxe natural\" data-language-autonym=\"Galego\" data-language-local-name=\"Galician\" class=\"interlanguage-link-target\"><span>Galego</span></a></li><li class=\"interlanguage-link interwiki-ko mw-list-item\"><a href=\"https://ko.wikipedia.org/wiki/%EC%9E%90%EC%97%B0%EC%96%B4_%EC%B2%98%EB%A6%AC\" title=\"자연어 처리 – Korean\" lang=\"ko\" hreflang=\"ko\" data-title=\"자연어 처리\" data-language-autonym=\"한국어\" data-language-local-name=\"Korean\" class=\"interlanguage-link-target\"><span>한국어</span></a></li><li class=\"interlanguage-link interwiki-hy mw-list-item\"><a href=\"https://hy.wikipedia.org/wiki/%D4%B2%D5%B6%D5%A1%D5%AF%D5%A1%D5%B6_%D5%AC%D5%A5%D5%A6%D5%BE%D5%AB_%D5%B4%D5%B7%D5%A1%D5%AF%D5%B8%D6%82%D5%B4\" title=\"Բնական լեզվի մշակում – Armenian\" lang=\"hy\" hreflang=\"hy\" data-title=\"Բնական լեզվի մշակում\" data-language-autonym=\"Հայերեն\" data-language-local-name=\"Armenian\" class=\"interlanguage-link-target\"><span>Հայերեն</span></a></li><li class=\"interlanguage-link interwiki-hi mw-list-item\"><a href=\"https://hi.wikipedia.org/wiki/%E0%A4%AA%E0%A5%8D%E0%A4%B0%E0%A4%BE%E0%A4%95%E0%A5%83%E0%A4%A4%E0%A4%BF%E0%A4%95_%E0%A4%AD%E0%A4%BE%E0%A4%B7%E0%A4%BE_%E0%A4%B8%E0%A4%82%E0%A4%B8%E0%A4%BE%E0%A4%A7%E0%A4%A8\" title=\"प्राकृतिक भाषा संसाधन – Hindi\" lang=\"hi\" hreflang=\"hi\" data-title=\"प्राकृतिक भाषा संसाधन\" data-language-autonym=\"हिन्दी\" data-language-local-name=\"Hindi\" class=\"interlanguage-link-target\"><span>हिन्दी</span></a></li><li class=\"interlanguage-link interwiki-hr mw-list-item\"><a href=\"https://hr.wikipedia.org/wiki/Obrada_prirodnog_jezika\" title=\"Obrada prirodnog jezika – Croatian\" lang=\"hr\" hreflang=\"hr\" data-title=\"Obrada prirodnog jezika\" data-language-autonym=\"Hrvatski\" data-language-local-name=\"Croatian\" class=\"interlanguage-link-target\"><span>Hrvatski</span></a></li><li class=\"interlanguage-link interwiki-id mw-list-item\"><a href=\"https://id.wikipedia.org/wiki/Pengolahan_bahasa_alami\" title=\"Pengolahan bahasa alami – Indonesian\" lang=\"id\" hreflang=\"id\" data-title=\"Pengolahan bahasa alami\" data-language-autonym=\"Bahasa Indonesia\" data-language-local-name=\"Indonesian\" class=\"interlanguage-link-target\"><span>Bahasa Indonesia</span></a></li><li class=\"interlanguage-link interwiki-zu mw-list-item\"><a href=\"https://zu.wikipedia.org/wiki/Ukudludlunga_ulimi_lwemvelo\" title=\"Ukudludlunga ulimi lwemvelo – Zulu\" lang=\"zu\" hreflang=\"zu\" data-title=\"Ukudludlunga ulimi lwemvelo\" data-language-autonym=\"IsiZulu\" data-language-local-name=\"Zulu\" class=\"interlanguage-link-target\"><span>IsiZulu</span></a></li><li class=\"interlanguage-link interwiki-is mw-list-item\"><a href=\"https://is.wikipedia.org/wiki/M%C3%A1lgreining\" title=\"Málgreining – Icelandic\" lang=\"is\" hreflang=\"is\" data-title=\"Málgreining\" data-language-autonym=\"Íslenska\" data-language-local-name=\"Icelandic\" class=\"interlanguage-link-target\"><span>Íslenska</span></a></li><li class=\"interlanguage-link interwiki-it mw-list-item\"><a href=\"https://it.wikipedia.org/wiki/Elaborazione_del_linguaggio_naturale\" title=\"Elaborazione del linguaggio naturale – Italian\" lang=\"it\" hreflang=\"it\" data-title=\"Elaborazione del linguaggio naturale\" data-language-autonym=\"Italiano\" data-language-local-name=\"Italian\" class=\"interlanguage-link-target\"><span>Italiano</span></a></li><li class=\"interlanguage-link interwiki-he mw-list-item\"><a href=\"https://he.wikipedia.org/wiki/%D7%A2%D7%99%D7%91%D7%95%D7%93_%D7%A9%D7%A4%D7%94_%D7%98%D7%91%D7%A2%D7%99%D7%AA\" title=\"עיבוד שפה טבעית – Hebrew\" lang=\"he\" hreflang=\"he\" data-title=\"עיבוד שפה טבעית\" data-language-autonym=\"עברית\" data-language-local-name=\"Hebrew\" class=\"interlanguage-link-target\"><span>עברית</span></a></li><li class=\"interlanguage-link interwiki-kn mw-list-item\"><a href=\"https://kn.wikipedia.org/wiki/%E0%B2%B8%E0%B2%B9%E0%B2%9C_%E0%B2%AD%E0%B2%BE%E0%B2%B7%E0%B2%BE_%E0%B2%B8%E0%B2%82%E0%B2%B8%E0%B3%8D%E0%B2%95%E0%B2%B0%E0%B2%A3%E0%B3%86\" title=\"ಸಹಜ ಭಾಷಾ ಸಂಸ್ಕರಣೆ – Kannada\" lang=\"kn\" hreflang=\"kn\" data-title=\"ಸಹಜ ಭಾಷಾ ಸಂಸ್ಕರಣೆ\" data-language-autonym=\"ಕನ್ನಡ\" data-language-local-name=\"Kannada\" class=\"interlanguage-link-target\"><span>ಕನ್ನಡ</span></a></li><li class=\"interlanguage-link interwiki-ka mw-list-item\"><a href=\"https://ka.wikipedia.org/wiki/%E1%83%91%E1%83%A3%E1%83%9C%E1%83%94%E1%83%91%E1%83%A0%E1%83%98%E1%83%95%E1%83%98_%E1%83%94%E1%83%9C%E1%83%98%E1%83%A1_%E1%83%93%E1%83%90%E1%83%9B%E1%83%A3%E1%83%A8%E1%83%90%E1%83%95%E1%83%94%E1%83%91%E1%83%90\" title=\"ბუნებრივი ენის დამუშავება – Georgian\" lang=\"ka\" hreflang=\"ka\" data-title=\"ბუნებრივი ენის დამუშავება\" data-language-autonym=\"ქართული\" data-language-local-name=\"Georgian\" class=\"interlanguage-link-target\"><span>ქართული</span></a></li><li class=\"interlanguage-link interwiki-lv mw-list-item\"><a href=\"https://lv.wikipedia.org/wiki/Dabisk%C4%81s_valodas_apstr%C4%81de\" title=\"Dabiskās valodas apstrāde – Latvian\" lang=\"lv\" hreflang=\"lv\" data-title=\"Dabiskās valodas apstrāde\" data-language-autonym=\"Latviešu\" data-language-local-name=\"Latvian\" class=\"interlanguage-link-target\"><span>Latviešu</span></a></li><li class=\"interlanguage-link interwiki-lt mw-list-item\"><a href=\"https://lt.wikipedia.org/wiki/Nat%C5%ABraliosios_kalbos_apdorojimas\" title=\"Natūraliosios kalbos apdorojimas – Lithuanian\" lang=\"lt\" hreflang=\"lt\" data-title=\"Natūraliosios kalbos apdorojimas\" data-language-autonym=\"Lietuvių\" data-language-local-name=\"Lithuanian\" class=\"interlanguage-link-target\"><span>Lietuvių</span></a></li><li class=\"interlanguage-link interwiki-mk mw-list-item\"><a href=\"https://mk.wikipedia.org/wiki/%D0%9E%D0%B1%D1%80%D0%B0%D0%B1%D0%BE%D1%82%D0%BA%D0%B0_%D0%BD%D0%B0_%D0%BF%D1%80%D0%B8%D1%80%D0%BE%D0%B4%D0%BD%D0%B8_%D1%98%D0%B0%D0%B7%D0%B8%D1%86%D0%B8\" title=\"Обработка на природни јазици – Macedonian\" lang=\"mk\" hreflang=\"mk\" data-title=\"Обработка на природни јазици\" data-language-autonym=\"Македонски\" data-language-local-name=\"Macedonian\" class=\"interlanguage-link-target\"><span>Македонски</span></a></li><li class=\"interlanguage-link interwiki-mr mw-list-item\"><a href=\"https://mr.wikipedia.org/wiki/%E0%A4%A8%E0%A5%88%E0%A4%B8%E0%A4%B0%E0%A5%8D%E0%A4%97%E0%A4%BF%E0%A4%95_%E0%A4%AD%E0%A4%BE%E0%A4%B7%E0%A4%BE_%E0%A4%AA%E0%A5%8D%E0%A4%B0%E0%A4%95%E0%A5%8D%E0%A4%B0%E0%A4%BF%E0%A4%AF%E0%A4%BE\" title=\"नैसर्गिक भाषा प्रक्रिया – Marathi\" lang=\"mr\" hreflang=\"mr\" data-title=\"नैसर्गिक भाषा प्रक्रिया\" data-language-autonym=\"मराठी\" data-language-local-name=\"Marathi\" class=\"interlanguage-link-target\"><span>मराठी</span></a></li><li class=\"interlanguage-link interwiki-arz mw-list-item\"><a href=\"https://arz.wikipedia.org/wiki/%D8%AA%D8%AD%D9%84%D9%8A%D9%84_%D8%A7%D9%84%D9%84%D8%BA%D8%A7%D8%AA_%D8%A7%D9%84%D8%B7%D8%A8%D9%8A%D8%B9%D9%8A%D9%87\" title=\"تحليل اللغات الطبيعيه – Egyptian Arabic\" lang=\"arz\" hreflang=\"arz\" data-title=\"تحليل اللغات الطبيعيه\" data-language-autonym=\"مصرى\" data-language-local-name=\"Egyptian Arabic\" class=\"interlanguage-link-target\"><span>مصرى</span></a></li><li class=\"interlanguage-link interwiki-mn mw-list-item\"><a href=\"https://mn.wikipedia.org/wiki/%D0%9A%D0%BE%D0%BC%D0%BF%D1%8C%D1%8E%D1%82%D0%B5%D1%80%D1%8B%D0%BD_%D1%85%D1%8D%D0%BB_%D1%88%D0%B8%D0%BD%D0%B6%D0%BB%D1%8D%D0%BB\" title=\"Компьютерын хэл шинжлэл – Mongolian\" lang=\"mn\" hreflang=\"mn\" data-title=\"Компьютерын хэл шинжлэл\" data-language-autonym=\"Монгол\" data-language-local-name=\"Mongolian\" class=\"interlanguage-link-target\"><span>Монгол</span></a></li><li class=\"interlanguage-link interwiki-my mw-list-item\"><a href=\"https://my.wikipedia.org/wiki/%E1%80%99%E1%80%AD%E1%80%81%E1%80%84%E1%80%BA%E1%80%98%E1%80%AC%E1%80%9E%E1%80%AC%E1%80%85%E1%80%80%E1%80%AC%E1%80%B8%E1%80%9E%E1%80%AF%E1%80%B6%E1%80%B8_%E1%80%80%E1%80%BD%E1%80%94%E1%80%BA%E1%80%95%E1%80%BB%E1%80%B0%E1%80%90%E1%80%AC%E1%80%85%E1%80%94%E1%80%85%E1%80%BA\" title=\"မိခင်ဘာသာစကားသုံး ကွန်ပျူတာစနစ် – Burmese\" lang=\"my\" hreflang=\"my\" data-title=\"မိခင်ဘာသာစကားသုံး ကွန်ပျူတာစနစ်\" data-language-autonym=\"မြန်မာဘာသာ\" data-language-local-name=\"Burmese\" class=\"interlanguage-link-target\"><span>မြန်မာဘာသာ</span></a></li><li class=\"interlanguage-link interwiki-nl mw-list-item\"><a href=\"https://nl.wikipedia.org/wiki/Taaltechnologie\" title=\"Taaltechnologie – Dutch\" lang=\"nl\" hreflang=\"nl\" data-title=\"Taaltechnologie\" data-language-autonym=\"Nederlands\" data-language-local-name=\"Dutch\" class=\"interlanguage-link-target\"><span>Nederlands</span></a></li><li class=\"interlanguage-link interwiki-ja mw-list-item\"><a href=\"https://ja.wikipedia.org/wiki/%E8%87%AA%E7%84%B6%E8%A8%80%E8%AA%9E%E5%87%A6%E7%90%86\" title=\"自然言語処理 – Japanese\" lang=\"ja\" hreflang=\"ja\" data-title=\"自然言語処理\" data-language-autonym=\"日本語\" data-language-local-name=\"Japanese\" class=\"interlanguage-link-target\"><span>日本語</span></a></li><li class=\"interlanguage-link interwiki-no mw-list-item\"><a href=\"https://no.wikipedia.org/wiki/Spr%C3%A5kteknologi\" title=\"Språkteknologi – Norwegian Bokmål\" lang=\"nb\" hreflang=\"nb\" data-title=\"Språkteknologi\" data-language-autonym=\"Norsk bokmål\" data-language-local-name=\"Norwegian Bokmål\" class=\"interlanguage-link-target\"><span>Norsk bokmål</span></a></li><li class=\"interlanguage-link interwiki-or mw-list-item\"><a href=\"https://or.wikipedia.org/wiki/%E0%AC%A8%E0%AD%8D%E0%AD%9F%E0%AC%BE%E0%AC%9A%E0%AD%81%E0%AC%B0%E0%AC%BE%E0%AC%B2_%E0%AC%B2%E0%AC%BE%E0%AC%99%E0%AD%8D%E0%AC%97%E0%AD%81%E0%AC%8F%E0%AC%9C_%E0%AC%AA%E0%AD%8D%E0%AC%B0%E0%AD%8B%E0%AC%B8%E0%AD%87%E0%AC%B8%E0%AC%BF%E0%AC%82\" title=\"ନ୍ୟାଚୁରାଲ ଲାଙ୍ଗୁଏଜ ପ୍ରୋସେସିଂ – Odia\" lang=\"or\" hreflang=\"or\" data-title=\"ନ୍ୟାଚୁରାଲ ଲାଙ୍ଗୁଏଜ ପ୍ରୋସେସିଂ\" data-language-autonym=\"ଓଡ଼ିଆ\" data-language-local-name=\"Odia\" class=\"interlanguage-link-target\"><span>ଓଡ଼ିଆ</span></a></li><li class=\"interlanguage-link interwiki-ps mw-list-item\"><a href=\"https://ps.wikipedia.org/wiki/%D8%AF_%D8%B7%D8%A8%D9%8A%D8%B9%D9%8A_%DA%98%D8%A8%DB%90_%D9%BE%D8%B1%D9%88%D8%B3%D8%B3_%DA%A9%D9%88%D9%84\" title=\"د طبيعي ژبې پروسس کول – Pashto\" lang=\"ps\" hreflang=\"ps\" data-title=\"د طبيعي ژبې پروسس کول\" data-language-autonym=\"پښتو\" data-language-local-name=\"Pashto\" class=\"interlanguage-link-target\"><span>پښتو</span></a></li><li class=\"interlanguage-link interwiki-pcd mw-list-item\"><a href=\"https://pcd.wikipedia.org/wiki/Traitemint_automatique_d%27ches_langues\" title=\"Traitemint automatique d&#039;ches langues – Picard\" lang=\"pcd\" hreflang=\"pcd\" data-title=\"Traitemint automatique d&#039;ches langues\" data-language-autonym=\"Picard\" data-language-local-name=\"Picard\" class=\"interlanguage-link-target\"><span>Picard</span></a></li><li class=\"interlanguage-link interwiki-pms mw-list-item\"><a href=\"https://pms.wikipedia.org/wiki/NLP\" title=\"NLP – Piedmontese\" lang=\"pms\" hreflang=\"pms\" data-title=\"NLP\" data-language-autonym=\"Piemontèis\" data-language-local-name=\"Piedmontese\" class=\"interlanguage-link-target\"><span>Piemontèis</span></a></li><li class=\"interlanguage-link interwiki-pl mw-list-item\"><a href=\"https://pl.wikipedia.org/wiki/Przetwarzanie_j%C4%99zyka_naturalnego\" title=\"Przetwarzanie języka naturalnego – Polish\" lang=\"pl\" hreflang=\"pl\" data-title=\"Przetwarzanie języka naturalnego\" data-language-autonym=\"Polski\" data-language-local-name=\"Polish\" class=\"interlanguage-link-target\"><span>Polski</span></a></li><li class=\"interlanguage-link interwiki-pt mw-list-item\"><a href=\"https://pt.wikipedia.org/wiki/Processamento_de_linguagem_natural\" title=\"Processamento de linguagem natural – Portuguese\" lang=\"pt\" hreflang=\"pt\" data-title=\"Processamento de linguagem natural\" data-language-autonym=\"Português\" data-language-local-name=\"Portuguese\" class=\"interlanguage-link-target\"><span>Português</span></a></li><li class=\"interlanguage-link interwiki-kaa mw-list-item\"><a href=\"https://kaa.wikipedia.org/wiki/T%C3%A1biyiy_tildi_qayta_islew\" title=\"Tábiyiy tildi qayta islew – Kara-Kalpak\" lang=\"kaa\" hreflang=\"kaa\" data-title=\"Tábiyiy tildi qayta islew\" data-language-autonym=\"Qaraqalpaqsha\" data-language-local-name=\"Kara-Kalpak\" class=\"interlanguage-link-target\"><span>Qaraqalpaqsha</span></a></li><li class=\"interlanguage-link interwiki-ro mw-list-item\"><a href=\"https://ro.wikipedia.org/wiki/Prelucrarea_limbajului_natural\" title=\"Prelucrarea limbajului natural – Romanian\" lang=\"ro\" hreflang=\"ro\" data-title=\"Prelucrarea limbajului natural\" data-language-autonym=\"Română\" data-language-local-name=\"Romanian\" class=\"interlanguage-link-target\"><span>Română</span></a></li><li class=\"interlanguage-link interwiki-qu mw-list-item\"><a href=\"https://qu.wikipedia.org/wiki/Purum_simi_thatkichay\" title=\"Purum simi thatkichay – Quechua\" lang=\"qu\" hreflang=\"qu\" data-title=\"Purum simi thatkichay\" data-language-autonym=\"Runa Simi\" data-language-local-name=\"Quechua\" class=\"interlanguage-link-target\"><span>Runa Simi</span></a></li><li class=\"interlanguage-link interwiki-ru mw-list-item\"><a href=\"https://ru.wikipedia.org/wiki/%D0%9E%D0%B1%D1%80%D0%B0%D0%B1%D0%BE%D1%82%D0%BA%D0%B0_%D0%B5%D1%81%D1%82%D0%B5%D1%81%D1%82%D0%B2%D0%B5%D0%BD%D0%BD%D0%BE%D0%B3%D0%BE_%D1%8F%D0%B7%D1%8B%D0%BA%D0%B0\" title=\"Обработка естественного языка – Russian\" lang=\"ru\" hreflang=\"ru\" data-title=\"Обработка естественного языка\" data-language-autonym=\"Русский\" data-language-local-name=\"Russian\" class=\"interlanguage-link-target\"><span>Русский</span></a></li><li class=\"interlanguage-link interwiki-sq mw-list-item\"><a href=\"https://sq.wikipedia.org/wiki/P%C3%ABrpunimi_i_gjuh%C3%ABs_natyrore\" title=\"Përpunimi i gjuhës natyrore – Albanian\" lang=\"sq\" hreflang=\"sq\" data-title=\"Përpunimi i gjuhës natyrore\" data-language-autonym=\"Shqip\" data-language-local-name=\"Albanian\" class=\"interlanguage-link-target\"><span>Shqip</span></a></li><li class=\"interlanguage-link interwiki-simple mw-list-item\"><a href=\"https://simple.wikipedia.org/wiki/Natural_language_processing\" title=\"Natural language processing – Simple English\" lang=\"en-simple\" hreflang=\"en-simple\" data-title=\"Natural language processing\" data-language-autonym=\"Simple English\" data-language-local-name=\"Simple English\" class=\"interlanguage-link-target\"><span>Simple English</span></a></li><li class=\"interlanguage-link interwiki-ckb mw-list-item\"><a href=\"https://ckb.wikipedia.org/wiki/%D9%BE%DB%8E%D9%88%D8%A7%DA%98%DB%86%DA%A9%D8%B1%D8%AF%D9%86%DB%8C_%D8%B2%D9%85%D8%A7%D9%86%DB%8C_%D8%B3%D8%B1%D9%88%D8%B4%D8%AA%DB%8C\" title=\"پێواژۆکردنی زمانی سروشتی – Central Kurdish\" lang=\"ckb\" hreflang=\"ckb\" data-title=\"پێواژۆکردنی زمانی سروشتی\" data-language-autonym=\"کوردی\" data-language-local-name=\"Central Kurdish\" class=\"interlanguage-link-target\"><span>کوردی</span></a></li><li class=\"interlanguage-link interwiki-sr mw-list-item\"><a href=\"https://sr.wikipedia.org/wiki/Obrada_prirodnih_jezika\" title=\"Obrada prirodnih jezika – Serbian\" lang=\"sr\" hreflang=\"sr\" data-title=\"Obrada prirodnih jezika\" data-language-autonym=\"Српски / srpski\" data-language-local-name=\"Serbian\" class=\"interlanguage-link-target\"><span>Српски / srpski</span></a></li><li class=\"interlanguage-link interwiki-sh mw-list-item\"><a href=\"https://sh.wikipedia.org/wiki/Obrada_prirodnih_jezika\" title=\"Obrada prirodnih jezika – Serbo-Croatian\" lang=\"sh\" hreflang=\"sh\" data-title=\"Obrada prirodnih jezika\" data-language-autonym=\"Srpskohrvatski / српскохрватски\" data-language-local-name=\"Serbo-Croatian\" class=\"interlanguage-link-target\"><span>Srpskohrvatski / српскохрватски</span></a></li><li class=\"interlanguage-link interwiki-fi mw-list-item\"><a href=\"https://fi.wikipedia.org/wiki/Luonnollisen_kielen_k%C3%A4sittely\" title=\"Luonnollisen kielen käsittely – Finnish\" lang=\"fi\" hreflang=\"fi\" data-title=\"Luonnollisen kielen käsittely\" data-language-autonym=\"Suomi\" data-language-local-name=\"Finnish\" class=\"interlanguage-link-target\"><span>Suomi</span></a></li><li class=\"interlanguage-link interwiki-ta mw-list-item\"><a href=\"https://ta.wikipedia.org/wiki/%E0%AE%87%E0%AE%AF%E0%AE%B1%E0%AF%8D%E0%AE%95%E0%AF%88_%E0%AE%AE%E0%AF%8A%E0%AE%B4%E0%AE%BF_%E0%AE%AE%E0%AF%81%E0%AE%B1%E0%AF%88%E0%AE%AF%E0%AE%BE%E0%AE%95%E0%AF%8D%E0%AE%95%E0%AE%AE%E0%AF%8D\" title=\"இயற்கை மொழி முறையாக்கம் – Tamil\" lang=\"ta\" hreflang=\"ta\" data-title=\"இயற்கை மொழி முறையாக்கம்\" data-language-autonym=\"தமிழ்\" data-language-local-name=\"Tamil\" class=\"interlanguage-link-target\"><span>தமிழ்</span></a></li><li class=\"interlanguage-link interwiki-te mw-list-item\"><a href=\"https://te.wikipedia.org/wiki/%E0%B0%B8%E0%B0%B9%E0%B0%9C_%E0%B0%AD%E0%B0%BE%E0%B0%B7%E0%B0%BE_%E0%B0%AA%E0%B1%8D%E0%B0%B0%E0%B0%95%E0%B1%8D%E0%B0%B0%E0%B0%BF%E0%B0%AF\" title=\"సహజ భాషా ప్రక్రియ – Telugu\" lang=\"te\" hreflang=\"te\" data-title=\"సహజ భాషా ప్రక్రియ\" data-language-autonym=\"తెలుగు\" data-language-local-name=\"Telugu\" class=\"interlanguage-link-target\"><span>తెలుగు</span></a></li><li class=\"interlanguage-link interwiki-th mw-list-item\"><a href=\"https://th.wikipedia.org/wiki/%E0%B8%81%E0%B8%B2%E0%B8%A3%E0%B8%9B%E0%B8%A3%E0%B8%B0%E0%B8%A1%E0%B8%A7%E0%B8%A5%E0%B8%A0%E0%B8%B2%E0%B8%A9%E0%B8%B2%E0%B8%98%E0%B8%A3%E0%B8%A3%E0%B8%A1%E0%B8%8A%E0%B8%B2%E0%B8%95%E0%B8%B4\" title=\"การประมวลภาษาธรรมชาติ – Thai\" lang=\"th\" hreflang=\"th\" data-title=\"การประมวลภาษาธรรมชาติ\" data-language-autonym=\"ไทย\" data-language-local-name=\"Thai\" class=\"interlanguage-link-target\"><span>ไทย</span></a></li><li class=\"interlanguage-link interwiki-tr mw-list-item\"><a href=\"https://tr.wikipedia.org/wiki/Do%C4%9Fal_dil_i%C5%9Fleme\" title=\"Doğal dil işleme – Turkish\" lang=\"tr\" hreflang=\"tr\" data-title=\"Doğal dil işleme\" data-language-autonym=\"Türkçe\" data-language-local-name=\"Turkish\" class=\"interlanguage-link-target\"><span>Türkçe</span></a></li><li class=\"interlanguage-link interwiki-uk mw-list-item\"><a href=\"https://uk.wikipedia.org/wiki/%D0%9E%D0%B1%D1%80%D0%BE%D0%B1%D0%BA%D0%B0_%D0%BF%D1%80%D0%B8%D1%80%D0%BE%D0%B4%D0%BD%D0%BE%D1%97_%D0%BC%D0%BE%D0%B2%D0%B8\" title=\"Обробка природної мови – Ukrainian\" lang=\"uk\" hreflang=\"uk\" data-title=\"Обробка природної мови\" data-language-autonym=\"Українська\" data-language-local-name=\"Ukrainian\" class=\"interlanguage-link-target\"><span>Українська</span></a></li><li class=\"interlanguage-link interwiki-vi mw-list-item\"><a href=\"https://vi.wikipedia.org/wiki/X%E1%BB%AD_l%C3%BD_ng%C3%B4n_ng%E1%BB%AF_t%E1%BB%B1_nhi%C3%AAn\" title=\"Xử lý ngôn ngữ tự nhiên – Vietnamese\" lang=\"vi\" hreflang=\"vi\" data-title=\"Xử lý ngôn ngữ tự nhiên\" data-language-autonym=\"Tiếng Việt\" data-language-local-name=\"Vietnamese\" class=\"interlanguage-link-target\"><span>Tiếng Việt</span></a></li><li class=\"interlanguage-link interwiki-zh-yue mw-list-item\"><a href=\"https://zh-yue.wikipedia.org/wiki/%E8%87%AA%E7%84%B6%E8%AA%9E%E8%A8%80%E8%99%95%E7%90%86\" title=\"自然語言處理 – Cantonese\" lang=\"yue\" hreflang=\"yue\" data-title=\"自然語言處理\" data-language-autonym=\"粵語\" data-language-local-name=\"Cantonese\" class=\"interlanguage-link-target\"><span>粵語</span></a></li><li class=\"interlanguage-link interwiki-zh mw-list-item\"><a href=\"https://zh.wikipedia.org/wiki/%E8%87%AA%E7%84%B6%E8%AF%AD%E8%A8%80%E5%A4%84%E7%90%86\" title=\"自然语言处理 – Chinese\" lang=\"zh\" hreflang=\"zh\" data-title=\"自然语言处理\" data-language-autonym=\"中文\" data-language-local-name=\"Chinese\" class=\"interlanguage-link-target\"><span>中文</span></a></li>\\n\\t\\t\\t</ul>\\n\\t\\t\\t<div class=\"after-portlet after-portlet-lang\"><span class=\"wb-langlinks-edit wb-langlinks-link\"><a href=\"https://www.wikidata.org/wiki/Special:EntityPage/Q30642#sitelinks-wikipedia\" title=\"Edit interlanguage links\" class=\"wbc-editpage\">Edit links</a></span></div>\\n\\t\\t</div>\\n\\n\\t</div>\\n</div>\\n</header>\\n\\t\\t\\t\\t<div class=\"vector-page-toolbar vector-feature-custom-font-size-clientpref--excluded\">\\n\\t\\t\\t\\t\\t<div class=\"vector-page-toolbar-container\">\\n\\t\\t\\t\\t\\t\\t<div id=\"left-navigation\">\\n\\t\\t\\t\\t\\t\\t\\t<nav aria-label=\"Namespaces\">\\n\\t\\t\\t\\t\\t\\t\\t\\t\\n<div id=\"p-associated-pages\" class=\"vector-menu vector-menu-tabs mw-portlet mw-portlet-associated-pages\"  >\\n\\t<div class=\"vector-menu-content\">\\n\\t\\t\\n\\t\\t<ul class=\"vector-menu-content-list\">\\n\\t\\t\\t\\n\\t\\t\\t<li id=\"ca-nstab-main\" class=\"selected vector-tab-noicon mw-list-item\"><a href=\"/wiki/Natural_language_processing\" title=\"View the content page [c]\" accesskey=\"c\"><span>Article</span></a></li><li id=\"ca-talk\" class=\"vector-tab-noicon mw-list-item\"><a href=\"/wiki/Talk:Natural_language_processing\" rel=\"discussion\" title=\"Discuss improvements to the content page [t]\" accesskey=\"t\"><span>Talk</span></a></li>\\n\\t\\t</ul>\\n\\t\\t\\n\\t</div>\\n</div>\\n\\n\\t\\t\\t\\t\\t\\t\\t\\t\\n<div id=\"vector-variants-dropdown\" class=\"vector-dropdown emptyPortlet\"  >\\n\\t<input type=\"checkbox\" id=\"vector-variants-dropdown-checkbox\" role=\"button\" aria-haspopup=\"true\" data-event-name=\"ui.dropdown-vector-variants-dropdown\" class=\"vector-dropdown-checkbox \" aria-label=\"Change language variant\"   >\\n\\t<label id=\"vector-variants-dropdown-label\" for=\"vector-variants-dropdown-checkbox\" class=\"vector-dropdown-label cdx-button cdx-button--fake-button cdx-button--fake-button--enabled cdx-button--weight-quiet\" aria-hidden=\"true\"  ><span class=\"vector-dropdown-label-text\">English</span>\\n\\t</label>\\n\\t<div class=\"vector-dropdown-content\">\\n\\n\\n\\t\\t\\t\\t\\t\\n<div id=\"p-variants\" class=\"vector-menu mw-portlet mw-portlet-variants emptyPortlet\"  >\\n\\t<div class=\"vector-menu-content\">\\n\\t\\t\\n\\t\\t<ul class=\"vector-menu-content-list\">\\n\\t\\t\\t\\n\\t\\t\\t\\n\\t\\t</ul>\\n\\t\\t\\n\\t</div>\\n</div>\\n\\n\\t\\t\\t\\t\\n\\t</div>\\n</div>\\n\\n\\t\\t\\t\\t\\t\\t\\t</nav>\\n\\t\\t\\t\\t\\t\\t</div>\\n\\t\\t\\t\\t\\t\\t<div id=\"right-navigation\" class=\"vector-collapsible\">\\n\\t\\t\\t\\t\\t\\t\\t<nav aria-label=\"Views\">\\n\\t\\t\\t\\t\\t\\t\\t\\t\\n<div id=\"p-views\" class=\"vector-menu vector-menu-tabs mw-portlet mw-portlet-views\"  >\\n\\t<div class=\"vector-menu-content\">\\n\\t\\t\\n\\t\\t<ul class=\"vector-menu-content-list\">\\n\\t\\t\\t\\n\\t\\t\\t<li id=\"ca-view\" class=\"selected vector-tab-noicon mw-list-item\"><a href=\"/wiki/Natural_language_processing\"><span>Read</span></a></li><li id=\"ca-edit\" class=\"vector-tab-noicon mw-list-item\"><a href=\"/w/index.php?title=Natural_language_processing&amp;action=edit\" title=\"Edit this page [e]\" accesskey=\"e\"><span>Edit</span></a></li><li id=\"ca-history\" class=\"vector-tab-noicon mw-list-item\"><a href=\"/w/index.php?title=Natural_language_processing&amp;action=history\" title=\"Past revisions of this page [h]\" accesskey=\"h\"><span>View history</span></a></li>\\n\\t\\t</ul>\\n\\t\\t\\n\\t</div>\\n</div>\\n\\n\\t\\t\\t\\t\\t\\t\\t</nav>\\n\\t\\t\\t\\t\\n\\t\\t\\t\\t\\t\\t\\t<nav class=\"vector-page-tools-landmark\" aria-label=\"Page tools\">\\n\\t\\t\\t\\t\\t\\t\\t\\t\\n<div id=\"vector-page-tools-dropdown\" class=\"vector-dropdown vector-page-tools-dropdown\"  >\\n\\t<input type=\"checkbox\" id=\"vector-page-tools-dropdown-checkbox\" role=\"button\" aria-haspopup=\"true\" data-event-name=\"ui.dropdown-vector-page-tools-dropdown\" class=\"vector-dropdown-checkbox \"  aria-label=\"Tools\"  >\\n\\t<label id=\"vector-page-tools-dropdown-label\" for=\"vector-page-tools-dropdown-checkbox\" class=\"vector-dropdown-label cdx-button cdx-button--fake-button cdx-button--fake-button--enabled cdx-button--weight-quiet\" aria-hidden=\"true\"  ><span class=\"vector-dropdown-label-text\">Tools</span>\\n\\t</label>\\n\\t<div class=\"vector-dropdown-content\">\\n\\n\\n\\t\\t\\t\\t\\t\\t\\t\\t\\t<div id=\"vector-page-tools-unpinned-container\" class=\"vector-unpinned-container\">\\n\\t\\t\\t\\t\\t\\t\\n<div id=\"vector-page-tools\" class=\"vector-page-tools vector-pinnable-element\">\\n\\t<div\\n\\tclass=\"vector-pinnable-header vector-page-tools-pinnable-header vector-pinnable-header-unpinned\"\\n\\tdata-feature-name=\"page-tools-pinned\"\\n\\tdata-pinnable-element-id=\"vector-page-tools\"\\n\\tdata-pinned-container-id=\"vector-page-tools-pinned-container\"\\n\\tdata-unpinned-container-id=\"vector-page-tools-unpinned-container\"\\n>\\n\\t<div class=\"vector-pinnable-header-label\">Tools</div>\\n\\t<button class=\"vector-pinnable-header-toggle-button vector-pinnable-header-pin-button\" data-event-name=\"pinnable-header.vector-page-tools.pin\">move to sidebar</button>\\n\\t<button class=\"vector-pinnable-header-toggle-button vector-pinnable-header-unpin-button\" data-event-name=\"pinnable-header.vector-page-tools.unpin\">hide</button>\\n</div>\\n\\n\\t\\n<div id=\"p-cactions\" class=\"vector-menu mw-portlet mw-portlet-cactions emptyPortlet vector-has-collapsible-items\"  title=\"More options\" >\\n\\t<div class=\"vector-menu-heading\">\\n\\t\\tActions\\n\\t</div>\\n\\t<div class=\"vector-menu-content\">\\n\\t\\t\\n\\t\\t<ul class=\"vector-menu-content-list\">\\n\\t\\t\\t\\n\\t\\t\\t<li id=\"ca-more-view\" class=\"selected vector-more-collapsible-item mw-list-item\"><a href=\"/wiki/Natural_language_processing\"><span>Read</span></a></li><li id=\"ca-more-edit\" class=\"vector-more-collapsible-item mw-list-item\"><a href=\"/w/index.php?title=Natural_language_processing&amp;action=edit\" title=\"Edit this page [e]\" accesskey=\"e\"><span>Edit</span></a></li><li id=\"ca-more-history\" class=\"vector-more-collapsible-item mw-list-item\"><a href=\"/w/index.php?title=Natural_language_processing&amp;action=history\"><span>View history</span></a></li>\\n\\t\\t</ul>\\n\\t\\t\\n\\t</div>\\n</div>\\n\\n<div id=\"p-tb\" class=\"vector-menu mw-portlet mw-portlet-tb\"  >\\n\\t<div class=\"vector-menu-heading\">\\n\\t\\tGeneral\\n\\t</div>\\n\\t<div class=\"vector-menu-content\">\\n\\t\\t\\n\\t\\t<ul class=\"vector-menu-content-list\">\\n\\t\\t\\t\\n\\t\\t\\t<li id=\"t-whatlinkshere\" class=\"mw-list-item\"><a href=\"/wiki/Special:WhatLinksHere/Natural_language_processing\" title=\"List of all English Wikipedia pages containing links to this page [j]\" accesskey=\"j\"><span>What links here</span></a></li><li id=\"t-recentchangeslinked\" class=\"mw-list-item\"><a href=\"/wiki/Special:RecentChangesLinked/Natural_language_processing\" rel=\"nofollow\" title=\"Recent changes in pages linked from this page [k]\" accesskey=\"k\"><span>Related changes</span></a></li><li id=\"t-upload\" class=\"mw-list-item\"><a href=\"//en.wikipedia.org/wiki/Wikipedia:File_Upload_Wizard\" title=\"Upload files [u]\" accesskey=\"u\"><span>Upload file</span></a></li><li id=\"t-permalink\" class=\"mw-list-item\"><a href=\"/w/index.php?title=Natural_language_processing&amp;oldid=1292777221\" title=\"Permanent link to this revision of this page\"><span>Permanent link</span></a></li><li id=\"t-info\" class=\"mw-list-item\"><a href=\"/w/index.php?title=Natural_language_processing&amp;action=info\" title=\"More information about this page\"><span>Page information</span></a></li><li id=\"t-cite\" class=\"mw-list-item\"><a href=\"/w/index.php?title=Special:CiteThisPage&amp;page=Natural_language_processing&amp;id=1292777221&amp;wpFormIdentifier=titleform\" title=\"Information on how to cite this page\"><span>Cite this page</span></a></li><li id=\"t-urlshortener\" class=\"mw-list-item\"><a href=\"/w/index.php?title=Special:UrlShortener&amp;url=https%3A%2F%2Fen.wikipedia.org%2Fwiki%2FNatural_language_processing\"><span>Get shortened URL</span></a></li><li id=\"t-urlshortener-qrcode\" class=\"mw-list-item\"><a href=\"/w/index.php?title=Special:QrCode&amp;url=https%3A%2F%2Fen.wikipedia.org%2Fwiki%2FNatural_language_processing\"><span>Download QR code</span></a></li>\\n\\t\\t</ul>\\n\\t\\t\\n\\t</div>\\n</div>\\n\\n<div id=\"p-coll-print_export\" class=\"vector-menu mw-portlet mw-portlet-coll-print_export\"  >\\n\\t<div class=\"vector-menu-heading\">\\n\\t\\tPrint/export\\n\\t</div>\\n\\t<div class=\"vector-menu-content\">\\n\\t\\t\\n\\t\\t<ul class=\"vector-menu-content-list\">\\n\\t\\t\\t\\n\\t\\t\\t<li id=\"coll-download-as-rl\" class=\"mw-list-item\"><a href=\"/w/index.php?title=Special:DownloadAsPdf&amp;page=Natural_language_processing&amp;action=show-download-screen\" title=\"Download this page as a PDF file\"><span>Download as PDF</span></a></li><li id=\"t-print\" class=\"mw-list-item\"><a href=\"/w/index.php?title=Natural_language_processing&amp;printable=yes\" title=\"Printable version of this page [p]\" accesskey=\"p\"><span>Printable version</span></a></li>\\n\\t\\t</ul>\\n\\t\\t\\n\\t</div>\\n</div>\\n\\n<div id=\"p-wikibase-otherprojects\" class=\"vector-menu mw-portlet mw-portlet-wikibase-otherprojects\"  >\\n\\t<div class=\"vector-menu-heading\">\\n\\t\\tIn other projects\\n\\t</div>\\n\\t<div class=\"vector-menu-content\">\\n\\t\\t\\n\\t\\t<ul class=\"vector-menu-content-list\">\\n\\t\\t\\t\\n\\t\\t\\t<li class=\"wb-otherproject-link wb-otherproject-commons mw-list-item\"><a href=\"https://commons.wikimedia.org/wiki/Category:Natural_language_processing\" hreflang=\"en\"><span>Wikimedia Commons</span></a></li><li class=\"wb-otherproject-link wb-otherproject-wikiversity mw-list-item\"><a href=\"https://en.wikiversity.org/wiki/Natural_Language_Processing\" hreflang=\"en\"><span>Wikiversity</span></a></li><li id=\"t-wikibase\" class=\"wb-otherproject-link wb-otherproject-wikibase-dataitem mw-list-item\"><a href=\"https://www.wikidata.org/wiki/Special:EntityPage/Q30642\" title=\"Structured data on this page hosted by Wikidata [g]\" accesskey=\"g\"><span>Wikidata item</span></a></li>\\n\\t\\t</ul>\\n\\t\\t\\n\\t</div>\\n</div>\\n\\n</div>\\n\\n\\t\\t\\t\\t\\t\\t\\t\\t\\t</div>\\n\\t\\t\\t\\t\\n\\t</div>\\n</div>\\n\\n\\t\\t\\t\\t\\t\\t\\t</nav>\\n\\t\\t\\t\\t\\t\\t</div>\\n\\t\\t\\t\\t\\t</div>\\n\\t\\t\\t\\t</div>\\n\\t\\t\\t\\t<div class=\"vector-column-end no-font-mode-scale\">\\n\\t\\t\\t\\t\\t<div class=\"vector-sticky-pinned-container\">\\n\\t\\t\\t\\t\\t\\t<nav class=\"vector-page-tools-landmark\" aria-label=\"Page tools\">\\n\\t\\t\\t\\t\\t\\t\\t<div id=\"vector-page-tools-pinned-container\" class=\"vector-pinned-container\">\\n\\t\\t\\t\\t\\n\\t\\t\\t\\t\\t\\t\\t</div>\\n\\t\\t</nav>\\n\\t\\t\\t\\t\\t\\t<nav class=\"vector-appearance-landmark\" aria-label=\"Appearance\">\\n\\t\\t\\t\\t\\t\\t\\t<div id=\"vector-appearance-pinned-container\" class=\"vector-pinned-container\">\\n\\t\\t\\t\\t<div id=\"vector-appearance\" class=\"vector-appearance vector-pinnable-element\">\\n\\t<div\\n\\tclass=\"vector-pinnable-header vector-appearance-pinnable-header vector-pinnable-header-pinned\"\\n\\tdata-feature-name=\"appearance-pinned\"\\n\\tdata-pinnable-element-id=\"vector-appearance\"\\n\\tdata-pinned-container-id=\"vector-appearance-pinned-container\"\\n\\tdata-unpinned-container-id=\"vector-appearance-unpinned-container\"\\n>\\n\\t<div class=\"vector-pinnable-header-label\">Appearance</div>\\n\\t<button class=\"vector-pinnable-header-toggle-button vector-pinnable-header-pin-button\" data-event-name=\"pinnable-header.vector-appearance.pin\">move to sidebar</button>\\n\\t<button class=\"vector-pinnable-header-toggle-button vector-pinnable-header-unpin-button\" data-event-name=\"pinnable-header.vector-appearance.unpin\">hide</button>\\n</div>\\n\\n\\n</div>\\n\\n\\t\\t\\t\\t\\t\\t\\t</div>\\n\\t\\t</nav>\\n\\t\\t\\t\\t\\t</div>\\n\\t\\t\\t\\t</div>\\n\\t\\t\\t\\t<div id=\"bodyContent\" class=\"vector-body\" aria-labelledby=\"firstHeading\" data-mw-ve-target-container>\\n\\t\\t\\t\\t\\t<div class=\"vector-body-before-content\">\\n\\t\\t\\t\\t\\t\\t\\t<div class=\"mw-indicators\">\\n\\t\\t</div>\\n\\n\\t\\t\\t\\t\\t\\t<div id=\"siteSub\" class=\"noprint\">From Wikipedia, the free encyclopedia</div>\\n\\t\\t\\t\\t\\t</div>\\n\\t\\t\\t\\t\\t<div id=\"contentSub\"><div id=\"mw-content-subtitle\"></div></div>\\n\\t\\t\\t\\t\\t\\n\\t\\t\\t\\t\\t\\n\\t\\t\\t\\t\\t<div id=\"mw-content-text\" class=\"mw-body-content\"><div class=\"mw-content-ltr mw-parser-output\" lang=\"en\" dir=\"ltr\"><div class=\"shortdescription nomobile noexcerpt noprint searchaux\" style=\"display:none\">Field of linguistics and computer science</div>\\n<style data-mw-deduplicate=\"TemplateStyles:r1251242444\">.mw-parser-output .ambox{border:1px solid #a2a9b1;border-left:10px solid #36c;background-color:#fbfbfb;box-sizing:border-box}.mw-parser-output .ambox+link+.ambox,.mw-parser-output .ambox+link+style+.ambox,.mw-parser-output .ambox+link+link+.ambox,.mw-parser-output .ambox+.mw-empty-elt+link+.ambox,.mw-parser-output .ambox+.mw-empty-elt+link+style+.ambox,.mw-parser-output .ambox+.mw-empty-elt+link+link+.ambox{margin-top:-1px}html body.mediawiki .mw-parser-output .ambox.mbox-small-left{margin:4px 1em 4px 0;overflow:hidden;width:238px;border-collapse:collapse;font-size:88%;line-height:1.25em}.mw-parser-output .ambox-speedy{border-left:10px solid #b32424;background-color:#fee7e6}.mw-parser-output .ambox-delete{border-left:10px solid #b32424}.mw-parser-output .ambox-content{border-left:10px solid #f28500}.mw-parser-output .ambox-style{border-left:10px solid #fc3}.mw-parser-output .ambox-move{border-left:10px solid #9932cc}.mw-parser-output .ambox-protection{border-left:10px solid #a2a9b1}.mw-parser-output .ambox .mbox-text{border:none;padding:0.25em 0.5em;width:100%}.mw-parser-output .ambox .mbox-image{border:none;padding:2px 0 2px 0.5em;text-align:center}.mw-parser-output .ambox .mbox-imageright{border:none;padding:2px 0.5em 2px 0;text-align:center}.mw-parser-output .ambox .mbox-empty-cell{border:none;padding:0;width:1px}.mw-parser-output .ambox .mbox-image-div{width:52px}@media(min-width:720px){.mw-parser-output .ambox{margin:0 10%}}@media print{body.ns-0 .mw-parser-output .ambox{display:none!important}}</style><table class=\"box-More_citations_needed plainlinks metadata ambox ambox-content ambox-Refimprove\" role=\"presentation\"><tbody><tr><td class=\"mbox-image\"><div class=\"mbox-image-div\"><span typeof=\"mw:File\"><a href=\"/wiki/File:Question_book-new.svg\" class=\"mw-file-description\"><img alt=\"\" src=\"//upload.wikimedia.org/wikipedia/en/thumb/9/99/Question_book-new.svg/60px-Question_book-new.svg.png\" decoding=\"async\" width=\"50\" height=\"39\" class=\"mw-file-element\" srcset=\"//upload.wikimedia.org/wikipedia/en/thumb/9/99/Question_book-new.svg/120px-Question_book-new.svg.png 1.5x\" data-file-width=\"512\" data-file-height=\"399\" /></a></span></div></td><td class=\"mbox-text\"><div class=\"mbox-text-span\">This article <b>needs additional citations for <a href=\"/wiki/Wikipedia:Verifiability\" title=\"Wikipedia:Verifiability\">verification</a></b>.<span class=\"hide-when-compact\"> Please help <a href=\"/wiki/Special:EditPage/Natural_language_processing\" title=\"Special:EditPage/Natural language processing\">improve this article</a> by <a href=\"/wiki/Help:Referencing_for_beginners\" title=\"Help:Referencing for beginners\">adding citations to reliable sources</a>. Unsourced material may be challenged and removed.<br /><small><span class=\"plainlinks\"><i>Find sources:</i>&#160;<a rel=\"nofollow\" class=\"external text\" href=\"https://www.google.com/search?as_eq=wikipedia&amp;q=%22Natural+language+processing%22\">\"Natural language processing\"</a>&#160;–&#160;<a rel=\"nofollow\" class=\"external text\" href=\"https://www.google.com/search?tbm=nws&amp;q=%22Natural+language+processing%22+-wikipedia&amp;tbs=ar:1\">news</a>&#160;<b>·</b> <a rel=\"nofollow\" class=\"external text\" href=\"https://www.google.com/search?&amp;q=%22Natural+language+processing%22&amp;tbs=bkt:s&amp;tbm=bks\">newspapers</a>&#160;<b>·</b> <a rel=\"nofollow\" class=\"external text\" href=\"https://www.google.com/search?tbs=bks:1&amp;q=%22Natural+language+processing%22+-wikipedia\">books</a>&#160;<b>·</b> <a rel=\"nofollow\" class=\"external text\" href=\"https://scholar.google.com/scholar?q=%22Natural+language+processing%22\">scholar</a>&#160;<b>·</b> <a rel=\"nofollow\" class=\"external text\" href=\"https://www.jstor.org/action/doBasicSearch?Query=%22Natural+language+processing%22&amp;acc=on&amp;wc=on\">JSTOR</a></span></small></span>  <span class=\"date-container\"><i>(<span class=\"date\">May 2024</span>)</i></span><span class=\"hide-when-compact\"><i> (<small><a href=\"/wiki/Help:Maintenance_template_removal\" title=\"Help:Maintenance template removal\">Learn how and when to remove this message</a></small>)</i></span></div></td></tr></tbody></table>\\n<p><b>Natural language processing</b> (<b>NLP</b>) is a subfield of <a href=\"/wiki/Computer_science\" title=\"Computer science\">computer science</a> and especially <a href=\"/wiki/Artificial_intelligence\" title=\"Artificial intelligence\">artificial intelligence</a>. It is primarily concerned with providing computers with the ability to process data encoded in <a href=\"/wiki/Natural_language\" title=\"Natural language\">natural language</a> and is thus closely related to <a href=\"/wiki/Information_retrieval\" title=\"Information retrieval\">information retrieval</a>, <a href=\"/wiki/Knowledge_representation\" class=\"mw-redirect\" title=\"Knowledge representation\">knowledge representation</a> and <a href=\"/wiki/Computational_linguistics\" title=\"Computational linguistics\">computational linguistics</a>, a subfield of <a href=\"/wiki/Linguistics\" title=\"Linguistics\">linguistics</a>.\\n</p><p>Major tasks in natural language processing are <a href=\"/wiki/Speech_recognition\" title=\"Speech recognition\">speech recognition</a>, <a href=\"/wiki/Text_classification\" class=\"mw-redirect\" title=\"Text classification\">text classification</a>, <a href=\"/wiki/Natural-language_understanding\" class=\"mw-redirect\" title=\"Natural-language understanding\">natural-language understanding</a>, and <a href=\"/wiki/Natural_language_generation\" title=\"Natural language generation\">natural-language generation</a>.\\n</p>\\n<meta property=\"mw:PageProp/toc\" />\\n<div class=\"mw-heading mw-heading2\"><h2 id=\"History\">History</h2><span class=\"mw-editsection\"><span class=\"mw-editsection-bracket\">[</span><a href=\"/w/index.php?title=Natural_language_processing&amp;action=edit&amp;section=1\" title=\"Edit section: History\"><span>edit</span></a><span class=\"mw-editsection-bracket\">]</span></span></div>\\n<style data-mw-deduplicate=\"TemplateStyles:r1236090951\">.mw-parser-output .hatnote{font-style:italic}.mw-parser-output div.hatnote{padding-left:1.6em;margin-bottom:0.5em}.mw-parser-output .hatnote i{font-style:normal}.mw-parser-output .hatnote+link+.hatnote{margin-top:-0.5em}@media print{body.ns-0 .mw-parser-output .hatnote{display:none!important}}</style><div role=\"note\" class=\"hatnote navigation-not-searchable\">Further information: <a href=\"/wiki/History_of_natural_language_processing\" title=\"History of natural language processing\">History of natural language processing</a></div>\\n<p>Natural language processing has its roots in the 1950s.<sup id=\"cite_ref-1\" class=\"reference\"><a href=\"#cite_note-1\"><span class=\"cite-bracket\">&#91;</span>1<span class=\"cite-bracket\">&#93;</span></a></sup> Already in 1950, <a href=\"/wiki/Alan_Turing\" title=\"Alan Turing\">Alan Turing</a> published an article titled \"<a href=\"/wiki/Computing_Machinery_and_Intelligence\" title=\"Computing Machinery and Intelligence\">Computing Machinery and Intelligence</a>\" which proposed what is now called the <a href=\"/wiki/Turing_test\" title=\"Turing test\">Turing test</a> as a criterion of intelligence, though at the time that was not articulated as a problem separate from artificial intelligence. The proposed test includes a task that involves the automated interpretation and generation of natural language.\\n</p>\\n<div class=\"mw-heading mw-heading3\"><h3 id=\"Symbolic_NLP_(1950s_–_early_1990s)\"><span id=\"Symbolic_NLP_.281950s_.E2.80.93_early_1990s.29\"></span>Symbolic NLP (1950s – early 1990s)</h3><span class=\"mw-editsection\"><span class=\"mw-editsection-bracket\">[</span><a href=\"/w/index.php?title=Natural_language_processing&amp;action=edit&amp;section=2\" title=\"Edit section: Symbolic NLP (1950s – early 1990s)\"><span>edit</span></a><span class=\"mw-editsection-bracket\">]</span></span></div>\\n<p>The premise of symbolic NLP is well-summarized by <a href=\"/wiki/John_Searle\" title=\"John Searle\">John Searle</a>\\'s <a href=\"/wiki/Chinese_room\" title=\"Chinese room\">Chinese room</a> experiment: Given a collection of rules (e.g., a Chinese phrasebook, with questions and matching answers), the computer emulates natural language understanding (or other NLP tasks) by applying those rules to the data it confronts.\\n</p>\\n<ul><li><b>1950s</b>: The <a href=\"/wiki/Georgetown-IBM_experiment\" class=\"mw-redirect\" title=\"Georgetown-IBM experiment\">Georgetown experiment</a> in 1954 involved fully <a href=\"/wiki/Automatic_translation\" class=\"mw-redirect\" title=\"Automatic translation\">automatic translation</a> of more than sixty Russian sentences into English. The authors claimed that within three or five years, machine translation would be a solved problem.<sup id=\"cite_ref-2\" class=\"reference\"><a href=\"#cite_note-2\"><span class=\"cite-bracket\">&#91;</span>2<span class=\"cite-bracket\">&#93;</span></a></sup>  However, real progress was much slower, and after the <a href=\"/wiki/ALPAC\" title=\"ALPAC\">ALPAC report</a> in 1966, which found that ten years of research had failed to fulfill the expectations, funding for machine translation was dramatically reduced. Little further research in machine translation was conducted in America (though some research continued elsewhere, such as Japan and Europe<sup id=\"cite_ref-3\" class=\"reference\"><a href=\"#cite_note-3\"><span class=\"cite-bracket\">&#91;</span>3<span class=\"cite-bracket\">&#93;</span></a></sup>) until the late 1980s when the first <a href=\"/wiki/Statistical_machine_translation\" title=\"Statistical machine translation\">statistical machine translation</a> systems were developed.</li>\\n<li><b>1960s</b>: Some notably successful natural language processing systems developed in the 1960s were <a href=\"/wiki/SHRDLU\" title=\"SHRDLU\">SHRDLU</a>, a natural language system working in restricted \"<a href=\"/wiki/Blocks_world\" title=\"Blocks world\">blocks worlds</a>\" with restricted vocabularies, and <a href=\"/wiki/ELIZA\" title=\"ELIZA\">ELIZA</a>, a simulation of a <a href=\"/wiki/Rogerian_psychotherapy\" class=\"mw-redirect\" title=\"Rogerian psychotherapy\">Rogerian psychotherapist</a>, written by <a href=\"/wiki/Joseph_Weizenbaum\" title=\"Joseph Weizenbaum\">Joseph Weizenbaum</a> between 1964 and 1966. Using almost no information about human thought or emotion, ELIZA sometimes provided a startlingly human-like interaction. When the \"patient\" exceeded the very small knowledge base, ELIZA might provide a generic response, for example, responding to \"My head hurts\" with \"Why do you say your head hurts?\". <a href=\"/w/index.php?title=Ross_Quillian&amp;action=edit&amp;redlink=1\" class=\"new\" title=\"Ross Quillian (page does not exist)\">Ross Quillian</a>\\'s successful work on natural language was demonstrated with a vocabulary of only <i>twenty</i> words, because that was all that would fit in a computer  memory at the time.<sup id=\"cite_ref-4\" class=\"reference\"><a href=\"#cite_note-4\"><span class=\"cite-bracket\">&#91;</span>4<span class=\"cite-bracket\">&#93;</span></a></sup></li></ul>\\n<ul><li><b>1970s</b>: During the 1970s, many programmers began to write \"conceptual <a href=\"/wiki/Ontology_(information_science)\" title=\"Ontology (information science)\">ontologies</a>\", which structured real-world information into computer-understandable data.  Examples are MARGIE (Schank, 1975), SAM (Cullingford, 1978), PAM (Wilensky, 1978), TaleSpin (Meehan, 1976), QUALM (Lehnert, 1977), Politics (Carbonell, 1979), and Plot Units (Lehnert 1981).  During this time, the first <a href=\"/wiki/Chatterbots\" class=\"mw-redirect\" title=\"Chatterbots\">chatterbots</a> were written (e.g., <a href=\"/wiki/PARRY\" title=\"PARRY\">PARRY</a>).</li>\\n<li><b>1980s</b>: The 1980s and early 1990s mark the heyday of symbolic methods in NLP. Focus areas of the time included research on rule-based parsing (e.g., the development of <a href=\"/wiki/Head-driven_phrase_structure_grammar\" title=\"Head-driven phrase structure grammar\">HPSG</a> as a computational operationalization of <a href=\"/wiki/Generative_grammar\" title=\"Generative grammar\">generative grammar</a>), morphology (e.g., two-level morphology<sup id=\"cite_ref-5\" class=\"reference\"><a href=\"#cite_note-5\"><span class=\"cite-bracket\">&#91;</span>5<span class=\"cite-bracket\">&#93;</span></a></sup>), semantics (e.g., <a href=\"/wiki/Lesk_algorithm\" title=\"Lesk algorithm\">Lesk algorithm</a>), reference (e.g., within Centering Theory<sup id=\"cite_ref-6\" class=\"reference\"><a href=\"#cite_note-6\"><span class=\"cite-bracket\">&#91;</span>6<span class=\"cite-bracket\">&#93;</span></a></sup>) and other areas of natural language understanding (e.g., in the <a href=\"/wiki/Rhetorical_structure_theory\" title=\"Rhetorical structure theory\">Rhetorical Structure Theory</a>). Other lines of research were continued, e.g., the development of chatterbots with <a href=\"/wiki/Racter\" title=\"Racter\">Racter</a> and <a href=\"/wiki/Jabberwacky\" title=\"Jabberwacky\">Jabberwacky</a>. An important development (that eventually led to the statistical turn in the 1990s) was the rising importance of quantitative evaluation in this period.<sup id=\"cite_ref-7\" class=\"reference\"><a href=\"#cite_note-7\"><span class=\"cite-bracket\">&#91;</span>7<span class=\"cite-bracket\">&#93;</span></a></sup></li></ul>\\n<div class=\"mw-heading mw-heading3\"><h3 id=\"Statistical_NLP_(1990s–present)\"><span id=\"Statistical_NLP_.281990s.E2.80.93present.29\"></span>Statistical NLP (1990s–present)</h3><span class=\"mw-editsection\"><span class=\"mw-editsection-bracket\">[</span><a href=\"/w/index.php?title=Natural_language_processing&amp;action=edit&amp;section=3\" title=\"Edit section: Statistical NLP (1990s–present)\"><span>edit</span></a><span class=\"mw-editsection-bracket\">]</span></span></div>\\n<p>Up until the 1980s, most natural language processing systems were based on complex sets of hand-written rules.  Starting in the late 1980s, however, there was a revolution in natural language processing with the introduction of <a href=\"/wiki/Machine_learning\" title=\"Machine learning\">machine learning</a> algorithms for language processing.  This was due to both the steady increase in computational power (see <a href=\"/wiki/Moore%27s_law\" title=\"Moore&#39;s law\">Moore\\'s law</a>) and the gradual lessening of the dominance of <a href=\"/wiki/Noam_Chomsky\" title=\"Noam Chomsky\">Chomskyan</a> theories of linguistics (e.g. <a href=\"/wiki/Transformational_grammar\" title=\"Transformational grammar\">transformational grammar</a>), whose theoretical underpinnings discouraged the sort of <a href=\"/wiki/Corpus_linguistics\" title=\"Corpus linguistics\">corpus linguistics</a> that underlies the machine-learning approach to language processing.<sup id=\"cite_ref-8\" class=\"reference\"><a href=\"#cite_note-8\"><span class=\"cite-bracket\">&#91;</span>8<span class=\"cite-bracket\">&#93;</span></a></sup> \\n</p>\\n<ul><li><b>1990s</b>: Many of the notable early successes in statistical methods in NLP occurred in the field of <a href=\"/wiki/Machine_translation\" title=\"Machine translation\">machine translation</a>, due especially to work at IBM Research, such as <a href=\"/wiki/IBM_alignment_models\" title=\"IBM alignment models\">IBM alignment models</a>.  These systems were able to take advantage of existing multilingual <a href=\"/wiki/Text_corpus\" title=\"Text corpus\">textual corpora</a> that had been produced by the <a href=\"/wiki/Parliament_of_Canada\" title=\"Parliament of Canada\">Parliament of Canada</a> and the <a href=\"/wiki/European_Union\" title=\"European Union\">European Union</a> as a result of laws calling for the translation of all governmental proceedings into all official languages of the corresponding systems of government.  However, most other systems depended on corpora specifically developed for the tasks implemented by these systems, which was (and often continues to be) a major limitation in the success of these systems. As a result, a great deal of research has gone into methods of more effectively learning from limited amounts of data.</li>\\n<li><b>2000s</b>: With the growth of the web, increasing amounts of raw (unannotated) language data have become available since the mid-1990s. Research has thus increasingly focused on <a href=\"/wiki/Unsupervised_learning\" title=\"Unsupervised learning\">unsupervised</a> and <a href=\"/wiki/Semi-supervised_learning\" class=\"mw-redirect\" title=\"Semi-supervised learning\">semi-supervised learning</a> algorithms.  Such algorithms can learn from data that has not been hand-annotated with the desired answers or using a combination of annotated and non-annotated data.  Generally, this task is much more difficult than <a href=\"/wiki/Supervised_learning\" title=\"Supervised learning\">supervised learning</a>, and typically produces less accurate results for a given amount of input data.  However, there is an enormous amount of non-annotated data available (including, among other things, the entire content of the <a href=\"/wiki/World_Wide_Web\" title=\"World Wide Web\">World Wide Web</a>), which can often make up for the worse efficiency if the algorithm used has a low enough <a href=\"/wiki/Time_complexity\" title=\"Time complexity\">time complexity</a> to be practical.</li>\\n<li><b>2003:</b> <a href=\"/wiki/Word_n-gram_language_model\" title=\"Word n-gram language model\">word n-gram model</a>, at the time the best statistical algorithm, is outperformed by a <a href=\"/wiki/Multi-layer_perceptron\" class=\"mw-redirect\" title=\"Multi-layer perceptron\">multi-layer perceptron</a> (with a single hidden layer and <a href=\"/w/index.php?title=Context_length&amp;action=edit&amp;redlink=1\" class=\"new\" title=\"Context length (page does not exist)\">context length</a> of several words, trained on up to 14 million words, by <a href=\"/wiki/Yoshua_Bengio\" title=\"Yoshua Bengio\">Bengio</a> et al.)<sup id=\"cite_ref-9\" class=\"reference\"><a href=\"#cite_note-9\"><span class=\"cite-bracket\">&#91;</span>9<span class=\"cite-bracket\">&#93;</span></a></sup></li>\\n<li><b>2010:</b> <a href=\"/wiki/Tom%C3%A1%C5%A1_Mikolov\" title=\"Tomáš Mikolov\">Tomáš Mikolov</a> (then a PhD student at <a href=\"/wiki/Brno_University_of_Technology\" title=\"Brno University of Technology\">Brno University of Technology</a>) with co-authors applied a simple <a href=\"/wiki/Recurrent_neural_network\" title=\"Recurrent neural network\">recurrent neural network</a> with a single hidden layer to language modelling,<sup id=\"cite_ref-10\" class=\"reference\"><a href=\"#cite_note-10\"><span class=\"cite-bracket\">&#91;</span>10<span class=\"cite-bracket\">&#93;</span></a></sup> and in the following years he went on to develop <a href=\"/wiki/Word2vec\" title=\"Word2vec\">Word2vec</a>. In the 2010s, <a href=\"/wiki/Representation_learning\" class=\"mw-redirect\" title=\"Representation learning\">representation learning</a> and <a href=\"/wiki/Deep_learning\" title=\"Deep learning\">deep neural network</a>-style (featuring many hidden layers) machine learning methods became widespread in natural language processing. That popularity was due partly to a flurry of results showing that such techniques<sup id=\"cite_ref-goldberg:nnlp17_11-0\" class=\"reference\"><a href=\"#cite_note-goldberg:nnlp17-11\"><span class=\"cite-bracket\">&#91;</span>11<span class=\"cite-bracket\">&#93;</span></a></sup><sup id=\"cite_ref-goodfellow:book16_12-0\" class=\"reference\"><a href=\"#cite_note-goodfellow:book16-12\"><span class=\"cite-bracket\">&#91;</span>12<span class=\"cite-bracket\">&#93;</span></a></sup> can achieve state-of-the-art results in many natural language tasks, e.g., in <a href=\"/wiki/Language_modeling\" class=\"mw-redirect\" title=\"Language modeling\">language modeling</a><sup id=\"cite_ref-jozefowicz:lm16_13-0\" class=\"reference\"><a href=\"#cite_note-jozefowicz:lm16-13\"><span class=\"cite-bracket\">&#91;</span>13<span class=\"cite-bracket\">&#93;</span></a></sup> and parsing.<sup id=\"cite_ref-choe:emnlp16_14-0\" class=\"reference\"><a href=\"#cite_note-choe:emnlp16-14\"><span class=\"cite-bracket\">&#91;</span>14<span class=\"cite-bracket\">&#93;</span></a></sup><sup id=\"cite_ref-vinyals:nips15_15-0\" class=\"reference\"><a href=\"#cite_note-vinyals:nips15-15\"><span class=\"cite-bracket\">&#91;</span>15<span class=\"cite-bracket\">&#93;</span></a></sup> This is increasingly important <a href=\"/wiki/Artificial_intelligence_in_healthcare\" title=\"Artificial intelligence in healthcare\">in medicine and healthcare</a>, where NLP helps analyze notes and text in <a href=\"/wiki/Electronic_health_record\" title=\"Electronic health record\">electronic health records</a> that would otherwise be inaccessible for study when seeking to improve care<sup id=\"cite_ref-16\" class=\"reference\"><a href=\"#cite_note-16\"><span class=\"cite-bracket\">&#91;</span>16<span class=\"cite-bracket\">&#93;</span></a></sup> or protect patient privacy.<sup id=\"cite_ref-17\" class=\"reference\"><a href=\"#cite_note-17\"><span class=\"cite-bracket\">&#91;</span>17<span class=\"cite-bracket\">&#93;</span></a></sup></li></ul>\\n<div class=\"mw-heading mw-heading2\"><h2 id=\"Approaches:_Symbolic,_statistical,_neural_networks\"><span id=\"Approaches:_Symbolic.2C_statistical.2C_neural_networks\"></span>Approaches: Symbolic, statistical, neural networks<span class=\"anchor\" id=\"Statistical_natural_language_processing_(SNLP)\"></span></h2><span class=\"mw-editsection\"><span class=\"mw-editsection-bracket\">[</span><a href=\"/w/index.php?title=Natural_language_processing&amp;action=edit&amp;section=4\" title=\"Edit section: Approaches: Symbolic, statistical, neural networks\"><span>edit</span></a><span class=\"mw-editsection-bracket\">]</span></span></div>\\n<p>Symbolic approach, i.e., the hand-coding of a set of rules for manipulating symbols, coupled with a dictionary lookup, was historically the first approach used both by AI in general and by NLP in particular:<sup id=\"cite_ref-winograd:shrdlu71_18-0\" class=\"reference\"><a href=\"#cite_note-winograd:shrdlu71-18\"><span class=\"cite-bracket\">&#91;</span>18<span class=\"cite-bracket\">&#93;</span></a></sup><sup id=\"cite_ref-schank77_19-0\" class=\"reference\"><a href=\"#cite_note-schank77-19\"><span class=\"cite-bracket\">&#91;</span>19<span class=\"cite-bracket\">&#93;</span></a></sup> such as by writing grammars or devising heuristic rules for <a href=\"/wiki/Stemming\" title=\"Stemming\">stemming</a>.\\n</p><p><a href=\"/wiki/Machine_learning\" title=\"Machine learning\">Machine learning</a> approaches, which include both statistical and neural networks, on the other hand, have many advantages over the symbolic approach: \\n</p>\\n<ul><li>both statistical and neural networks methods can focus more on the most common cases extracted from a corpus of texts, whereas the rule-based approach needs to provide rules for both rare cases and common ones equally.</li></ul>\\n<ul><li><a href=\"/wiki/Language_model\" title=\"Language model\">language models</a>, produced by either statistical or neural networks methods, are more robust to both unfamiliar (e.g. containing words or structures that have not been seen before) and erroneous input (e.g. with misspelled words or words accidentally omitted) in comparison to the rule-based systems, which are also more costly to produce.</li></ul>\\n<ul><li>the larger such a (probabilistic) language model is, the more accurate it becomes, in contrast to rule-based systems that can gain accuracy only by increasing the amount and complexity of the rules leading to <a href=\"/wiki/Intractable_problem\" class=\"mw-redirect\" title=\"Intractable problem\">intractability</a> problems.</li></ul>\\n<p>Rule-based systems are commonly used:\\n</p>\\n<ul><li>when the amount of training data is insufficient to successfully apply machine learning methods, e.g., for the machine translation of low-resource languages such as provided by the <a href=\"/wiki/Apertium\" title=\"Apertium\">Apertium</a> system,</li>\\n<li>for preprocessing in NLP pipelines, e.g., <a href=\"/wiki/Tokenization_(lexical_analysis)\" class=\"mw-redirect\" title=\"Tokenization (lexical analysis)\">tokenization</a>, or</li>\\n<li>for postprocessing and transforming the output of NLP pipelines, e.g., for <a href=\"/wiki/Knowledge_extraction\" title=\"Knowledge extraction\">knowledge extraction</a> from syntactic parses.</li></ul>\\n<div class=\"mw-heading mw-heading3\"><h3 id=\"Statistical_approach\">Statistical approach</h3><span class=\"mw-editsection\"><span class=\"mw-editsection-bracket\">[</span><a href=\"/w/index.php?title=Natural_language_processing&amp;action=edit&amp;section=5\" title=\"Edit section: Statistical approach\"><span>edit</span></a><span class=\"mw-editsection-bracket\">]</span></span></div>\\n<p>In the late 1980s and mid-1990s, the statistical approach ended a period of <a href=\"/wiki/AI_winter\" title=\"AI winter\">AI winter</a>, which was caused by the inefficiencies of the rule-based approaches.<sup id=\"cite_ref-johnson:eacl:ilcl09_20-0\" class=\"reference\"><a href=\"#cite_note-johnson:eacl:ilcl09-20\"><span class=\"cite-bracket\">&#91;</span>20<span class=\"cite-bracket\">&#93;</span></a></sup><sup id=\"cite_ref-resnik:langlog11_21-0\" class=\"reference\"><a href=\"#cite_note-resnik:langlog11-21\"><span class=\"cite-bracket\">&#91;</span>21<span class=\"cite-bracket\">&#93;</span></a></sup>\\n</p><p>The earliest <a href=\"/wiki/Decision_tree\" title=\"Decision tree\">decision trees</a>, producing systems of hard <a href=\"/wiki/Conditional_(computer_programming)#If–then(–else)\" title=\"Conditional (computer programming)\">if–then rules</a>, were still very similar to the old rule-based approaches.\\nOnly the introduction of hidden <a href=\"/wiki/Markov_model\" title=\"Markov model\">Markov models</a>, applied to part-of-speech tagging, announced the end of the old rule-based approach.\\n</p>\\n<div class=\"mw-heading mw-heading3\"><h3 id=\"Neural_networks\">Neural networks</h3><span class=\"mw-editsection\"><span class=\"mw-editsection-bracket\">[</span><a href=\"/w/index.php?title=Natural_language_processing&amp;action=edit&amp;section=6\" title=\"Edit section: Neural networks\"><span>edit</span></a><span class=\"mw-editsection-bracket\">]</span></span></div>\\n<link rel=\"mw-deduplicated-inline-style\" href=\"mw-data:TemplateStyles:r1236090951\" /><div role=\"note\" class=\"hatnote navigation-not-searchable\">Further information: <a href=\"/wiki/Artificial_neural_network\" class=\"mw-redirect\" title=\"Artificial neural network\">Artificial neural network</a></div>\\n<p>A major drawback of statistical methods is that they require elaborate <a href=\"/wiki/Feature_engineering\" title=\"Feature engineering\">feature engineering</a>. Since 2015,<sup id=\"cite_ref-22\" class=\"reference\"><a href=\"#cite_note-22\"><span class=\"cite-bracket\">&#91;</span>22<span class=\"cite-bracket\">&#93;</span></a></sup> the statistical approach has been replaced by the <a href=\"/wiki/Artificial_neural_network\" class=\"mw-redirect\" title=\"Artificial neural network\">neural networks</a> approach, using <a href=\"/wiki/Semantic_networks\" class=\"mw-redirect\" title=\"Semantic networks\">semantic networks</a><sup id=\"cite_ref-23\" class=\"reference\"><a href=\"#cite_note-23\"><span class=\"cite-bracket\">&#91;</span>23<span class=\"cite-bracket\">&#93;</span></a></sup> and <a href=\"/wiki/Word_embedding\" title=\"Word embedding\">word embeddings</a> to capture semantic properties of words.  \\n</p><p>Intermediate tasks (e.g., part-of-speech tagging and dependency parsing) are not needed anymore. \\n</p><p><a href=\"/wiki/Neural_machine_translation\" title=\"Neural machine translation\">Neural machine translation</a>, based on then-newly invented <a href=\"/wiki/Seq2seq\" title=\"Seq2seq\">sequence-to-sequence</a> transformations, made obsolete the intermediate steps, such as word alignment, previously necessary for <a href=\"/wiki/Statistical_machine_translation\" title=\"Statistical machine translation\">statistical machine translation</a>.\\n</p>\\n<div class=\"mw-heading mw-heading2\"><h2 id=\"Common_NLP_tasks\">Common NLP tasks</h2><span class=\"mw-editsection\"><span class=\"mw-editsection-bracket\">[</span><a href=\"/w/index.php?title=Natural_language_processing&amp;action=edit&amp;section=7\" title=\"Edit section: Common NLP tasks\"><span>edit</span></a><span class=\"mw-editsection-bracket\">]</span></span></div>\\n<p>The following is a list of some of the most commonly researched tasks in natural language processing. Some of these tasks have direct real-world applications, while others more commonly serve as subtasks that are used to aid in solving larger tasks.\\n</p><p>Though natural language processing tasks are closely intertwined, they can be subdivided into categories for convenience. A coarse division is given below.\\n</p>\\n<div class=\"mw-heading mw-heading3\"><h3 id=\"Text_and_speech_processing\">Text and speech processing</h3><span class=\"mw-editsection\"><span class=\"mw-editsection-bracket\">[</span><a href=\"/w/index.php?title=Natural_language_processing&amp;action=edit&amp;section=8\" title=\"Edit section: Text and speech processing\"><span>edit</span></a><span class=\"mw-editsection-bracket\">]</span></span></div>\\n<dl><dt><a href=\"/wiki/Optical_character_recognition\" title=\"Optical character recognition\">Optical character recognition</a> (OCR)</dt>\\n<dd>Given an image representing printed text, determine the corresponding text.</dd></dl>\\n<dl><dt><a href=\"/wiki/Speech_recognition\" title=\"Speech recognition\">Speech recognition</a></dt>\\n<dd>Given a sound clip of a person or people speaking, determine the textual representation of the speech.  This is the opposite of <a href=\"/wiki/Text_to_speech\" class=\"mw-redirect\" title=\"Text to speech\">text to speech</a> and is one of the extremely difficult problems colloquially termed \"<a href=\"/wiki/AI-complete\" title=\"AI-complete\">AI-complete</a>\" (see above).  In <a href=\"/wiki/Natural_speech\" class=\"mw-redirect\" title=\"Natural speech\">natural speech</a> there are hardly any pauses between successive words, and thus <a href=\"/wiki/Speech_segmentation\" title=\"Speech segmentation\">speech segmentation</a> is a necessary subtask of speech recognition (see below). In most spoken languages, the sounds representing successive letters blend into each other in a process termed <a href=\"/wiki/Coarticulation\" title=\"Coarticulation\">coarticulation</a>, so the conversion of the <a href=\"/wiki/Analog_signal\" title=\"Analog signal\">analog signal</a> to discrete characters can be a very difficult process. Also, given that words in the same language are spoken by people with different accents, the speech recognition software must be able to recognize the wide variety of input as being identical to each other in terms of its textual equivalent.</dd>\\n<dt><a href=\"/wiki/Speech_segmentation\" title=\"Speech segmentation\">Speech segmentation</a></dt>\\n<dd>Given a sound clip of a person or people speaking, separate it into words.  A subtask of <a href=\"/wiki/Speech_recognition\" title=\"Speech recognition\">speech recognition</a> and typically grouped with it.</dd></dl>\\n<dl><dt><a href=\"/wiki/Text-to-speech\" class=\"mw-redirect\" title=\"Text-to-speech\">Text-to-speech</a></dt>\\n<dd>Given a text, transform those units and produce a spoken representation. Text-to-speech can be used to aid the visually impaired.<sup id=\"cite_ref-24\" class=\"reference\"><a href=\"#cite_note-24\"><span class=\"cite-bracket\">&#91;</span>24<span class=\"cite-bracket\">&#93;</span></a></sup></dd></dl>\\n<dl><dt><a href=\"/wiki/Word_segmentation\" class=\"mw-redirect\" title=\"Word segmentation\">Word segmentation</a> (<a href=\"/wiki/Tokenization_(lexical_analysis)\" class=\"mw-redirect\" title=\"Tokenization (lexical analysis)\">Tokenization</a>)</dt>\\n<dd>Tokenization is a process used in text analysis that divides text into individual words or word fragments. This technique results in two key components: a word index and tokenized text. The word index is a list that maps unique words to specific numerical identifiers, and the tokenized text replaces each word with its corresponding numerical token. These numerical tokens are then used in various deep learning methods.<sup id=\"cite_ref-:0_25-0\" class=\"reference\"><a href=\"#cite_note-:0-25\"><span class=\"cite-bracket\">&#91;</span>25<span class=\"cite-bracket\">&#93;</span></a></sup></dd>\\n<dd>For a language like <a href=\"/wiki/English_language\" title=\"English language\">English</a>, this is fairly trivial, since words are usually separated by spaces. However, some written languages like <a href=\"/wiki/Chinese_language\" title=\"Chinese language\">Chinese</a>, <a href=\"/wiki/Japanese_language\" title=\"Japanese language\">Japanese</a> and <a href=\"/wiki/Thai_language\" title=\"Thai language\">Thai</a> do not mark word boundaries in such a fashion, and in those languages text segmentation is a significant task requiring knowledge of the <a href=\"/wiki/Vocabulary\" title=\"Vocabulary\">vocabulary</a> and <a href=\"/wiki/Morphology_(linguistics)\" title=\"Morphology (linguistics)\">morphology</a> of words in the language. Sometimes this process is also used in cases like <a href=\"/wiki/Bag_of_words\" class=\"mw-redirect\" title=\"Bag of words\">bag of words</a> (BOW) creation in data mining.<sup class=\"noprint Inline-Template Template-Fact\" style=\"white-space:nowrap;\">&#91;<i><a href=\"/wiki/Wikipedia:Citation_needed\" title=\"Wikipedia:Citation needed\"><span title=\"This claim needs references to reliable sources. (May 2024)\">citation needed</span></a></i>&#93;</sup></dd></dl>\\n<div class=\"mw-heading mw-heading3\"><h3 id=\"Morphological_analysis\">Morphological analysis</h3><span class=\"mw-editsection\"><span class=\"mw-editsection-bracket\">[</span><a href=\"/w/index.php?title=Natural_language_processing&amp;action=edit&amp;section=9\" title=\"Edit section: Morphological analysis\"><span>edit</span></a><span class=\"mw-editsection-bracket\">]</span></span></div>\\n<dl><dt><a href=\"/wiki/Lemmatisation\" class=\"mw-redirect\" title=\"Lemmatisation\">Lemmatization</a></dt>\\n<dd>The task of removing inflectional endings only and to return the base dictionary form of a word which is also known as a lemma. Lemmatization is another technique for reducing words to their normalized form. But in this case, the transformation actually uses a dictionary to map words to their actual form.<sup id=\"cite_ref-26\" class=\"reference\"><a href=\"#cite_note-26\"><span class=\"cite-bracket\">&#91;</span>26<span class=\"cite-bracket\">&#93;</span></a></sup></dd>\\n<dt><a href=\"/wiki/Morphology_(linguistics)\" title=\"Morphology (linguistics)\">Morphological segmentation</a></dt>\\n<dd>Separate words into individual <a href=\"/wiki/Morpheme\" title=\"Morpheme\">morphemes</a> and identify the class of the morphemes. The difficulty of this task depends greatly on the complexity of the <a href=\"/wiki/Morphology_(linguistics)\" title=\"Morphology (linguistics)\">morphology</a> (<i>i.e.</i>, the structure of words) of the language being considered. <a href=\"/wiki/English_language\" title=\"English language\">English</a> has fairly simple morphology, especially <a href=\"/wiki/Inflectional_morphology\" class=\"mw-redirect\" title=\"Inflectional morphology\">inflectional morphology</a>, and thus it is often possible to ignore this task entirely and simply model all possible forms of a word (e.g., \"open, opens, opened, opening\") as separate words. In languages such as <a href=\"/wiki/Turkish_language\" title=\"Turkish language\">Turkish</a> or <a href=\"/wiki/Meitei_language\" title=\"Meitei language\">Meitei</a>, a highly <a href=\"/wiki/Agglutination\" title=\"Agglutination\">agglutinated</a> Indian language, however, such an approach is not possible, as each dictionary entry has thousands of possible word forms.<sup id=\"cite_ref-27\" class=\"reference\"><a href=\"#cite_note-27\"><span class=\"cite-bracket\">&#91;</span>27<span class=\"cite-bracket\">&#93;</span></a></sup></dd>\\n<dt><a href=\"/wiki/Part-of-speech_tagging\" title=\"Part-of-speech tagging\">Part-of-speech tagging</a></dt>\\n<dd>Given a sentence, determine the <a href=\"/wiki/Part_of_speech\" title=\"Part of speech\">part of speech</a> (POS) for each word. Many words, especially common ones, can serve as multiple parts of speech. For example, \"book\" can be a <a href=\"/wiki/Noun\" title=\"Noun\">noun</a> (\"the book on the table\") or <a href=\"/wiki/Verb\" title=\"Verb\">verb</a> (\"to book a flight\"); \"set\" can be a noun, verb or <a href=\"/wiki/Adjective\" title=\"Adjective\">adjective</a>; and \"out\" can be any of at least five different parts of speech.</dd></dl>\\n<dl><dt><a href=\"/wiki/Stemming\" title=\"Stemming\">Stemming</a></dt>\\n<dd>The process of reducing inflected (or sometimes derived) words to a base form (e.g., \"close\" will be the root for \"closed\", \"closing\", \"close\", \"closer\" etc.). Stemming yields similar results as lemmatization, but does so on grounds of rules, not a dictionary.</dd></dl>\\n<div class=\"mw-heading mw-heading3\"><h3 id=\"Syntactic_analysis\">Syntactic analysis</h3><span class=\"mw-editsection\"><span class=\"mw-editsection-bracket\">[</span><a href=\"/w/index.php?title=Natural_language_processing&amp;action=edit&amp;section=10\" title=\"Edit section: Syntactic analysis\"><span>edit</span></a><span class=\"mw-editsection-bracket\">]</span></span></div>\\n<style data-mw-deduplicate=\"TemplateStyles:r1129693374\">.mw-parser-output .hlist dl,.mw-parser-output .hlist ol,.mw-parser-output .hlist ul{margin:0;padding:0}.mw-parser-output .hlist dd,.mw-parser-output .hlist dt,.mw-parser-output .hlist li{margin:0;display:inline}.mw-parser-output .hlist.inline,.mw-parser-output .hlist.inline dl,.mw-parser-output .hlist.inline ol,.mw-parser-output .hlist.inline ul,.mw-parser-output .hlist dl dl,.mw-parser-output .hlist dl ol,.mw-parser-output .hlist dl ul,.mw-parser-output .hlist ol dl,.mw-parser-output .hlist ol ol,.mw-parser-output .hlist ol ul,.mw-parser-output .hlist ul dl,.mw-parser-output .hlist ul ol,.mw-parser-output .hlist ul ul{display:inline}.mw-parser-output .hlist .mw-empty-li{display:none}.mw-parser-output .hlist dt::after{content:\": \"}.mw-parser-output .hlist dd::after,.mw-parser-output .hlist li::after{content:\" · \";font-weight:bold}.mw-parser-output .hlist dd:last-child::after,.mw-parser-output .hlist dt:last-child::after,.mw-parser-output .hlist li:last-child::after{content:none}.mw-parser-output .hlist dd dd:first-child::before,.mw-parser-output .hlist dd dt:first-child::before,.mw-parser-output .hlist dd li:first-child::before,.mw-parser-output .hlist dt dd:first-child::before,.mw-parser-output .hlist dt dt:first-child::before,.mw-parser-output .hlist dt li:first-child::before,.mw-parser-output .hlist li dd:first-child::before,.mw-parser-output .hlist li dt:first-child::before,.mw-parser-output .hlist li li:first-child::before{content:\" (\";font-weight:normal}.mw-parser-output .hlist dd dd:last-child::after,.mw-parser-output .hlist dd dt:last-child::after,.mw-parser-output .hlist dd li:last-child::after,.mw-parser-output .hlist dt dd:last-child::after,.mw-parser-output .hlist dt dt:last-child::after,.mw-parser-output .hlist dt li:last-child::after,.mw-parser-output .hlist li dd:last-child::after,.mw-parser-output .hlist li dt:last-child::after,.mw-parser-output .hlist li li:last-child::after{content:\")\";font-weight:normal}.mw-parser-output .hlist ol{counter-reset:listitem}.mw-parser-output .hlist ol>li{counter-increment:listitem}.mw-parser-output .hlist ol>li::before{content:\" \"counter(listitem)\"\\\\a0 \"}.mw-parser-output .hlist dd ol>li:first-child::before,.mw-parser-output .hlist dt ol>li:first-child::before,.mw-parser-output .hlist li ol>li:first-child::before{content:\" (\"counter(listitem)\"\\\\a0 \"}</style><style data-mw-deduplicate=\"TemplateStyles:r1246091330\">.mw-parser-output .sidebar{width:22em;float:right;clear:right;margin:0.5em 0 1em 1em;background:var(--background-color-neutral-subtle,#f8f9fa);border:1px solid var(--border-color-base,#a2a9b1);padding:0.2em;text-align:center;line-height:1.4em;font-size:88%;border-collapse:collapse;display:table}body.skin-minerva .mw-parser-output .sidebar{display:table!important;float:right!important;margin:0.5em 0 1em 1em!important}.mw-parser-output .sidebar-subgroup{width:100%;margin:0;border-spacing:0}.mw-parser-output .sidebar-left{float:left;clear:left;margin:0.5em 1em 1em 0}.mw-parser-output .sidebar-none{float:none;clear:both;margin:0.5em 1em 1em 0}.mw-parser-output .sidebar-outer-title{padding:0 0.4em 0.2em;font-size:125%;line-height:1.2em;font-weight:bold}.mw-parser-output .sidebar-top-image{padding:0.4em}.mw-parser-output .sidebar-top-caption,.mw-parser-output .sidebar-pretitle-with-top-image,.mw-parser-output .sidebar-caption{padding:0.2em 0.4em 0;line-height:1.2em}.mw-parser-output .sidebar-pretitle{padding:0.4em 0.4em 0;line-height:1.2em}.mw-parser-output .sidebar-title,.mw-parser-output .sidebar-title-with-pretitle{padding:0.2em 0.8em;font-size:145%;line-height:1.2em}.mw-parser-output .sidebar-title-with-pretitle{padding:0.1em 0.4em}.mw-parser-output .sidebar-image{padding:0.2em 0.4em 0.4em}.mw-parser-output .sidebar-heading{padding:0.1em 0.4em}.mw-parser-output .sidebar-content{padding:0 0.5em 0.4em}.mw-parser-output .sidebar-content-with-subgroup{padding:0.1em 0.4em 0.2em}.mw-parser-output .sidebar-above,.mw-parser-output .sidebar-below{padding:0.3em 0.8em;font-weight:bold}.mw-parser-output .sidebar-collapse .sidebar-above,.mw-parser-output .sidebar-collapse .sidebar-below{border-top:1px solid #aaa;border-bottom:1px solid #aaa}.mw-parser-output .sidebar-navbar{text-align:right;font-size:115%;padding:0 0.4em 0.4em}.mw-parser-output .sidebar-list-title{padding:0 0.4em;text-align:left;font-weight:bold;line-height:1.6em;font-size:105%}.mw-parser-output .sidebar-list-title-c{padding:0 0.4em;text-align:center;margin:0 3.3em}@media(max-width:640px){body.mediawiki .mw-parser-output .sidebar{width:100%!important;clear:both;float:none!important;margin-left:0!important;margin-right:0!important}}body.skin--responsive .mw-parser-output .sidebar a>img{max-width:none!important}@media screen{html.skin-theme-clientpref-night .mw-parser-output .sidebar:not(.notheme) .sidebar-list-title,html.skin-theme-clientpref-night .mw-parser-output .sidebar:not(.notheme) .sidebar-title-with-pretitle{background:transparent!important}html.skin-theme-clientpref-night .mw-parser-output .sidebar:not(.notheme) .sidebar-title-with-pretitle a{color:var(--color-progressive)!important}}@media screen and (prefers-color-scheme:dark){html.skin-theme-clientpref-os .mw-parser-output .sidebar:not(.notheme) .sidebar-list-title,html.skin-theme-clientpref-os .mw-parser-output .sidebar:not(.notheme) .sidebar-title-with-pretitle{background:transparent!important}html.skin-theme-clientpref-os .mw-parser-output .sidebar:not(.notheme) .sidebar-title-with-pretitle a{color:var(--color-progressive)!important}}@media print{body.ns-0 .mw-parser-output .sidebar{display:none!important}}</style><table class=\"sidebar sidebar-collapse nomobile nowraplinks hlist\"><tbody><tr><td class=\"sidebar-pretitle\">Part of <a href=\"/wiki/Category:Formal_languages\" title=\"Category:Formal languages\"><i>a series</i></a> on</td></tr><tr><th class=\"sidebar-title-with-pretitle\"><a href=\"/wiki/Formal_languages\" class=\"mw-redirect\" title=\"Formal languages\">Formal languages</a></th></tr><tr><td class=\"sidebar-content\" style=\"padding-top:0.2em;\">\\n<div class=\"sidebar-list mw-collapsible\"><div class=\"sidebar-list-title\" style=\"background:#ddddff;text-align:center;;color: var(--color-base)\"><div class=\"sidebar-list-title-c\">Key concepts</div></div><div class=\"sidebar-list-content mw-collapsible-content\">\\n<ul><li><a href=\"/wiki/Formal_system\" title=\"Formal system\">Formal system</a></li>\\n<li><a href=\"/wiki/Alphabet_(formal_languages)\" title=\"Alphabet (formal languages)\">Alphabet</a></li>\\n<li><a href=\"/wiki/Syntax_(logic)\" title=\"Syntax (logic)\">Syntax</a></li>\\n<li><a href=\"/wiki/Semantics_of_logic\" title=\"Semantics of logic\">Formal semantics</a></li>\\n<li><a href=\"/wiki/Semantics_(computer_science)\" title=\"Semantics (computer science)\">Semantics (programming languages)</a></li>\\n<li><a href=\"/wiki/Formal_grammar\" title=\"Formal grammar\">Formal grammar</a></li>\\n<li><a href=\"/wiki/Formation_rule\" title=\"Formation rule\">Formation rule</a></li>\\n<li><a href=\"/wiki/Well-formed_formula\" title=\"Well-formed formula\">Well-formed formula</a></li>\\n<li><a href=\"/wiki/Automata_theory\" title=\"Automata theory\">Automata theory</a></li>\\n<li><a href=\"/wiki/Regular_expression\" title=\"Regular expression\">Regular expression</a></li>\\n<li><a href=\"/wiki/Production_(computer_science)\" title=\"Production (computer science)\">Production</a></li>\\n<li><a href=\"/wiki/Ground_expression\" title=\"Ground expression\">Ground expression</a></li>\\n<li><a href=\"/wiki/Atomic_formula\" title=\"Atomic formula\">Atomic formula</a></li></ul></div></div></td>\\n</tr><tr><td class=\"sidebar-content\" style=\"padding-top:0.2em;\">\\n<div class=\"sidebar-list mw-collapsible mw-collapsed\"><div class=\"sidebar-list-title\" style=\"background:#ddddff;text-align:center;;color: var(--color-base)\"><div class=\"sidebar-list-title-c\">Applications</div></div><div class=\"sidebar-list-content mw-collapsible-content\">\\n<ul><li><a href=\"/wiki/Formal_methods\" title=\"Formal methods\">Formal methods</a></li>\\n<li><a href=\"/wiki/Propositional_calculus\" title=\"Propositional calculus\">Propositional calculus</a></li>\\n<li><a href=\"/wiki/Predicate_logic\" class=\"mw-redirect\" title=\"Predicate logic\">Predicate logic</a></li>\\n<li><a href=\"/wiki/Mathematical_notation\" title=\"Mathematical notation\">Mathematical notation</a></li>\\n<li><a class=\"mw-selflink selflink\">Natural language processing</a></li>\\n<li><a href=\"/wiki/Programming_language_theory\" title=\"Programming language theory\">Programming language theory</a></li>\\n<li><a href=\"/wiki/Mathematical_linguistics\" title=\"Mathematical linguistics\">Mathematical linguistics</a></li>\\n<li><a href=\"/wiki/Computational_linguistics\" title=\"Computational linguistics\">Computational linguistics</a></li>\\n<li><a href=\"/wiki/Syntax_analysis\" class=\"mw-redirect\" title=\"Syntax analysis\">Syntax analysis</a></li>\\n<li><a href=\"/wiki/Formal_verification\" title=\"Formal verification\">Formal verification</a></li>\\n<li><a href=\"/wiki/Automated_theorem_proving\" title=\"Automated theorem proving\">Automated theorem proving</a></li></ul></div></div></td>\\n</tr><tr><td class=\"sidebar-navbar\"><link rel=\"mw-deduplicated-inline-style\" href=\"mw-data:TemplateStyles:r1129693374\" /><style data-mw-deduplicate=\"TemplateStyles:r1239400231\">.mw-parser-output .navbar{display:inline;font-size:88%;font-weight:normal}.mw-parser-output .navbar-collapse{float:left;text-align:left}.mw-parser-output .navbar-boxtext{word-spacing:0}.mw-parser-output .navbar ul{display:inline-block;white-space:nowrap;line-height:inherit}.mw-parser-output .navbar-brackets::before{margin-right:-0.125em;content:\"[ \"}.mw-parser-output .navbar-brackets::after{margin-left:-0.125em;content:\" ]\"}.mw-parser-output .navbar li{word-spacing:-0.125em}.mw-parser-output .navbar a>span,.mw-parser-output .navbar a>abbr{text-decoration:inherit}.mw-parser-output .navbar-mini abbr{font-variant:small-caps;border-bottom:none;text-decoration:none;cursor:inherit}.mw-parser-output .navbar-ct-full{font-size:114%;margin:0 7em}.mw-parser-output .navbar-ct-mini{font-size:114%;margin:0 4em}html.skin-theme-clientpref-night .mw-parser-output .navbar li a abbr{color:var(--color-base)!important}@media(prefers-color-scheme:dark){html.skin-theme-clientpref-os .mw-parser-output .navbar li a abbr{color:var(--color-base)!important}}@media print{.mw-parser-output .navbar{display:none!important}}</style><div class=\"navbar plainlinks hlist navbar-mini\"><ul><li class=\"nv-view\"><a href=\"/wiki/Template:Formal_languages\" title=\"Template:Formal languages\"><abbr title=\"View this template\">v</abbr></a></li><li class=\"nv-talk\"><a href=\"/w/index.php?title=Template_talk:Formal_languages&amp;action=edit&amp;redlink=1\" class=\"new\" title=\"Template talk:Formal languages (page does not exist)\"><abbr title=\"Discuss this template\">t</abbr></a></li><li class=\"nv-edit\"><a href=\"/wiki/Special:EditPage/Template:Formal_languages\" title=\"Special:EditPage/Template:Formal languages\"><abbr title=\"Edit this template\">e</abbr></a></li></ul></div></td></tr></tbody></table>\\n<dl><dt><a href=\"/wiki/Grammar_induction\" title=\"Grammar induction\">Grammar induction</a><sup id=\"cite_ref-28\" class=\"reference\"><a href=\"#cite_note-28\"><span class=\"cite-bracket\">&#91;</span>28<span class=\"cite-bracket\">&#93;</span></a></sup></dt>\\n<dd>Generate a <a href=\"/wiki/Formal_grammar\" title=\"Formal grammar\">formal grammar</a> that describes a language\\'s syntax.</dd>\\n<dt><a href=\"/wiki/Sentence_breaking\" class=\"mw-redirect\" title=\"Sentence breaking\">Sentence breaking</a> (also known as \"<a href=\"/wiki/Sentence_boundary_disambiguation\" title=\"Sentence boundary disambiguation\">sentence boundary disambiguation</a>\")</dt>\\n<dd>Given a chunk of text, find the sentence boundaries. Sentence boundaries are often marked by <a href=\"/wiki/Full_stop\" title=\"Full stop\">periods</a> or other <a href=\"/wiki/Punctuation_mark\" class=\"mw-redirect\" title=\"Punctuation mark\">punctuation marks</a>, but these same characters can serve other purposes (e.g., marking <a href=\"/wiki/Abbreviation\" title=\"Abbreviation\">abbreviations</a>).</dd>\\n<dt><a href=\"/wiki/Parsing\" title=\"Parsing\">Parsing</a></dt>\\n<dd>Determine the <a href=\"/wiki/Parse_tree\" title=\"Parse tree\">parse tree</a> (grammatical analysis) of a given sentence. The <a href=\"/wiki/Grammar\" title=\"Grammar\">grammar</a> for <a href=\"/wiki/Natural_language\" title=\"Natural language\">natural languages</a> is <a href=\"/wiki/Ambiguous\" class=\"mw-redirect\" title=\"Ambiguous\">ambiguous</a> and typical sentences have multiple possible analyses: perhaps surprisingly, for a typical sentence there may be thousands of potential parses (most of which will seem completely nonsensical to a human). There are two primary types of parsing: <i>dependency parsing</i> and <i>constituency parsing</i>. Dependency parsing focuses on the relationships between words in a sentence (marking things like primary objects and predicates), whereas constituency parsing focuses on building out the parse tree using a <a href=\"/wiki/Probabilistic_context-free_grammar\" title=\"Probabilistic context-free grammar\">probabilistic context-free grammar</a> (PCFG) (see also <i><a href=\"/wiki/Stochastic_grammar\" title=\"Stochastic grammar\">stochastic grammar</a></i>).</dd></dl>\\n<div class=\"mw-heading mw-heading3\"><h3 id=\"Lexical_semantics_(of_individual_words_in_context)\"><span id=\"Lexical_semantics_.28of_individual_words_in_context.29\"></span>Lexical semantics (of individual words in context)</h3><span class=\"mw-editsection\"><span class=\"mw-editsection-bracket\">[</span><a href=\"/w/index.php?title=Natural_language_processing&amp;action=edit&amp;section=11\" title=\"Edit section: Lexical semantics (of individual words in context)\"><span>edit</span></a><span class=\"mw-editsection-bracket\">]</span></span></div>\\n<dl><dt><a href=\"/wiki/Lexical_semantics\" title=\"Lexical semantics\">Lexical semantics</a></dt>\\n<dd>What is the computational meaning of individual words in context?</dd>\\n<dt><a href=\"/wiki/Distributional_semantics\" title=\"Distributional semantics\">Distributional semantics</a></dt>\\n<dd>How can we learn semantic representations from data?</dd>\\n<dt><a href=\"/wiki/Named_entity_recognition\" class=\"mw-redirect\" title=\"Named entity recognition\">Named entity recognition</a> (NER)</dt>\\n<dd>Given a stream of text, determine which items in the text map to proper names, such as people or places, and what the type of each such name is (e.g. person, location, organization). Although <a href=\"/wiki/Capitalization\" title=\"Capitalization\">capitalization</a> can aid in recognizing named entities in languages such as English, this information cannot aid in determining the type of <a href=\"/wiki/Named_entity\" title=\"Named entity\">named entity</a>, and in any case, is often inaccurate or insufficient.  For example, the first letter of a sentence is also capitalized, and named entities often span several words, only some of which are capitalized.  Furthermore, many other languages in non-Western scripts (e.g. <a href=\"/wiki/Chinese_language\" title=\"Chinese language\">Chinese</a> or <a href=\"/wiki/Arabic_language\" class=\"mw-redirect\" title=\"Arabic language\">Arabic</a>) do not have any capitalization at all, and even languages with capitalization may not consistently use it to distinguish names. For example, <a href=\"/wiki/German_language\" title=\"German language\">German</a> capitalizes all <a href=\"/wiki/Noun\" title=\"Noun\">nouns</a>, regardless of whether they are names, and <a href=\"/wiki/French_language\" title=\"French language\">French</a> and <a href=\"/wiki/Spanish_language\" title=\"Spanish language\">Spanish</a> do not capitalize names that serve as <a href=\"/wiki/Adjective\" title=\"Adjective\">adjectives</a>. Another name for this task is token classification.<sup id=\"cite_ref-29\" class=\"reference\"><a href=\"#cite_note-29\"><span class=\"cite-bracket\">&#91;</span>29<span class=\"cite-bracket\">&#93;</span></a></sup></dd></dl>\\n<dl><dt><a href=\"/wiki/Sentiment_analysis\" title=\"Sentiment analysis\">Sentiment analysis</a> (see also <a href=\"/wiki/Multimodal_sentiment_analysis\" title=\"Multimodal sentiment analysis\">Multimodal sentiment analysis</a>)</dt>\\n<dd>Sentiment analysis is a computational method used to identify and classify the emotional intent behind text. This technique involves analyzing text to determine whether the expressed sentiment is positive, negative, or neutral. Models for sentiment classification typically utilize inputs such as <a href=\"/wiki/Word_n-gram_language_model\" title=\"Word n-gram language model\">word n-grams</a>, <a href=\"/wiki/Term_frequency-inverse_document_frequency\" class=\"mw-redirect\" title=\"Term frequency-inverse document frequency\">Term Frequency-Inverse Document Frequency</a> (TF-IDF) features, hand-generated features, or employ <a href=\"/wiki/Deep_learning\" title=\"Deep learning\">deep learning</a> models designed to recognize both long-term and short-term dependencies in text sequences. The applications of sentiment analysis are diverse, extending to tasks such as categorizing customer reviews on various online platforms.<sup id=\"cite_ref-:0_25-1\" class=\"reference\"><a href=\"#cite_note-:0-25\"><span class=\"cite-bracket\">&#91;</span>25<span class=\"cite-bracket\">&#93;</span></a></sup></dd>\\n<dt><a href=\"/wiki/Terminology_extraction\" title=\"Terminology extraction\">Terminology extraction</a></dt>\\n<dd>The goal of terminology extraction is to automatically extract relevant terms from a given corpus.</dd>\\n<dt><a href=\"/wiki/Word-sense_disambiguation\" title=\"Word-sense disambiguation\">Word-sense disambiguation</a> (WSD)</dt>\\n<dd>Many words have more than one <a href=\"/wiki/Meaning_(linguistics)\" class=\"mw-redirect\" title=\"Meaning (linguistics)\">meaning</a>; we have to select the meaning which makes the most sense in context.  For this problem, we are typically given a list of words and associated word senses, e.g. from a dictionary or an online resource such as <a href=\"/wiki/WordNet\" title=\"WordNet\">WordNet</a>.</dd>\\n<dt><a href=\"/wiki/Entity_linking\" title=\"Entity linking\">Entity linking</a></dt>\\n<dd>Many words—typically proper names—refer to <a href=\"/wiki/Named_entity\" title=\"Named entity\">named entities</a>; here we have to select the entity (a famous individual, a location, a company, etc.) which is referred to in context.</dd></dl>\\n<div class=\"mw-heading mw-heading3\"><h3 id=\"Relational_semantics_(semantics_of_individual_sentences)\"><span id=\"Relational_semantics_.28semantics_of_individual_sentences.29\"></span>Relational semantics (semantics of individual sentences)</h3><span class=\"mw-editsection\"><span class=\"mw-editsection-bracket\">[</span><a href=\"/w/index.php?title=Natural_language_processing&amp;action=edit&amp;section=12\" title=\"Edit section: Relational semantics (semantics of individual sentences)\"><span>edit</span></a><span class=\"mw-editsection-bracket\">]</span></span></div>\\n<dl><dt><a href=\"/wiki/Relationship_extraction\" title=\"Relationship extraction\">Relationship extraction</a></dt>\\n<dd>Given a chunk of text, identify the relationships among named entities (e.g. who is married to whom).</dd>\\n<dt><a href=\"/wiki/Semantic_parsing\" title=\"Semantic parsing\">Semantic parsing</a></dt>\\n<dd>Given a piece of text (typically a sentence), produce a formal representation of its semantics, either as a graph (e.g., in <a href=\"/wiki/Abstract_Meaning_Representation\" title=\"Abstract Meaning Representation\">AMR parsing</a>) or in accordance with a logical formalism (e.g., in <a href=\"/wiki/Discourse_representation_theory\" title=\"Discourse representation theory\">DRT parsing</a>). This challenge typically includes aspects of several more elementary NLP tasks from semantics (e.g., semantic role labelling, word-sense disambiguation) and can be extended to include full-fledged discourse analysis (e.g., discourse analysis, coreference; see <a href=\"#Natural_language_understanding\">Natural language understanding</a> below).</dd>\\n<dt><a href=\"/wiki/Semantic_role_labeling\" title=\"Semantic role labeling\">Semantic role labelling</a> (see also implicit semantic role labelling below)</dt>\\n<dd>Given a single sentence, identify and disambiguate semantic predicates (e.g., verbal <a href=\"/wiki/Frame_semantics_(linguistics)\" title=\"Frame semantics (linguistics)\">frames</a>), then identify and classify the frame elements (<a href=\"/wiki/Semantic_roles\" class=\"mw-redirect\" title=\"Semantic roles\">semantic roles</a>).</dd></dl>\\n<div class=\"mw-heading mw-heading3\"><h3 id=\"Discourse_(semantics_beyond_individual_sentences)\"><span id=\"Discourse_.28semantics_beyond_individual_sentences.29\"></span>Discourse (semantics beyond individual sentences)</h3><span class=\"mw-editsection\"><span class=\"mw-editsection-bracket\">[</span><a href=\"/w/index.php?title=Natural_language_processing&amp;action=edit&amp;section=13\" title=\"Edit section: Discourse (semantics beyond individual sentences)\"><span>edit</span></a><span class=\"mw-editsection-bracket\">]</span></span></div>\\n<dl><dt><a href=\"/wiki/Coreference\" title=\"Coreference\">Coreference resolution</a></dt>\\n<dd>Given a sentence or larger chunk of text, determine which words (\"mentions\") refer to the same objects (\"entities\"). <a href=\"/wiki/Anaphora_resolution\" class=\"mw-redirect\" title=\"Anaphora resolution\">Anaphora resolution</a> is a specific example of this task, and is specifically concerned with matching up <a href=\"/wiki/Pronoun\" title=\"Pronoun\">pronouns</a> with the nouns or names to which they refer. The more general task of coreference resolution also includes identifying so-called \"bridging relationships\" involving <a href=\"/wiki/Referring_expression\" title=\"Referring expression\">referring expressions</a>. For example, in a sentence such as \"He entered John\\'s house through the front door\", \"the front door\" is a referring expression and the bridging relationship to be identified is the fact that the door being referred to is the front door of John\\'s house (rather than of some other structure that might also be referred to).</dd>\\n<dt><a href=\"/wiki/Discourse_analysis\" title=\"Discourse analysis\">Discourse analysis</a></dt>\\n<dd>This rubric includes several related tasks.  One task is discourse parsing, i.e., identifying the <a href=\"/wiki/Discourse\" title=\"Discourse\">discourse</a> structure of a connected text, i.e. the nature of the discourse relationships between sentences (e.g. elaboration, explanation, contrast).  Another possible task is recognizing and classifying the <a href=\"/wiki/Speech_act\" title=\"Speech act\">speech acts</a> in a chunk of text (e.g. yes–no question, content question, statement, assertion, etc.).</dd></dl>\\n<dl><dt><style data-mw-deduplicate=\"TemplateStyles:r1238216509\">.mw-parser-output .vanchor>:target~.vanchor-text{background-color:#b1d2ff}@media screen{html.skin-theme-clientpref-night .mw-parser-output .vanchor>:target~.vanchor-text{background-color:#0f4dc9}}@media screen and (prefers-color-scheme:dark){html.skin-theme-clientpref-os .mw-parser-output .vanchor>:target~.vanchor-text{background-color:#0f4dc9}}</style><span class=\"vanchor\"><span id=\"Implicit_semantic_role_labelling\"></span><span class=\"vanchor-text\">Implicit semantic role labelling</span></span></dt>\\n<dd>Given a single sentence, identify and disambiguate semantic predicates (e.g., verbal <a href=\"/wiki/Frame_semantics_(linguistics)\" title=\"Frame semantics (linguistics)\">frames</a>) and their explicit semantic roles in the current sentence (see <a href=\"#Semantic_role_labelling\">Semantic role labelling</a> above). Then, identify semantic roles that are not explicitly realized in the current sentence, classify them into arguments that are explicitly realized elsewhere in the text and those that are not specified, and resolve the former against the local text. A closely related task is zero anaphora resolution, i.e., the extension of coreference resolution to <a href=\"/wiki/Pro-drop_language\" title=\"Pro-drop language\">pro-drop languages</a>.</dd></dl>\\n<dl><dt><a href=\"/wiki/Textual_entailment\" title=\"Textual entailment\">Recognizing textual entailment</a></dt>\\n<dd>Given two text fragments, determine if one being true entails the other, entails the other\\'s negation, or allows the other to be either true or false.<sup id=\"cite_ref-rte:11_30-0\" class=\"reference\"><a href=\"#cite_note-rte:11-30\"><span class=\"cite-bracket\">&#91;</span>30<span class=\"cite-bracket\">&#93;</span></a></sup></dd></dl>\\n<dl><dt><a href=\"/wiki/Topic_segmentation\" class=\"mw-redirect\" title=\"Topic segmentation\">Topic segmentation</a> and recognition</dt>\\n<dd>Given a chunk of text, separate it into segments each of which is devoted to a topic, and identify the topic of the segment.</dd></dl>\\n<dl><dt><a href=\"/wiki/Argument_mining\" title=\"Argument mining\">Argument mining</a></dt>\\n<dd>The goal of argument mining is the automatic extraction and identification of argumentative structures from <a href=\"/wiki/Natural_language\" title=\"Natural language\">natural language</a> text with the aid of computer programs.<sup id=\"cite_ref-31\" class=\"reference\"><a href=\"#cite_note-31\"><span class=\"cite-bracket\">&#91;</span>31<span class=\"cite-bracket\">&#93;</span></a></sup> Such argumentative structures include the premise, conclusions, the <a href=\"/wiki/Argument_scheme\" class=\"mw-redirect\" title=\"Argument scheme\">argument scheme</a> and the relationship between the main and subsidiary argument, or the main and counter-argument within discourse.<sup id=\"cite_ref-32\" class=\"reference\"><a href=\"#cite_note-32\"><span class=\"cite-bracket\">&#91;</span>32<span class=\"cite-bracket\">&#93;</span></a></sup><sup id=\"cite_ref-33\" class=\"reference\"><a href=\"#cite_note-33\"><span class=\"cite-bracket\">&#91;</span>33<span class=\"cite-bracket\">&#93;</span></a></sup></dd></dl>\\n<div class=\"mw-heading mw-heading3\"><h3 id=\"Higher-level_NLP_applications\">Higher-level NLP applications</h3><span class=\"mw-editsection\"><span class=\"mw-editsection-bracket\">[</span><a href=\"/w/index.php?title=Natural_language_processing&amp;action=edit&amp;section=14\" title=\"Edit section: Higher-level NLP applications\"><span>edit</span></a><span class=\"mw-editsection-bracket\">]</span></span></div>\\n<dl><dt><a href=\"/wiki/Automatic_summarization\" title=\"Automatic summarization\">Automatic summarization</a> (text summarization)</dt>\\n<dd>Produce a readable summary of a chunk of text.  Often used to provide summaries of the text of a known type, such as research papers, articles in the financial section of a newspaper.</dd>\\n<dt><link rel=\"mw-deduplicated-inline-style\" href=\"mw-data:TemplateStyles:r1238216509\" /><span class=\"vanchor\"><span id=\"Grammatical_error_correction\"></span><span class=\"vanchor-text\">Grammatical error correction</span></span></dt>\\n<dd>Grammatical error detection and correction involves a great band-width of problems on all levels of linguistic analysis (phonology/orthography, morphology, syntax, semantics, pragmatics). Grammatical error correction is impactful since it affects hundreds of millions of people that use or acquire English as a second language. It has thus been subject to a number of shared tasks since 2011.<sup id=\"cite_ref-34\" class=\"reference\"><a href=\"#cite_note-34\"><span class=\"cite-bracket\">&#91;</span>34<span class=\"cite-bracket\">&#93;</span></a></sup><sup id=\"cite_ref-35\" class=\"reference\"><a href=\"#cite_note-35\"><span class=\"cite-bracket\">&#91;</span>35<span class=\"cite-bracket\">&#93;</span></a></sup><sup id=\"cite_ref-36\" class=\"reference\"><a href=\"#cite_note-36\"><span class=\"cite-bracket\">&#91;</span>36<span class=\"cite-bracket\">&#93;</span></a></sup> As far as orthography, morphology, syntax and certain aspects of semantics are concerned, and due to the development of powerful neural language models such as <a href=\"/wiki/GPT-2\" title=\"GPT-2\">GPT-2</a>, this can now (2019) be considered a largely solved problem and is being marketed in various commercial applications.</dd>\\n<dt><a href=\"/wiki/Logic_translation\" title=\"Logic translation\">Logic translation</a></dt>\\n<dd>Translate a text from a natural language into formal logic.</dd>\\n<dt><a href=\"/wiki/Machine_translation\" title=\"Machine translation\">Machine translation</a> (MT)</dt>\\n<dd>Automatically translate text from one human language to another.  This is one of the most difficult problems, and is a member of a class of problems colloquially termed \"<a href=\"/wiki/AI-complete\" title=\"AI-complete\">AI-complete</a>\", i.e. requiring all of the different types of knowledge that humans possess (grammar, semantics, facts about the real world, etc.) to solve properly.</dd>\\n<dt><a href=\"/wiki/Natural-language_understanding\" class=\"mw-redirect\" title=\"Natural-language understanding\">Natural-language understanding</a> (NLU)</dt>\\n<dd>Convert chunks of text into more formal representations such as <a href=\"/wiki/First-order_logic\" title=\"First-order logic\">first-order logic</a> structures that are easier for <a href=\"/wiki/Computer\" title=\"Computer\">computer</a> programs to manipulate. Natural language understanding involves the identification of the intended semantic from the multiple possible semantics which can be derived from a natural language expression which usually takes the form of organized notations of natural language concepts. Introduction and creation of language metamodel and ontology are efficient however empirical solutions. An explicit formalization of natural language semantics without confusions with implicit assumptions such as <a href=\"/wiki/Closed-world_assumption\" title=\"Closed-world assumption\">closed-world assumption</a> (CWA) vs. <a href=\"/wiki/Open-world_assumption\" class=\"mw-redirect\" title=\"Open-world assumption\">open-world assumption</a>, or subjective Yes/No vs. objective True/False is expected for the construction of a basis of semantics formalization.<sup id=\"cite_ref-37\" class=\"reference\"><a href=\"#cite_note-37\"><span class=\"cite-bracket\">&#91;</span>37<span class=\"cite-bracket\">&#93;</span></a></sup></dd>\\n<dt><a href=\"/wiki/Natural_language_generation\" title=\"Natural language generation\">Natural-language generation</a> (NLG):</dt>\\n<dd>Convert information from computer databases or semantic intents into readable human language.</dd>\\n<dt>Book generation</dt>\\n<dd>Not an NLP task proper but an extension of natural language generation and other NLP tasks is the creation of full-fledged books. The first machine-generated book was created by a rule-based system in 1984 (Racter, <i>The policeman\\'s beard is half-constructed</i>).<sup id=\"cite_ref-38\" class=\"reference\"><a href=\"#cite_note-38\"><span class=\"cite-bracket\">&#91;</span>38<span class=\"cite-bracket\">&#93;</span></a></sup> The first published work by a neural network was published in 2018, <i><a href=\"/wiki/1_the_Road\" title=\"1 the Road\">1 the Road</a></i>, marketed as a novel, contains sixty million words. Both these systems are basically elaborate but non-sensical (semantics-free) <a href=\"/wiki/Language_model\" title=\"Language model\">language models</a>. The first machine-generated science book was published in 2019 (Beta Writer, <i>Lithium-Ion Batteries</i>, Springer, Cham).<sup id=\"cite_ref-39\" class=\"reference\"><a href=\"#cite_note-39\"><span class=\"cite-bracket\">&#91;</span>39<span class=\"cite-bracket\">&#93;</span></a></sup> Unlike <i>Racter</i> and <i>1 the Road</i>, this is grounded on factual knowledge and based on text summarization.</dd>\\n<dt><a href=\"/wiki/Document_AI\" title=\"Document AI\">Document AI</a></dt>\\n<dd>A Document AI platform sits on top of the NLP technology enabling users with no prior experience of artificial intelligence, machine learning or NLP to quickly train a computer to extract the specific data they need from different document types. NLP-powered Document AI enables non-technical teams to quickly access information hidden in documents, for example, lawyers, business analysts and accountants.<sup id=\"cite_ref-40\" class=\"reference\"><a href=\"#cite_note-40\"><span class=\"cite-bracket\">&#91;</span>40<span class=\"cite-bracket\">&#93;</span></a></sup></dd>\\n<dt><a href=\"/wiki/Dialogue_system\" title=\"Dialogue system\">Dialogue management</a></dt>\\n<dd>Computer systems intended to converse with a human.</dd>\\n<dt><a href=\"/wiki/Question_answering\" title=\"Question answering\">Question answering</a></dt>\\n<dd>Given a human-language question, determine its answer. Typical questions have a specific right answer (such as \"What is the capital of Canada?\"), but sometimes open-ended questions are also considered (such as \"What is the meaning of life?\").</dd>\\n<dt><a href=\"/wiki/Text-to-image_generation\" class=\"mw-redirect\" title=\"Text-to-image generation\">Text-to-image generation</a></dt>\\n<dd>Given a description of an image, generate an image that matches the description.<sup id=\"cite_ref-41\" class=\"reference\"><a href=\"#cite_note-41\"><span class=\"cite-bracket\">&#91;</span>41<span class=\"cite-bracket\">&#93;</span></a></sup></dd>\\n<dt>Text-to-scene generation</dt>\\n<dd>Given a description of a scene, generate a <a href=\"/wiki/3D_model\" class=\"mw-redirect\" title=\"3D model\">3D model</a> of the scene.<sup id=\"cite_ref-42\" class=\"reference\"><a href=\"#cite_note-42\"><span class=\"cite-bracket\">&#91;</span>42<span class=\"cite-bracket\">&#93;</span></a></sup><sup id=\"cite_ref-43\" class=\"reference\"><a href=\"#cite_note-43\"><span class=\"cite-bracket\">&#91;</span>43<span class=\"cite-bracket\">&#93;</span></a></sup></dd>\\n<dt><a href=\"/wiki/Text-to-video_model\" title=\"Text-to-video model\">Text-to-video</a></dt>\\n<dd>Given a description of a video, generate a video that matches the description.<sup id=\"cite_ref-44\" class=\"reference\"><a href=\"#cite_note-44\"><span class=\"cite-bracket\">&#91;</span>44<span class=\"cite-bracket\">&#93;</span></a></sup><sup id=\"cite_ref-45\" class=\"reference\"><a href=\"#cite_note-45\"><span class=\"cite-bracket\">&#91;</span>45<span class=\"cite-bracket\">&#93;</span></a></sup></dd></dl>\\n<div class=\"mw-heading mw-heading2\"><h2 id=\"General_tendencies_and_(possible)_future_directions\"><span id=\"General_tendencies_and_.28possible.29_future_directions\"></span>General tendencies and (possible) future directions</h2><span class=\"mw-editsection\"><span class=\"mw-editsection-bracket\">[</span><a href=\"/w/index.php?title=Natural_language_processing&amp;action=edit&amp;section=15\" title=\"Edit section: General tendencies and (possible) future directions\"><span>edit</span></a><span class=\"mw-editsection-bracket\">]</span></span></div>\\n<p>Based on long-standing trends in the field, it is possible to extrapolate future directions of NLP. As of 2020, three trends among the topics of the long-standing series of CoNLL Shared Tasks can be observed:<sup id=\"cite_ref-46\" class=\"reference\"><a href=\"#cite_note-46\"><span class=\"cite-bracket\">&#91;</span>46<span class=\"cite-bracket\">&#93;</span></a></sup>\\n</p>\\n<ul><li>Interest on increasingly abstract, \"cognitive\" aspects of natural language (1999–2001: shallow parsing, 2002–03: named entity recognition, 2006–09/2017–18: dependency syntax, 2004–05/2008–09 semantic role labelling, 2011–12 coreference, 2015–16: discourse parsing, 2019: semantic parsing).</li>\\n<li>Increasing interest in multilinguality, and, potentially, multimodality (English since 1999; Spanish, Dutch since 2002; German since 2003; Bulgarian, Danish, Japanese, Portuguese, Slovenian, Swedish, Turkish since 2006; Basque, Catalan, Chinese, Greek, Hungarian, Italian, Turkish since 2007; Czech since 2009; Arabic since 2012; 2017: 40+ languages; 2018: 60+/100+ languages)</li>\\n<li>Elimination of symbolic representations (rule-based over supervised towards weakly supervised methods, representation learning and end-to-end systems)</li></ul>\\n<div class=\"mw-heading mw-heading3\"><h3 id=\"Cognition\">Cognition</h3><span class=\"mw-editsection\"><span class=\"mw-editsection-bracket\">[</span><a href=\"/w/index.php?title=Natural_language_processing&amp;action=edit&amp;section=16\" title=\"Edit section: Cognition\"><span>edit</span></a><span class=\"mw-editsection-bracket\">]</span></span></div>\\n<p>Most higher-level NLP applications involve aspects that emulate intelligent behaviour and apparent comprehension of natural language. More broadly speaking, the technical operationalization of increasingly advanced aspects of cognitive behaviour represents one of the developmental trajectories of NLP (see trends among CoNLL shared tasks above).\\n</p><p><a href=\"/wiki/Cognition\" title=\"Cognition\">Cognition</a> refers to \"the mental action or process of acquiring knowledge and understanding through thought, experience, and the senses.\"<sup id=\"cite_ref-47\" class=\"reference\"><a href=\"#cite_note-47\"><span class=\"cite-bracket\">&#91;</span>47<span class=\"cite-bracket\">&#93;</span></a></sup> <a href=\"/wiki/Cognitive_science\" title=\"Cognitive science\">Cognitive science</a> is the interdisciplinary, scientific study of the mind and its processes.<sup id=\"cite_ref-48\" class=\"reference\"><a href=\"#cite_note-48\"><span class=\"cite-bracket\">&#91;</span>48<span class=\"cite-bracket\">&#93;</span></a></sup> <a href=\"/wiki/Cognitive_linguistics\" title=\"Cognitive linguistics\">Cognitive linguistics</a> is an interdisciplinary branch of linguistics, combining knowledge and research from both psychology and linguistics.<sup id=\"cite_ref-49\" class=\"reference\"><a href=\"#cite_note-49\"><span class=\"cite-bracket\">&#91;</span>49<span class=\"cite-bracket\">&#93;</span></a></sup> Especially during the age of <a href=\"#Symbolic_NLP_(1950s_–_early_1990s)\">symbolic NLP</a>, the area of computational linguistics maintained strong ties with cognitive studies.\\n</p><p>As an example, <a href=\"/wiki/George_Lakoff\" title=\"George Lakoff\">George Lakoff</a> offers a methodology to build natural language processing (NLP) algorithms through the perspective of cognitive science, along with the findings of cognitive linguistics,<sup id=\"cite_ref-50\" class=\"reference\"><a href=\"#cite_note-50\"><span class=\"cite-bracket\">&#91;</span>50<span class=\"cite-bracket\">&#93;</span></a></sup> with two defining aspects:\\n</p>\\n<ol><li>Apply the theory of <a href=\"/wiki/Conceptual_metaphor\" title=\"Conceptual metaphor\">conceptual metaphor</a>, explained by Lakoff as \"the understanding of one idea, in terms of another\" which provides an idea of the intent of the author.<sup id=\"cite_ref-51\" class=\"reference\"><a href=\"#cite_note-51\"><span class=\"cite-bracket\">&#91;</span>51<span class=\"cite-bracket\">&#93;</span></a></sup> For example, consider the English word <i>big</i>. When used in a comparison (\"That is a big tree\"), the author\\'s intent is to imply that the tree is <i>physically large</i> relative to other trees or the authors experience.  When used metaphorically (\"Tomorrow is a big day\"), the author\\'s intent to imply <i>importance</i>.  The intent behind other usages, like in \"She is a big person\", will remain somewhat ambiguous to a person and a cognitive NLP algorithm alike without additional information.</li>\\n<li>Assign relative measures of meaning to a word, phrase, sentence or piece of text based on the information presented before and after the piece of text being analyzed, e.g., by means of a <a href=\"/wiki/Probabilistic_context-free_grammar\" title=\"Probabilistic context-free grammar\">probabilistic context-free grammar</a> (PCFG). The mathematical equation for such algorithms is presented in  <a rel=\"nofollow\" class=\"external text\" href=\"https://worldwide.espacenet.com/patent/search/family/055314712/publication/US9269353B1?q=pn%3DUS9269353\">US Patent 9269353</a>:<sup id=\"cite_ref-52\" class=\"reference\"><a href=\"#cite_note-52\"><span class=\"cite-bracket\">&#91;</span>52<span class=\"cite-bracket\">&#93;</span></a></sup></li></ol>\\n<dl><dd><dl><dd><span class=\"mwe-math-element mwe-math-element-inline\"><span class=\"mwe-math-mathml-inline mwe-math-mathml-a11y\" style=\"display: none;\"><math xmlns=\"http://www.w3.org/1998/Math/MathML\"  alttext=\"{\\\\displaystyle {RMM(token_{N})}={PMM(token_{N})}\\\\times {\\\\frac {1}{2d}}\\\\left(\\\\sum _{i=-d}^{d}{((PMM(token_{N})}\\\\times {PF(token_{N-i},token_{N},token_{N+i}))_{i}}\\\\right)}\">\\n  <semantics>\\n    <mrow class=\"MJX-TeXAtom-ORD\">\\n      <mstyle displaystyle=\"true\" scriptlevel=\"0\">\\n        <mrow class=\"MJX-TeXAtom-ORD\">\\n          <mi>R</mi>\\n          <mi>M</mi>\\n          <mi>M</mi>\\n          <mo stretchy=\"false\">(</mo>\\n          <mi>t</mi>\\n          <mi>o</mi>\\n          <mi>k</mi>\\n          <mi>e</mi>\\n          <msub>\\n            <mi>n</mi>\\n            <mrow class=\"MJX-TeXAtom-ORD\">\\n              <mi>N</mi>\\n            </mrow>\\n          </msub>\\n          <mo stretchy=\"false\">)</mo>\\n        </mrow>\\n        <mo>=</mo>\\n        <mrow class=\"MJX-TeXAtom-ORD\">\\n          <mi>P</mi>\\n          <mi>M</mi>\\n          <mi>M</mi>\\n          <mo stretchy=\"false\">(</mo>\\n          <mi>t</mi>\\n          <mi>o</mi>\\n          <mi>k</mi>\\n          <mi>e</mi>\\n          <msub>\\n            <mi>n</mi>\\n            <mrow class=\"MJX-TeXAtom-ORD\">\\n              <mi>N</mi>\\n            </mrow>\\n          </msub>\\n          <mo stretchy=\"false\">)</mo>\\n        </mrow>\\n        <mo>&#x00D7;<!-- × --></mo>\\n        <mrow class=\"MJX-TeXAtom-ORD\">\\n          <mfrac>\\n            <mn>1</mn>\\n            <mrow>\\n              <mn>2</mn>\\n              <mi>d</mi>\\n            </mrow>\\n          </mfrac>\\n        </mrow>\\n        <mrow>\\n          <mo>(</mo>\\n          <mrow>\\n            <munderover>\\n              <mo>&#x2211;<!-- ∑ --></mo>\\n              <mrow class=\"MJX-TeXAtom-ORD\">\\n                <mi>i</mi>\\n                <mo>=</mo>\\n                <mo>&#x2212;<!-- − --></mo>\\n                <mi>d</mi>\\n              </mrow>\\n              <mrow class=\"MJX-TeXAtom-ORD\">\\n                <mi>d</mi>\\n              </mrow>\\n            </munderover>\\n            <mrow class=\"MJX-TeXAtom-ORD\">\\n              <mo stretchy=\"false\">(</mo>\\n              <mo stretchy=\"false\">(</mo>\\n              <mi>P</mi>\\n              <mi>M</mi>\\n              <mi>M</mi>\\n              <mo stretchy=\"false\">(</mo>\\n              <mi>t</mi>\\n              <mi>o</mi>\\n              <mi>k</mi>\\n              <mi>e</mi>\\n              <msub>\\n                <mi>n</mi>\\n                <mrow class=\"MJX-TeXAtom-ORD\">\\n                  <mi>N</mi>\\n                </mrow>\\n              </msub>\\n              <mo stretchy=\"false\">)</mo>\\n            </mrow>\\n            <mo>&#x00D7;<!-- × --></mo>\\n            <mrow class=\"MJX-TeXAtom-ORD\">\\n              <mi>P</mi>\\n              <mi>F</mi>\\n              <mo stretchy=\"false\">(</mo>\\n              <mi>t</mi>\\n              <mi>o</mi>\\n              <mi>k</mi>\\n              <mi>e</mi>\\n              <msub>\\n                <mi>n</mi>\\n                <mrow class=\"MJX-TeXAtom-ORD\">\\n                  <mi>N</mi>\\n                  <mo>&#x2212;<!-- − --></mo>\\n                  <mi>i</mi>\\n                </mrow>\\n              </msub>\\n              <mo>,</mo>\\n              <mi>t</mi>\\n              <mi>o</mi>\\n              <mi>k</mi>\\n              <mi>e</mi>\\n              <msub>\\n                <mi>n</mi>\\n                <mrow class=\"MJX-TeXAtom-ORD\">\\n                  <mi>N</mi>\\n                </mrow>\\n              </msub>\\n              <mo>,</mo>\\n              <mi>t</mi>\\n              <mi>o</mi>\\n              <mi>k</mi>\\n              <mi>e</mi>\\n              <msub>\\n                <mi>n</mi>\\n                <mrow class=\"MJX-TeXAtom-ORD\">\\n                  <mi>N</mi>\\n                  <mo>+</mo>\\n                  <mi>i</mi>\\n                </mrow>\\n              </msub>\\n              <mo stretchy=\"false\">)</mo>\\n              <msub>\\n                <mo stretchy=\"false\">)</mo>\\n                <mrow class=\"MJX-TeXAtom-ORD\">\\n                  <mi>i</mi>\\n                </mrow>\\n              </msub>\\n            </mrow>\\n          </mrow>\\n          <mo>)</mo>\\n        </mrow>\\n      </mstyle>\\n    </mrow>\\n    <annotation encoding=\"application/x-tex\">{\\\\displaystyle {RMM(token_{N})}={PMM(token_{N})}\\\\times {\\\\frac {1}{2d}}\\\\left(\\\\sum _{i=-d}^{d}{((PMM(token_{N})}\\\\times {PF(token_{N-i},token_{N},token_{N+i}))_{i}}\\\\right)}</annotation>\\n  </semantics>\\n</math></span><img src=\"https://wikimedia.org/api/rest_v1/media/math/render/svg/43ccadd794a4b84e20d1209997a463342e0dfbfe\" class=\"mwe-math-fallback-image-inline mw-invert skin-invert\" aria-hidden=\"true\" style=\"vertical-align: -3.171ex; width:104.427ex; height:7.509ex;\" alt=\"{\\\\displaystyle {RMM(token_{N})}={PMM(token_{N})}\\\\times {\\\\frac {1}{2d}}\\\\left(\\\\sum _{i=-d}^{d}{((PMM(token_{N})}\\\\times {PF(token_{N-i},token_{N},token_{N+i}))_{i}}\\\\right)}\"></span></dd></dl></dd></dl>\\n<dl><dd><dl><dd><i>Where</i>\\n<dl><dd><b>RMM</b> is the relative measure of meaning</dd>\\n<dd><b>token</b> is any block of text, sentence, phrase or word</dd>\\n<dd><b>N</b> is the number of tokens being analyzed</dd>\\n<dd><b>PMM</b> is the probable measure of meaning based on a corpora</dd>\\n<dd><b>d</b> is the non zero location of the token along the sequence of <b>N</b> tokens</dd>\\n<dd><b>PF</b> is the probability function specific to a language</dd></dl></dd></dl></dd></dl>\\n<p>Ties with cognitive linguistics are part of the historical heritage of NLP, but they have been less frequently addressed since the statistical turn during the 1990s. Nevertheless, approaches to develop cognitive models towards technically operationalizable frameworks have been pursued in the context of various frameworks, e.g., of cognitive grammar,<sup id=\"cite_ref-53\" class=\"reference\"><a href=\"#cite_note-53\"><span class=\"cite-bracket\">&#91;</span>53<span class=\"cite-bracket\">&#93;</span></a></sup> functional grammar,<sup id=\"cite_ref-54\" class=\"reference\"><a href=\"#cite_note-54\"><span class=\"cite-bracket\">&#91;</span>54<span class=\"cite-bracket\">&#93;</span></a></sup> construction grammar,<sup id=\"cite_ref-55\" class=\"reference\"><a href=\"#cite_note-55\"><span class=\"cite-bracket\">&#91;</span>55<span class=\"cite-bracket\">&#93;</span></a></sup> computational psycholinguistics and cognitive neuroscience (e.g., <a href=\"/wiki/ACT-R\" title=\"ACT-R\">ACT-R</a>), however, with limited uptake in mainstream NLP (as measured by presence on major conferences<sup id=\"cite_ref-56\" class=\"reference\"><a href=\"#cite_note-56\"><span class=\"cite-bracket\">&#91;</span>56<span class=\"cite-bracket\">&#93;</span></a></sup> of the <a href=\"/wiki/Association_for_Computational_Linguistics\" title=\"Association for Computational Linguistics\">ACL</a>). More recently, ideas of cognitive NLP have been revived as an approach to achieve <a href=\"/wiki/Explainable_artificial_intelligence\" title=\"Explainable artificial intelligence\">explainability</a>, e.g., under the notion of \"cognitive AI\".<sup id=\"cite_ref-57\" class=\"reference\"><a href=\"#cite_note-57\"><span class=\"cite-bracket\">&#91;</span>57<span class=\"cite-bracket\">&#93;</span></a></sup> Likewise, ideas of cognitive NLP are inherent to neural models <a href=\"/wiki/Multimodal_interaction\" title=\"Multimodal interaction\">multimodal</a> NLP (although rarely made explicit)<sup id=\"cite_ref-58\" class=\"reference\"><a href=\"#cite_note-58\"><span class=\"cite-bracket\">&#91;</span>58<span class=\"cite-bracket\">&#93;</span></a></sup> and developments in <a href=\"/wiki/Artificial_intelligence\" title=\"Artificial intelligence\">artificial intelligence</a>, specifically tools and technologies using <a href=\"/wiki/Large_language_model\" title=\"Large language model\">large language model</a> approaches<sup id=\"cite_ref-59\" class=\"reference\"><a href=\"#cite_note-59\"><span class=\"cite-bracket\">&#91;</span>59<span class=\"cite-bracket\">&#93;</span></a></sup> and new directions in <a href=\"/wiki/Artificial_general_intelligence\" title=\"Artificial general intelligence\">artificial general intelligence</a> based on the <a href=\"/wiki/Free_energy_principle\" title=\"Free energy principle\">free energy principle</a><sup id=\"cite_ref-60\" class=\"reference\"><a href=\"#cite_note-60\"><span class=\"cite-bracket\">&#91;</span>60<span class=\"cite-bracket\">&#93;</span></a></sup> by British neuroscientist and theoretician at University College London <a href=\"/wiki/Karl_J._Friston\" title=\"Karl J. Friston\">Karl J. Friston</a>.\\n</p>\\n<div class=\"mw-heading mw-heading2\"><h2 id=\"See_also\">See also</h2><span class=\"mw-editsection\"><span class=\"mw-editsection-bracket\">[</span><a href=\"/w/index.php?title=Natural_language_processing&amp;action=edit&amp;section=17\" title=\"Edit section: See also\"><span>edit</span></a><span class=\"mw-editsection-bracket\">]</span></span></div>\\n<style data-mw-deduplicate=\"TemplateStyles:r1184024115\">.mw-parser-output .div-col{margin-top:0.3em;column-width:30em}.mw-parser-output .div-col-small{font-size:90%}.mw-parser-output .div-col-rules{column-rule:1px solid #aaa}.mw-parser-output .div-col dl,.mw-parser-output .div-col ol,.mw-parser-output .div-col ul{margin-top:0}.mw-parser-output .div-col li,.mw-parser-output .div-col dd{page-break-inside:avoid;break-inside:avoid-column}</style><div class=\"div-col\" style=\"column-width: 20em;\">\\n<ul><li><i><a href=\"/wiki/1_the_Road\" title=\"1 the Road\">1 the Road</a></i></li>\\n<li><a href=\"/wiki/Artificial_intelligence_detection_software\" class=\"mw-redirect\" title=\"Artificial intelligence detection software\">Artificial intelligence detection software</a></li>\\n<li><a href=\"/wiki/Automated_essay_scoring\" title=\"Automated essay scoring\">Automated essay scoring</a></li>\\n<li><a href=\"/wiki/Biomedical_text_mining\" title=\"Biomedical text mining\">Biomedical text mining</a></li>\\n<li><a href=\"/wiki/Compound_term_processing\" class=\"mw-redirect\" title=\"Compound term processing\">Compound term processing</a></li>\\n<li><a href=\"/wiki/Computational_linguistics\" title=\"Computational linguistics\">Computational linguistics</a></li>\\n<li><a href=\"/wiki/Computer-assisted_reviewing\" title=\"Computer-assisted reviewing\">Computer-assisted reviewing</a></li>\\n<li><a href=\"/wiki/Controlled_natural_language\" title=\"Controlled natural language\">Controlled natural language</a></li>\\n<li><a href=\"/wiki/Deep_learning\" title=\"Deep learning\">Deep learning</a></li>\\n<li><a href=\"/wiki/Deep_linguistic_processing\" title=\"Deep linguistic processing\">Deep linguistic processing</a></li>\\n<li><a href=\"/wiki/Distributional_semantics\" title=\"Distributional semantics\">Distributional semantics</a></li>\\n<li><a href=\"/wiki/Foreign_language_reading_aid\" class=\"mw-redirect\" title=\"Foreign language reading aid\">Foreign language reading aid</a></li>\\n<li><a href=\"/wiki/Foreign_language_writing_aid\" class=\"mw-redirect\" title=\"Foreign language writing aid\">Foreign language writing aid</a></li>\\n<li><a href=\"/wiki/Information_extraction\" title=\"Information extraction\">Information extraction</a></li>\\n<li><a href=\"/wiki/Information_retrieval\" title=\"Information retrieval\">Information retrieval</a></li>\\n<li><a href=\"/wiki/Language_and_Communication_Technologies\" title=\"Language and Communication Technologies\">Language and Communication Technologies</a></li>\\n<li><a href=\"/wiki/Language_model\" title=\"Language model\">Language model</a></li>\\n<li><a href=\"/wiki/Language_technology\" title=\"Language technology\">Language technology</a></li>\\n<li><a href=\"/wiki/Latent_semantic_indexing\" class=\"mw-redirect\" title=\"Latent semantic indexing\">Latent semantic indexing</a></li>\\n<li><a href=\"/wiki/Multi-agent_system\" title=\"Multi-agent system\">Multi-agent system</a></li>\\n<li><a href=\"/wiki/Native-language_identification\" title=\"Native-language identification\">Native-language identification</a></li>\\n<li><a href=\"/wiki/Natural-language_programming\" title=\"Natural-language programming\">Natural-language programming</a></li>\\n<li><a href=\"/wiki/Natural-language_understanding\" class=\"mw-redirect\" title=\"Natural-language understanding\">Natural-language understanding</a></li>\\n<li><a href=\"/wiki/Natural-language_user_interface\" title=\"Natural-language user interface\">Natural-language search</a></li>\\n<li><a href=\"/wiki/Outline_of_natural_language_processing\" title=\"Outline of natural language processing\">Outline of natural language processing</a></li>\\n<li><a href=\"/wiki/Query_expansion\" title=\"Query expansion\">Query expansion</a></li>\\n<li><a href=\"/wiki/Query_understanding\" title=\"Query understanding\">Query understanding</a></li>\\n<li><a href=\"/wiki/Reification_(linguistics)\" class=\"mw-redirect\" title=\"Reification (linguistics)\">Reification (linguistics)</a></li>\\n<li><a href=\"/wiki/Speech_processing\" title=\"Speech processing\">Speech processing</a></li>\\n<li><a href=\"/wiki/Spoken_dialogue_systems\" class=\"mw-redirect\" title=\"Spoken dialogue systems\">Spoken dialogue systems</a></li>\\n<li><a href=\"/wiki/Text-proofing\" class=\"mw-redirect\" title=\"Text-proofing\">Text-proofing</a></li>\\n<li><a href=\"/wiki/Text_simplification\" title=\"Text simplification\">Text simplification</a></li>\\n<li><a href=\"/wiki/Transformer_(machine_learning_model)\" class=\"mw-redirect\" title=\"Transformer (machine learning model)\">Transformer (machine learning model)</a></li>\\n<li><a href=\"/wiki/Truecasing\" title=\"Truecasing\">Truecasing</a></li>\\n<li><a href=\"/wiki/Question_answering\" title=\"Question answering\">Question answering</a></li>\\n<li><a href=\"/wiki/Word2vec\" title=\"Word2vec\">Word2vec</a></li></ul>\\n</div>\\n<div class=\"mw-heading mw-heading2\"><h2 id=\"References\">References</h2><span class=\"mw-editsection\"><span class=\"mw-editsection-bracket\">[</span><a href=\"/w/index.php?title=Natural_language_processing&amp;action=edit&amp;section=18\" title=\"Edit section: References\"><span>edit</span></a><span class=\"mw-editsection-bracket\">]</span></span></div>\\n<style data-mw-deduplicate=\"TemplateStyles:r1239543626\">.mw-parser-output .reflist{margin-bottom:0.5em;list-style-type:decimal}@media screen{.mw-parser-output .reflist{font-size:90%}}.mw-parser-output .reflist .references{font-size:100%;margin-bottom:0;list-style-type:inherit}.mw-parser-output .reflist-columns-2{column-width:30em}.mw-parser-output .reflist-columns-3{column-width:25em}.mw-parser-output .reflist-columns{margin-top:0.3em}.mw-parser-output .reflist-columns ol{margin-top:0}.mw-parser-output .reflist-columns li{page-break-inside:avoid;break-inside:avoid-column}.mw-parser-output .reflist-upper-alpha{list-style-type:upper-alpha}.mw-parser-output .reflist-upper-roman{list-style-type:upper-roman}.mw-parser-output .reflist-lower-alpha{list-style-type:lower-alpha}.mw-parser-output .reflist-lower-greek{list-style-type:lower-greek}.mw-parser-output .reflist-lower-roman{list-style-type:lower-roman}</style><div class=\"reflist reflist-columns references-column-width\" style=\"column-width: 30em;\">\\n<ol class=\"references\">\\n<li id=\"cite_note-1\"><span class=\"mw-cite-backlink\"><b><a href=\"#cite_ref-1\">^</a></b></span> <span class=\"reference-text\"><style data-mw-deduplicate=\"TemplateStyles:r1238218222\">.mw-parser-output cite.citation{font-style:inherit;word-wrap:break-word}.mw-parser-output .citation q{quotes:\"\\\\\"\"\"\\\\\"\"\"\\'\"\"\\'\"}.mw-parser-output .citation:target{background-color:rgba(0,127,255,0.133)}.mw-parser-output .id-lock-free.id-lock-free a{background:url(\"//upload.wikimedia.org/wikipedia/commons/6/65/Lock-green.svg\")right 0.1em center/9px no-repeat}.mw-parser-output .id-lock-limited.id-lock-limited a,.mw-parser-output .id-lock-registration.id-lock-registration a{background:url(\"//upload.wikimedia.org/wikipedia/commons/d/d6/Lock-gray-alt-2.svg\")right 0.1em center/9px no-repeat}.mw-parser-output .id-lock-subscription.id-lock-subscription a{background:url(\"//upload.wikimedia.org/wikipedia/commons/a/aa/Lock-red-alt-2.svg\")right 0.1em center/9px no-repeat}.mw-parser-output .cs1-ws-icon a{background:url(\"//upload.wikimedia.org/wikipedia/commons/4/4c/Wikisource-logo.svg\")right 0.1em center/12px no-repeat}body:not(.skin-timeless):not(.skin-minerva) .mw-parser-output .id-lock-free a,body:not(.skin-timeless):not(.skin-minerva) .mw-parser-output .id-lock-limited a,body:not(.skin-timeless):not(.skin-minerva) .mw-parser-output .id-lock-registration a,body:not(.skin-timeless):not(.skin-minerva) .mw-parser-output .id-lock-subscription a,body:not(.skin-timeless):not(.skin-minerva) .mw-parser-output .cs1-ws-icon a{background-size:contain;padding:0 1em 0 0}.mw-parser-output .cs1-code{color:inherit;background:inherit;border:none;padding:inherit}.mw-parser-output .cs1-hidden-error{display:none;color:var(--color-error,#d33)}.mw-parser-output .cs1-visible-error{color:var(--color-error,#d33)}.mw-parser-output .cs1-maint{display:none;color:#085;margin-left:0.3em}.mw-parser-output .cs1-kern-left{padding-left:0.2em}.mw-parser-output .cs1-kern-right{padding-right:0.2em}.mw-parser-output .citation .mw-selflink{font-weight:inherit}@media screen{.mw-parser-output .cs1-format{font-size:95%}html.skin-theme-clientpref-night .mw-parser-output .cs1-maint{color:#18911f}}@media screen and (prefers-color-scheme:dark){html.skin-theme-clientpref-os .mw-parser-output .cs1-maint{color:#18911f}}</style><cite class=\"citation web cs1\"><a rel=\"nofollow\" class=\"external text\" href=\"https://cs.stanford.edu/people/eroberts/courses/soco/projects/2004-05/nlp/overview_history.html\">\"NLP\"</a>.</cite><span title=\"ctx_ver=Z39.88-2004&amp;rft_val_fmt=info%3Aofi%2Ffmt%3Akev%3Amtx%3Abook&amp;rft.genre=unknown&amp;rft.btitle=NLP&amp;rft_id=https%3A%2F%2Fcs.stanford.edu%2Fpeople%2Feroberts%2Fcourses%2Fsoco%2Fprojects%2F2004-05%2Fnlp%2Foverview_history.html&amp;rfr_id=info%3Asid%2Fen.wikipedia.org%3ANatural+language+processing\" class=\"Z3988\"></span></span>\\n</li>\\n<li id=\"cite_note-2\"><span class=\"mw-cite-backlink\"><b><a href=\"#cite_ref-2\">^</a></b></span> <span class=\"reference-text\"><link rel=\"mw-deduplicated-inline-style\" href=\"mw-data:TemplateStyles:r1238218222\" /><cite id=\"CITEREFHutchins,_J.2005\" class=\"citation web cs1\">Hutchins, J. (2005). <a rel=\"nofollow\" class=\"external text\" href=\"http://www.hutchinsweb.me.uk/Nutshell-2005.pdf\">\"The history of machine translation in a nutshell\"</a> <span class=\"cs1-format\">(PDF)</span>.</cite><span title=\"ctx_ver=Z39.88-2004&amp;rft_val_fmt=info%3Aofi%2Ffmt%3Akev%3Amtx%3Abook&amp;rft.genre=unknown&amp;rft.btitle=The+history+of+machine+translation+in+a+nutshell&amp;rft.date=2005&amp;rft.au=Hutchins%2C+J.&amp;rft_id=http%3A%2F%2Fwww.hutchinsweb.me.uk%2FNutshell-2005.pdf&amp;rfr_id=info%3Asid%2Fen.wikipedia.org%3ANatural+language+processing\" class=\"Z3988\"></span><sup class=\"noprint Inline-Template\" style=\"white-space:nowrap;\">&#91;<i><a href=\"/wiki/Wikipedia:Verifiability#Self-published_sources\" title=\"Wikipedia:Verifiability\"><span title=\"This reference citation appears to be to a self-published source. (December 2013)\">self-published source</span></a></i>&#93;</sup></span>\\n</li>\\n<li id=\"cite_note-3\"><span class=\"mw-cite-backlink\"><b><a href=\"#cite_ref-3\">^</a></b></span> <span class=\"reference-text\">\"ALPAC: the (in)famous report\", John Hutchins, MT News International, no. 14, June 1996, pp. 9–12.</span>\\n</li>\\n<li id=\"cite_note-4\"><span class=\"mw-cite-backlink\"><b><a href=\"#cite_ref-4\">^</a></b></span> <span class=\"reference-text\"><a href=\"#CITEREFCrevier1993\">Crevier 1993</a>, pp.&#160;146–148<span class=\"error harv-error\" style=\"display: none; font-size:100%\"> harvnb error: no target: CITEREFCrevier1993 (<a href=\"/wiki/Category:Harv_and_Sfn_template_errors\" title=\"Category:Harv and Sfn template errors\">help</a>)</span>, see also <a href=\"#CITEREFBuchanan2005\">Buchanan 2005</a>, p.&#160;56<span class=\"error harv-error\" style=\"display: none; font-size:100%\"> harvnb error: no target: CITEREFBuchanan2005 (<a href=\"/wiki/Category:Harv_and_Sfn_template_errors\" title=\"Category:Harv and Sfn template errors\">help</a>)</span>: \"Early programs were necessarily limited in scope by the size and speed of memory\"</span>\\n</li>\\n<li id=\"cite_note-5\"><span class=\"mw-cite-backlink\"><b><a href=\"#cite_ref-5\">^</a></b></span> <span class=\"reference-text\"><link rel=\"mw-deduplicated-inline-style\" href=\"mw-data:TemplateStyles:r1238218222\" /><cite id=\"CITEREFKoskenniemi1983\" class=\"citation cs2\"><a href=\"/wiki/Kimmo_Koskenniemi\" title=\"Kimmo Koskenniemi\">Koskenniemi, Kimmo</a> (1983), <a rel=\"nofollow\" class=\"external text\" href=\"http://www.ling.helsinki.fi/~koskenni/doc/Two-LevelMorphology.pdf\"><i>Two-level morphology: A general computational model of word-form recognition and production</i></a> <span class=\"cs1-format\">(PDF)</span>, Department of General Linguistics, <a href=\"/wiki/University_of_Helsinki\" title=\"University of Helsinki\">University of Helsinki</a></cite><span title=\"ctx_ver=Z39.88-2004&amp;rft_val_fmt=info%3Aofi%2Ffmt%3Akev%3Amtx%3Abook&amp;rft.genre=book&amp;rft.btitle=Two-level+morphology%3A+A+general+computational+model+of+word-form+recognition+and+production&amp;rft.pub=Department+of+General+Linguistics%2C+University+of+Helsinki&amp;rft.date=1983&amp;rft.aulast=Koskenniemi&amp;rft.aufirst=Kimmo&amp;rft_id=http%3A%2F%2Fwww.ling.helsinki.fi%2F~koskenni%2Fdoc%2FTwo-LevelMorphology.pdf&amp;rfr_id=info%3Asid%2Fen.wikipedia.org%3ANatural+language+processing\" class=\"Z3988\"></span></span>\\n</li>\\n<li id=\"cite_note-6\"><span class=\"mw-cite-backlink\"><b><a href=\"#cite_ref-6\">^</a></b></span> <span class=\"reference-text\">Joshi, A. K., &amp; Weinstein, S. (1981, August). <a rel=\"nofollow\" class=\"external text\" href=\"https://www.ijcai.org/Proceedings/81-1/Papers/071.pdf\">Control of Inference: Role of Some Aspects of Discourse Structure-Centering</a>. In <i>IJCAI</i> (pp. 385–387).</span>\\n</li>\\n<li id=\"cite_note-7\"><span class=\"mw-cite-backlink\"><b><a href=\"#cite_ref-7\">^</a></b></span> <span class=\"reference-text\"><link rel=\"mw-deduplicated-inline-style\" href=\"mw-data:TemplateStyles:r1238218222\" /><cite id=\"CITEREFGuidaMauri1986\" class=\"citation journal cs1\">Guida, G.; Mauri, G. (July 1986). \"Evaluation of natural language processing systems: Issues and approaches\". <i>Proceedings of the IEEE</i>. <b>74</b> (7): <span class=\"nowrap\">1026–</span>1035. <a href=\"/wiki/Doi_(identifier)\" class=\"mw-redirect\" title=\"Doi (identifier)\">doi</a>:<a rel=\"nofollow\" class=\"external text\" href=\"https://doi.org/10.1109%2FPROC.1986.13580\">10.1109/PROC.1986.13580</a>. <a href=\"/wiki/ISSN_(identifier)\" class=\"mw-redirect\" title=\"ISSN (identifier)\">ISSN</a>&#160;<a rel=\"nofollow\" class=\"external text\" href=\"https://search.worldcat.org/issn/1558-2256\">1558-2256</a>. <a href=\"/wiki/S2CID_(identifier)\" class=\"mw-redirect\" title=\"S2CID (identifier)\">S2CID</a>&#160;<a rel=\"nofollow\" class=\"external text\" href=\"https://api.semanticscholar.org/CorpusID:30688575\">30688575</a>.</cite><span title=\"ctx_ver=Z39.88-2004&amp;rft_val_fmt=info%3Aofi%2Ffmt%3Akev%3Amtx%3Ajournal&amp;rft.genre=article&amp;rft.jtitle=Proceedings+of+the+IEEE&amp;rft.atitle=Evaluation+of+natural+language+processing+systems%3A+Issues+and+approaches&amp;rft.volume=74&amp;rft.issue=7&amp;rft.pages=1026-1035&amp;rft.date=1986-07&amp;rft_id=https%3A%2F%2Fapi.semanticscholar.org%2FCorpusID%3A30688575%23id-name%3DS2CID&amp;rft.issn=1558-2256&amp;rft_id=info%3Adoi%2F10.1109%2FPROC.1986.13580&amp;rft.aulast=Guida&amp;rft.aufirst=G.&amp;rft.au=Mauri%2C+G.&amp;rfr_id=info%3Asid%2Fen.wikipedia.org%3ANatural+language+processing\" class=\"Z3988\"></span></span>\\n</li>\\n<li id=\"cite_note-8\"><span class=\"mw-cite-backlink\"><b><a href=\"#cite_ref-8\">^</a></b></span> <span class=\"reference-text\">Chomskyan linguistics encourages the investigation of \"<a href=\"/wiki/Corner_case\" title=\"Corner case\">corner cases</a>\" that stress the limits of its theoretical models (comparable to <a href=\"/wiki/Pathological_(mathematics)\" title=\"Pathological (mathematics)\">pathological</a> phenomena in mathematics), typically created using <a href=\"/wiki/Thought_experiment\" title=\"Thought experiment\">thought experiments</a>, rather than the systematic investigation of typical phenomena that occur in real-world data, as is the case in <a href=\"/wiki/Corpus_linguistics\" title=\"Corpus linguistics\">corpus linguistics</a>.  The creation and use of such <a href=\"/wiki/Text_corpus\" title=\"Text corpus\">corpora</a> of real-world data is a fundamental part of machine-learning algorithms for natural language processing.  In addition, theoretical underpinnings of Chomskyan linguistics such as the so-called \"<a href=\"/wiki/Poverty_of_the_stimulus\" title=\"Poverty of the stimulus\">poverty of the stimulus</a>\" argument entail that general learning algorithms, as are typically used in machine learning, cannot be successful in language processing.  As a result, the Chomskyan paradigm discouraged the application of such models to language processing.</span>\\n</li>\\n<li id=\"cite_note-9\"><span class=\"mw-cite-backlink\"><b><a href=\"#cite_ref-9\">^</a></b></span> <span class=\"reference-text\"><link rel=\"mw-deduplicated-inline-style\" href=\"mw-data:TemplateStyles:r1238218222\" /><cite id=\"CITEREFBengioDucharmeVincentJanvin2003\" class=\"citation journal cs1\">Bengio, Yoshua; Ducharme, Réjean; Vincent, Pascal; Janvin, Christian (March 1, 2003). <a rel=\"nofollow\" class=\"external text\" href=\"https://dl.acm.org/doi/10.5555/944919.944966\">\"A neural probabilistic language model\"</a>. <i>The Journal of Machine Learning Research</i>. <b>3</b>: <span class=\"nowrap\">1137–</span>1155 &#8211; via ACM Digital Library.</cite><span title=\"ctx_ver=Z39.88-2004&amp;rft_val_fmt=info%3Aofi%2Ffmt%3Akev%3Amtx%3Ajournal&amp;rft.genre=article&amp;rft.jtitle=The+Journal+of+Machine+Learning+Research&amp;rft.atitle=A+neural+probabilistic+language+model&amp;rft.volume=3&amp;rft.pages=1137-1155&amp;rft.date=2003-03-01&amp;rft.aulast=Bengio&amp;rft.aufirst=Yoshua&amp;rft.au=Ducharme%2C+R%C3%A9jean&amp;rft.au=Vincent%2C+Pascal&amp;rft.au=Janvin%2C+Christian&amp;rft_id=https%3A%2F%2Fdl.acm.org%2Fdoi%2F10.5555%2F944919.944966&amp;rfr_id=info%3Asid%2Fen.wikipedia.org%3ANatural+language+processing\" class=\"Z3988\"></span></span>\\n</li>\\n<li id=\"cite_note-10\"><span class=\"mw-cite-backlink\"><b><a href=\"#cite_ref-10\">^</a></b></span> <span class=\"reference-text\"><link rel=\"mw-deduplicated-inline-style\" href=\"mw-data:TemplateStyles:r1238218222\" /><cite id=\"CITEREFMikolovKarafiátBurgetČernocký2010\" class=\"citation book cs1\">Mikolov, Tomáš; Karafiát, Martin; Burget, Lukáš; Černocký, Jan; Khudanpur, Sanjeev (26 September 2010). <a rel=\"nofollow\" class=\"external text\" href=\"https://gwern.net/doc/ai/nn/rnn/2010-mikolov.pdf\">\"Recurrent neural network based language model\"</a> <span class=\"cs1-format\">(PDF)</span>. <i>Interspeech 2010</i>. pp.&#160;<span class=\"nowrap\">1045–</span>1048. <a href=\"/wiki/Doi_(identifier)\" class=\"mw-redirect\" title=\"Doi (identifier)\">doi</a>:<a rel=\"nofollow\" class=\"external text\" href=\"https://doi.org/10.21437%2FInterspeech.2010-343\">10.21437/Interspeech.2010-343</a>. <a href=\"/wiki/S2CID_(identifier)\" class=\"mw-redirect\" title=\"S2CID (identifier)\">S2CID</a>&#160;<a rel=\"nofollow\" class=\"external text\" href=\"https://api.semanticscholar.org/CorpusID:17048224\">17048224</a>.</cite><span title=\"ctx_ver=Z39.88-2004&amp;rft_val_fmt=info%3Aofi%2Ffmt%3Akev%3Amtx%3Abook&amp;rft.genre=bookitem&amp;rft.atitle=Recurrent+neural+network+based+language+model&amp;rft.btitle=Interspeech+2010&amp;rft.pages=1045-1048&amp;rft.date=2010-09-26&amp;rft_id=info%3Adoi%2F10.21437%2FInterspeech.2010-343&amp;rft_id=https%3A%2F%2Fapi.semanticscholar.org%2FCorpusID%3A17048224%23id-name%3DS2CID&amp;rft.aulast=Mikolov&amp;rft.aufirst=Tom%C3%A1%C5%A1&amp;rft.au=Karafi%C3%A1t%2C+Martin&amp;rft.au=Burget%2C+Luk%C3%A1%C5%A1&amp;rft.au=%C4%8Cernock%C3%BD%2C+Jan&amp;rft.au=Khudanpur%2C+Sanjeev&amp;rft_id=https%3A%2F%2Fgwern.net%2Fdoc%2Fai%2Fnn%2Frnn%2F2010-mikolov.pdf&amp;rfr_id=info%3Asid%2Fen.wikipedia.org%3ANatural+language+processing\" class=\"Z3988\"></span> <span class=\"cs1-visible-error citation-comment\"><code class=\"cs1-code\">{{<a href=\"/wiki/Template:Cite_book\" title=\"Template:Cite book\">cite book</a>}}</code>: </span><span class=\"cs1-visible-error citation-comment\"><code class=\"cs1-code\">&#124;journal=</code> ignored (<a href=\"/wiki/Help:CS1_errors#periodical_ignored\" title=\"Help:CS1 errors\">help</a>)</span></span>\\n</li>\\n<li id=\"cite_note-goldberg:nnlp17-11\"><span class=\"mw-cite-backlink\"><b><a href=\"#cite_ref-goldberg:nnlp17_11-0\">^</a></b></span> <span class=\"reference-text\"><link rel=\"mw-deduplicated-inline-style\" href=\"mw-data:TemplateStyles:r1238218222\" /><cite id=\"CITEREFGoldberg2016\" class=\"citation journal cs1\">Goldberg, Yoav (2016). \"A Primer on Neural Network Models for Natural Language Processing\". <i>Journal of Artificial Intelligence Research</i>. <b>57</b>: <span class=\"nowrap\">345–</span>420. <a href=\"/wiki/ArXiv_(identifier)\" class=\"mw-redirect\" title=\"ArXiv (identifier)\">arXiv</a>:<span class=\"id-lock-free\" title=\"Freely accessible\"><a rel=\"nofollow\" class=\"external text\" href=\"https://arxiv.org/abs/1807.10854\">1807.10854</a></span>. <a href=\"/wiki/Doi_(identifier)\" class=\"mw-redirect\" title=\"Doi (identifier)\">doi</a>:<a rel=\"nofollow\" class=\"external text\" href=\"https://doi.org/10.1613%2Fjair.4992\">10.1613/jair.4992</a>. <a href=\"/wiki/S2CID_(identifier)\" class=\"mw-redirect\" title=\"S2CID (identifier)\">S2CID</a>&#160;<a rel=\"nofollow\" class=\"external text\" href=\"https://api.semanticscholar.org/CorpusID:8273530\">8273530</a>.</cite><span title=\"ctx_ver=Z39.88-2004&amp;rft_val_fmt=info%3Aofi%2Ffmt%3Akev%3Amtx%3Ajournal&amp;rft.genre=article&amp;rft.jtitle=Journal+of+Artificial+Intelligence+Research&amp;rft.atitle=A+Primer+on+Neural+Network+Models+for+Natural+Language+Processing&amp;rft.volume=57&amp;rft.pages=345-420&amp;rft.date=2016&amp;rft_id=info%3Aarxiv%2F1807.10854&amp;rft_id=https%3A%2F%2Fapi.semanticscholar.org%2FCorpusID%3A8273530%23id-name%3DS2CID&amp;rft_id=info%3Adoi%2F10.1613%2Fjair.4992&amp;rft.aulast=Goldberg&amp;rft.aufirst=Yoav&amp;rfr_id=info%3Asid%2Fen.wikipedia.org%3ANatural+language+processing\" class=\"Z3988\"></span></span>\\n</li>\\n<li id=\"cite_note-goodfellow:book16-12\"><span class=\"mw-cite-backlink\"><b><a href=\"#cite_ref-goodfellow:book16_12-0\">^</a></b></span> <span class=\"reference-text\"><link rel=\"mw-deduplicated-inline-style\" href=\"mw-data:TemplateStyles:r1238218222\" /><cite id=\"CITEREFGoodfellowBengioCourville2016\" class=\"citation book cs1\">Goodfellow, Ian; Bengio, Yoshua; Courville, Aaron (2016). <a rel=\"nofollow\" class=\"external text\" href=\"http://www.deeplearningbook.org/\"><i>Deep Learning</i></a>. MIT Press.</cite><span title=\"ctx_ver=Z39.88-2004&amp;rft_val_fmt=info%3Aofi%2Ffmt%3Akev%3Amtx%3Abook&amp;rft.genre=book&amp;rft.btitle=Deep+Learning&amp;rft.pub=MIT+Press&amp;rft.date=2016&amp;rft.aulast=Goodfellow&amp;rft.aufirst=Ian&amp;rft.au=Bengio%2C+Yoshua&amp;rft.au=Courville%2C+Aaron&amp;rft_id=http%3A%2F%2Fwww.deeplearningbook.org%2F&amp;rfr_id=info%3Asid%2Fen.wikipedia.org%3ANatural+language+processing\" class=\"Z3988\"></span></span>\\n</li>\\n<li id=\"cite_note-jozefowicz:lm16-13\"><span class=\"mw-cite-backlink\"><b><a href=\"#cite_ref-jozefowicz:lm16_13-0\">^</a></b></span> <span class=\"reference-text\"><link rel=\"mw-deduplicated-inline-style\" href=\"mw-data:TemplateStyles:r1238218222\" /><cite id=\"CITEREFJozefowiczVinyalsSchusterShazeer2016\" class=\"citation book cs1\">Jozefowicz, Rafal; Vinyals, Oriol; Schuster, Mike; Shazeer, Noam; Wu, Yonghui (2016). <i>Exploring the Limits of Language Modeling</i>. <a href=\"/wiki/ArXiv_(identifier)\" class=\"mw-redirect\" title=\"ArXiv (identifier)\">arXiv</a>:<span class=\"id-lock-free\" title=\"Freely accessible\"><a rel=\"nofollow\" class=\"external text\" href=\"https://arxiv.org/abs/1602.02410\">1602.02410</a></span>. <a href=\"/wiki/Bibcode_(identifier)\" class=\"mw-redirect\" title=\"Bibcode (identifier)\">Bibcode</a>:<a rel=\"nofollow\" class=\"external text\" href=\"https://ui.adsabs.harvard.edu/abs/2016arXiv160202410J\">2016arXiv160202410J</a>.</cite><span title=\"ctx_ver=Z39.88-2004&amp;rft_val_fmt=info%3Aofi%2Ffmt%3Akev%3Amtx%3Abook&amp;rft.genre=book&amp;rft.btitle=Exploring+the+Limits+of+Language+Modeling&amp;rft.date=2016&amp;rft_id=info%3Aarxiv%2F1602.02410&amp;rft_id=info%3Abibcode%2F2016arXiv160202410J&amp;rft.aulast=Jozefowicz&amp;rft.aufirst=Rafal&amp;rft.au=Vinyals%2C+Oriol&amp;rft.au=Schuster%2C+Mike&amp;rft.au=Shazeer%2C+Noam&amp;rft.au=Wu%2C+Yonghui&amp;rfr_id=info%3Asid%2Fen.wikipedia.org%3ANatural+language+processing\" class=\"Z3988\"></span></span>\\n</li>\\n<li id=\"cite_note-choe:emnlp16-14\"><span class=\"mw-cite-backlink\"><b><a href=\"#cite_ref-choe:emnlp16_14-0\">^</a></b></span> <span class=\"reference-text\"><link rel=\"mw-deduplicated-inline-style\" href=\"mw-data:TemplateStyles:r1238218222\" /><cite id=\"CITEREFChoeCharniak\" class=\"citation journal cs1\">Choe, Do Kook; Charniak, Eugene. <a rel=\"nofollow\" class=\"external text\" href=\"https://web.archive.org/web/20181023034804/https://aclanthology.coli.uni-saarland.de/papers/D16-1257/d16-1257\">\"Parsing as Language Modeling\"</a>. <i>Emnlp 2016</i>. Archived from <a rel=\"nofollow\" class=\"external text\" href=\"https://aclanthology.coli.uni-saarland.de/papers/D16-1257/d16-1257\">the original</a> on 2018-10-23<span class=\"reference-accessdate\">. Retrieved <span class=\"nowrap\">2018-10-22</span></span>.</cite><span title=\"ctx_ver=Z39.88-2004&amp;rft_val_fmt=info%3Aofi%2Ffmt%3Akev%3Amtx%3Ajournal&amp;rft.genre=article&amp;rft.jtitle=Emnlp+2016&amp;rft.atitle=Parsing+as+Language+Modeling&amp;rft.aulast=Choe&amp;rft.aufirst=Do+Kook&amp;rft.au=Charniak%2C+Eugene&amp;rft_id=https%3A%2F%2Faclanthology.coli.uni-saarland.de%2Fpapers%2FD16-1257%2Fd16-1257&amp;rfr_id=info%3Asid%2Fen.wikipedia.org%3ANatural+language+processing\" class=\"Z3988\"></span></span>\\n</li>\\n<li id=\"cite_note-vinyals:nips15-15\"><span class=\"mw-cite-backlink\"><b><a href=\"#cite_ref-vinyals:nips15_15-0\">^</a></b></span> <span class=\"reference-text\"><link rel=\"mw-deduplicated-inline-style\" href=\"mw-data:TemplateStyles:r1238218222\" /><cite id=\"CITEREFVinyalsKaiser2014\" class=\"citation journal cs1\">Vinyals, Oriol; et&#160;al. (2014). <a rel=\"nofollow\" class=\"external text\" href=\"https://papers.nips.cc/paper/5635-grammar-as-a-foreign-language.pdf\">\"Grammar as a Foreign Language\"</a> <span class=\"cs1-format\">(PDF)</span>. <i>Nips2015</i>. <a href=\"/wiki/ArXiv_(identifier)\" class=\"mw-redirect\" title=\"ArXiv (identifier)\">arXiv</a>:<span class=\"id-lock-free\" title=\"Freely accessible\"><a rel=\"nofollow\" class=\"external text\" href=\"https://arxiv.org/abs/1412.7449\">1412.7449</a></span>. <a href=\"/wiki/Bibcode_(identifier)\" class=\"mw-redirect\" title=\"Bibcode (identifier)\">Bibcode</a>:<a rel=\"nofollow\" class=\"external text\" href=\"https://ui.adsabs.harvard.edu/abs/2014arXiv1412.7449V\">2014arXiv1412.7449V</a>.</cite><span title=\"ctx_ver=Z39.88-2004&amp;rft_val_fmt=info%3Aofi%2Ffmt%3Akev%3Amtx%3Ajournal&amp;rft.genre=article&amp;rft.jtitle=Nips2015&amp;rft.atitle=Grammar+as+a+Foreign+Language&amp;rft.date=2014&amp;rft_id=info%3Aarxiv%2F1412.7449&amp;rft_id=info%3Abibcode%2F2014arXiv1412.7449V&amp;rft.aulast=Vinyals&amp;rft.aufirst=Oriol&amp;rft.au=Kaiser%2C+Lukasz&amp;rft_id=https%3A%2F%2Fpapers.nips.cc%2Fpaper%2F5635-grammar-as-a-foreign-language.pdf&amp;rfr_id=info%3Asid%2Fen.wikipedia.org%3ANatural+language+processing\" class=\"Z3988\"></span></span>\\n</li>\\n<li id=\"cite_note-16\"><span class=\"mw-cite-backlink\"><b><a href=\"#cite_ref-16\">^</a></b></span> <span class=\"reference-text\"><link rel=\"mw-deduplicated-inline-style\" href=\"mw-data:TemplateStyles:r1238218222\" /><cite id=\"CITEREFTurchinFlorez_Builes2021\" class=\"citation journal cs1\">Turchin, Alexander; Florez Builes, Luisa F. (2021-03-19). <a rel=\"nofollow\" class=\"external text\" href=\"https://www.ncbi.nlm.nih.gov/pmc/articles/PMC8120048\">\"Using Natural Language Processing to Measure and Improve Quality of Diabetes Care: A Systematic Review\"</a>. <i>Journal of Diabetes Science and Technology</i>. <b>15</b> (3): <span class=\"nowrap\">553–</span>560. <a href=\"/wiki/Doi_(identifier)\" class=\"mw-redirect\" title=\"Doi (identifier)\">doi</a>:<a rel=\"nofollow\" class=\"external text\" href=\"https://doi.org/10.1177%2F19322968211000831\">10.1177/19322968211000831</a>. <a href=\"/wiki/ISSN_(identifier)\" class=\"mw-redirect\" title=\"ISSN (identifier)\">ISSN</a>&#160;<a rel=\"nofollow\" class=\"external text\" href=\"https://search.worldcat.org/issn/1932-2968\">1932-2968</a>. <a href=\"/wiki/PMC_(identifier)\" class=\"mw-redirect\" title=\"PMC (identifier)\">PMC</a>&#160;<span class=\"id-lock-free\" title=\"Freely accessible\"><a rel=\"nofollow\" class=\"external text\" href=\"https://www.ncbi.nlm.nih.gov/pmc/articles/PMC8120048\">8120048</a></span>. <a href=\"/wiki/PMID_(identifier)\" class=\"mw-redirect\" title=\"PMID (identifier)\">PMID</a>&#160;<a rel=\"nofollow\" class=\"external text\" href=\"https://pubmed.ncbi.nlm.nih.gov/33736486\">33736486</a>.</cite><span title=\"ctx_ver=Z39.88-2004&amp;rft_val_fmt=info%3Aofi%2Ffmt%3Akev%3Amtx%3Ajournal&amp;rft.genre=article&amp;rft.jtitle=Journal+of+Diabetes+Science+and+Technology&amp;rft.atitle=Using+Natural+Language+Processing+to+Measure+and+Improve+Quality+of+Diabetes+Care%3A+A+Systematic+Review&amp;rft.volume=15&amp;rft.issue=3&amp;rft.pages=553-560&amp;rft.date=2021-03-19&amp;rft_id=https%3A%2F%2Fwww.ncbi.nlm.nih.gov%2Fpmc%2Farticles%2FPMC8120048%23id-name%3DPMC&amp;rft.issn=1932-2968&amp;rft_id=info%3Apmid%2F33736486&amp;rft_id=info%3Adoi%2F10.1177%2F19322968211000831&amp;rft.aulast=Turchin&amp;rft.aufirst=Alexander&amp;rft.au=Florez+Builes%2C+Luisa+F.&amp;rft_id=https%3A%2F%2Fwww.ncbi.nlm.nih.gov%2Fpmc%2Farticles%2FPMC8120048&amp;rfr_id=info%3Asid%2Fen.wikipedia.org%3ANatural+language+processing\" class=\"Z3988\"></span></span>\\n</li>\\n<li id=\"cite_note-17\"><span class=\"mw-cite-backlink\"><b><a href=\"#cite_ref-17\">^</a></b></span> <span class=\"reference-text\"><link rel=\"mw-deduplicated-inline-style\" href=\"mw-data:TemplateStyles:r1238218222\" /><cite id=\"CITEREFLeeYangHolland-HallSezgin2022\" class=\"citation journal cs1\">Lee, Jennifer; Yang, Samuel; Holland-Hall, Cynthia; Sezgin, Emre; Gill, Manjot; Linwood, Simon; Huang, Yungui; Hoffman, Jeffrey (2022-06-10). <a rel=\"nofollow\" class=\"external text\" href=\"https://www.ncbi.nlm.nih.gov/pmc/articles/PMC9233261\">\"Prevalence of Sensitive Terms in Clinical Notes Using Natural Language Processing Techniques: Observational Study\"</a>. <i>JMIR Medical Informatics</i>. <b>10</b> (6): e38482. <a href=\"/wiki/Doi_(identifier)\" class=\"mw-redirect\" title=\"Doi (identifier)\">doi</a>:<span class=\"id-lock-free\" title=\"Freely accessible\"><a rel=\"nofollow\" class=\"external text\" href=\"https://doi.org/10.2196%2F38482\">10.2196/38482</a></span>. <a href=\"/wiki/ISSN_(identifier)\" class=\"mw-redirect\" title=\"ISSN (identifier)\">ISSN</a>&#160;<a rel=\"nofollow\" class=\"external text\" href=\"https://search.worldcat.org/issn/2291-9694\">2291-9694</a>. <a href=\"/wiki/PMC_(identifier)\" class=\"mw-redirect\" title=\"PMC (identifier)\">PMC</a>&#160;<span class=\"id-lock-free\" title=\"Freely accessible\"><a rel=\"nofollow\" class=\"external text\" href=\"https://www.ncbi.nlm.nih.gov/pmc/articles/PMC9233261\">9233261</a></span>. <a href=\"/wiki/PMID_(identifier)\" class=\"mw-redirect\" title=\"PMID (identifier)\">PMID</a>&#160;<a rel=\"nofollow\" class=\"external text\" href=\"https://pubmed.ncbi.nlm.nih.gov/35687381\">35687381</a>.</cite><span title=\"ctx_ver=Z39.88-2004&amp;rft_val_fmt=info%3Aofi%2Ffmt%3Akev%3Amtx%3Ajournal&amp;rft.genre=article&amp;rft.jtitle=JMIR+Medical+Informatics&amp;rft.atitle=Prevalence+of+Sensitive+Terms+in+Clinical+Notes+Using+Natural+Language+Processing+Techniques%3A+Observational+Study&amp;rft.volume=10&amp;rft.issue=6&amp;rft.pages=e38482&amp;rft.date=2022-06-10&amp;rft_id=https%3A%2F%2Fwww.ncbi.nlm.nih.gov%2Fpmc%2Farticles%2FPMC9233261%23id-name%3DPMC&amp;rft.issn=2291-9694&amp;rft_id=info%3Apmid%2F35687381&amp;rft_id=info%3Adoi%2F10.2196%2F38482&amp;rft.aulast=Lee&amp;rft.aufirst=Jennifer&amp;rft.au=Yang%2C+Samuel&amp;rft.au=Holland-Hall%2C+Cynthia&amp;rft.au=Sezgin%2C+Emre&amp;rft.au=Gill%2C+Manjot&amp;rft.au=Linwood%2C+Simon&amp;rft.au=Huang%2C+Yungui&amp;rft.au=Hoffman%2C+Jeffrey&amp;rft_id=https%3A%2F%2Fwww.ncbi.nlm.nih.gov%2Fpmc%2Farticles%2FPMC9233261&amp;rfr_id=info%3Asid%2Fen.wikipedia.org%3ANatural+language+processing\" class=\"Z3988\"></span></span>\\n</li>\\n<li id=\"cite_note-winograd:shrdlu71-18\"><span class=\"mw-cite-backlink\"><b><a href=\"#cite_ref-winograd:shrdlu71_18-0\">^</a></b></span> <span class=\"reference-text\"><link rel=\"mw-deduplicated-inline-style\" href=\"mw-data:TemplateStyles:r1238218222\" /><cite id=\"CITEREFWinograd1971\" class=\"citation thesis cs1\">Winograd, Terry (1971). <a rel=\"nofollow\" class=\"external text\" href=\"http://hci.stanford.edu/winograd/shrdlu/\"><i>Procedures as a Representation for Data in a Computer Program for Understanding Natural Language</i></a> (Thesis).</cite><span title=\"ctx_ver=Z39.88-2004&amp;rft_val_fmt=info%3Aofi%2Ffmt%3Akev%3Amtx%3Adissertation&amp;rft.title=Procedures+as+a+Representation+for+Data+in+a+Computer+Program+for+Understanding+Natural+Language&amp;rft.date=1971&amp;rft.aulast=Winograd&amp;rft.aufirst=Terry&amp;rft_id=http%3A%2F%2Fhci.stanford.edu%2Fwinograd%2Fshrdlu%2F&amp;rfr_id=info%3Asid%2Fen.wikipedia.org%3ANatural+language+processing\" class=\"Z3988\"></span></span>\\n</li>\\n<li id=\"cite_note-schank77-19\"><span class=\"mw-cite-backlink\"><b><a href=\"#cite_ref-schank77_19-0\">^</a></b></span> <span class=\"reference-text\"><link rel=\"mw-deduplicated-inline-style\" href=\"mw-data:TemplateStyles:r1238218222\" /><cite id=\"CITEREFSchankAbelson1977\" class=\"citation book cs1\">Schank, Roger C.; Abelson, Robert P. (1977). <i>Scripts, Plans, Goals, and Understanding: An Inquiry Into Human Knowledge Structures</i>. Hillsdale: Erlbaum. <a href=\"/wiki/ISBN_(identifier)\" class=\"mw-redirect\" title=\"ISBN (identifier)\">ISBN</a>&#160;<a href=\"/wiki/Special:BookSources/0-470-99033-3\" title=\"Special:BookSources/0-470-99033-3\"><bdi>0-470-99033-3</bdi></a>.</cite><span title=\"ctx_ver=Z39.88-2004&amp;rft_val_fmt=info%3Aofi%2Ffmt%3Akev%3Amtx%3Abook&amp;rft.genre=book&amp;rft.btitle=Scripts%2C+Plans%2C+Goals%2C+and+Understanding%3A+An+Inquiry+Into+Human+Knowledge+Structures&amp;rft.place=Hillsdale&amp;rft.pub=Erlbaum&amp;rft.date=1977&amp;rft.isbn=0-470-99033-3&amp;rft.aulast=Schank&amp;rft.aufirst=Roger+C.&amp;rft.au=Abelson%2C+Robert+P.&amp;rfr_id=info%3Asid%2Fen.wikipedia.org%3ANatural+language+processing\" class=\"Z3988\"></span></span>\\n</li>\\n<li id=\"cite_note-johnson:eacl:ilcl09-20\"><span class=\"mw-cite-backlink\"><b><a href=\"#cite_ref-johnson:eacl:ilcl09_20-0\">^</a></b></span> <span class=\"reference-text\"><a rel=\"nofollow\" class=\"external text\" href=\"http://www.aclweb.org/anthology/W09-0103\">Mark Johnson. How the statistical revolution changes (computational) linguistics.</a> Proceedings of the EACL 2009 Workshop on the Interaction between Linguistics and Computational Linguistics.</span>\\n</li>\\n<li id=\"cite_note-resnik:langlog11-21\"><span class=\"mw-cite-backlink\"><b><a href=\"#cite_ref-resnik:langlog11_21-0\">^</a></b></span> <span class=\"reference-text\"><a rel=\"nofollow\" class=\"external text\" href=\"http://languagelog.ldc.upenn.edu/nll/?p=2946\">Philip Resnik. Four revolutions.</a> Language Log, February 5, 2011.</span>\\n</li>\\n<li id=\"cite_note-22\"><span class=\"mw-cite-backlink\"><b><a href=\"#cite_ref-22\">^</a></b></span> <span class=\"reference-text\"><link rel=\"mw-deduplicated-inline-style\" href=\"mw-data:TemplateStyles:r1238218222\" /><cite id=\"CITEREFSocher\" class=\"citation web cs1\">Socher, Richard. <a rel=\"nofollow\" class=\"external text\" href=\"https://www.socher.org/index.php/Main/DeepLearningForNLP-ACL2012Tutorial\">\"Deep Learning For NLP-ACL 2012 Tutorial\"</a>. <i>www.socher.org</i><span class=\"reference-accessdate\">. Retrieved <span class=\"nowrap\">2020-08-17</span></span>.</cite><span title=\"ctx_ver=Z39.88-2004&amp;rft_val_fmt=info%3Aofi%2Ffmt%3Akev%3Amtx%3Ajournal&amp;rft.genre=unknown&amp;rft.jtitle=www.socher.org&amp;rft.atitle=Deep+Learning+For+NLP-ACL+2012+Tutorial&amp;rft.aulast=Socher&amp;rft.aufirst=Richard&amp;rft_id=https%3A%2F%2Fwww.socher.org%2Findex.php%2FMain%2FDeepLearningForNLP-ACL2012Tutorial&amp;rfr_id=info%3Asid%2Fen.wikipedia.org%3ANatural+language+processing\" class=\"Z3988\"></span> This was an early Deep Learning tutorial at the ACL 2012 and met with both interest and (at the time) skepticism by most participants. Until then, neural learning was basically rejected because of its lack of statistical interpretability. Until 2015, deep learning had evolved into the major framework of NLP. [Link is broken, try <a rel=\"nofollow\" class=\"external free\" href=\"http://web.stanford.edu/class/cs224n/\">http://web.stanford.edu/class/cs224n/</a>]</span>\\n</li>\\n<li id=\"cite_note-23\"><span class=\"mw-cite-backlink\"><b><a href=\"#cite_ref-23\">^</a></b></span> <span class=\"reference-text\"><link rel=\"mw-deduplicated-inline-style\" href=\"mw-data:TemplateStyles:r1238218222\" /><cite id=\"CITEREFSegev2022\" class=\"citation book cs1\">Segev, Elad (2022). <a rel=\"nofollow\" class=\"external text\" href=\"https://www.routledge.com/Semantic-Network-Analysis-in-Social-Sciences/Segev/p/book/9780367636524\"><i>Semantic Network Analysis in Social Sciences</i></a>. London: Routledge. <a href=\"/wiki/ISBN_(identifier)\" class=\"mw-redirect\" title=\"ISBN (identifier)\">ISBN</a>&#160;<a href=\"/wiki/Special:BookSources/9780367636524\" title=\"Special:BookSources/9780367636524\"><bdi>9780367636524</bdi></a>. <a rel=\"nofollow\" class=\"external text\" href=\"https://web.archive.org/web/20211205140726/https://www.routledge.com/Semantic-Network-Analysis-in-Social-Sciences/Segev/p/book/9780367636524\">Archived</a> from the original on 5 December 2021<span class=\"reference-accessdate\">. Retrieved <span class=\"nowrap\">5 December</span> 2021</span>.</cite><span title=\"ctx_ver=Z39.88-2004&amp;rft_val_fmt=info%3Aofi%2Ffmt%3Akev%3Amtx%3Abook&amp;rft.genre=book&amp;rft.btitle=Semantic+Network+Analysis+in+Social+Sciences&amp;rft.place=London&amp;rft.pub=Routledge&amp;rft.date=2022&amp;rft.isbn=9780367636524&amp;rft.aulast=Segev&amp;rft.aufirst=Elad&amp;rft_id=https%3A%2F%2Fwww.routledge.com%2FSemantic-Network-Analysis-in-Social-Sciences%2FSegev%2Fp%2Fbook%2F9780367636524&amp;rfr_id=info%3Asid%2Fen.wikipedia.org%3ANatural+language+processing\" class=\"Z3988\"></span></span>\\n</li>\\n<li id=\"cite_note-24\"><span class=\"mw-cite-backlink\"><b><a href=\"#cite_ref-24\">^</a></b></span> <span class=\"reference-text\"><link rel=\"mw-deduplicated-inline-style\" href=\"mw-data:TemplateStyles:r1238218222\" /><cite id=\"CITEREFYiTian2012\" class=\"citation cs2\">Yi, Chucai; <a href=\"/wiki/Yingli_Tian\" title=\"Yingli Tian\">Tian, Yingli</a> (2012), \"Assistive Text Reading from Complex Background for Blind Persons\", <i>Camera-Based Document Analysis and Recognition</i>, Lecture Notes in Computer Science, vol.&#160;7139, Springer Berlin Heidelberg, pp.&#160;<span class=\"nowrap\">15–</span>28, <a href=\"/wiki/CiteSeerX_(identifier)\" class=\"mw-redirect\" title=\"CiteSeerX (identifier)\">CiteSeerX</a>&#160;<span class=\"id-lock-free\" title=\"Freely accessible\"><a rel=\"nofollow\" class=\"external text\" href=\"https://citeseerx.ist.psu.edu/viewdoc/summary?doi=10.1.1.668.869\">10.1.1.668.869</a></span>, <a href=\"/wiki/Doi_(identifier)\" class=\"mw-redirect\" title=\"Doi (identifier)\">doi</a>:<a rel=\"nofollow\" class=\"external text\" href=\"https://doi.org/10.1007%2F978-3-642-29364-1_2\">10.1007/978-3-642-29364-1_2</a>, <a href=\"/wiki/ISBN_(identifier)\" class=\"mw-redirect\" title=\"ISBN (identifier)\">ISBN</a>&#160;<a href=\"/wiki/Special:BookSources/9783642293634\" title=\"Special:BookSources/9783642293634\"><bdi>9783642293634</bdi></a></cite><span title=\"ctx_ver=Z39.88-2004&amp;rft_val_fmt=info%3Aofi%2Ffmt%3Akev%3Amtx%3Ajournal&amp;rft.genre=article&amp;rft.jtitle=Camera-Based+Document+Analysis+and+Recognition&amp;rft.atitle=Assistive+Text+Reading+from+Complex+Background+for+Blind+Persons&amp;rft.volume=7139&amp;rft.pages=15-28&amp;rft.date=2012&amp;rft_id=https%3A%2F%2Fciteseerx.ist.psu.edu%2Fviewdoc%2Fsummary%3Fdoi%3D10.1.1.668.869%23id-name%3DCiteSeerX&amp;rft_id=info%3Adoi%2F10.1007%2F978-3-642-29364-1_2&amp;rft.isbn=9783642293634&amp;rft.aulast=Yi&amp;rft.aufirst=Chucai&amp;rft.au=Tian%2C+Yingli&amp;rfr_id=info%3Asid%2Fen.wikipedia.org%3ANatural+language+processing\" class=\"Z3988\"></span></span>\\n</li>\\n<li id=\"cite_note-:0-25\"><span class=\"mw-cite-backlink\">^ <a href=\"#cite_ref-:0_25-0\"><sup><i><b>a</b></i></sup></a> <a href=\"#cite_ref-:0_25-1\"><sup><i><b>b</b></i></sup></a></span> <span class=\"reference-text\"><link rel=\"mw-deduplicated-inline-style\" href=\"mw-data:TemplateStyles:r1238218222\" /><cite class=\"citation web cs1\"><a rel=\"nofollow\" class=\"external text\" href=\"https://www.deeplearning.ai/resources/natural-language-processing/\">\"Natural Language Processing (NLP) - A Complete Guide\"</a>. <i>www.deeplearning.ai</i>. 2023-01-11<span class=\"reference-accessdate\">. Retrieved <span class=\"nowrap\">2024-05-05</span></span>.</cite><span title=\"ctx_ver=Z39.88-2004&amp;rft_val_fmt=info%3Aofi%2Ffmt%3Akev%3Amtx%3Ajournal&amp;rft.genre=unknown&amp;rft.jtitle=www.deeplearning.ai&amp;rft.atitle=Natural+Language+Processing+%28NLP%29+-+A+Complete+Guide&amp;rft.date=2023-01-11&amp;rft_id=https%3A%2F%2Fwww.deeplearning.ai%2Fresources%2Fnatural-language-processing%2F&amp;rfr_id=info%3Asid%2Fen.wikipedia.org%3ANatural+language+processing\" class=\"Z3988\"></span></span>\\n</li>\\n<li id=\"cite_note-26\"><span class=\"mw-cite-backlink\"><b><a href=\"#cite_ref-26\">^</a></b></span> <span class=\"reference-text\"><link rel=\"mw-deduplicated-inline-style\" href=\"mw-data:TemplateStyles:r1238218222\" /><cite class=\"citation web cs1\"><a rel=\"nofollow\" class=\"external text\" href=\"https://www.gyansetu.in/what-is-natural-language-processing/\">\"What is Natural Language Processing? Intro to NLP in Machine Learning\"</a>. <i>GyanSetu!</i>. 2020-12-06<span class=\"reference-accessdate\">. Retrieved <span class=\"nowrap\">2021-01-09</span></span>.</cite><span title=\"ctx_ver=Z39.88-2004&amp;rft_val_fmt=info%3Aofi%2Ffmt%3Akev%3Amtx%3Ajournal&amp;rft.genre=unknown&amp;rft.jtitle=GyanSetu%21&amp;rft.atitle=What+is+Natural+Language+Processing%3F+Intro+to+NLP+in+Machine+Learning&amp;rft.date=2020-12-06&amp;rft_id=https%3A%2F%2Fwww.gyansetu.in%2Fwhat-is-natural-language-processing%2F&amp;rfr_id=info%3Asid%2Fen.wikipedia.org%3ANatural+language+processing\" class=\"Z3988\"></span></span>\\n</li>\\n<li id=\"cite_note-27\"><span class=\"mw-cite-backlink\"><b><a href=\"#cite_ref-27\">^</a></b></span> <span class=\"reference-text\"><link rel=\"mw-deduplicated-inline-style\" href=\"mw-data:TemplateStyles:r1238218222\" /><cite id=\"CITEREFKishorjitVidyaNirmalSivaji2012\" class=\"citation journal cs1\">Kishorjit, N.; Vidya, Raj RK.; Nirmal, Y.; Sivaji, B. (2012). <a rel=\"nofollow\" class=\"external text\" href=\"http://aclweb.org/anthology//W/W12/W12-5008.pdf\">\"Manipuri Morpheme Identification\"</a> <span class=\"cs1-format\">(PDF)</span>. <i>Proceedings of the 3rd Workshop on South and Southeast Asian Natural Language Processing (SANLP)</i>. COLING 2012, Mumbai, December 2012: <span class=\"nowrap\">95–</span>108.</cite><span title=\"ctx_ver=Z39.88-2004&amp;rft_val_fmt=info%3Aofi%2Ffmt%3Akev%3Amtx%3Ajournal&amp;rft.genre=article&amp;rft.jtitle=Proceedings+of+the+3rd+Workshop+on+South+and+Southeast+Asian+Natural+Language+Processing+%28SANLP%29&amp;rft.atitle=Manipuri+Morpheme+Identification&amp;rft.pages=95-108&amp;rft.date=2012&amp;rft.aulast=Kishorjit&amp;rft.aufirst=N.&amp;rft.au=Vidya%2C+Raj+RK.&amp;rft.au=Nirmal%2C+Y.&amp;rft.au=Sivaji%2C+B.&amp;rft_id=http%3A%2F%2Faclweb.org%2Fanthology%2F%2FW%2FW12%2FW12-5008.pdf&amp;rfr_id=info%3Asid%2Fen.wikipedia.org%3ANatural+language+processing\" class=\"Z3988\"></span><span class=\"cs1-maint citation-comment\"><code class=\"cs1-code\">{{<a href=\"/wiki/Template:Cite_journal\" title=\"Template:Cite journal\">cite journal</a>}}</code>:  CS1 maint: location (<a href=\"/wiki/Category:CS1_maint:_location\" title=\"Category:CS1 maint: location\">link</a>)</span></span>\\n</li>\\n<li id=\"cite_note-28\"><span class=\"mw-cite-backlink\"><b><a href=\"#cite_ref-28\">^</a></b></span> <span class=\"reference-text\"><link rel=\"mw-deduplicated-inline-style\" href=\"mw-data:TemplateStyles:r1238218222\" /><cite id=\"CITEREFKleinManning2002\" class=\"citation journal cs1\">Klein, Dan; Manning, Christopher D. (2002). <a rel=\"nofollow\" class=\"external text\" href=\"http://papers.nips.cc/paper/1945-natural-language-grammar-induction-using-a-constituent-context-model.pdf\">\"Natural language grammar induction using a constituent-context model\"</a> <span class=\"cs1-format\">(PDF)</span>. <i>Advances in Neural Information Processing Systems</i>.</cite><span title=\"ctx_ver=Z39.88-2004&amp;rft_val_fmt=info%3Aofi%2Ffmt%3Akev%3Amtx%3Ajournal&amp;rft.genre=article&amp;rft.jtitle=Advances+in+Neural+Information+Processing+Systems&amp;rft.atitle=Natural+language+grammar+induction+using+a+constituent-context+model&amp;rft.date=2002&amp;rft.aulast=Klein&amp;rft.aufirst=Dan&amp;rft.au=Manning%2C+Christopher+D.&amp;rft_id=http%3A%2F%2Fpapers.nips.cc%2Fpaper%2F1945-natural-language-grammar-induction-using-a-constituent-context-model.pdf&amp;rfr_id=info%3Asid%2Fen.wikipedia.org%3ANatural+language+processing\" class=\"Z3988\"></span></span>\\n</li>\\n<li id=\"cite_note-29\"><span class=\"mw-cite-backlink\"><b><a href=\"#cite_ref-29\">^</a></b></span> <span class=\"reference-text\"><link rel=\"mw-deduplicated-inline-style\" href=\"mw-data:TemplateStyles:r1238218222\" /><cite id=\"CITEREFKariampuzhaAlyeaQuSanjak2023\" class=\"citation journal cs1\">Kariampuzha, William; Alyea, Gioconda; Qu, Sue; Sanjak, Jaleal; Mathé, Ewy; Sid, Eric; Chatelaine, Haley; Yadaw, Arjun; Xu, Yanji; Zhu, Qian (2023). <a rel=\"nofollow\" class=\"external text\" href=\"https://www.ncbi.nlm.nih.gov/pmc/articles/PMC9972634\">\"Precision information extraction for rare disease epidemiology at scale\"</a>. <i>Journal of Translational Medicine</i>. <b>21</b> (1): 157. <a href=\"/wiki/Doi_(identifier)\" class=\"mw-redirect\" title=\"Doi (identifier)\">doi</a>:<span class=\"id-lock-free\" title=\"Freely accessible\"><a rel=\"nofollow\" class=\"external text\" href=\"https://doi.org/10.1186%2Fs12967-023-04011-y\">10.1186/s12967-023-04011-y</a></span>. <a href=\"/wiki/PMC_(identifier)\" class=\"mw-redirect\" title=\"PMC (identifier)\">PMC</a>&#160;<span class=\"id-lock-free\" title=\"Freely accessible\"><a rel=\"nofollow\" class=\"external text\" href=\"https://www.ncbi.nlm.nih.gov/pmc/articles/PMC9972634\">9972634</a></span>. <a href=\"/wiki/PMID_(identifier)\" class=\"mw-redirect\" title=\"PMID (identifier)\">PMID</a>&#160;<a rel=\"nofollow\" class=\"external text\" href=\"https://pubmed.ncbi.nlm.nih.gov/36855134\">36855134</a>.</cite><span title=\"ctx_ver=Z39.88-2004&amp;rft_val_fmt=info%3Aofi%2Ffmt%3Akev%3Amtx%3Ajournal&amp;rft.genre=article&amp;rft.jtitle=Journal+of+Translational+Medicine&amp;rft.atitle=Precision+information+extraction+for+rare+disease+epidemiology+at+scale&amp;rft.volume=21&amp;rft.issue=1&amp;rft.pages=157&amp;rft.date=2023&amp;rft_id=https%3A%2F%2Fwww.ncbi.nlm.nih.gov%2Fpmc%2Farticles%2FPMC9972634%23id-name%3DPMC&amp;rft_id=info%3Apmid%2F36855134&amp;rft_id=info%3Adoi%2F10.1186%2Fs12967-023-04011-y&amp;rft.aulast=Kariampuzha&amp;rft.aufirst=William&amp;rft.au=Alyea%2C+Gioconda&amp;rft.au=Qu%2C+Sue&amp;rft.au=Sanjak%2C+Jaleal&amp;rft.au=Math%C3%A9%2C+Ewy&amp;rft.au=Sid%2C+Eric&amp;rft.au=Chatelaine%2C+Haley&amp;rft.au=Yadaw%2C+Arjun&amp;rft.au=Xu%2C+Yanji&amp;rft.au=Zhu%2C+Qian&amp;rft_id=https%3A%2F%2Fwww.ncbi.nlm.nih.gov%2Fpmc%2Farticles%2FPMC9972634&amp;rfr_id=info%3Asid%2Fen.wikipedia.org%3ANatural+language+processing\" class=\"Z3988\"></span></span>\\n</li>\\n<li id=\"cite_note-rte:11-30\"><span class=\"mw-cite-backlink\"><b><a href=\"#cite_ref-rte:11_30-0\">^</a></b></span> <span class=\"reference-text\">PASCAL Recognizing Textual Entailment Challenge (RTE-7) <a rel=\"nofollow\" class=\"external free\" href=\"https://tac.nist.gov//2011/RTE/\">https://tac.nist.gov//2011/RTE/</a></span>\\n</li>\\n<li id=\"cite_note-31\"><span class=\"mw-cite-backlink\"><b><a href=\"#cite_ref-31\">^</a></b></span> <span class=\"reference-text\"><link rel=\"mw-deduplicated-inline-style\" href=\"mw-data:TemplateStyles:r1238218222\" /><cite id=\"CITEREFLippiTorroni2016\" class=\"citation journal cs1\">Lippi, Marco; Torroni, Paolo (2016-04-20). <a rel=\"nofollow\" class=\"external text\" href=\"https://dl.acm.org/doi/10.1145/2850417\">\"Argumentation Mining: State of the Art and Emerging Trends\"</a>. <i>ACM Transactions on Internet Technology</i>. <b>16</b> (2): <span class=\"nowrap\">1–</span>25. <a href=\"/wiki/Doi_(identifier)\" class=\"mw-redirect\" title=\"Doi (identifier)\">doi</a>:<a rel=\"nofollow\" class=\"external text\" href=\"https://doi.org/10.1145%2F2850417\">10.1145/2850417</a>. <a href=\"/wiki/Hdl_(identifier)\" class=\"mw-redirect\" title=\"Hdl (identifier)\">hdl</a>:<span class=\"id-lock-free\" title=\"Freely accessible\"><a rel=\"nofollow\" class=\"external text\" href=\"https://hdl.handle.net/11585%2F523460\">11585/523460</a></span>. <a href=\"/wiki/ISSN_(identifier)\" class=\"mw-redirect\" title=\"ISSN (identifier)\">ISSN</a>&#160;<a rel=\"nofollow\" class=\"external text\" href=\"https://search.worldcat.org/issn/1533-5399\">1533-5399</a>. <a href=\"/wiki/S2CID_(identifier)\" class=\"mw-redirect\" title=\"S2CID (identifier)\">S2CID</a>&#160;<a rel=\"nofollow\" class=\"external text\" href=\"https://api.semanticscholar.org/CorpusID:9561587\">9561587</a>.</cite><span title=\"ctx_ver=Z39.88-2004&amp;rft_val_fmt=info%3Aofi%2Ffmt%3Akev%3Amtx%3Ajournal&amp;rft.genre=article&amp;rft.jtitle=ACM+Transactions+on+Internet+Technology&amp;rft.atitle=Argumentation+Mining%3A+State+of+the+Art+and+Emerging+Trends&amp;rft.volume=16&amp;rft.issue=2&amp;rft.pages=1-25&amp;rft.date=2016-04-20&amp;rft_id=info%3Ahdl%2F11585%2F523460&amp;rft_id=https%3A%2F%2Fapi.semanticscholar.org%2FCorpusID%3A9561587%23id-name%3DS2CID&amp;rft.issn=1533-5399&amp;rft_id=info%3Adoi%2F10.1145%2F2850417&amp;rft.aulast=Lippi&amp;rft.aufirst=Marco&amp;rft.au=Torroni%2C+Paolo&amp;rft_id=https%3A%2F%2Fdl.acm.org%2Fdoi%2F10.1145%2F2850417&amp;rfr_id=info%3Asid%2Fen.wikipedia.org%3ANatural+language+processing\" class=\"Z3988\"></span></span>\\n</li>\\n<li id=\"cite_note-32\"><span class=\"mw-cite-backlink\"><b><a href=\"#cite_ref-32\">^</a></b></span> <span class=\"reference-text\"><link rel=\"mw-deduplicated-inline-style\" href=\"mw-data:TemplateStyles:r1238218222\" /><cite class=\"citation web cs1\"><a rel=\"nofollow\" class=\"external text\" href=\"https://www.i3s.unice.fr/~villata/tutorialIJCAI2016.html\">\"Argument Mining – IJCAI2016 Tutorial\"</a>. <i>www.i3s.unice.fr</i><span class=\"reference-accessdate\">. Retrieved <span class=\"nowrap\">2021-03-09</span></span>.</cite><span title=\"ctx_ver=Z39.88-2004&amp;rft_val_fmt=info%3Aofi%2Ffmt%3Akev%3Amtx%3Ajournal&amp;rft.genre=unknown&amp;rft.jtitle=www.i3s.unice.fr&amp;rft.atitle=Argument+Mining+%E2%80%93+IJCAI2016+Tutorial&amp;rft_id=https%3A%2F%2Fwww.i3s.unice.fr%2F~villata%2FtutorialIJCAI2016.html&amp;rfr_id=info%3Asid%2Fen.wikipedia.org%3ANatural+language+processing\" class=\"Z3988\"></span></span>\\n</li>\\n<li id=\"cite_note-33\"><span class=\"mw-cite-backlink\"><b><a href=\"#cite_ref-33\">^</a></b></span> <span class=\"reference-text\"><link rel=\"mw-deduplicated-inline-style\" href=\"mw-data:TemplateStyles:r1238218222\" /><cite class=\"citation web cs1\"><a rel=\"nofollow\" class=\"external text\" href=\"http://acl2016tutorial.arg.tech/\">\"NLP Approaches to Computational Argumentation – ACL 2016, Berlin\"</a><span class=\"reference-accessdate\">. Retrieved <span class=\"nowrap\">2021-03-09</span></span>.</cite><span title=\"ctx_ver=Z39.88-2004&amp;rft_val_fmt=info%3Aofi%2Ffmt%3Akev%3Amtx%3Abook&amp;rft.genre=unknown&amp;rft.btitle=NLP+Approaches+to+Computational+Argumentation+%E2%80%93+ACL+2016%2C+Berlin&amp;rft_id=http%3A%2F%2Facl2016tutorial.arg.tech%2F&amp;rfr_id=info%3Asid%2Fen.wikipedia.org%3ANatural+language+processing\" class=\"Z3988\"></span></span>\\n</li>\\n<li id=\"cite_note-34\"><span class=\"mw-cite-backlink\"><b><a href=\"#cite_ref-34\">^</a></b></span> <span class=\"reference-text\"><link rel=\"mw-deduplicated-inline-style\" href=\"mw-data:TemplateStyles:r1238218222\" /><cite id=\"CITEREFAdministration\" class=\"citation web cs1\">Administration. <a rel=\"nofollow\" class=\"external text\" href=\"https://www.mq.edu.au/research/research-centres-groups-and-facilities/innovative-technologies/centres/centre-for-language-technology-clt\">\"Centre for Language Technology (CLT)\"</a>. <i>Macquarie University</i><span class=\"reference-accessdate\">. Retrieved <span class=\"nowrap\">2021-01-11</span></span>.</cite><span title=\"ctx_ver=Z39.88-2004&amp;rft_val_fmt=info%3Aofi%2Ffmt%3Akev%3Amtx%3Ajournal&amp;rft.genre=unknown&amp;rft.jtitle=Macquarie+University&amp;rft.atitle=Centre+for+Language+Technology+%28CLT%29&amp;rft.au=Administration&amp;rft_id=https%3A%2F%2Fwww.mq.edu.au%2Fresearch%2Fresearch-centres-groups-and-facilities%2Finnovative-technologies%2Fcentres%2Fcentre-for-language-technology-clt&amp;rfr_id=info%3Asid%2Fen.wikipedia.org%3ANatural+language+processing\" class=\"Z3988\"></span></span>\\n</li>\\n<li id=\"cite_note-35\"><span class=\"mw-cite-backlink\"><b><a href=\"#cite_ref-35\">^</a></b></span> <span class=\"reference-text\"><link rel=\"mw-deduplicated-inline-style\" href=\"mw-data:TemplateStyles:r1238218222\" /><cite class=\"citation web cs1\"><a rel=\"nofollow\" class=\"external text\" href=\"https://www.comp.nus.edu.sg/~nlp/conll13st.html\">\"Shared Task: Grammatical Error Correction\"</a>. <i>www.comp.nus.edu.sg</i><span class=\"reference-accessdate\">. Retrieved <span class=\"nowrap\">2021-01-11</span></span>.</cite><span title=\"ctx_ver=Z39.88-2004&amp;rft_val_fmt=info%3Aofi%2Ffmt%3Akev%3Amtx%3Ajournal&amp;rft.genre=unknown&amp;rft.jtitle=www.comp.nus.edu.sg&amp;rft.atitle=Shared+Task%3A+Grammatical+Error+Correction&amp;rft_id=https%3A%2F%2Fwww.comp.nus.edu.sg%2F~nlp%2Fconll13st.html&amp;rfr_id=info%3Asid%2Fen.wikipedia.org%3ANatural+language+processing\" class=\"Z3988\"></span></span>\\n</li>\\n<li id=\"cite_note-36\"><span class=\"mw-cite-backlink\"><b><a href=\"#cite_ref-36\">^</a></b></span> <span class=\"reference-text\"><link rel=\"mw-deduplicated-inline-style\" href=\"mw-data:TemplateStyles:r1238218222\" /><cite class=\"citation web cs1\"><a rel=\"nofollow\" class=\"external text\" href=\"https://www.comp.nus.edu.sg/~nlp/conll14st.html\">\"Shared Task: Grammatical Error Correction\"</a>. <i>www.comp.nus.edu.sg</i><span class=\"reference-accessdate\">. Retrieved <span class=\"nowrap\">2021-01-11</span></span>.</cite><span title=\"ctx_ver=Z39.88-2004&amp;rft_val_fmt=info%3Aofi%2Ffmt%3Akev%3Amtx%3Ajournal&amp;rft.genre=unknown&amp;rft.jtitle=www.comp.nus.edu.sg&amp;rft.atitle=Shared+Task%3A+Grammatical+Error+Correction&amp;rft_id=https%3A%2F%2Fwww.comp.nus.edu.sg%2F~nlp%2Fconll14st.html&amp;rfr_id=info%3Asid%2Fen.wikipedia.org%3ANatural+language+processing\" class=\"Z3988\"></span></span>\\n</li>\\n<li id=\"cite_note-37\"><span class=\"mw-cite-backlink\"><b><a href=\"#cite_ref-37\">^</a></b></span> <span class=\"reference-text\"><link rel=\"mw-deduplicated-inline-style\" href=\"mw-data:TemplateStyles:r1238218222\" /><cite id=\"CITEREFDuanCruz2011\" class=\"citation journal cs1\">Duan, Yucong; Cruz, Christophe (2011). <a rel=\"nofollow\" class=\"external text\" href=\"https://web.archive.org/web/20111009135952/http://www.ijimt.org/abstract/100-E00187.htm\">\"Formalizing Semantic of Natural Language through Conceptualization from Existence\"</a>. <i>International Journal of Innovation, Management and Technology</i>. <b>2</b> (1): <span class=\"nowrap\">37–</span>42. Archived from <a rel=\"nofollow\" class=\"external text\" href=\"http://www.ijimt.org/abstract/100-E00187.htm\">the original</a> on 2011-10-09.</cite><span title=\"ctx_ver=Z39.88-2004&amp;rft_val_fmt=info%3Aofi%2Ffmt%3Akev%3Amtx%3Ajournal&amp;rft.genre=article&amp;rft.jtitle=International+Journal+of+Innovation%2C+Management+and+Technology&amp;rft.atitle=Formalizing+Semantic+of+Natural+Language+through+Conceptualization+from+Existence&amp;rft.volume=2&amp;rft.issue=1&amp;rft.pages=37-42&amp;rft.date=2011&amp;rft.aulast=Duan&amp;rft.aufirst=Yucong&amp;rft.au=Cruz%2C+Christophe&amp;rft_id=http%3A%2F%2Fwww.ijimt.org%2Fabstract%2F100-E00187.htm&amp;rfr_id=info%3Asid%2Fen.wikipedia.org%3ANatural+language+processing\" class=\"Z3988\"></span></span>\\n</li>\\n<li id=\"cite_note-38\"><span class=\"mw-cite-backlink\"><b><a href=\"#cite_ref-38\">^</a></b></span> <span class=\"reference-text\"><link rel=\"mw-deduplicated-inline-style\" href=\"mw-data:TemplateStyles:r1238218222\" /><cite class=\"citation web cs1\"><a rel=\"nofollow\" class=\"external text\" href=\"http://www.ubu.com/historical/racter/index.html\">\"U B U W E B&#160;:: Racter\"</a>. <i>www.ubu.com</i><span class=\"reference-accessdate\">. Retrieved <span class=\"nowrap\">2020-08-17</span></span>.</cite><span title=\"ctx_ver=Z39.88-2004&amp;rft_val_fmt=info%3Aofi%2Ffmt%3Akev%3Amtx%3Ajournal&amp;rft.genre=unknown&amp;rft.jtitle=www.ubu.com&amp;rft.atitle=U+B+U+W+E+B+%3A%3A+Racter&amp;rft_id=http%3A%2F%2Fwww.ubu.com%2Fhistorical%2Fracter%2Findex.html&amp;rfr_id=info%3Asid%2Fen.wikipedia.org%3ANatural+language+processing\" class=\"Z3988\"></span></span>\\n</li>\\n<li id=\"cite_note-39\"><span class=\"mw-cite-backlink\"><b><a href=\"#cite_ref-39\">^</a></b></span> <span class=\"reference-text\"><link rel=\"mw-deduplicated-inline-style\" href=\"mw-data:TemplateStyles:r1238218222\" /><cite id=\"CITEREFWriter2019\" class=\"citation book cs1\">Writer, Beta (2019). <i>Lithium-Ion Batteries</i>. <a href=\"/wiki/Doi_(identifier)\" class=\"mw-redirect\" title=\"Doi (identifier)\">doi</a>:<a rel=\"nofollow\" class=\"external text\" href=\"https://doi.org/10.1007%2F978-3-030-16800-1\">10.1007/978-3-030-16800-1</a>. <a href=\"/wiki/ISBN_(identifier)\" class=\"mw-redirect\" title=\"ISBN (identifier)\">ISBN</a>&#160;<a href=\"/wiki/Special:BookSources/978-3-030-16799-8\" title=\"Special:BookSources/978-3-030-16799-8\"><bdi>978-3-030-16799-8</bdi></a>. <a href=\"/wiki/S2CID_(identifier)\" class=\"mw-redirect\" title=\"S2CID (identifier)\">S2CID</a>&#160;<a rel=\"nofollow\" class=\"external text\" href=\"https://api.semanticscholar.org/CorpusID:155818532\">155818532</a>.</cite><span title=\"ctx_ver=Z39.88-2004&amp;rft_val_fmt=info%3Aofi%2Ffmt%3Akev%3Amtx%3Abook&amp;rft.genre=book&amp;rft.btitle=Lithium-Ion+Batteries&amp;rft.date=2019&amp;rft_id=https%3A%2F%2Fapi.semanticscholar.org%2FCorpusID%3A155818532%23id-name%3DS2CID&amp;rft_id=info%3Adoi%2F10.1007%2F978-3-030-16800-1&amp;rft.isbn=978-3-030-16799-8&amp;rft.aulast=Writer&amp;rft.aufirst=Beta&amp;rfr_id=info%3Asid%2Fen.wikipedia.org%3ANatural+language+processing\" class=\"Z3988\"></span></span>\\n</li>\\n<li id=\"cite_note-40\"><span class=\"mw-cite-backlink\"><b><a href=\"#cite_ref-40\">^</a></b></span> <span class=\"reference-text\"><link rel=\"mw-deduplicated-inline-style\" href=\"mw-data:TemplateStyles:r1238218222\" /><cite class=\"citation web cs1\"><a rel=\"nofollow\" class=\"external text\" href=\"https://ghostarchive.org/varchive/youtube/20211030/7dtl650D0y0\">\"Document Understanding AI on Google Cloud (Cloud Next \\'19) – YouTube\"</a>. <i>www.youtube.com</i>. 11 April 2019. Archived from <a rel=\"nofollow\" class=\"external text\" href=\"https://www.youtube.com/watch?v=7dtl650D0y0\">the original</a> on 2021-10-30<span class=\"reference-accessdate\">. Retrieved <span class=\"nowrap\">2021-01-11</span></span>.</cite><span title=\"ctx_ver=Z39.88-2004&amp;rft_val_fmt=info%3Aofi%2Ffmt%3Akev%3Amtx%3Ajournal&amp;rft.genre=unknown&amp;rft.jtitle=www.youtube.com&amp;rft.atitle=Document+Understanding+AI+on+Google+Cloud+%28Cloud+Next+%2719%29+%E2%80%93+YouTube&amp;rft.date=2019-04-11&amp;rft_id=https%3A%2F%2Fwww.youtube.com%2Fwatch%3Fv%3D7dtl650D0y0&amp;rfr_id=info%3Asid%2Fen.wikipedia.org%3ANatural+language+processing\" class=\"Z3988\"></span></span>\\n</li>\\n<li id=\"cite_note-41\"><span class=\"mw-cite-backlink\"><b><a href=\"#cite_ref-41\">^</a></b></span> <span class=\"reference-text\"><link rel=\"mw-deduplicated-inline-style\" href=\"mw-data:TemplateStyles:r1238218222\" /><cite id=\"CITEREFRobertson2022\" class=\"citation web cs1\">Robertson, Adi (2022-04-06). <a rel=\"nofollow\" class=\"external text\" href=\"https://www.theverge.com/2022/4/6/23012123/openai-clip-dalle-2-ai-text-to-image-generator-testing\">\"OpenAI\\'s DALL-E AI image generator can now edit pictures, too\"</a>. <i>The Verge</i><span class=\"reference-accessdate\">. Retrieved <span class=\"nowrap\">2022-06-07</span></span>.</cite><span title=\"ctx_ver=Z39.88-2004&amp;rft_val_fmt=info%3Aofi%2Ffmt%3Akev%3Amtx%3Ajournal&amp;rft.genre=unknown&amp;rft.jtitle=The+Verge&amp;rft.atitle=OpenAI%27s+DALL-E+AI+image+generator+can+now+edit+pictures%2C+too&amp;rft.date=2022-04-06&amp;rft.aulast=Robertson&amp;rft.aufirst=Adi&amp;rft_id=https%3A%2F%2Fwww.theverge.com%2F2022%2F4%2F6%2F23012123%2Fopenai-clip-dalle-2-ai-text-to-image-generator-testing&amp;rfr_id=info%3Asid%2Fen.wikipedia.org%3ANatural+language+processing\" class=\"Z3988\"></span></span>\\n</li>\\n<li id=\"cite_note-42\"><span class=\"mw-cite-backlink\"><b><a href=\"#cite_ref-42\">^</a></b></span> <span class=\"reference-text\"><link rel=\"mw-deduplicated-inline-style\" href=\"mw-data:TemplateStyles:r1238218222\" /><cite class=\"citation web cs1\"><a rel=\"nofollow\" class=\"external text\" href=\"https://nlp.stanford.edu/projects/text2scene.shtml\">\"The Stanford Natural Language Processing Group\"</a>. <i>nlp.stanford.edu</i><span class=\"reference-accessdate\">. Retrieved <span class=\"nowrap\">2022-06-07</span></span>.</cite><span title=\"ctx_ver=Z39.88-2004&amp;rft_val_fmt=info%3Aofi%2Ffmt%3Akev%3Amtx%3Ajournal&amp;rft.genre=unknown&amp;rft.jtitle=nlp.stanford.edu&amp;rft.atitle=The+Stanford+Natural+Language+Processing+Group&amp;rft_id=https%3A%2F%2Fnlp.stanford.edu%2Fprojects%2Ftext2scene.shtml&amp;rfr_id=info%3Asid%2Fen.wikipedia.org%3ANatural+language+processing\" class=\"Z3988\"></span></span>\\n</li>\\n<li id=\"cite_note-43\"><span class=\"mw-cite-backlink\"><b><a href=\"#cite_ref-43\">^</a></b></span> <span class=\"reference-text\"><link rel=\"mw-deduplicated-inline-style\" href=\"mw-data:TemplateStyles:r1238218222\" /><cite id=\"CITEREFCoyneSproat2001\" class=\"citation book cs1\">Coyne, Bob; Sproat, Richard (2001-08-01). <a rel=\"nofollow\" class=\"external text\" href=\"https://doi.org/10.1145/383259.383316\">\"WordsEye\"</a>. <i>Proceedings of the 28th annual conference on Computer graphics and interactive techniques</i>. SIGGRAPH \\'01. New York, NY, USA: Association for Computing Machinery. pp.&#160;<span class=\"nowrap\">487–</span>496. <a href=\"/wiki/Doi_(identifier)\" class=\"mw-redirect\" title=\"Doi (identifier)\">doi</a>:<a rel=\"nofollow\" class=\"external text\" href=\"https://doi.org/10.1145%2F383259.383316\">10.1145/383259.383316</a>. <a href=\"/wiki/ISBN_(identifier)\" class=\"mw-redirect\" title=\"ISBN (identifier)\">ISBN</a>&#160;<a href=\"/wiki/Special:BookSources/978-1-58113-374-5\" title=\"Special:BookSources/978-1-58113-374-5\"><bdi>978-1-58113-374-5</bdi></a>. <a href=\"/wiki/S2CID_(identifier)\" class=\"mw-redirect\" title=\"S2CID (identifier)\">S2CID</a>&#160;<a rel=\"nofollow\" class=\"external text\" href=\"https://api.semanticscholar.org/CorpusID:3842372\">3842372</a>.</cite><span title=\"ctx_ver=Z39.88-2004&amp;rft_val_fmt=info%3Aofi%2Ffmt%3Akev%3Amtx%3Abook&amp;rft.genre=bookitem&amp;rft.atitle=WordsEye&amp;rft.btitle=Proceedings+of+the+28th+annual+conference+on+Computer+graphics+and+interactive+techniques&amp;rft.place=New+York%2C+NY%2C+USA&amp;rft.series=SIGGRAPH+%2701&amp;rft.pages=487-496&amp;rft.pub=Association+for+Computing+Machinery&amp;rft.date=2001-08-01&amp;rft_id=https%3A%2F%2Fapi.semanticscholar.org%2FCorpusID%3A3842372%23id-name%3DS2CID&amp;rft_id=info%3Adoi%2F10.1145%2F383259.383316&amp;rft.isbn=978-1-58113-374-5&amp;rft.aulast=Coyne&amp;rft.aufirst=Bob&amp;rft.au=Sproat%2C+Richard&amp;rft_id=https%3A%2F%2Fdoi.org%2F10.1145%2F383259.383316&amp;rfr_id=info%3Asid%2Fen.wikipedia.org%3ANatural+language+processing\" class=\"Z3988\"></span></span>\\n</li>\\n<li id=\"cite_note-44\"><span class=\"mw-cite-backlink\"><b><a href=\"#cite_ref-44\">^</a></b></span> <span class=\"reference-text\"><link rel=\"mw-deduplicated-inline-style\" href=\"mw-data:TemplateStyles:r1238218222\" /><cite class=\"citation web cs1\"><a rel=\"nofollow\" class=\"external text\" href=\"https://venturebeat.com/ai/google-announces-ai-advances-in-text-to-video-language-translation-more/\">\"Google announces AI advances in text-to-video, language translation, more\"</a>. <i>VentureBeat</i>. 2022-11-02<span class=\"reference-accessdate\">. Retrieved <span class=\"nowrap\">2022-11-09</span></span>.</cite><span title=\"ctx_ver=Z39.88-2004&amp;rft_val_fmt=info%3Aofi%2Ffmt%3Akev%3Amtx%3Ajournal&amp;rft.genre=unknown&amp;rft.jtitle=VentureBeat&amp;rft.atitle=Google+announces+AI+advances+in+text-to-video%2C+language+translation%2C+more&amp;rft.date=2022-11-02&amp;rft_id=https%3A%2F%2Fventurebeat.com%2Fai%2Fgoogle-announces-ai-advances-in-text-to-video-language-translation-more%2F&amp;rfr_id=info%3Asid%2Fen.wikipedia.org%3ANatural+language+processing\" class=\"Z3988\"></span></span>\\n</li>\\n<li id=\"cite_note-45\"><span class=\"mw-cite-backlink\"><b><a href=\"#cite_ref-45\">^</a></b></span> <span class=\"reference-text\"><link rel=\"mw-deduplicated-inline-style\" href=\"mw-data:TemplateStyles:r1238218222\" /><cite id=\"CITEREFVincent2022\" class=\"citation web cs1\">Vincent, James (2022-09-29). <a rel=\"nofollow\" class=\"external text\" href=\"https://www.theverge.com/2022/9/29/23378210/meta-text-to-video-ai-generation-make-a-video-model-dall-e\">\"Meta\\'s new text-to-video AI generator is like DALL-E for video\"</a>. <i>The Verge</i><span class=\"reference-accessdate\">. Retrieved <span class=\"nowrap\">2022-11-09</span></span>.</cite><span title=\"ctx_ver=Z39.88-2004&amp;rft_val_fmt=info%3Aofi%2Ffmt%3Akev%3Amtx%3Ajournal&amp;rft.genre=unknown&amp;rft.jtitle=The+Verge&amp;rft.atitle=Meta%27s+new+text-to-video+AI+generator+is+like+DALL-E+for+video&amp;rft.date=2022-09-29&amp;rft.aulast=Vincent&amp;rft.aufirst=James&amp;rft_id=https%3A%2F%2Fwww.theverge.com%2F2022%2F9%2F29%2F23378210%2Fmeta-text-to-video-ai-generation-make-a-video-model-dall-e&amp;rfr_id=info%3Asid%2Fen.wikipedia.org%3ANatural+language+processing\" class=\"Z3988\"></span></span>\\n</li>\\n<li id=\"cite_note-46\"><span class=\"mw-cite-backlink\"><b><a href=\"#cite_ref-46\">^</a></b></span> <span class=\"reference-text\"><link rel=\"mw-deduplicated-inline-style\" href=\"mw-data:TemplateStyles:r1238218222\" /><cite class=\"citation web cs1\"><a rel=\"nofollow\" class=\"external text\" href=\"https://www.conll.org/previous-tasks\">\"Previous shared tasks | CoNLL\"</a>. <i>www.conll.org</i><span class=\"reference-accessdate\">. Retrieved <span class=\"nowrap\">2021-01-11</span></span>.</cite><span title=\"ctx_ver=Z39.88-2004&amp;rft_val_fmt=info%3Aofi%2Ffmt%3Akev%3Amtx%3Ajournal&amp;rft.genre=unknown&amp;rft.jtitle=www.conll.org&amp;rft.atitle=Previous+shared+tasks+%7C+CoNLL&amp;rft_id=https%3A%2F%2Fwww.conll.org%2Fprevious-tasks&amp;rfr_id=info%3Asid%2Fen.wikipedia.org%3ANatural+language+processing\" class=\"Z3988\"></span></span>\\n</li>\\n<li id=\"cite_note-47\"><span class=\"mw-cite-backlink\"><b><a href=\"#cite_ref-47\">^</a></b></span> <span class=\"reference-text\"><link rel=\"mw-deduplicated-inline-style\" href=\"mw-data:TemplateStyles:r1238218222\" /><cite class=\"citation web cs1\"><a rel=\"nofollow\" class=\"external text\" href=\"https://web.archive.org/web/20200715113427/https://www.lexico.com/definition/cognition\">\"Cognition\"</a>. <i>Lexico</i>. <a href=\"/wiki/Oxford_University_Press\" title=\"Oxford University Press\">Oxford University Press</a> and <a href=\"/wiki/Dictionary.com\" title=\"Dictionary.com\">Dictionary.com</a>. Archived from <a rel=\"nofollow\" class=\"external text\" href=\"https://www.lexico.com/definition/cognition\">the original</a> on July 15, 2020<span class=\"reference-accessdate\">. Retrieved <span class=\"nowrap\">6 May</span> 2020</span>.</cite><span title=\"ctx_ver=Z39.88-2004&amp;rft_val_fmt=info%3Aofi%2Ffmt%3Akev%3Amtx%3Ajournal&amp;rft.genre=unknown&amp;rft.jtitle=Lexico&amp;rft.atitle=Cognition&amp;rft_id=https%3A%2F%2Fwww.lexico.com%2Fdefinition%2Fcognition&amp;rfr_id=info%3Asid%2Fen.wikipedia.org%3ANatural+language+processing\" class=\"Z3988\"></span></span>\\n</li>\\n<li id=\"cite_note-48\"><span class=\"mw-cite-backlink\"><b><a href=\"#cite_ref-48\">^</a></b></span> <span class=\"reference-text\"><link rel=\"mw-deduplicated-inline-style\" href=\"mw-data:TemplateStyles:r1238218222\" /><cite class=\"citation web cs1\"><a rel=\"nofollow\" class=\"external text\" href=\"http://www.aft.org/newspubs/periodicals/ae/summer2002/willingham.cfm\">\"Ask the Cognitive Scientist\"</a>. <i>American Federation of Teachers</i>. 8 August 2014. <q>Cognitive science is an interdisciplinary field of researchers from Linguistics, psychology, neuroscience, philosophy, computer science, and anthropology that seek to understand the mind.</q></cite><span title=\"ctx_ver=Z39.88-2004&amp;rft_val_fmt=info%3Aofi%2Ffmt%3Akev%3Amtx%3Ajournal&amp;rft.genre=unknown&amp;rft.jtitle=American+Federation+of+Teachers&amp;rft.atitle=Ask+the+Cognitive+Scientist&amp;rft.date=2014-08-08&amp;rft_id=http%3A%2F%2Fwww.aft.org%2Fnewspubs%2Fperiodicals%2Fae%2Fsummer2002%2Fwillingham.cfm&amp;rfr_id=info%3Asid%2Fen.wikipedia.org%3ANatural+language+processing\" class=\"Z3988\"></span></span>\\n</li>\\n<li id=\"cite_note-49\"><span class=\"mw-cite-backlink\"><b><a href=\"#cite_ref-49\">^</a></b></span> <span class=\"reference-text\"><link rel=\"mw-deduplicated-inline-style\" href=\"mw-data:TemplateStyles:r1238218222\" /><cite id=\"CITEREFRobinson2008\" class=\"citation book cs1\">Robinson, Peter (2008). <i>Handbook of Cognitive Linguistics and Second Language Acquisition</i>. Routledge. pp.&#160;<span class=\"nowrap\">3–</span>8. <a href=\"/wiki/ISBN_(identifier)\" class=\"mw-redirect\" title=\"ISBN (identifier)\">ISBN</a>&#160;<a href=\"/wiki/Special:BookSources/978-0-805-85352-0\" title=\"Special:BookSources/978-0-805-85352-0\"><bdi>978-0-805-85352-0</bdi></a>.</cite><span title=\"ctx_ver=Z39.88-2004&amp;rft_val_fmt=info%3Aofi%2Ffmt%3Akev%3Amtx%3Abook&amp;rft.genre=book&amp;rft.btitle=Handbook+of+Cognitive+Linguistics+and+Second+Language+Acquisition&amp;rft.pages=3-8&amp;rft.pub=Routledge&amp;rft.date=2008&amp;rft.isbn=978-0-805-85352-0&amp;rft.aulast=Robinson&amp;rft.aufirst=Peter&amp;rfr_id=info%3Asid%2Fen.wikipedia.org%3ANatural+language+processing\" class=\"Z3988\"></span></span>\\n</li>\\n<li id=\"cite_note-50\"><span class=\"mw-cite-backlink\"><b><a href=\"#cite_ref-50\">^</a></b></span> <span class=\"reference-text\"><link rel=\"mw-deduplicated-inline-style\" href=\"mw-data:TemplateStyles:r1238218222\" /><cite id=\"CITEREFLakoff1999\" class=\"citation book cs1\">Lakoff, George (1999). <i>Philosophy in the Flesh: The Embodied Mind and Its Challenge to Western Philosophy; Appendix: The Neural Theory of Language Paradigm</i>. New York Basic Books. pp.&#160;<span class=\"nowrap\">569–</span>583. <a href=\"/wiki/ISBN_(identifier)\" class=\"mw-redirect\" title=\"ISBN (identifier)\">ISBN</a>&#160;<a href=\"/wiki/Special:BookSources/978-0-465-05674-3\" title=\"Special:BookSources/978-0-465-05674-3\"><bdi>978-0-465-05674-3</bdi></a>.</cite><span title=\"ctx_ver=Z39.88-2004&amp;rft_val_fmt=info%3Aofi%2Ffmt%3Akev%3Amtx%3Abook&amp;rft.genre=book&amp;rft.btitle=Philosophy+in+the+Flesh%3A+The+Embodied+Mind+and+Its+Challenge+to+Western+Philosophy%3B+Appendix%3A+The+Neural+Theory+of+Language+Paradigm&amp;rft.pages=569-583&amp;rft.pub=New+York+Basic+Books&amp;rft.date=1999&amp;rft.isbn=978-0-465-05674-3&amp;rft.aulast=Lakoff&amp;rft.aufirst=George&amp;rfr_id=info%3Asid%2Fen.wikipedia.org%3ANatural+language+processing\" class=\"Z3988\"></span></span>\\n</li>\\n<li id=\"cite_note-51\"><span class=\"mw-cite-backlink\"><b><a href=\"#cite_ref-51\">^</a></b></span> <span class=\"reference-text\"><link rel=\"mw-deduplicated-inline-style\" href=\"mw-data:TemplateStyles:r1238218222\" /><cite id=\"CITEREFStrauss1999\" class=\"citation book cs1\">Strauss, Claudia (1999). <i>A Cognitive Theory of Cultural Meaning</i>. Cambridge University Press. pp.&#160;<span class=\"nowrap\">156–</span>164. <a href=\"/wiki/ISBN_(identifier)\" class=\"mw-redirect\" title=\"ISBN (identifier)\">ISBN</a>&#160;<a href=\"/wiki/Special:BookSources/978-0-521-59541-4\" title=\"Special:BookSources/978-0-521-59541-4\"><bdi>978-0-521-59541-4</bdi></a>.</cite><span title=\"ctx_ver=Z39.88-2004&amp;rft_val_fmt=info%3Aofi%2Ffmt%3Akev%3Amtx%3Abook&amp;rft.genre=book&amp;rft.btitle=A+Cognitive+Theory+of+Cultural+Meaning&amp;rft.pages=156-164&amp;rft.pub=Cambridge+University+Press&amp;rft.date=1999&amp;rft.isbn=978-0-521-59541-4&amp;rft.aulast=Strauss&amp;rft.aufirst=Claudia&amp;rfr_id=info%3Asid%2Fen.wikipedia.org%3ANatural+language+processing\" class=\"Z3988\"></span></span>\\n</li>\\n<li id=\"cite_note-52\"><span class=\"mw-cite-backlink\"><b><a href=\"#cite_ref-52\">^</a></b></span> <span class=\"reference-text\"><style data-mw-deduplicate=\"TemplateStyles:r1041539562\">.mw-parser-output .citation{word-wrap:break-word}.mw-parser-output .citation:target{background-color:rgba(0,127,255,0.133)}</style><span class=\"citation patent\"><a rel=\"nofollow\" class=\"external text\" href=\"https://worldwide.espacenet.com/textdoc?DB=EPODOC&amp;IDX=US9269353\">US&#32;patent 9269353</a></span><span class=\"Z3988\" title=\"ctx_ver=Z39.88-2004&amp;rft_val_fmt=info%3Aofi%2Ffmt%3Akev%3Amtx%3Apatent&amp;rft.number=9269353&amp;rft.cc=US&amp;rft.title=\"><span style=\"display: none;\">&#160;</span></span></span>\\n</li>\\n<li id=\"cite_note-53\"><span class=\"mw-cite-backlink\"><b><a href=\"#cite_ref-53\">^</a></b></span> <span class=\"reference-text\"><link rel=\"mw-deduplicated-inline-style\" href=\"mw-data:TemplateStyles:r1238218222\" /><cite class=\"citation web cs1\"><a rel=\"nofollow\" class=\"external text\" href=\"https://universalconceptualcognitiveannotation.github.io/\">\"Universal Conceptual Cognitive Annotation (UCCA)\"</a>. <i>Universal Conceptual Cognitive Annotation (UCCA)</i><span class=\"reference-accessdate\">. Retrieved <span class=\"nowrap\">2021-01-11</span></span>.</cite><span title=\"ctx_ver=Z39.88-2004&amp;rft_val_fmt=info%3Aofi%2Ffmt%3Akev%3Amtx%3Ajournal&amp;rft.genre=unknown&amp;rft.jtitle=Universal+Conceptual+Cognitive+Annotation+%28UCCA%29&amp;rft.atitle=Universal+Conceptual+Cognitive+Annotation+%28UCCA%29&amp;rft_id=https%3A%2F%2Funiversalconceptualcognitiveannotation.github.io%2F&amp;rfr_id=info%3Asid%2Fen.wikipedia.org%3ANatural+language+processing\" class=\"Z3988\"></span></span>\\n</li>\\n<li id=\"cite_note-54\"><span class=\"mw-cite-backlink\"><b><a href=\"#cite_ref-54\">^</a></b></span> <span class=\"reference-text\">Rodríguez, F. C., &amp; Mairal-Usón, R. (2016). <a rel=\"nofollow\" class=\"external text\" href=\"https://www.redalyc.org/pdf/1345/134549291020.pdf\">Building an RRG computational grammar</a>. <i>Onomazein</i>, (34), 86–117.</span>\\n</li>\\n<li id=\"cite_note-55\"><span class=\"mw-cite-backlink\"><b><a href=\"#cite_ref-55\">^</a></b></span> <span class=\"reference-text\"><link rel=\"mw-deduplicated-inline-style\" href=\"mw-data:TemplateStyles:r1238218222\" /><cite class=\"citation web cs1\"><a rel=\"nofollow\" class=\"external text\" href=\"https://www.fcg-net.org/\">\"Fluid Construction Grammar – A fully operational processing system for construction grammars\"</a><span class=\"reference-accessdate\">. Retrieved <span class=\"nowrap\">2021-01-11</span></span>.</cite><span title=\"ctx_ver=Z39.88-2004&amp;rft_val_fmt=info%3Aofi%2Ffmt%3Akev%3Amtx%3Abook&amp;rft.genre=unknown&amp;rft.btitle=Fluid+Construction+Grammar+%E2%80%93+A+fully+operational+processing+system+for+construction+grammars&amp;rft_id=https%3A%2F%2Fwww.fcg-net.org%2F&amp;rfr_id=info%3Asid%2Fen.wikipedia.org%3ANatural+language+processing\" class=\"Z3988\"></span></span>\\n</li>\\n<li id=\"cite_note-56\"><span class=\"mw-cite-backlink\"><b><a href=\"#cite_ref-56\">^</a></b></span> <span class=\"reference-text\"><link rel=\"mw-deduplicated-inline-style\" href=\"mw-data:TemplateStyles:r1238218222\" /><cite class=\"citation web cs1\"><a rel=\"nofollow\" class=\"external text\" href=\"https://www.aclweb.org/portal/\">\"ACL Member Portal | The Association for Computational Linguistics Member Portal\"</a>. <i>www.aclweb.org</i><span class=\"reference-accessdate\">. Retrieved <span class=\"nowrap\">2021-01-11</span></span>.</cite><span title=\"ctx_ver=Z39.88-2004&amp;rft_val_fmt=info%3Aofi%2Ffmt%3Akev%3Amtx%3Ajournal&amp;rft.genre=unknown&amp;rft.jtitle=www.aclweb.org&amp;rft.atitle=ACL+Member+Portal+%7C+The+Association+for+Computational+Linguistics+Member+Portal&amp;rft_id=https%3A%2F%2Fwww.aclweb.org%2Fportal%2F&amp;rfr_id=info%3Asid%2Fen.wikipedia.org%3ANatural+language+processing\" class=\"Z3988\"></span></span>\\n</li>\\n<li id=\"cite_note-57\"><span class=\"mw-cite-backlink\"><b><a href=\"#cite_ref-57\">^</a></b></span> <span class=\"reference-text\"><link rel=\"mw-deduplicated-inline-style\" href=\"mw-data:TemplateStyles:r1238218222\" /><cite class=\"citation web cs1\"><a rel=\"nofollow\" class=\"external text\" href=\"https://www.w3.org/Data/demos/chunks/chunks.html\">\"Chunks and Rules\"</a>. <i>W3C</i><span class=\"reference-accessdate\">. Retrieved <span class=\"nowrap\">2021-01-11</span></span>.</cite><span title=\"ctx_ver=Z39.88-2004&amp;rft_val_fmt=info%3Aofi%2Ffmt%3Akev%3Amtx%3Ajournal&amp;rft.genre=unknown&amp;rft.jtitle=W3C&amp;rft.atitle=Chunks+and+Rules&amp;rft_id=https%3A%2F%2Fwww.w3.org%2FData%2Fdemos%2Fchunks%2Fchunks.html&amp;rfr_id=info%3Asid%2Fen.wikipedia.org%3ANatural+language+processing\" class=\"Z3988\"></span></span>\\n</li>\\n<li id=\"cite_note-58\"><span class=\"mw-cite-backlink\"><b><a href=\"#cite_ref-58\">^</a></b></span> <span class=\"reference-text\"><link rel=\"mw-deduplicated-inline-style\" href=\"mw-data:TemplateStyles:r1238218222\" /><cite id=\"CITEREFSocherKarpathyLeManning2014\" class=\"citation journal cs1\">Socher, Richard; Karpathy, Andrej; Le, Quoc V.; Manning, Christopher D.; Ng, Andrew Y. (2014). <a rel=\"nofollow\" class=\"external text\" href=\"https://doi.org/10.1162%2Ftacl_a_00177\">\"Grounded Compositional Semantics for Finding and Describing Images with Sentences\"</a>. <i>Transactions of the Association for Computational Linguistics</i>. <b>2</b>: <span class=\"nowrap\">207–</span>218. <a href=\"/wiki/Doi_(identifier)\" class=\"mw-redirect\" title=\"Doi (identifier)\">doi</a>:<span class=\"id-lock-free\" title=\"Freely accessible\"><a rel=\"nofollow\" class=\"external text\" href=\"https://doi.org/10.1162%2Ftacl_a_00177\">10.1162/tacl_a_00177</a></span>. <a href=\"/wiki/S2CID_(identifier)\" class=\"mw-redirect\" title=\"S2CID (identifier)\">S2CID</a>&#160;<a rel=\"nofollow\" class=\"external text\" href=\"https://api.semanticscholar.org/CorpusID:2317858\">2317858</a>.</cite><span title=\"ctx_ver=Z39.88-2004&amp;rft_val_fmt=info%3Aofi%2Ffmt%3Akev%3Amtx%3Ajournal&amp;rft.genre=article&amp;rft.jtitle=Transactions+of+the+Association+for+Computational+Linguistics&amp;rft.atitle=Grounded+Compositional+Semantics+for+Finding+and+Describing+Images+with+Sentences&amp;rft.volume=2&amp;rft.pages=207-218&amp;rft.date=2014&amp;rft_id=info%3Adoi%2F10.1162%2Ftacl_a_00177&amp;rft_id=https%3A%2F%2Fapi.semanticscholar.org%2FCorpusID%3A2317858%23id-name%3DS2CID&amp;rft.aulast=Socher&amp;rft.aufirst=Richard&amp;rft.au=Karpathy%2C+Andrej&amp;rft.au=Le%2C+Quoc+V.&amp;rft.au=Manning%2C+Christopher+D.&amp;rft.au=Ng%2C+Andrew+Y.&amp;rft_id=https%3A%2F%2Fdoi.org%2F10.1162%252Ftacl_a_00177&amp;rfr_id=info%3Asid%2Fen.wikipedia.org%3ANatural+language+processing\" class=\"Z3988\"></span></span>\\n</li>\\n<li id=\"cite_note-59\"><span class=\"mw-cite-backlink\"><b><a href=\"#cite_ref-59\">^</a></b></span> <span class=\"reference-text\"><link rel=\"mw-deduplicated-inline-style\" href=\"mw-data:TemplateStyles:r1238218222\" /><cite id=\"CITEREFDasguptaLampinenChanCreswell2022\" class=\"citation arxiv cs1\">Dasgupta, Ishita; Lampinen, Andrew K.; Chan, Stephanie C. Y.; Creswell, Antonia; Kumaran, Dharshan; McClelland, James L.; Hill, Felix (2022). \"Language models show human-like content effects on reasoning, Dasgupta, Lampinen et al\". <a href=\"/wiki/ArXiv_(identifier)\" class=\"mw-redirect\" title=\"ArXiv (identifier)\">arXiv</a>:<span class=\"id-lock-free\" title=\"Freely accessible\"><a rel=\"nofollow\" class=\"external text\" href=\"https://arxiv.org/abs/2207.07051\">2207.07051</a></span> [<a rel=\"nofollow\" class=\"external text\" href=\"https://arxiv.org/archive/cs.CL\">cs.CL</a>].</cite><span title=\"ctx_ver=Z39.88-2004&amp;rft_val_fmt=info%3Aofi%2Ffmt%3Akev%3Amtx%3Ajournal&amp;rft.genre=preprint&amp;rft.jtitle=arXiv&amp;rft.atitle=Language+models+show+human-like+content+effects+on+reasoning%2C+Dasgupta%2C+Lampinen+et+al&amp;rft.date=2022&amp;rft_id=info%3Aarxiv%2F2207.07051&amp;rft.aulast=Dasgupta&amp;rft.aufirst=Ishita&amp;rft.au=Lampinen%2C+Andrew+K.&amp;rft.au=Chan%2C+Stephanie+C.+Y.&amp;rft.au=Creswell%2C+Antonia&amp;rft.au=Kumaran%2C+Dharshan&amp;rft.au=McClelland%2C+James+L.&amp;rft.au=Hill%2C+Felix&amp;rfr_id=info%3Asid%2Fen.wikipedia.org%3ANatural+language+processing\" class=\"Z3988\"></span></span>\\n</li>\\n<li id=\"cite_note-60\"><span class=\"mw-cite-backlink\"><b><a href=\"#cite_ref-60\">^</a></b></span> <span class=\"reference-text\"><link rel=\"mw-deduplicated-inline-style\" href=\"mw-data:TemplateStyles:r1238218222\" /><cite id=\"CITEREFFriston2022\" class=\"citation book cs1\">Friston, Karl J. (2022). <i>Active Inference: The Free Energy Principle in Mind, Brain, and Behavior; Chapter 4 The Generative Models of Active Inference</i>. The MIT Press. <a href=\"/wiki/ISBN_(identifier)\" class=\"mw-redirect\" title=\"ISBN (identifier)\">ISBN</a>&#160;<a href=\"/wiki/Special:BookSources/978-0-262-36997-8\" title=\"Special:BookSources/978-0-262-36997-8\"><bdi>978-0-262-36997-8</bdi></a>.</cite><span title=\"ctx_ver=Z39.88-2004&amp;rft_val_fmt=info%3Aofi%2Ffmt%3Akev%3Amtx%3Abook&amp;rft.genre=book&amp;rft.btitle=Active+Inference%3A+The+Free+Energy+Principle+in+Mind%2C+Brain%2C+and+Behavior%3B+Chapter+4+The+Generative+Models+of+Active+Inference&amp;rft.pub=The+MIT+Press&amp;rft.date=2022&amp;rft.isbn=978-0-262-36997-8&amp;rft.aulast=Friston&amp;rft.aufirst=Karl+J.&amp;rfr_id=info%3Asid%2Fen.wikipedia.org%3ANatural+language+processing\" class=\"Z3988\"></span></span>\\n</li>\\n</ol></div>\\n<div class=\"mw-heading mw-heading2\"><h2 id=\"Further_reading\">Further reading</h2><span class=\"mw-editsection\"><span class=\"mw-editsection-bracket\">[</span><a href=\"/w/index.php?title=Natural_language_processing&amp;action=edit&amp;section=19\" title=\"Edit section: Further reading\"><span>edit</span></a><span class=\"mw-editsection-bracket\">]</span></span></div>\\n<style data-mw-deduplicate=\"TemplateStyles:r1239549316\">.mw-parser-output .refbegin{margin-bottom:0.5em}.mw-parser-output .refbegin-hanging-indents>ul{margin-left:0}.mw-parser-output .refbegin-hanging-indents>ul>li{margin-left:0;padding-left:3.2em;text-indent:-3.2em}.mw-parser-output .refbegin-hanging-indents ul,.mw-parser-output .refbegin-hanging-indents ul li{list-style:none}@media(max-width:720px){.mw-parser-output .refbegin-hanging-indents>ul>li{padding-left:1.6em;text-indent:-1.6em}}.mw-parser-output .refbegin-columns{margin-top:0.3em}.mw-parser-output .refbegin-columns ul{margin-top:0}.mw-parser-output .refbegin-columns li{page-break-inside:avoid;break-inside:avoid-column}@media screen{.mw-parser-output .refbegin{font-size:90%}}</style><div class=\"refbegin\" style=\"\">\\n<ul><li><link rel=\"mw-deduplicated-inline-style\" href=\"mw-data:TemplateStyles:r1238218222\" /><cite id=\"CITEREFBates1995\" class=\"citation journal cs1\">Bates, M (1995). <a rel=\"nofollow\" class=\"external text\" href=\"https://www.ncbi.nlm.nih.gov/pmc/articles/PMC40721\">\"Models of natural language understanding\"</a>. <i>Proceedings of the National Academy of Sciences of the United States of America</i>. <b>92</b> (22): <span class=\"nowrap\">9977–</span>9982. <a href=\"/wiki/Bibcode_(identifier)\" class=\"mw-redirect\" title=\"Bibcode (identifier)\">Bibcode</a>:<a rel=\"nofollow\" class=\"external text\" href=\"https://ui.adsabs.harvard.edu/abs/1995PNAS...92.9977B\">1995PNAS...92.9977B</a>. <a href=\"/wiki/Doi_(identifier)\" class=\"mw-redirect\" title=\"Doi (identifier)\">doi</a>:<span class=\"id-lock-free\" title=\"Freely accessible\"><a rel=\"nofollow\" class=\"external text\" href=\"https://doi.org/10.1073%2Fpnas.92.22.9977\">10.1073/pnas.92.22.9977</a></span>. <a href=\"/wiki/PMC_(identifier)\" class=\"mw-redirect\" title=\"PMC (identifier)\">PMC</a>&#160;<span class=\"id-lock-free\" title=\"Freely accessible\"><a rel=\"nofollow\" class=\"external text\" href=\"https://www.ncbi.nlm.nih.gov/pmc/articles/PMC40721\">40721</a></span>. <a href=\"/wiki/PMID_(identifier)\" class=\"mw-redirect\" title=\"PMID (identifier)\">PMID</a>&#160;<a rel=\"nofollow\" class=\"external text\" href=\"https://pubmed.ncbi.nlm.nih.gov/7479812\">7479812</a>.</cite><span title=\"ctx_ver=Z39.88-2004&amp;rft_val_fmt=info%3Aofi%2Ffmt%3Akev%3Amtx%3Ajournal&amp;rft.genre=article&amp;rft.jtitle=Proceedings+of+the+National+Academy+of+Sciences+of+the+United+States+of+America&amp;rft.atitle=Models+of+natural+language+understanding&amp;rft.volume=92&amp;rft.issue=22&amp;rft.pages=9977-9982&amp;rft.date=1995&amp;rft_id=https%3A%2F%2Fwww.ncbi.nlm.nih.gov%2Fpmc%2Farticles%2FPMC40721%23id-name%3DPMC&amp;rft_id=info%3Apmid%2F7479812&amp;rft_id=info%3Adoi%2F10.1073%2Fpnas.92.22.9977&amp;rft_id=info%3Abibcode%2F1995PNAS...92.9977B&amp;rft.aulast=Bates&amp;rft.aufirst=M&amp;rft_id=https%3A%2F%2Fwww.ncbi.nlm.nih.gov%2Fpmc%2Farticles%2FPMC40721&amp;rfr_id=info%3Asid%2Fen.wikipedia.org%3ANatural+language+processing\" class=\"Z3988\"></span></li>\\n<li>Steven Bird, Ewan Klein, and Edward Loper (2009). <i>Natural Language Processing with Python</i>. O\\'Reilly Media. <link rel=\"mw-deduplicated-inline-style\" href=\"mw-data:TemplateStyles:r1238218222\" /><a href=\"/wiki/ISBN_(identifier)\" class=\"mw-redirect\" title=\"ISBN (identifier)\">ISBN</a>&#160;<a href=\"/wiki/Special:BookSources/978-0-596-51649-9\" title=\"Special:BookSources/978-0-596-51649-9\">978-0-596-51649-9</a>.</li>\\n<li><a href=\"/w/index.php?title=Kenna_Hughes-Castleberry&amp;action=edit&amp;redlink=1\" class=\"new\" title=\"Kenna Hughes-Castleberry (page does not exist)\">Kenna Hughes-Castleberry</a>, \"A Murder Mystery Puzzle: The literary puzzle <i><a href=\"/wiki/Cain%27s_Jawbone\" title=\"Cain&#39;s Jawbone\">Cain\\'s Jawbone</a></i>, which has stumped humans for decades, reveals the limitations of natural-language-processing algorithms\", <i><a href=\"/wiki/Scientific_American\" title=\"Scientific American\">Scientific American</a></i>, vol. 329, no. 4 (November 2023), pp. 81–82. \"This murder mystery competition has revealed that although NLP (<a href=\"/wiki/Natural-language_processing\" class=\"mw-redirect\" title=\"Natural-language processing\">natural-language processing</a>) models are capable of incredible feats, their abilities are very much limited by the amount of <a href=\"/wiki/Context_(linguistics)\" class=\"mw-redirect\" title=\"Context (linguistics)\">context</a> they receive. This [...] could cause [difficulties] for researchers who hope to use them to do things such as analyze <a href=\"/wiki/Ancient_language\" title=\"Ancient language\">ancient languages</a>. In some cases, there are few historical records on long-gone <a href=\"/wiki/Civilization\" title=\"Civilization\">civilizations</a> to serve as <a href=\"/wiki/Training_data\" class=\"mw-redirect\" title=\"Training data\">training data</a> for such a purpose.\" (p. 82.)</li>\\n<li>Daniel Jurafsky and James H. Martin (2008). <i>Speech and Language Processing</i>, 2nd edition. Pearson Prentice Hall. <link rel=\"mw-deduplicated-inline-style\" href=\"mw-data:TemplateStyles:r1238218222\" /><a href=\"/wiki/ISBN_(identifier)\" class=\"mw-redirect\" title=\"ISBN (identifier)\">ISBN</a>&#160;<a href=\"/wiki/Special:BookSources/978-0-13-187321-6\" title=\"Special:BookSources/978-0-13-187321-6\">978-0-13-187321-6</a>.</li>\\n<li>Mohamed Zakaria Kurdi (2016). <i>Natural Language Processing and Computational Linguistics: speech, morphology, and syntax</i>, Volume 1. ISTE-Wiley. <link rel=\"mw-deduplicated-inline-style\" href=\"mw-data:TemplateStyles:r1238218222\" /><a href=\"/wiki/ISBN_(identifier)\" class=\"mw-redirect\" title=\"ISBN (identifier)\">ISBN</a>&#160;<a href=\"/wiki/Special:BookSources/978-1848218482\" title=\"Special:BookSources/978-1848218482\">978-1848218482</a>.</li>\\n<li>Mohamed Zakaria Kurdi (2017). <i>Natural Language Processing and Computational Linguistics: semantics, discourse, and applications</i>, Volume 2. ISTE-Wiley. <link rel=\"mw-deduplicated-inline-style\" href=\"mw-data:TemplateStyles:r1238218222\" /><a href=\"/wiki/ISBN_(identifier)\" class=\"mw-redirect\" title=\"ISBN (identifier)\">ISBN</a>&#160;<a href=\"/wiki/Special:BookSources/978-1848219212\" title=\"Special:BookSources/978-1848219212\">978-1848219212</a>.</li>\\n<li>Christopher D. Manning, Prabhakar Raghavan, and Hinrich Schütze (2008). <i>Introduction to Information Retrieval</i>. Cambridge University Press. <link rel=\"mw-deduplicated-inline-style\" href=\"mw-data:TemplateStyles:r1238218222\" /><a href=\"/wiki/ISBN_(identifier)\" class=\"mw-redirect\" title=\"ISBN (identifier)\">ISBN</a>&#160;<a href=\"/wiki/Special:BookSources/978-0-521-86571-5\" title=\"Special:BookSources/978-0-521-86571-5\">978-0-521-86571-5</a>. <a rel=\"nofollow\" class=\"external text\" href=\"http://nlp.stanford.edu/IR-book/\">Official html and pdf versions available without charge.</a></li>\\n<li>Christopher D. Manning and Hinrich Schütze (1999). <i>Foundations of Statistical Natural Language Processing</i>. The MIT Press. <link rel=\"mw-deduplicated-inline-style\" href=\"mw-data:TemplateStyles:r1238218222\" /><a href=\"/wiki/ISBN_(identifier)\" class=\"mw-redirect\" title=\"ISBN (identifier)\">ISBN</a>&#160;<a href=\"/wiki/Special:BookSources/978-0-262-13360-9\" title=\"Special:BookSources/978-0-262-13360-9\">978-0-262-13360-9</a>.</li>\\n<li>David M. W. Powers and Christopher C. R. Turk (1989). <i>Machine Learning of Natural Language</i>. Springer-Verlag. <link rel=\"mw-deduplicated-inline-style\" href=\"mw-data:TemplateStyles:r1238218222\" /><a href=\"/wiki/ISBN_(identifier)\" class=\"mw-redirect\" title=\"ISBN (identifier)\">ISBN</a>&#160;<a href=\"/wiki/Special:BookSources/978-0-387-19557-5\" title=\"Special:BookSources/978-0-387-19557-5\">978-0-387-19557-5</a>.</li></ul>\\n</div>\\n<div class=\"mw-heading mw-heading2\"><h2 id=\"External_links\">External links</h2><span class=\"mw-editsection\"><span class=\"mw-editsection-bracket\">[</span><a href=\"/w/index.php?title=Natural_language_processing&amp;action=edit&amp;section=20\" title=\"Edit section: External links\"><span>edit</span></a><span class=\"mw-editsection-bracket\">]</span></span></div>\\n<ul><li><span class=\"noviewer\" typeof=\"mw:File\"><a href=\"/wiki/File:Commons-logo.svg\" class=\"mw-file-description\"><img alt=\"\" src=\"//upload.wikimedia.org/wikipedia/en/thumb/4/4a/Commons-logo.svg/20px-Commons-logo.svg.png\" decoding=\"async\" width=\"12\" height=\"16\" class=\"mw-file-element\" srcset=\"//upload.wikimedia.org/wikipedia/en/thumb/4/4a/Commons-logo.svg/40px-Commons-logo.svg.png 2x\" data-file-width=\"1024\" data-file-height=\"1376\" /></a></span> Media related to <a href=\"https://commons.wikimedia.org/wiki/Category:Natural_language_processing\" class=\"extiw\" title=\"commons:Category:Natural language processing\">Natural language processing</a> at Wikimedia Commons</li></ul>\\n<div class=\"navbox-styles\"><link rel=\"mw-deduplicated-inline-style\" href=\"mw-data:TemplateStyles:r1129693374\" /><style data-mw-deduplicate=\"TemplateStyles:r1236075235\">.mw-parser-output .navbox{box-sizing:border-box;border:1px solid #a2a9b1;width:100%;clear:both;font-size:88%;text-align:center;padding:1px;margin:1em auto 0}.mw-parser-output .navbox .navbox{margin-top:0}.mw-parser-output .navbox+.navbox,.mw-parser-output .navbox+.navbox-styles+.navbox{margin-top:-1px}.mw-parser-output .navbox-inner,.mw-parser-output .navbox-subgroup{width:100%}.mw-parser-output .navbox-group,.mw-parser-output .navbox-title,.mw-parser-output .navbox-abovebelow{padding:0.25em 1em;line-height:1.5em;text-align:center}.mw-parser-output .navbox-group{white-space:nowrap;text-align:right}.mw-parser-output .navbox,.mw-parser-output .navbox-subgroup{background-color:#fdfdfd}.mw-parser-output .navbox-list{line-height:1.5em;border-color:#fdfdfd}.mw-parser-output .navbox-list-with-group{text-align:left;border-left-width:2px;border-left-style:solid}.mw-parser-output tr+tr>.navbox-abovebelow,.mw-parser-output tr+tr>.navbox-group,.mw-parser-output tr+tr>.navbox-image,.mw-parser-output tr+tr>.navbox-list{border-top:2px solid #fdfdfd}.mw-parser-output .navbox-title{background-color:#ccf}.mw-parser-output .navbox-abovebelow,.mw-parser-output .navbox-group,.mw-parser-output .navbox-subgroup .navbox-title{background-color:#ddf}.mw-parser-output .navbox-subgroup .navbox-group,.mw-parser-output .navbox-subgroup .navbox-abovebelow{background-color:#e6e6ff}.mw-parser-output .navbox-even{background-color:#f7f7f7}.mw-parser-output .navbox-odd{background-color:transparent}.mw-parser-output .navbox .hlist td dl,.mw-parser-output .navbox .hlist td ol,.mw-parser-output .navbox .hlist td ul,.mw-parser-output .navbox td.hlist dl,.mw-parser-output .navbox td.hlist ol,.mw-parser-output .navbox td.hlist ul{padding:0.125em 0}.mw-parser-output .navbox .navbar{display:block;font-size:100%}.mw-parser-output .navbox-title .navbar{float:left;text-align:left;margin-right:0.5em}body.skin--responsive .mw-parser-output .navbox-image img{max-width:none!important}@media print{body.ns-0 .mw-parser-output .navbox{display:none!important}}</style></div><div role=\"navigation\" class=\"navbox\" aria-labelledby=\"Natural_language_processing454\" style=\"padding:3px\"><table class=\"nowraplinks hlist mw-collapsible autocollapse navbox-inner\" style=\"border-spacing:0;background:transparent;color:inherit\"><tbody><tr><th scope=\"col\" class=\"navbox-title\" colspan=\"2\"><link rel=\"mw-deduplicated-inline-style\" href=\"mw-data:TemplateStyles:r1129693374\" /><link rel=\"mw-deduplicated-inline-style\" href=\"mw-data:TemplateStyles:r1239400231\" /><div class=\"navbar plainlinks hlist navbar-mini\"><ul><li class=\"nv-view\"><a href=\"/wiki/Template:Natural_language_processing\" title=\"Template:Natural language processing\"><abbr title=\"View this template\">v</abbr></a></li><li class=\"nv-talk\"><a href=\"/wiki/Template_talk:Natural_language_processing\" title=\"Template talk:Natural language processing\"><abbr title=\"Discuss this template\">t</abbr></a></li><li class=\"nv-edit\"><a href=\"/wiki/Special:EditPage/Template:Natural_language_processing\" title=\"Special:EditPage/Template:Natural language processing\"><abbr title=\"Edit this template\">e</abbr></a></li></ul></div><div id=\"Natural_language_processing454\" style=\"font-size:114%;margin:0 4em\"><a class=\"mw-selflink selflink\">Natural language processing</a></div></th></tr><tr><th scope=\"row\" class=\"navbox-group\" style=\"width:1%\">General terms</th><td class=\"navbox-list-with-group navbox-list navbox-odd\" style=\"width:100%;padding:0\"><div style=\"padding:0 0.25em\">\\n<ul><li><a href=\"/wiki/AI-complete\" title=\"AI-complete\">AI-complete</a></li>\\n<li><a href=\"/wiki/Bag-of-words_model\" title=\"Bag-of-words model\">Bag-of-words</a></li>\\n<li><a href=\"/wiki/N-gram\" title=\"N-gram\"><i>n</i>-gram</a>\\n<ul><li><a href=\"/wiki/Bigram\" title=\"Bigram\">Bigram</a></li>\\n<li><a href=\"/wiki/Trigram\" title=\"Trigram\">Trigram</a></li></ul></li>\\n<li><a href=\"/wiki/Computational_linguistics\" title=\"Computational linguistics\">Computational linguistics</a></li>\\n<li><a href=\"/wiki/Natural_language_understanding\" title=\"Natural language understanding\">Natural language understanding</a></li>\\n<li><a href=\"/wiki/Stop_word\" title=\"Stop word\">Stop words</a></li>\\n<li><a href=\"/wiki/Text_processing\" title=\"Text processing\">Text processing</a></li></ul>\\n</div></td></tr><tr><th scope=\"row\" class=\"navbox-group\" style=\"width:1%\"><a href=\"/wiki/Text_mining\" title=\"Text mining\">Text analysis</a></th><td class=\"navbox-list-with-group navbox-list navbox-even\" style=\"width:100%;padding:0\"><div style=\"padding:0 0.25em\">\\n<ul><li><a href=\"/wiki/Argument_mining\" title=\"Argument mining\">Argument mining</a></li>\\n<li><a href=\"/wiki/Collocation_extraction\" title=\"Collocation extraction\">Collocation extraction</a></li>\\n<li><a href=\"/wiki/Concept_mining\" title=\"Concept mining\">Concept mining</a></li>\\n<li><a href=\"/wiki/Coreference#Coreference_resolution\" title=\"Coreference\">Coreference resolution</a></li>\\n<li><a href=\"/wiki/Deep_linguistic_processing\" title=\"Deep linguistic processing\">Deep linguistic processing</a></li>\\n<li><a href=\"/wiki/Distant_reading\" title=\"Distant reading\">Distant reading</a></li>\\n<li><a href=\"/wiki/Information_extraction\" title=\"Information extraction\">Information extraction</a></li>\\n<li><a href=\"/wiki/Named-entity_recognition\" title=\"Named-entity recognition\">Named-entity recognition</a></li>\\n<li><a href=\"/wiki/Ontology_learning\" title=\"Ontology learning\">Ontology learning</a></li>\\n<li><a href=\"/wiki/Parsing\" title=\"Parsing\">Parsing</a>\\n<ul><li><a href=\"/wiki/Semantic_parsing\" title=\"Semantic parsing\">Semantic parsing</a></li>\\n<li><a href=\"/wiki/Syntactic_parsing_(computational_linguistics)\" title=\"Syntactic parsing (computational linguistics)\">Syntactic parsing</a></li></ul></li>\\n<li><a href=\"/wiki/Part-of-speech_tagging\" title=\"Part-of-speech tagging\">Part-of-speech tagging</a></li>\\n<li><a href=\"/wiki/Semantic_analysis_(machine_learning)\" title=\"Semantic analysis (machine learning)\">Semantic analysis</a></li>\\n<li><a href=\"/wiki/Semantic_role_labeling\" title=\"Semantic role labeling\">Semantic role labeling</a></li>\\n<li><a href=\"/wiki/Semantic_decomposition_(natural_language_processing)\" title=\"Semantic decomposition (natural language processing)\">Semantic decomposition</a></li>\\n<li><a href=\"/wiki/Semantic_similarity\" title=\"Semantic similarity\">Semantic similarity</a></li>\\n<li><a href=\"/wiki/Sentiment_analysis\" title=\"Sentiment analysis\">Sentiment analysis</a></li></ul>\\n<ul><li><a href=\"/wiki/Terminology_extraction\" title=\"Terminology extraction\">Terminology extraction</a></li>\\n<li><a href=\"/wiki/Text_mining\" title=\"Text mining\">Text mining</a></li>\\n<li><a href=\"/wiki/Textual_entailment\" title=\"Textual entailment\">Textual entailment</a></li>\\n<li><a href=\"/wiki/Truecasing\" title=\"Truecasing\">Truecasing</a></li>\\n<li><a href=\"/wiki/Word-sense_disambiguation\" title=\"Word-sense disambiguation\">Word-sense disambiguation</a></li>\\n<li><a href=\"/wiki/Word-sense_induction\" title=\"Word-sense induction\">Word-sense induction</a></li></ul>\\n</div><table class=\"nowraplinks navbox-subgroup\" style=\"border-spacing:0\"><tbody><tr><th id=\"Text_segmentation21\" scope=\"row\" class=\"navbox-group\" style=\"width:1%\"><a href=\"/wiki/Text_segmentation\" title=\"Text segmentation\">Text segmentation</a></th><td class=\"navbox-list-with-group navbox-list navbox-odd\" style=\"width:100%;padding:0\"><div style=\"padding:0 0.25em\">\\n<ul><li><a href=\"/wiki/Compound-term_processing\" title=\"Compound-term processing\">Compound-term processing</a></li>\\n<li><a href=\"/wiki/Lemmatisation\" class=\"mw-redirect\" title=\"Lemmatisation\">Lemmatisation</a></li>\\n<li><a href=\"/wiki/Lexical_analysis\" title=\"Lexical analysis\">Lexical analysis</a></li>\\n<li><a href=\"/wiki/Shallow_parsing\" title=\"Shallow parsing\">Text chunking</a></li>\\n<li><a href=\"/wiki/Stemming\" title=\"Stemming\">Stemming</a></li>\\n<li><a href=\"/wiki/Sentence_boundary_disambiguation\" title=\"Sentence boundary disambiguation\">Sentence segmentation</a></li>\\n<li><a href=\"/wiki/Word#Word_boundaries\" title=\"Word\">Word segmentation</a></li></ul>\\n</div></td></tr></tbody></table><div>\\n</div></td></tr><tr><th scope=\"row\" class=\"navbox-group\" style=\"width:1%\"><a href=\"/wiki/Automatic_summarization\" title=\"Automatic summarization\">Automatic summarization</a></th><td class=\"navbox-list-with-group navbox-list navbox-even\" style=\"width:100%;padding:0\"><div style=\"padding:0 0.25em\">\\n<ul><li><a href=\"/wiki/Multi-document_summarization\" title=\"Multi-document summarization\">Multi-document summarization</a></li>\\n<li><a href=\"/wiki/Sentence_extraction\" title=\"Sentence extraction\">Sentence extraction</a></li>\\n<li><a href=\"/wiki/Text_simplification\" title=\"Text simplification\">Text simplification</a></li></ul>\\n</div></td></tr><tr><th scope=\"row\" class=\"navbox-group\" style=\"width:1%\"><a href=\"/wiki/Machine_translation\" title=\"Machine translation\">Machine translation</a></th><td class=\"navbox-list-with-group navbox-list navbox-odd\" style=\"width:100%;padding:0\"><div style=\"padding:0 0.25em\">\\n<ul><li><a href=\"/wiki/Computer-assisted_translation\" title=\"Computer-assisted translation\">Computer-assisted</a></li>\\n<li><a href=\"/wiki/Example-based_machine_translation\" title=\"Example-based machine translation\">Example-based</a></li>\\n<li><a href=\"/wiki/Rule-based_machine_translation\" title=\"Rule-based machine translation\">Rule-based</a></li>\\n<li><a href=\"/wiki/Statistical_machine_translation\" title=\"Statistical machine translation\">Statistical</a></li>\\n<li><a href=\"/wiki/Transfer-based_machine_translation\" title=\"Transfer-based machine translation\">Transfer-based</a></li>\\n<li><a href=\"/wiki/Neural_machine_translation\" title=\"Neural machine translation\">Neural</a></li></ul>\\n</div></td></tr><tr><th scope=\"row\" class=\"navbox-group\" style=\"width:1%\"><a href=\"/wiki/Distributional_semantics\" title=\"Distributional semantics\">Distributional semantics</a> models</th><td class=\"navbox-list-with-group navbox-list navbox-even\" style=\"width:100%;padding:0\"><div style=\"padding:0 0.25em\">\\n<ul><li><a href=\"/wiki/BERT_(language_model)\" title=\"BERT (language model)\">BERT</a></li>\\n<li><a href=\"/wiki/Document-term_matrix\" title=\"Document-term matrix\">Document-term matrix</a></li>\\n<li><a href=\"/wiki/Explicit_semantic_analysis\" title=\"Explicit semantic analysis\">Explicit semantic analysis</a></li>\\n<li><a href=\"/wiki/FastText\" title=\"FastText\">fastText</a></li>\\n<li><a href=\"/wiki/GloVe\" title=\"GloVe\">GloVe</a></li>\\n<li><a href=\"/wiki/Language_model\" title=\"Language model\">Language model</a> (<a href=\"/wiki/Large_language_model\" title=\"Large language model\">large</a>)</li>\\n<li><a href=\"/wiki/Latent_semantic_analysis\" title=\"Latent semantic analysis\">Latent semantic analysis</a></li>\\n<li><a href=\"/wiki/Seq2seq\" title=\"Seq2seq\">Seq2seq</a></li>\\n<li><a href=\"/wiki/Word_embedding\" title=\"Word embedding\">Word embedding</a></li>\\n<li><a href=\"/wiki/Word2vec\" title=\"Word2vec\">Word2vec</a></li></ul>\\n</div></td></tr><tr><th scope=\"row\" class=\"navbox-group\" style=\"width:1%\"><a href=\"/wiki/Language_resource\" title=\"Language resource\">Language resources</a>,<br />datasets and corpora</th><td class=\"navbox-list-with-group navbox-list navbox-odd\" style=\"width:100%;padding:0\"><div style=\"padding:0 0.25em\"></div><table class=\"nowraplinks navbox-subgroup\" style=\"border-spacing:0\"><tbody><tr><th scope=\"row\" class=\"navbox-group\" style=\"width:1%\">Types and<br />standards</th><td class=\"navbox-list-with-group navbox-list navbox-odd\" style=\"width:100%;padding:0\"><div style=\"padding:0 0.25em\">\\n<ul><li><a href=\"/wiki/Corpus_linguistics\" title=\"Corpus linguistics\">Corpus linguistics</a></li>\\n<li><a href=\"/wiki/Lexical_resource\" title=\"Lexical resource\">Lexical resource</a></li>\\n<li><a href=\"/wiki/Linguistic_Linked_Open_Data\" title=\"Linguistic Linked Open Data\">Linguistic Linked Open Data</a></li>\\n<li><a href=\"/wiki/Machine-readable_dictionary\" title=\"Machine-readable dictionary\">Machine-readable dictionary</a></li>\\n<li><a href=\"/wiki/Parallel_text\" title=\"Parallel text\">Parallel text</a></li>\\n<li><a href=\"/wiki/PropBank\" title=\"PropBank\">PropBank</a></li>\\n<li><a href=\"/wiki/Semantic_network\" title=\"Semantic network\">Semantic network</a></li>\\n<li><a href=\"/wiki/Simple_Knowledge_Organization_System\" title=\"Simple Knowledge Organization System\">Simple Knowledge Organization System</a></li>\\n<li><a href=\"/wiki/Speech_corpus\" title=\"Speech corpus\">Speech corpus</a></li>\\n<li><a href=\"/wiki/Text_corpus\" title=\"Text corpus\">Text corpus</a></li>\\n<li><a href=\"/wiki/Thesaurus_(information_retrieval)\" title=\"Thesaurus (information retrieval)\">Thesaurus (information retrieval)</a></li>\\n<li><a href=\"/wiki/Treebank\" title=\"Treebank\">Treebank</a></li>\\n<li><a href=\"/wiki/Universal_Dependencies\" title=\"Universal Dependencies\">Universal Dependencies</a></li></ul>\\n</div></td></tr><tr><th scope=\"row\" class=\"navbox-group\" style=\"width:1%\">Data</th><td class=\"navbox-list-with-group navbox-list navbox-even\" style=\"width:100%;padding:0\"><div style=\"padding:0 0.25em\">\\n<ul><li><a href=\"/wiki/BabelNet\" title=\"BabelNet\">BabelNet</a></li>\\n<li><a href=\"/wiki/Bank_of_English\" title=\"Bank of English\">Bank of English</a></li>\\n<li><a href=\"/wiki/DBpedia\" title=\"DBpedia\">DBpedia</a></li>\\n<li><a href=\"/wiki/FrameNet\" title=\"FrameNet\">FrameNet</a></li>\\n<li><a href=\"/wiki/Google_Ngram_Viewer\" class=\"mw-redirect\" title=\"Google Ngram Viewer\">Google Ngram Viewer</a></li>\\n<li><a href=\"/wiki/UBY\" title=\"UBY\">UBY</a></li>\\n<li><a href=\"/wiki/WordNet\" title=\"WordNet\">WordNet</a></li>\\n<li><a href=\"/wiki/Wikidata\" title=\"Wikidata\">Wikidata</a></li></ul>\\n</div></td></tr></tbody></table><div></div></td></tr><tr><th scope=\"row\" class=\"navbox-group\" style=\"width:1%\"><a href=\"/wiki/Automatic_identification_and_data_capture\" title=\"Automatic identification and data capture\">Automatic identification<br />and data capture</a></th><td class=\"navbox-list-with-group navbox-list navbox-odd\" style=\"width:100%;padding:0\"><div style=\"padding:0 0.25em\">\\n<ul><li><a href=\"/wiki/Speech_recognition\" title=\"Speech recognition\">Speech recognition</a></li>\\n<li><a href=\"/wiki/Speech_segmentation\" title=\"Speech segmentation\">Speech segmentation</a></li>\\n<li><a href=\"/wiki/Speech_synthesis\" title=\"Speech synthesis\">Speech synthesis</a></li>\\n<li><a href=\"/wiki/Natural_language_generation\" title=\"Natural language generation\">Natural language generation</a></li>\\n<li><a href=\"/wiki/Optical_character_recognition\" title=\"Optical character recognition\">Optical character recognition</a></li></ul>\\n</div></td></tr><tr><th scope=\"row\" class=\"navbox-group\" style=\"width:1%\"><a href=\"/wiki/Topic_model\" title=\"Topic model\">Topic model</a></th><td class=\"navbox-list-with-group navbox-list navbox-even\" style=\"width:100%;padding:0\"><div style=\"padding:0 0.25em\">\\n<ul><li><a href=\"/wiki/Document_classification\" title=\"Document classification\">Document classification</a></li>\\n<li><a href=\"/wiki/Latent_Dirichlet_allocation\" title=\"Latent Dirichlet allocation\">Latent Dirichlet allocation</a></li>\\n<li><a href=\"/wiki/Pachinko_allocation\" title=\"Pachinko allocation\">Pachinko allocation</a></li></ul>\\n</div></td></tr><tr><th scope=\"row\" class=\"navbox-group\" style=\"width:1%\"><a href=\"/wiki/Computer-assisted_reviewing\" title=\"Computer-assisted reviewing\">Computer-assisted<br />reviewing</a></th><td class=\"navbox-list-with-group navbox-list navbox-odd\" style=\"width:100%;padding:0\"><div style=\"padding:0 0.25em\">\\n<ul><li><a href=\"/wiki/Automated_essay_scoring\" title=\"Automated essay scoring\">Automated essay scoring</a></li>\\n<li><a href=\"/wiki/Concordancer\" title=\"Concordancer\">Concordancer</a></li>\\n<li><a href=\"/wiki/Grammar_checker\" title=\"Grammar checker\">Grammar checker</a></li>\\n<li><a href=\"/wiki/Predictive_text\" title=\"Predictive text\">Predictive text</a></li>\\n<li><a href=\"/wiki/Pronunciation_assessment\" title=\"Pronunciation assessment\">Pronunciation assessment</a></li>\\n<li><a href=\"/wiki/Spell_checker\" title=\"Spell checker\">Spell checker</a></li></ul>\\n</div></td></tr><tr><th scope=\"row\" class=\"navbox-group\" style=\"width:1%\"><a href=\"/wiki/Natural-language_user_interface\" title=\"Natural-language user interface\">Natural language<br />user interface</a></th><td class=\"navbox-list-with-group navbox-list navbox-even\" style=\"width:100%;padding:0\"><div style=\"padding:0 0.25em\">\\n<ul><li><a href=\"/wiki/Chatbot\" title=\"Chatbot\">Chatbot</a></li>\\n<li><a href=\"/wiki/Interactive_fiction\" title=\"Interactive fiction\">Interactive fiction</a> (cf. <a href=\"/wiki/Syntax_guessing\" class=\"mw-redirect\" title=\"Syntax guessing\">Syntax guessing</a>)</li>\\n<li><a href=\"/wiki/Question_answering\" title=\"Question answering\">Question answering</a></li>\\n<li><a href=\"/wiki/Virtual_assistant\" title=\"Virtual assistant\">Virtual assistant</a></li>\\n<li><a href=\"/wiki/Voice_user_interface\" title=\"Voice user interface\">Voice user interface</a></li></ul>\\n</div></td></tr><tr><th scope=\"row\" class=\"navbox-group\" style=\"width:1%\">Related</th><td class=\"navbox-list-with-group navbox-list navbox-odd\" style=\"width:100%;padding:0\"><div style=\"padding:0 0.25em\">\\n<ul><li><a href=\"/wiki/Formal_semantics_(natural_language)\" title=\"Formal semantics (natural language)\">Formal semantics</a></li>\\n<li><a href=\"/wiki/Hallucination_(artificial_intelligence)\" title=\"Hallucination (artificial intelligence)\">Hallucination</a></li>\\n<li><a href=\"/wiki/Natural_Language_Toolkit\" title=\"Natural Language Toolkit\">Natural Language Toolkit</a></li>\\n<li><a href=\"/wiki/SpaCy\" title=\"SpaCy\">spaCy</a></li></ul>\\n</div></td></tr></tbody></table></div>\\n<style data-mw-deduplicate=\"TemplateStyles:r1130092004\">.mw-parser-output .portal-bar{font-size:88%;font-weight:bold;display:flex;justify-content:center;align-items:baseline}.mw-parser-output .portal-bar-bordered{padding:0 2em;background-color:#fdfdfd;border:1px solid #a2a9b1;clear:both;margin:1em auto 0}.mw-parser-output .portal-bar-related{font-size:100%;justify-content:flex-start}.mw-parser-output .portal-bar-unbordered{padding:0 1.7em;margin-left:0}.mw-parser-output .portal-bar-header{margin:0 1em 0 0.5em;flex:0 0 auto;min-height:24px}.mw-parser-output .portal-bar-content{display:flex;flex-flow:row wrap;flex:0 1 auto;padding:0.15em 0;column-gap:1em;align-items:baseline;margin:0;list-style:none}.mw-parser-output .portal-bar-content-related{margin:0;list-style:none}.mw-parser-output .portal-bar-item{display:inline-block;margin:0.15em 0.2em;min-height:24px;line-height:24px}@media screen and (max-width:768px){.mw-parser-output .portal-bar{font-size:88%;font-weight:bold;display:flex;flex-flow:column wrap;align-items:baseline}.mw-parser-output .portal-bar-header{text-align:center;flex:0;padding-left:0.5em;margin:0 auto}.mw-parser-output .portal-bar-related{font-size:100%;align-items:flex-start}.mw-parser-output .portal-bar-content{display:flex;flex-flow:row wrap;align-items:center;flex:0;column-gap:1em;border-top:1px solid #a2a9b1;margin:0 auto;list-style:none}.mw-parser-output .portal-bar-content-related{border-top:none;margin:0;list-style:none}}.mw-parser-output .navbox+link+.portal-bar,.mw-parser-output .navbox+style+.portal-bar,.mw-parser-output .navbox+link+.portal-bar-bordered,.mw-parser-output .navbox+style+.portal-bar-bordered,.mw-parser-output .sister-bar+link+.portal-bar,.mw-parser-output .sister-bar+style+.portal-bar,.mw-parser-output .portal-bar+.navbox-styles+.navbox,.mw-parser-output .portal-bar+.navbox-styles+.sister-bar{margin-top:-1px}</style><div class=\"portal-bar noprint metadata noviewer portal-bar-bordered\" role=\"navigation\" aria-label=\"Portals\"><span class=\"portal-bar-header\"><a href=\"/wiki/Wikipedia:Contents/Portals\" title=\"Wikipedia:Contents/Portals\">Portal</a>:</span><ul class=\"portal-bar-content\"><li class=\"portal-bar-item\"><span class=\"nowrap\"><span class=\"noviewer\" typeof=\"mw:File\"><a href=\"/wiki/File:Globe_of_letters.svg\" class=\"mw-file-description\"><img alt=\"icon\" src=\"//upload.wikimedia.org/wikipedia/commons/thumb/d/de/Globe_of_letters.svg/20px-Globe_of_letters.svg.png\" decoding=\"async\" width=\"19\" height=\"19\" class=\"mw-file-element\" srcset=\"//upload.wikimedia.org/wikipedia/commons/thumb/d/de/Globe_of_letters.svg/40px-Globe_of_letters.svg.png 1.5x\" data-file-width=\"512\" data-file-height=\"512\" /></a></span> </span><a href=\"/wiki/Portal:Language\" title=\"Portal:Language\">Language</a></li></ul></div>\\n<div class=\"navbox-styles\"><link rel=\"mw-deduplicated-inline-style\" href=\"mw-data:TemplateStyles:r1129693374\" /><link rel=\"mw-deduplicated-inline-style\" href=\"mw-data:TemplateStyles:r1236075235\" /><style data-mw-deduplicate=\"TemplateStyles:r1038841319\">.mw-parser-output .tooltip-dotted{border-bottom:1px dotted;cursor:help}</style></div><div role=\"navigation\" class=\"navbox authority-control\" aria-label=\"Navbox870\" style=\"padding:3px\"><table class=\"nowraplinks hlist navbox-inner\" style=\"border-spacing:0;background:transparent;color:inherit\"><tbody><tr><th scope=\"row\" class=\"navbox-group\" style=\"width:1%\"><a href=\"/wiki/Help:Authority_control\" title=\"Help:Authority control\">Authority control databases</a>: National <span class=\"mw-valign-text-top noprint\" typeof=\"mw:File/Frameless\"><a href=\"https://www.wikidata.org/wiki/Q30642#identifiers\" title=\"Edit this at Wikidata\"><img alt=\"Edit this at Wikidata\" src=\"//upload.wikimedia.org/wikipedia/en/thumb/8/8a/OOjs_UI_icon_edit-ltr-progressive.svg/20px-OOjs_UI_icon_edit-ltr-progressive.svg.png\" decoding=\"async\" width=\"10\" height=\"10\" class=\"mw-file-element\" data-file-width=\"20\" data-file-height=\"20\" /></a></span></th><td class=\"navbox-list-with-group navbox-list navbox-odd\" style=\"width:100%;padding:0\"><div style=\"padding:0 0.25em\"><ul><li><span class=\"uid\"><a rel=\"nofollow\" class=\"external text\" href=\"https://id.loc.gov/authorities/sh88002425\">United States</a></span></li><li><span class=\"uid\"><a rel=\"nofollow\" class=\"external text\" href=\"https://id.ndl.go.jp/auth/ndlna/00562347\">Japan</a></span></li><li><span class=\"uid\"><span class=\"rt-commentedText tooltip tooltip-dotted\" title=\"zpracování přirozeného jazyka\"><a rel=\"nofollow\" class=\"external text\" href=\"https://aleph.nkp.cz/F/?func=find-c&amp;local_base=aut&amp;ccl_term=ica=ph427562&amp;CON_LNG=ENG\">Czech Republic</a></span></span></li><li><span class=\"uid\"><a rel=\"nofollow\" class=\"external text\" href=\"https://www.nli.org.il/en/authorities/987007536703305171\">Israel</a></span></li></ul></div></td></tr></tbody></table></div>\\n<!-- \\nNewPP limit report\\nParsed by mw‐api‐ext.eqiad.main‐59b78d7dfc‐mg8s9\\nCached time: 20250528191316\\nCache expiry: 2592000\\nReduced expiry: false\\nComplications: [vary‐revision‐sha1, show‐toc]\\nCPU time usage: 1.097 seconds\\nReal time usage: 1.342 seconds\\nPreprocessor visited node count: 5847/1000000\\nRevision size: 55054/2097152 bytes\\nPost‐expand include size: 161892/2097152 bytes\\nTemplate argument size: 3815/2097152 bytes\\nHighest expansion depth: 14/100\\nExpensive parser function count: 7/500\\nUnstrip recursion depth: 1/20\\nUnstrip post‐expand size: 235510/5000000 bytes\\nLua time usage: 0.701/10.000 seconds\\nLua memory usage: 9143824/52428800 bytes\\nNumber of Wikibase entities loaded: 1/500\\n-->\\n<!--\\nTransclusion expansion time report (%,ms,calls,template)\\n100.00% 1119.124      1 -total\\n 50.93%  569.929      1 Template:Reflist\\n 20.09%  224.869     23 Template:Cite_web\\n  9.70%  108.566     14 Template:Cite_journal\\n  7.86%   87.960      1 Template:Formal_languages\\n  7.71%   86.237      1 Template:Short_description\\n  7.65%   85.647      1 Template:Sidebar_with_collapsible_lists\\n  7.03%   78.676     11 Template:Cite_book\\n  6.40%   71.638      1 Template:More_citations_needed\\n  5.89%   65.915      1 Template:Ambox\\n-->\\n\\n<!-- Saved in parser cache with key enwiki:pcache:21652:|#|:idhash:canonical and timestamp 20250528191317 and revision id 1292777221. Rendering was triggered because: page-edit\\n -->\\n</div><!--esi <esi:include src=\"/esitest-fa8a495983347898/content\" /> --><noscript><img src=\"https://en.wikipedia.org/wiki/Special:CentralAutoLogin/start?type=1x1&amp;usesul3=1\" alt=\"\" width=\"1\" height=\"1\" style=\"border: none; position: absolute;\"></noscript>\\n<div class=\"printfooter\" data-nosnippet=\"\">Retrieved from \"<a dir=\"ltr\" href=\"https://en.wikipedia.org/w/index.php?title=Natural_language_processing&amp;oldid=1292777221\">https://en.wikipedia.org/w/index.php?title=Natural_language_processing&amp;oldid=1292777221</a>\"</div></div>\\n\\t\\t\\t\\t\\t<div id=\"catlinks\" class=\"catlinks\" data-mw=\"interface\"><div id=\"mw-normal-catlinks\" class=\"mw-normal-catlinks\"><a href=\"/wiki/Help:Category\" title=\"Help:Category\">Categories</a>: <ul><li><a href=\"/wiki/Category:Natural_language_processing\" title=\"Category:Natural language processing\">Natural language processing</a></li><li><a href=\"/wiki/Category:Computational_fields_of_study\" title=\"Category:Computational fields of study\">Computational fields of study</a></li><li><a href=\"/wiki/Category:Computational_linguistics\" title=\"Category:Computational linguistics\">Computational linguistics</a></li><li><a href=\"/wiki/Category:Speech_recognition\" title=\"Category:Speech recognition\">Speech recognition</a></li></ul></div><div id=\"mw-hidden-catlinks\" class=\"mw-hidden-catlinks mw-hidden-cats-hidden\">Hidden categories: <ul><li><a href=\"/wiki/Category:All_accuracy_disputes\" title=\"Category:All accuracy disputes\">All accuracy disputes</a></li><li><a href=\"/wiki/Category:Accuracy_disputes_from_December_2013\" title=\"Category:Accuracy disputes from December 2013\">Accuracy disputes from December 2013</a></li><li><a href=\"/wiki/Category:Harv_and_Sfn_no-target_errors\" title=\"Category:Harv and Sfn no-target errors\">Harv and Sfn no-target errors</a></li><li><a href=\"/wiki/Category:CS1_errors:_periodical_ignored\" title=\"Category:CS1 errors: periodical ignored\">CS1 errors: periodical ignored</a></li><li><a href=\"/wiki/Category:CS1_maint:_location\" title=\"Category:CS1 maint: location\">CS1 maint: location</a></li><li><a href=\"/wiki/Category:Articles_with_short_description\" title=\"Category:Articles with short description\">Articles with short description</a></li><li><a href=\"/wiki/Category:Short_description_is_different_from_Wikidata\" title=\"Category:Short description is different from Wikidata\">Short description is different from Wikidata</a></li><li><a href=\"/wiki/Category:Articles_needing_additional_references_from_May_2024\" title=\"Category:Articles needing additional references from May 2024\">Articles needing additional references from May 2024</a></li><li><a href=\"/wiki/Category:All_articles_needing_additional_references\" title=\"Category:All articles needing additional references\">All articles needing additional references</a></li><li><a href=\"/wiki/Category:All_articles_with_unsourced_statements\" title=\"Category:All articles with unsourced statements\">All articles with unsourced statements</a></li><li><a href=\"/wiki/Category:Articles_with_unsourced_statements_from_May_2024\" title=\"Category:Articles with unsourced statements from May 2024\">Articles with unsourced statements from May 2024</a></li><li><a href=\"/wiki/Category:Commons_category_link_from_Wikidata\" title=\"Category:Commons category link from Wikidata\">Commons category link from Wikidata</a></li></ul></div></div>\\n\\t\\t\\t\\t</div>\\n\\t\\t\\t</main>\\n\\t\\t\\t\\n\\t\\t</div>\\n\\t\\t<div class=\"mw-footer-container\">\\n\\t\\t\\t\\n<footer id=\"footer\" class=\"mw-footer\" >\\n\\t<ul id=\"footer-info\">\\n\\t<li id=\"footer-info-lastmod\"> This page was last edited on 28 May 2025, at 19:13<span class=\"anonymous-show\">&#160;(UTC)</span>.</li>\\n\\t<li id=\"footer-info-copyright\">Text is available under the <a href=\"/wiki/Wikipedia:Text_of_the_Creative_Commons_Attribution-ShareAlike_4.0_International_License\" title=\"Wikipedia:Text of the Creative Commons Attribution-ShareAlike 4.0 International License\">Creative Commons Attribution-ShareAlike 4.0 License</a>;\\nadditional terms may apply. By using this site, you agree to the <a href=\"https://foundation.wikimedia.org/wiki/Special:MyLanguage/Policy:Terms_of_Use\" class=\"extiw\" title=\"foundation:Special:MyLanguage/Policy:Terms of Use\">Terms of Use</a> and <a href=\"https://foundation.wikimedia.org/wiki/Special:MyLanguage/Policy:Privacy_policy\" class=\"extiw\" title=\"foundation:Special:MyLanguage/Policy:Privacy policy\">Privacy Policy</a>. Wikipedia® is a registered trademark of the <a rel=\"nofollow\" class=\"external text\" href=\"https://wikimediafoundation.org/\">Wikimedia Foundation, Inc.</a>, a non-profit organization.</li>\\n</ul>\\n\\n\\t<ul id=\"footer-places\">\\n\\t<li id=\"footer-places-privacy\"><a href=\"https://foundation.wikimedia.org/wiki/Special:MyLanguage/Policy:Privacy_policy\">Privacy policy</a></li>\\n\\t<li id=\"footer-places-about\"><a href=\"/wiki/Wikipedia:About\">About Wikipedia</a></li>\\n\\t<li id=\"footer-places-disclaimers\"><a href=\"/wiki/Wikipedia:General_disclaimer\">Disclaimers</a></li>\\n\\t<li id=\"footer-places-contact\"><a href=\"//en.wikipedia.org/wiki/Wikipedia:Contact_us\">Contact Wikipedia</a></li>\\n\\t<li id=\"footer-places-wm-codeofconduct\"><a href=\"https://foundation.wikimedia.org/wiki/Special:MyLanguage/Policy:Universal_Code_of_Conduct\">Code of Conduct</a></li>\\n\\t<li id=\"footer-places-developers\"><a href=\"https://developer.wikimedia.org\">Developers</a></li>\\n\\t<li id=\"footer-places-statslink\"><a href=\"https://stats.wikimedia.org/#/en.wikipedia.org\">Statistics</a></li>\\n\\t<li id=\"footer-places-cookiestatement\"><a href=\"https://foundation.wikimedia.org/wiki/Special:MyLanguage/Policy:Cookie_statement\">Cookie statement</a></li>\\n\\t<li id=\"footer-places-mobileview\"><a href=\"//en.m.wikipedia.org/w/index.php?title=Natural_language_processing&amp;mobileaction=toggle_view_mobile\" class=\"noprint stopMobileRedirectToggle\">Mobile view</a></li>\\n</ul>\\n\\n\\t<ul id=\"footer-icons\" class=\"noprint\">\\n\\t<li id=\"footer-copyrightico\"><a href=\"https://www.wikimedia.org/\" class=\"cdx-button cdx-button--fake-button cdx-button--size-large cdx-button--fake-button--enabled\"><picture><source media=\"(min-width: 500px)\" srcset=\"/static/images/footer/wikimedia-button.svg\" width=\"84\" height=\"29\"><img src=\"/static/images/footer/wikimedia.svg\" width=\"25\" height=\"25\" alt=\"Wikimedia Foundation\" lang=\"en\" loading=\"lazy\"></picture></a></li>\\n\\t<li id=\"footer-poweredbyico\"><a href=\"https://www.mediawiki.org/\" class=\"cdx-button cdx-button--fake-button cdx-button--size-large cdx-button--fake-button--enabled\"><picture><source media=\"(min-width: 500px)\" srcset=\"/w/resources/assets/poweredby_mediawiki.svg\" width=\"88\" height=\"31\"><img src=\"/w/resources/assets/mediawiki_compact.svg\" alt=\"Powered by MediaWiki\" lang=\"en\" width=\"25\" height=\"25\" loading=\"lazy\"></picture></a></li>\\n</ul>\\n\\n</footer>\\n\\n\\t\\t</div>\\n\\t</div> \\n</div> \\n<div class=\"vector-header-container vector-sticky-header-container no-font-mode-scale\">\\n\\t<div id=\"vector-sticky-header\" class=\"vector-sticky-header\">\\n\\t\\t<div class=\"vector-sticky-header-start\">\\n\\t\\t\\t<div class=\"vector-sticky-header-icon-start vector-button-flush-left vector-button-flush-right\" aria-hidden=\"true\">\\n\\t\\t\\t\\t<button class=\"cdx-button cdx-button--weight-quiet cdx-button--icon-only vector-sticky-header-search-toggle\" tabindex=\"-1\" data-event-name=\"ui.vector-sticky-search-form.icon\"><span class=\"vector-icon mw-ui-icon-search mw-ui-icon-wikimedia-search\"></span>\\n\\n<span>Search</span>\\n\\t\\t\\t</button>\\n\\t\\t</div>\\n\\t\\t\\t\\n\\t\\t<div role=\"search\" class=\"vector-search-box-vue  vector-search-box-show-thumbnail vector-search-box\">\\n\\t\\t\\t<div class=\"vector-typeahead-search-container\">\\n\\t\\t\\t\\t<div class=\"cdx-typeahead-search cdx-typeahead-search--show-thumbnail\">\\n\\t\\t\\t\\t\\t<form action=\"/w/index.php\" id=\"vector-sticky-search-form\" class=\"cdx-search-input cdx-search-input--has-end-button\">\\n\\t\\t\\t\\t\\t\\t<div  class=\"cdx-search-input__input-wrapper\"  data-search-loc=\"header-moved\">\\n\\t\\t\\t\\t\\t\\t\\t<div class=\"cdx-text-input cdx-text-input--has-start-icon\">\\n\\t\\t\\t\\t\\t\\t\\t\\t<input\\n\\t\\t\\t\\t\\t\\t\\t\\t\\tclass=\"cdx-text-input__input mw-searchInput\"\\n\\t\\t\\t\\t\\t\\t\\t\\t\\t\\n\\t\\t\\t\\t\\t\\t\\t\\t\\ttype=\"search\" name=\"search\" placeholder=\"Search Wikipedia\">\\n\\t\\t\\t\\t\\t\\t\\t\\t<span class=\"cdx-text-input__icon cdx-text-input__start-icon\"></span>\\n\\t\\t\\t\\t\\t\\t\\t</div>\\n\\t\\t\\t\\t\\t\\t\\t<input type=\"hidden\" name=\"title\" value=\"Special:Search\">\\n\\t\\t\\t\\t\\t\\t</div>\\n\\t\\t\\t\\t\\t\\t<button class=\"cdx-button cdx-search-input__end-button\">Search</button>\\n\\t\\t\\t\\t\\t</form>\\n\\t\\t\\t\\t</div>\\n\\t\\t\\t</div>\\n\\t\\t</div>\\n\\t\\t<div class=\"vector-sticky-header-context-bar\">\\n\\t\\t\\t\\t<nav aria-label=\"Contents\" class=\"vector-toc-landmark\">\\n\\t\\t\\t\\t\\t\\t\\n\\t\\t\\t\\t\\t<div id=\"vector-sticky-header-toc\" class=\"vector-dropdown mw-portlet mw-portlet-sticky-header-toc vector-sticky-header-toc vector-button-flush-left\"  >\\n\\t\\t\\t\\t\\t\\t<input type=\"checkbox\" id=\"vector-sticky-header-toc-checkbox\" role=\"button\" aria-haspopup=\"true\" data-event-name=\"ui.dropdown-vector-sticky-header-toc\" class=\"vector-dropdown-checkbox \"  aria-label=\"Toggle the table of contents\"  >\\n\\t\\t\\t\\t\\t\\t<label id=\"vector-sticky-header-toc-label\" for=\"vector-sticky-header-toc-checkbox\" class=\"vector-dropdown-label cdx-button cdx-button--fake-button cdx-button--fake-button--enabled cdx-button--weight-quiet cdx-button--icon-only \" aria-hidden=\"true\"  ><span class=\"vector-icon mw-ui-icon-listBullet mw-ui-icon-wikimedia-listBullet\"></span>\\n\\n<span class=\"vector-dropdown-label-text\">Toggle the table of contents</span>\\n\\t\\t\\t\\t\\t\\t</label>\\n\\t\\t\\t\\t\\t\\t<div class=\"vector-dropdown-content\">\\n\\t\\t\\t\\t\\t\\n\\t\\t\\t\\t\\t\\t<div id=\"vector-sticky-header-toc-unpinned-container\" class=\"vector-unpinned-container\">\\n\\t\\t\\t\\t\\t\\t</div>\\n\\t\\t\\t\\t\\t\\n\\t\\t\\t\\t\\t\\t</div>\\n\\t\\t\\t\\t\\t</div>\\n\\t\\t\\t</nav>\\n\\t\\t\\t\\t<div class=\"vector-sticky-header-context-bar-primary\" aria-hidden=\"true\" ><span class=\"mw-page-title-main\">Natural language processing</span></div>\\n\\t\\t\\t</div>\\n\\t\\t</div>\\n\\t\\t<div class=\"vector-sticky-header-end\" aria-hidden=\"true\">\\n\\t\\t\\t<div class=\"vector-sticky-header-icons\">\\n\\t\\t\\t\\t<a href=\"#\" class=\"cdx-button cdx-button--fake-button cdx-button--fake-button--enabled cdx-button--weight-quiet cdx-button--icon-only\" id=\"ca-talk-sticky-header\" tabindex=\"-1\" data-event-name=\"talk-sticky-header\"><span class=\"vector-icon mw-ui-icon-speechBubbles mw-ui-icon-wikimedia-speechBubbles\"></span>\\n\\n<span></span>\\n\\t\\t\\t</a>\\n\\t\\t\\t<a href=\"#\" class=\"cdx-button cdx-button--fake-button cdx-button--fake-button--enabled cdx-button--weight-quiet cdx-button--icon-only\" id=\"ca-subject-sticky-header\" tabindex=\"-1\" data-event-name=\"subject-sticky-header\"><span class=\"vector-icon mw-ui-icon-article mw-ui-icon-wikimedia-article\"></span>\\n\\n<span></span>\\n\\t\\t\\t</a>\\n\\t\\t\\t<a href=\"#\" class=\"cdx-button cdx-button--fake-button cdx-button--fake-button--enabled cdx-button--weight-quiet cdx-button--icon-only\" id=\"ca-history-sticky-header\" tabindex=\"-1\" data-event-name=\"history-sticky-header\"><span class=\"vector-icon mw-ui-icon-wikimedia-history mw-ui-icon-wikimedia-wikimedia-history\"></span>\\n\\n<span></span>\\n\\t\\t\\t</a>\\n\\t\\t\\t<a href=\"#\" class=\"cdx-button cdx-button--fake-button cdx-button--fake-button--enabled cdx-button--weight-quiet cdx-button--icon-only mw-watchlink\" id=\"ca-watchstar-sticky-header\" tabindex=\"-1\" data-event-name=\"watch-sticky-header\"><span class=\"vector-icon mw-ui-icon-wikimedia-star mw-ui-icon-wikimedia-wikimedia-star\"></span>\\n\\n<span></span>\\n\\t\\t\\t</a>\\n\\t\\t\\t<a href=\"#\" class=\"cdx-button cdx-button--fake-button cdx-button--fake-button--enabled cdx-button--weight-quiet cdx-button--icon-only\" id=\"ca-edit-sticky-header\" tabindex=\"-1\" data-event-name=\"wikitext-edit-sticky-header\"><span class=\"vector-icon mw-ui-icon-wikimedia-wikiText mw-ui-icon-wikimedia-wikimedia-wikiText\"></span>\\n\\n<span></span>\\n\\t\\t\\t</a>\\n\\t\\t\\t<a href=\"#\" class=\"cdx-button cdx-button--fake-button cdx-button--fake-button--enabled cdx-button--weight-quiet cdx-button--icon-only\" id=\"ca-ve-edit-sticky-header\" tabindex=\"-1\" data-event-name=\"ve-edit-sticky-header\"><span class=\"vector-icon mw-ui-icon-wikimedia-edit mw-ui-icon-wikimedia-wikimedia-edit\"></span>\\n\\n<span></span>\\n\\t\\t\\t</a>\\n\\t\\t\\t<a href=\"#\" class=\"cdx-button cdx-button--fake-button cdx-button--fake-button--enabled cdx-button--weight-quiet cdx-button--icon-only\" id=\"ca-viewsource-sticky-header\" tabindex=\"-1\" data-event-name=\"ve-edit-protected-sticky-header\"><span class=\"vector-icon mw-ui-icon-wikimedia-editLock mw-ui-icon-wikimedia-wikimedia-editLock\"></span>\\n\\n<span></span>\\n\\t\\t\\t</a>\\n\\t\\t</div>\\n\\t\\t\\t<div class=\"vector-sticky-header-buttons\">\\n\\t\\t\\t\\t<button class=\"cdx-button cdx-button--weight-quiet mw-interlanguage-selector\" id=\"p-lang-btn-sticky-header\" tabindex=\"-1\" data-event-name=\"ui.dropdown-p-lang-btn-sticky-header\"><span class=\"vector-icon mw-ui-icon-wikimedia-language mw-ui-icon-wikimedia-wikimedia-language\"></span>\\n\\n<span>70 languages</span>\\n\\t\\t\\t</button>\\n\\t\\t\\t<a href=\"#\" class=\"cdx-button cdx-button--fake-button cdx-button--fake-button--enabled cdx-button--weight-quiet cdx-button--action-progressive\" id=\"ca-addsection-sticky-header\" tabindex=\"-1\" data-event-name=\"addsection-sticky-header\"><span class=\"vector-icon mw-ui-icon-speechBubbleAdd-progressive mw-ui-icon-wikimedia-speechBubbleAdd-progressive\"></span>\\n\\n<span>Add topic</span>\\n\\t\\t\\t</a>\\n\\t\\t</div>\\n\\t\\t\\t<div class=\"vector-sticky-header-icon-end\">\\n\\t\\t\\t\\t<div class=\"vector-user-links\">\\n\\t\\t\\t\\t</div>\\n\\t\\t\\t</div>\\n\\t\\t</div>\\n\\t</div>\\n</div>\\n<div class=\"mw-portlet mw-portlet-dock-bottom emptyPortlet\" id=\"p-dock-bottom\">\\n\\t<ul>\\n\\t\\t\\n\\t</ul>\\n</div>\\n<script>(RLQ=window.RLQ||[]).push(function(){mw.config.set({\"wgHostname\":\"mw-web.eqiad.main-d8fd89c46-hqhn2\",\"wgBackendResponseTime\":149,\"wgPageParseReport\":{\"limitreport\":{\"cputime\":\"1.097\",\"walltime\":\"1.342\",\"ppvisitednodes\":{\"value\":5847,\"limit\":1000000},\"revisionsize\":{\"value\":55054,\"limit\":2097152},\"postexpandincludesize\":{\"value\":161892,\"limit\":2097152},\"templateargumentsize\":{\"value\":3815,\"limit\":2097152},\"expansiondepth\":{\"value\":14,\"limit\":100},\"expensivefunctioncount\":{\"value\":7,\"limit\":500},\"unstrip-depth\":{\"value\":1,\"limit\":20},\"unstrip-size\":{\"value\":235510,\"limit\":5000000},\"entityaccesscount\":{\"value\":1,\"limit\":500},\"timingprofile\":[\"100.00% 1119.124      1 -total\",\" 50.93%  569.929      1 Template:Reflist\",\" 20.09%  224.869     23 Template:Cite_web\",\"  9.70%  108.566     14 Template:Cite_journal\",\"  7.86%   87.960      1 Template:Formal_languages\",\"  7.71%   86.237      1 Template:Short_description\",\"  7.65%   85.647      1 Template:Sidebar_with_collapsible_lists\",\"  7.03%   78.676     11 Template:Cite_book\",\"  6.40%   71.638      1 Template:More_citations_needed\",\"  5.89%   65.915      1 Template:Ambox\"]},\"scribunto\":{\"limitreport-timeusage\":{\"value\":\"0.701\",\"limit\":\"10.000\"},\"limitreport-memusage\":{\"value\":9143824,\"limit\":52428800},\"limitreport-logs\":\"anchor_id_list = table#1 {\\\\n    [\\\\\"CITEREFAdministration\\\\\"] = 1,\\\\n    [\\\\\"CITEREFBates1995\\\\\"] = 1,\\\\n    [\\\\\"CITEREFBengioDucharmeVincentJanvin2003\\\\\"] = 1,\\\\n    [\\\\\"CITEREFChoeCharniak\\\\\"] = 1,\\\\n    [\\\\\"CITEREFCoyneSproat2001\\\\\"] = 1,\\\\n    [\\\\\"CITEREFDasguptaLampinenChanCreswell2022\\\\\"] = 1,\\\\n    [\\\\\"CITEREFDuanCruz2011\\\\\"] = 1,\\\\n    [\\\\\"CITEREFFriston2022\\\\\"] = 1,\\\\n    [\\\\\"CITEREFGoldberg2016\\\\\"] = 1,\\\\n    [\\\\\"CITEREFGoodfellowBengioCourville2016\\\\\"] = 1,\\\\n    [\\\\\"CITEREFGuidaMauri1986\\\\\"] = 1,\\\\n    [\\\\\"CITEREFHutchins,_J.2005\\\\\"] = 1,\\\\n    [\\\\\"CITEREFJozefowiczVinyalsSchusterShazeer2016\\\\\"] = 1,\\\\n    [\\\\\"CITEREFKariampuzhaAlyeaQuSanjak2023\\\\\"] = 1,\\\\n    [\\\\\"CITEREFKishorjitVidyaNirmalSivaji2012\\\\\"] = 1,\\\\n    [\\\\\"CITEREFKleinManning2002\\\\\"] = 1,\\\\n    [\\\\\"CITEREFKoskenniemi1983\\\\\"] = 1,\\\\n    [\\\\\"CITEREFLakoff1999\\\\\"] = 1,\\\\n    [\\\\\"CITEREFLeeYangHolland-HallSezgin2022\\\\\"] = 1,\\\\n    [\\\\\"CITEREFLippiTorroni2016\\\\\"] = 1,\\\\n    [\\\\\"CITEREFMikolovKarafiátBurgetČernocký2010\\\\\"] = 1,\\\\n    [\\\\\"CITEREFRobertson2022\\\\\"] = 1,\\\\n    [\\\\\"CITEREFRobinson2008\\\\\"] = 1,\\\\n    [\\\\\"CITEREFSchankAbelson1977\\\\\"] = 1,\\\\n    [\\\\\"CITEREFSegev2022\\\\\"] = 1,\\\\n    [\\\\\"CITEREFSocher\\\\\"] = 1,\\\\n    [\\\\\"CITEREFSocherKarpathyLeManning2014\\\\\"] = 1,\\\\n    [\\\\\"CITEREFStrauss1999\\\\\"] = 1,\\\\n    [\\\\\"CITEREFTurchinFlorez_Builes2021\\\\\"] = 1,\\\\n    [\\\\\"CITEREFVincent2022\\\\\"] = 1,\\\\n    [\\\\\"CITEREFVinyalsKaiser2014\\\\\"] = 1,\\\\n    [\\\\\"CITEREFWinograd1971\\\\\"] = 1,\\\\n    [\\\\\"CITEREFWriter2019\\\\\"] = 1,\\\\n    [\\\\\"CITEREFYiTian2012\\\\\"] = 1,\\\\n    [\\\\\"Statistical_natural_language_processing_(SNLP)\\\\\"] = 1,\\\\n}\\\\ntemplate_list = table#1 {\\\\n    [\\\\\"!\\\\\"] = 2,\\\\n    [\\\\\"Anchor\\\\\"] = 1,\\\\n    [\\\\\"Authority control\\\\\"] = 1,\\\\n    [\\\\\"Cbignore\\\\\"] = 1,\\\\n    [\\\\\"Citation\\\\\"] = 2,\\\\n    [\\\\\"Citation needed\\\\\"] = 1,\\\\n    [\\\\\"Cite arXiv\\\\\"] = 1,\\\\n    [\\\\\"Cite book\\\\\"] = 11,\\\\n    [\\\\\"Cite journal\\\\\"] = 14,\\\\n    [\\\\\"Cite patent\\\\\"] = 1,\\\\n    [\\\\\"Cite thesis\\\\\"] = 1,\\\\n    [\\\\\"Cite web\\\\\"] = 23,\\\\n    [\\\\\"Commonscatinline\\\\\"] = 1,\\\\n    [\\\\\"DEFAULTSORT:Natural Language Processing\\\\\"] = 1,\\\\n    [\\\\\"Div col\\\\\"] = 1,\\\\n    [\\\\\"Div col end\\\\\"] = 1,\\\\n    [\\\\\"Formal languages\\\\\"] = 1,\\\\n    [\\\\\"Further\\\\\"] = 1,\\\\n    [\\\\\"Harvnb\\\\\"] = 2,\\\\n    [\\\\\"ISBN\\\\\"] = 7,\\\\n    [\\\\\"More citations needed\\\\\"] = 1,\\\\n    [\\\\\"Natural Language Processing\\\\\"] = 1,\\\\n    [\\\\\"Portal bar\\\\\"] = 1,\\\\n    [\\\\\"Refbegin\\\\\"] = 1,\\\\n    [\\\\\"Refend\\\\\"] = 1,\\\\n    [\\\\\"Reflist\\\\\"] = 1,\\\\n    [\\\\\"See\\\\\"] = 1,\\\\n    [\\\\\"Self-published source\\\\\"] = 1,\\\\n    [\\\\\"Short description\\\\\"] = 1,\\\\n    [\\\\\"Visible anchor\\\\\"] = 2,\\\\n}\\\\narticle_whitelist = table#1 {\\\\n}\\\\nciteref_patterns = table#1 {\\\\n}\\\\nno target: CITEREFCrevier1993\\\\nno target: CITEREFBuchanan2005\\\\n\"},\"cachereport\":{\"origin\":\"mw-api-ext.eqiad.main-59b78d7dfc-mg8s9\",\"timestamp\":\"20250528191316\",\"ttl\":2592000,\"transientcontent\":false}}});});</script>\\n<script type=\"application/ld+json\">{\"@context\":\"https:\\\\/\\\\/schema.org\",\"@type\":\"Article\",\"name\":\"Natural language processing\",\"url\":\"https:\\\\/\\\\/en.wikipedia.org\\\\/wiki\\\\/Natural_language_processing\",\"sameAs\":\"http:\\\\/\\\\/www.wikidata.org\\\\/entity\\\\/Q30642\",\"mainEntity\":\"http:\\\\/\\\\/www.wikidata.org\\\\/entity\\\\/Q30642\",\"author\":{\"@type\":\"Organization\",\"name\":\"Contributors to Wikimedia projects\"},\"publisher\":{\"@type\":\"Organization\",\"name\":\"Wikimedia Foundation, Inc.\",\"logo\":{\"@type\":\"ImageObject\",\"url\":\"https:\\\\/\\\\/www.wikimedia.org\\\\/static\\\\/images\\\\/wmf-hor-googpub.png\"}},\"datePublished\":\"2001-09-22T05:47:41Z\",\"dateModified\":\"2025-05-28T19:13:14Z\",\"headline\":\"field of computer science and linguistics\"}</script>\\n</body>\\n</html>'"
            ],
            "application/vnd.google.colaboratory.intrinsic+json": {
              "type": "string"
            }
          },
          "metadata": {},
          "execution_count": 7
        }
      ]
    },
    {
      "cell_type": "code",
      "source": [
        "soup = BeautifulSoup(response.data, 'html.parser')\n",
        "text = soup.get_text()\n",
        "text"
      ],
      "metadata": {
        "colab": {
          "base_uri": "https://localhost:8080/",
          "height": 105
        },
        "id": "DDPJKVJjxtur",
        "outputId": "b00b0706-4dad-421f-99a0-a992820b1a63"
      },
      "execution_count": null,
      "outputs": [
        {
          "output_type": "execute_result",
          "data": {
            "text/plain": [
              "'\\n\\n\\n\\nNatural language processing - Wikipedia\\n\\n\\n\\n\\n\\n\\n\\n\\n\\n\\n\\n\\n\\n\\n\\n\\n\\n\\n\\n\\n\\n\\n\\n\\n\\n\\n\\nJump to content\\n\\n\\n\\n\\n\\n\\n\\nMain menu\\n\\n\\n\\n\\n\\nMain menu\\nmove to sidebar\\nhide\\n\\n\\n\\n\\t\\tNavigation\\n\\t\\n\\n\\nMain pageContentsCurrent eventsRandom articleAbout WikipediaContact us\\n\\n\\n\\n\\n\\n\\t\\tContribute\\n\\t\\n\\n\\nHelpLearn to editCommunity portalRecent changesUpload fileSpecial pages\\n\\n\\n\\n\\n\\n\\n\\n\\n\\n\\n\\n\\n\\n\\n\\n\\n\\n\\n\\nSearch\\n\\n\\n\\n\\n\\n\\n\\n\\n\\n\\n\\nSearch\\n\\n\\n\\n\\n\\n\\n\\n\\n\\n\\n\\n\\n\\n\\n\\n\\n\\n\\n\\n\\n\\n\\nAppearance\\n\\n\\n\\n\\n\\n\\n\\n\\n\\n\\n\\n\\n\\n\\n\\n\\nDonate\\n\\nCreate account\\n\\nLog in\\n\\n\\n\\n\\n\\n\\n\\n\\nPersonal tools\\n\\n\\n\\n\\n\\nDonate Create account Log in\\n\\n\\n\\n\\n\\n\\t\\tPages for logged out editors learn more\\n\\n\\n\\nContributionsTalk\\n\\n\\n\\n\\n\\n\\n\\n\\n\\n\\n\\n\\n\\n\\n\\n\\n\\n\\n\\n\\n\\n\\n\\n\\n\\n\\n\\n\\nContents\\nmove to sidebar\\nhide\\n\\n\\n\\n\\n(Top)\\n\\n\\n\\n\\n\\n1\\nHistory\\n\\n\\n\\n\\nToggle History subsection\\n\\n\\n\\n\\n\\n1.1\\nSymbolic NLP (1950s – early 1990s)\\n\\n\\n\\n\\n\\n\\n\\n\\n1.2\\nStatistical NLP (1990s–present)\\n\\n\\n\\n\\n\\n\\n\\n\\n\\n\\n2\\nApproaches: Symbolic, statistical, neural networks\\n\\n\\n\\n\\nToggle Approaches: Symbolic, statistical, neural networks subsection\\n\\n\\n\\n\\n\\n2.1\\nStatistical approach\\n\\n\\n\\n\\n\\n\\n\\n\\n2.2\\nNeural networks\\n\\n\\n\\n\\n\\n\\n\\n\\n\\n\\n3\\nCommon NLP tasks\\n\\n\\n\\n\\nToggle Common NLP tasks subsection\\n\\n\\n\\n\\n\\n3.1\\nText and speech processing\\n\\n\\n\\n\\n\\n\\n\\n\\n3.2\\nMorphological analysis\\n\\n\\n\\n\\n\\n\\n\\n\\n3.3\\nSyntactic analysis\\n\\n\\n\\n\\n\\n\\n\\n\\n3.4\\nLexical semantics (of individual words in context)\\n\\n\\n\\n\\n\\n\\n\\n\\n3.5\\nRelational semantics (semantics of individual sentences)\\n\\n\\n\\n\\n\\n\\n\\n\\n3.6\\nDiscourse (semantics beyond individual sentences)\\n\\n\\n\\n\\n\\n\\n\\n\\n3.7\\nHigher-level NLP applications\\n\\n\\n\\n\\n\\n\\n\\n\\n\\n\\n4\\nGeneral tendencies and (possible) future directions\\n\\n\\n\\n\\nToggle General tendencies and (possible) future directions subsection\\n\\n\\n\\n\\n\\n4.1\\nCognition\\n\\n\\n\\n\\n\\n\\n\\n\\n\\n\\n5\\nSee also\\n\\n\\n\\n\\n\\n\\n\\n\\n6\\nReferences\\n\\n\\n\\n\\n\\n\\n\\n\\n7\\nFurther reading\\n\\n\\n\\n\\n\\n\\n\\n\\n8\\nExternal links\\n\\n\\n\\n\\n\\n\\n\\n\\n\\n\\n\\n\\n\\n\\n\\n\\n\\n\\nToggle the table of contents\\n\\n\\n\\n\\n\\n\\n\\nNatural language processing\\n\\n\\n\\n70 languages\\n\\n\\n\\n\\nAfrikaansالعربيةԱրեւմտահայերէնAzərbaycancaবাংলা閩南語 / Bân-lâm-gúБеларускаяБеларуская (тарашкевіца)БългарскиBosanskiBrezhonegCatalàČeštinaCymraegDanskDeutschEestiΕλληνικάEspañolEsperantoEuskaraفارسیFrançaisGaeilgeGalego한국어Հայերենहिन्दीHrvatskiBahasa IndonesiaIsiZuluÍslenskaItalianoעבריתಕನ್ನಡქართულიLatviešuLietuviųМакедонскиमराठीمصرىМонголမြန်မာဘာသာNederlands日本語Norsk bokmålଓଡ଼ିଆپښتوPicardPiemontèisPolskiPortuguêsQaraqalpaqshaRomânăRuna SimiРусскийShqipSimple EnglishکوردیСрпски / srpskiSrpskohrvatski / српскохрватскиSuomiதமிழ்తెలుగుไทยTürkçeУкраїнськаTiếng Việt粵語中文\\n\\nEdit links\\n\\n\\n\\n\\n\\n\\n\\n\\n\\n\\n\\nArticleTalk\\n\\n\\n\\n\\n\\nEnglish\\n\\n\\n\\n\\n\\n\\n\\n\\n\\n\\n\\n\\n\\n\\n\\n\\n\\nReadEditView history\\n\\n\\n\\n\\n\\n\\n\\nTools\\n\\n\\n\\n\\n\\nTools\\nmove to sidebar\\nhide\\n\\n\\n\\n\\t\\tActions\\n\\t\\n\\n\\nReadEditView history\\n\\n\\n\\n\\n\\n\\t\\tGeneral\\n\\t\\n\\n\\nWhat links hereRelated changesUpload filePermanent linkPage informationCite this pageGet shortened URLDownload QR code\\n\\n\\n\\n\\n\\n\\t\\tPrint/export\\n\\t\\n\\n\\nDownload as PDFPrintable version\\n\\n\\n\\n\\n\\n\\t\\tIn other projects\\n\\t\\n\\n\\nWikimedia CommonsWikiversityWikidata item\\n\\n\\n\\n\\n\\n\\n\\n\\n\\n\\n\\n\\n\\n\\n\\n\\n\\n\\n\\n\\n\\nAppearance\\nmove to sidebar\\nhide\\n\\n\\n\\n\\n\\n\\n\\n\\n\\n\\nFrom Wikipedia, the free encyclopedia\\n\\n\\nField of linguistics and computer science\\nThis article needs additional citations for verification. Please help improve this article by adding citations to reliable sources. Unsourced material may be challenged and removed.Find sources:\\xa0\"Natural language processing\"\\xa0–\\xa0news\\xa0· newspapers\\xa0· books\\xa0· scholar\\xa0· JSTOR (May 2024) (Learn how and when to remove this message)\\nNatural language processing (NLP) is a subfield of computer science and especially artificial intelligence. It is primarily concerned with providing computers with the ability to process data encoded in natural language and is thus closely related to information retrieval, knowledge representation and computational linguistics, a subfield of linguistics.\\nMajor tasks in natural language processing are speech recognition, text classification, natural-language understanding, and natural-language generation.\\n\\n\\nHistory[edit]\\nFurther information: History of natural language processing\\nNatural language processing has its roots in the 1950s.[1] Already in 1950, Alan Turing published an article titled \"Computing Machinery and Intelligence\" which proposed what is now called the Turing test as a criterion of intelligence, though at the time that was not articulated as a problem separate from artificial intelligence. The proposed test includes a task that involves the automated interpretation and generation of natural language.\\n\\nSymbolic NLP (1950s – early 1990s)[edit]\\nThe premise of symbolic NLP is well-summarized by John Searle\\'s Chinese room experiment: Given a collection of rules (e.g., a Chinese phrasebook, with questions and matching answers), the computer emulates natural language understanding (or other NLP tasks) by applying those rules to the data it confronts.\\n\\n1950s: The Georgetown experiment in 1954 involved fully automatic translation of more than sixty Russian sentences into English. The authors claimed that within three or five years, machine translation would be a solved problem.[2]  However, real progress was much slower, and after the ALPAC report in 1966, which found that ten years of research had failed to fulfill the expectations, funding for machine translation was dramatically reduced. Little further research in machine translation was conducted in America (though some research continued elsewhere, such as Japan and Europe[3]) until the late 1980s when the first statistical machine translation systems were developed.\\n1960s: Some notably successful natural language processing systems developed in the 1960s were SHRDLU, a natural language system working in restricted \"blocks worlds\" with restricted vocabularies, and ELIZA, a simulation of a Rogerian psychotherapist, written by Joseph Weizenbaum between 1964 and 1966. Using almost no information about human thought or emotion, ELIZA sometimes provided a startlingly human-like interaction. When the \"patient\" exceeded the very small knowledge base, ELIZA might provide a generic response, for example, responding to \"My head hurts\" with \"Why do you say your head hurts?\". Ross Quillian\\'s successful work on natural language was demonstrated with a vocabulary of only twenty words, because that was all that would fit in a computer  memory at the time.[4]\\n1970s: During the 1970s, many programmers began to write \"conceptual ontologies\", which structured real-world information into computer-understandable data.  Examples are MARGIE (Schank, 1975), SAM (Cullingford, 1978), PAM (Wilensky, 1978), TaleSpin (Meehan, 1976), QUALM (Lehnert, 1977), Politics (Carbonell, 1979), and Plot Units (Lehnert 1981).  During this time, the first chatterbots were written (e.g., PARRY).\\n1980s: The 1980s and early 1990s mark the heyday of symbolic methods in NLP. Focus areas of the time included research on rule-based parsing (e.g., the development of HPSG as a computational operationalization of generative grammar), morphology (e.g., two-level morphology[5]), semantics (e.g., Lesk algorithm), reference (e.g., within Centering Theory[6]) and other areas of natural language understanding (e.g., in the Rhetorical Structure Theory). Other lines of research were continued, e.g., the development of chatterbots with Racter and Jabberwacky. An important development (that eventually led to the statistical turn in the 1990s) was the rising importance of quantitative evaluation in this period.[7]\\nStatistical NLP (1990s–present)[edit]\\nUp until the 1980s, most natural language processing systems were based on complex sets of hand-written rules.  Starting in the late 1980s, however, there was a revolution in natural language processing with the introduction of machine learning algorithms for language processing.  This was due to both the steady increase in computational power (see Moore\\'s law) and the gradual lessening of the dominance of Chomskyan theories of linguistics (e.g. transformational grammar), whose theoretical underpinnings discouraged the sort of corpus linguistics that underlies the machine-learning approach to language processing.[8]\\n\\n1990s: Many of the notable early successes in statistical methods in NLP occurred in the field of machine translation, due especially to work at IBM Research, such as IBM alignment models.  These systems were able to take advantage of existing multilingual textual corpora that had been produced by the Parliament of Canada and the European Union as a result of laws calling for the translation of all governmental proceedings into all official languages of the corresponding systems of government.  However, most other systems depended on corpora specifically developed for the tasks implemented by these systems, which was (and often continues to be) a major limitation in the success of these systems. As a result, a great deal of research has gone into methods of more effectively learning from limited amounts of data.\\n2000s: With the growth of the web, increasing amounts of raw (unannotated) language data have become available since the mid-1990s. Research has thus increasingly focused on unsupervised and semi-supervised learning algorithms.  Such algorithms can learn from data that has not been hand-annotated with the desired answers or using a combination of annotated and non-annotated data.  Generally, this task is much more difficult than supervised learning, and typically produces less accurate results for a given amount of input data.  However, there is an enormous amount of non-annotated data available (including, among other things, the entire content of the World Wide Web), which can often make up for the worse efficiency if the algorithm used has a low enough time complexity to be practical.\\n2003: word n-gram model, at the time the best statistical algorithm, is outperformed by a multi-layer perceptron (with a single hidden layer and context length of several words, trained on up to 14 million words, by Bengio et al.)[9]\\n2010: Tomáš Mikolov (then a PhD student at Brno University of Technology) with co-authors applied a simple recurrent neural network with a single hidden layer to language modelling,[10] and in the following years he went on to develop Word2vec. In the 2010s, representation learning and deep neural network-style (featuring many hidden layers) machine learning methods became widespread in natural language processing. That popularity was due partly to a flurry of results showing that such techniques[11][12] can achieve state-of-the-art results in many natural language tasks, e.g., in language modeling[13] and parsing.[14][15] This is increasingly important in medicine and healthcare, where NLP helps analyze notes and text in electronic health records that would otherwise be inaccessible for study when seeking to improve care[16] or protect patient privacy.[17]\\nApproaches: Symbolic, statistical, neural networks[edit]\\nSymbolic approach, i.e., the hand-coding of a set of rules for manipulating symbols, coupled with a dictionary lookup, was historically the first approach used both by AI in general and by NLP in particular:[18][19] such as by writing grammars or devising heuristic rules for stemming.\\nMachine learning approaches, which include both statistical and neural networks, on the other hand, have many advantages over the symbolic approach: \\n\\nboth statistical and neural networks methods can focus more on the most common cases extracted from a corpus of texts, whereas the rule-based approach needs to provide rules for both rare cases and common ones equally.\\nlanguage models, produced by either statistical or neural networks methods, are more robust to both unfamiliar (e.g. containing words or structures that have not been seen before) and erroneous input (e.g. with misspelled words or words accidentally omitted) in comparison to the rule-based systems, which are also more costly to produce.\\nthe larger such a (probabilistic) language model is, the more accurate it becomes, in contrast to rule-based systems that can gain accuracy only by increasing the amount and complexity of the rules leading to intractability problems.\\nRule-based systems are commonly used:\\n\\nwhen the amount of training data is insufficient to successfully apply machine learning methods, e.g., for the machine translation of low-resource languages such as provided by the Apertium system,\\nfor preprocessing in NLP pipelines, e.g., tokenization, or\\nfor postprocessing and transforming the output of NLP pipelines, e.g., for knowledge extraction from syntactic parses.\\nStatistical approach[edit]\\nIn the late 1980s and mid-1990s, the statistical approach ended a period of AI winter, which was caused by the inefficiencies of the rule-based approaches.[20][21]\\nThe earliest decision trees, producing systems of hard if–then rules, were still very similar to the old rule-based approaches.\\nOnly the introduction of hidden Markov models, applied to part-of-speech tagging, announced the end of the old rule-based approach.\\n\\nNeural networks[edit]\\nFurther information: Artificial neural network\\nA major drawback of statistical methods is that they require elaborate feature engineering. Since 2015,[22] the statistical approach has been replaced by the neural networks approach, using semantic networks[23] and word embeddings to capture semantic properties of words.  \\nIntermediate tasks (e.g., part-of-speech tagging and dependency parsing) are not needed anymore. \\nNeural machine translation, based on then-newly invented sequence-to-sequence transformations, made obsolete the intermediate steps, such as word alignment, previously necessary for statistical machine translation.\\n\\nCommon NLP tasks[edit]\\nThe following is a list of some of the most commonly researched tasks in natural language processing. Some of these tasks have direct real-world applications, while others more commonly serve as subtasks that are used to aid in solving larger tasks.\\nThough natural language processing tasks are closely intertwined, they can be subdivided into categories for convenience. A coarse division is given below.\\n\\nText and speech processing[edit]\\nOptical character recognition (OCR)\\nGiven an image representing printed text, determine the corresponding text.\\nSpeech recognition\\nGiven a sound clip of a person or people speaking, determine the textual representation of the speech.  This is the opposite of text to speech and is one of the extremely difficult problems colloquially termed \"AI-complete\" (see above).  In natural speech there are hardly any pauses between successive words, and thus speech segmentation is a necessary subtask of speech recognition (see below). In most spoken languages, the sounds representing successive letters blend into each other in a process termed coarticulation, so the conversion of the analog signal to discrete characters can be a very difficult process. Also, given that words in the same language are spoken by people with different accents, the speech recognition software must be able to recognize the wide variety of input as being identical to each other in terms of its textual equivalent.\\nSpeech segmentation\\nGiven a sound clip of a person or people speaking, separate it into words.  A subtask of speech recognition and typically grouped with it.\\nText-to-speech\\nGiven a text, transform those units and produce a spoken representation. Text-to-speech can be used to aid the visually impaired.[24]\\nWord segmentation (Tokenization)\\nTokenization is a process used in text analysis that divides text into individual words or word fragments. This technique results in two key components: a word index and tokenized text. The word index is a list that maps unique words to specific numerical identifiers, and the tokenized text replaces each word with its corresponding numerical token. These numerical tokens are then used in various deep learning methods.[25]\\nFor a language like English, this is fairly trivial, since words are usually separated by spaces. However, some written languages like Chinese, Japanese and Thai do not mark word boundaries in such a fashion, and in those languages text segmentation is a significant task requiring knowledge of the vocabulary and morphology of words in the language. Sometimes this process is also used in cases like bag of words (BOW) creation in data mining.[citation needed]\\nMorphological analysis[edit]\\nLemmatization\\nThe task of removing inflectional endings only and to return the base dictionary form of a word which is also known as a lemma. Lemmatization is another technique for reducing words to their normalized form. But in this case, the transformation actually uses a dictionary to map words to their actual form.[26]\\nMorphological segmentation\\nSeparate words into individual morphemes and identify the class of the morphemes. The difficulty of this task depends greatly on the complexity of the morphology (i.e., the structure of words) of the language being considered. English has fairly simple morphology, especially inflectional morphology, and thus it is often possible to ignore this task entirely and simply model all possible forms of a word (e.g., \"open, opens, opened, opening\") as separate words. In languages such as Turkish or Meitei, a highly agglutinated Indian language, however, such an approach is not possible, as each dictionary entry has thousands of possible word forms.[27]\\nPart-of-speech tagging\\nGiven a sentence, determine the part of speech (POS) for each word. Many words, especially common ones, can serve as multiple parts of speech. For example, \"book\" can be a noun (\"the book on the table\") or verb (\"to book a flight\"); \"set\" can be a noun, verb or adjective; and \"out\" can be any of at least five different parts of speech.\\nStemming\\nThe process of reducing inflected (or sometimes derived) words to a base form (e.g., \"close\" will be the root for \"closed\", \"closing\", \"close\", \"closer\" etc.). Stemming yields similar results as lemmatization, but does so on grounds of rules, not a dictionary.\\nSyntactic analysis[edit]\\nPart of a series onFormal languages\\nKey concepts\\nFormal system\\nAlphabet\\nSyntax\\nFormal semantics\\nSemantics (programming languages)\\nFormal grammar\\nFormation rule\\nWell-formed formula\\nAutomata theory\\nRegular expression\\nProduction\\nGround expression\\nAtomic formula\\n\\nApplications\\nFormal methods\\nPropositional calculus\\nPredicate logic\\nMathematical notation\\nNatural language processing\\nProgramming language theory\\nMathematical linguistics\\nComputational linguistics\\nSyntax analysis\\nFormal verification\\nAutomated theorem proving\\nvte\\nGrammar induction[28]\\nGenerate a formal grammar that describes a language\\'s syntax.\\nSentence breaking (also known as \"sentence boundary disambiguation\")\\nGiven a chunk of text, find the sentence boundaries. Sentence boundaries are often marked by periods or other punctuation marks, but these same characters can serve other purposes (e.g., marking abbreviations).\\nParsing\\nDetermine the parse tree (grammatical analysis) of a given sentence. The grammar for natural languages is ambiguous and typical sentences have multiple possible analyses: perhaps surprisingly, for a typical sentence there may be thousands of potential parses (most of which will seem completely nonsensical to a human). There are two primary types of parsing: dependency parsing and constituency parsing. Dependency parsing focuses on the relationships between words in a sentence (marking things like primary objects and predicates), whereas constituency parsing focuses on building out the parse tree using a probabilistic context-free grammar (PCFG) (see also stochastic grammar).\\nLexical semantics (of individual words in context)[edit]\\nLexical semantics\\nWhat is the computational meaning of individual words in context?\\nDistributional semantics\\nHow can we learn semantic representations from data?\\nNamed entity recognition (NER)\\nGiven a stream of text, determine which items in the text map to proper names, such as people or places, and what the type of each such name is (e.g. person, location, organization). Although capitalization can aid in recognizing named entities in languages such as English, this information cannot aid in determining the type of named entity, and in any case, is often inaccurate or insufficient.  For example, the first letter of a sentence is also capitalized, and named entities often span several words, only some of which are capitalized.  Furthermore, many other languages in non-Western scripts (e.g. Chinese or Arabic) do not have any capitalization at all, and even languages with capitalization may not consistently use it to distinguish names. For example, German capitalizes all nouns, regardless of whether they are names, and French and Spanish do not capitalize names that serve as adjectives. Another name for this task is token classification.[29]\\nSentiment analysis (see also Multimodal sentiment analysis)\\nSentiment analysis is a computational method used to identify and classify the emotional intent behind text. This technique involves analyzing text to determine whether the expressed sentiment is positive, negative, or neutral. Models for sentiment classification typically utilize inputs such as word n-grams, Term Frequency-Inverse Document Frequency (TF-IDF) features, hand-generated features, or employ deep learning models designed to recognize both long-term and short-term dependencies in text sequences. The applications of sentiment analysis are diverse, extending to tasks such as categorizing customer reviews on various online platforms.[25]\\nTerminology extraction\\nThe goal of terminology extraction is to automatically extract relevant terms from a given corpus.\\nWord-sense disambiguation (WSD)\\nMany words have more than one meaning; we have to select the meaning which makes the most sense in context.  For this problem, we are typically given a list of words and associated word senses, e.g. from a dictionary or an online resource such as WordNet.\\nEntity linking\\nMany words—typically proper names—refer to named entities; here we have to select the entity (a famous individual, a location, a company, etc.) which is referred to in context.\\nRelational semantics (semantics of individual sentences)[edit]\\nRelationship extraction\\nGiven a chunk of text, identify the relationships among named entities (e.g. who is married to whom).\\nSemantic parsing\\nGiven a piece of text (typically a sentence), produce a formal representation of its semantics, either as a graph (e.g., in AMR parsing) or in accordance with a logical formalism (e.g., in DRT parsing). This challenge typically includes aspects of several more elementary NLP tasks from semantics (e.g., semantic role labelling, word-sense disambiguation) and can be extended to include full-fledged discourse analysis (e.g., discourse analysis, coreference; see Natural language understanding below).\\nSemantic role labelling (see also implicit semantic role labelling below)\\nGiven a single sentence, identify and disambiguate semantic predicates (e.g., verbal frames), then identify and classify the frame elements (semantic roles).\\nDiscourse (semantics beyond individual sentences)[edit]\\nCoreference resolution\\nGiven a sentence or larger chunk of text, determine which words (\"mentions\") refer to the same objects (\"entities\"). Anaphora resolution is a specific example of this task, and is specifically concerned with matching up pronouns with the nouns or names to which they refer. The more general task of coreference resolution also includes identifying so-called \"bridging relationships\" involving referring expressions. For example, in a sentence such as \"He entered John\\'s house through the front door\", \"the front door\" is a referring expression and the bridging relationship to be identified is the fact that the door being referred to is the front door of John\\'s house (rather than of some other structure that might also be referred to).\\nDiscourse analysis\\nThis rubric includes several related tasks.  One task is discourse parsing, i.e., identifying the discourse structure of a connected text, i.e. the nature of the discourse relationships between sentences (e.g. elaboration, explanation, contrast).  Another possible task is recognizing and classifying the speech acts in a chunk of text (e.g. yes–no question, content question, statement, assertion, etc.).\\nImplicit semantic role labelling\\nGiven a single sentence, identify and disambiguate semantic predicates (e.g., verbal frames) and their explicit semantic roles in the current sentence (see Semantic role labelling above). Then, identify semantic roles that are not explicitly realized in the current sentence, classify them into arguments that are explicitly realized elsewhere in the text and those that are not specified, and resolve the former against the local text. A closely related task is zero anaphora resolution, i.e., the extension of coreference resolution to pro-drop languages.\\nRecognizing textual entailment\\nGiven two text fragments, determine if one being true entails the other, entails the other\\'s negation, or allows the other to be either true or false.[30]\\nTopic segmentation and recognition\\nGiven a chunk of text, separate it into segments each of which is devoted to a topic, and identify the topic of the segment.\\nArgument mining\\nThe goal of argument mining is the automatic extraction and identification of argumentative structures from natural language text with the aid of computer programs.[31] Such argumentative structures include the premise, conclusions, the argument scheme and the relationship between the main and subsidiary argument, or the main and counter-argument within discourse.[32][33]\\nHigher-level NLP applications[edit]\\nAutomatic summarization (text summarization)\\nProduce a readable summary of a chunk of text.  Often used to provide summaries of the text of a known type, such as research papers, articles in the financial section of a newspaper.\\nGrammatical error correction\\nGrammatical error detection and correction involves a great band-width of problems on all levels of linguistic analysis (phonology/orthography, morphology, syntax, semantics, pragmatics). Grammatical error correction is impactful since it affects hundreds of millions of people that use or acquire English as a second language. It has thus been subject to a number of shared tasks since 2011.[34][35][36] As far as orthography, morphology, syntax and certain aspects of semantics are concerned, and due to the development of powerful neural language models such as GPT-2, this can now (2019) be considered a largely solved problem and is being marketed in various commercial applications.\\nLogic translation\\nTranslate a text from a natural language into formal logic.\\nMachine translation (MT)\\nAutomatically translate text from one human language to another.  This is one of the most difficult problems, and is a member of a class of problems colloquially termed \"AI-complete\", i.e. requiring all of the different types of knowledge that humans possess (grammar, semantics, facts about the real world, etc.) to solve properly.\\nNatural-language understanding (NLU)\\nConvert chunks of text into more formal representations such as first-order logic structures that are easier for computer programs to manipulate. Natural language understanding involves the identification of the intended semantic from the multiple possible semantics which can be derived from a natural language expression which usually takes the form of organized notations of natural language concepts. Introduction and creation of language metamodel and ontology are efficient however empirical solutions. An explicit formalization of natural language semantics without confusions with implicit assumptions such as closed-world assumption (CWA) vs. open-world assumption, or subjective Yes/No vs. objective True/False is expected for the construction of a basis of semantics formalization.[37]\\nNatural-language generation (NLG):\\nConvert information from computer databases or semantic intents into readable human language.\\nBook generation\\nNot an NLP task proper but an extension of natural language generation and other NLP tasks is the creation of full-fledged books. The first machine-generated book was created by a rule-based system in 1984 (Racter, The policeman\\'s beard is half-constructed).[38] The first published work by a neural network was published in 2018, 1 the Road, marketed as a novel, contains sixty million words. Both these systems are basically elaborate but non-sensical (semantics-free) language models. The first machine-generated science book was published in 2019 (Beta Writer, Lithium-Ion Batteries, Springer, Cham).[39] Unlike Racter and 1 the Road, this is grounded on factual knowledge and based on text summarization.\\nDocument AI\\nA Document AI platform sits on top of the NLP technology enabling users with no prior experience of artificial intelligence, machine learning or NLP to quickly train a computer to extract the specific data they need from different document types. NLP-powered Document AI enables non-technical teams to quickly access information hidden in documents, for example, lawyers, business analysts and accountants.[40]\\nDialogue management\\nComputer systems intended to converse with a human.\\nQuestion answering\\nGiven a human-language question, determine its answer. Typical questions have a specific right answer (such as \"What is the capital of Canada?\"), but sometimes open-ended questions are also considered (such as \"What is the meaning of life?\").\\nText-to-image generation\\nGiven a description of an image, generate an image that matches the description.[41]\\nText-to-scene generation\\nGiven a description of a scene, generate a 3D model of the scene.[42][43]\\nText-to-video\\nGiven a description of a video, generate a video that matches the description.[44][45]\\nGeneral tendencies and (possible) future directions[edit]\\nBased on long-standing trends in the field, it is possible to extrapolate future directions of NLP. As of 2020, three trends among the topics of the long-standing series of CoNLL Shared Tasks can be observed:[46]\\n\\nInterest on increasingly abstract, \"cognitive\" aspects of natural language (1999–2001: shallow parsing, 2002–03: named entity recognition, 2006–09/2017–18: dependency syntax, 2004–05/2008–09 semantic role labelling, 2011–12 coreference, 2015–16: discourse parsing, 2019: semantic parsing).\\nIncreasing interest in multilinguality, and, potentially, multimodality (English since 1999; Spanish, Dutch since 2002; German since 2003; Bulgarian, Danish, Japanese, Portuguese, Slovenian, Swedish, Turkish since 2006; Basque, Catalan, Chinese, Greek, Hungarian, Italian, Turkish since 2007; Czech since 2009; Arabic since 2012; 2017: 40+ languages; 2018: 60+/100+ languages)\\nElimination of symbolic representations (rule-based over supervised towards weakly supervised methods, representation learning and end-to-end systems)\\nCognition[edit]\\nMost higher-level NLP applications involve aspects that emulate intelligent behaviour and apparent comprehension of natural language. More broadly speaking, the technical operationalization of increasingly advanced aspects of cognitive behaviour represents one of the developmental trajectories of NLP (see trends among CoNLL shared tasks above).\\nCognition refers to \"the mental action or process of acquiring knowledge and understanding through thought, experience, and the senses.\"[47] Cognitive science is the interdisciplinary, scientific study of the mind and its processes.[48] Cognitive linguistics is an interdisciplinary branch of linguistics, combining knowledge and research from both psychology and linguistics.[49] Especially during the age of symbolic NLP, the area of computational linguistics maintained strong ties with cognitive studies.\\nAs an example, George Lakoff offers a methodology to build natural language processing (NLP) algorithms through the perspective of cognitive science, along with the findings of cognitive linguistics,[50] with two defining aspects:\\n\\nApply the theory of conceptual metaphor, explained by Lakoff as \"the understanding of one idea, in terms of another\" which provides an idea of the intent of the author.[51] For example, consider the English word big. When used in a comparison (\"That is a big tree\"), the author\\'s intent is to imply that the tree is physically large relative to other trees or the authors experience.  When used metaphorically (\"Tomorrow is a big day\"), the author\\'s intent to imply importance.  The intent behind other usages, like in \"She is a big person\", will remain somewhat ambiguous to a person and a cognitive NLP algorithm alike without additional information.\\nAssign relative measures of meaning to a word, phrase, sentence or piece of text based on the information presented before and after the piece of text being analyzed, e.g., by means of a probabilistic context-free grammar (PCFG). The mathematical equation for such algorithms is presented in  US Patent 9269353:[52]\\n\\n\\n\\n\\n\\nR\\nM\\nM\\n(\\nt\\no\\nk\\ne\\n\\nn\\n\\nN\\n\\n\\n)\\n\\n=\\n\\nP\\nM\\nM\\n(\\nt\\no\\nk\\ne\\n\\nn\\n\\nN\\n\\n\\n)\\n\\n×\\n\\n\\n1\\n\\n2\\nd\\n\\n\\n\\n\\n(\\n\\n\\n∑\\n\\ni\\n=\\n−\\nd\\n\\n\\nd\\n\\n\\n\\n(\\n(\\nP\\nM\\nM\\n(\\nt\\no\\nk\\ne\\n\\nn\\n\\nN\\n\\n\\n)\\n\\n×\\n\\nP\\nF\\n(\\nt\\no\\nk\\ne\\n\\nn\\n\\nN\\n−\\ni\\n\\n\\n,\\nt\\no\\nk\\ne\\n\\nn\\n\\nN\\n\\n\\n,\\nt\\no\\nk\\ne\\n\\nn\\n\\nN\\n+\\ni\\n\\n\\n)\\n\\n)\\n\\ni\\n\\n\\n\\n\\n)\\n\\n\\n\\n{\\\\displaystyle {RMM(token_{N})}={PMM(token_{N})}\\\\times {\\\\frac {1}{2d}}\\\\left(\\\\sum _{i=-d}^{d}{((PMM(token_{N})}\\\\times {PF(token_{N-i},token_{N},token_{N+i}))_{i}}\\\\right)}\\n\\n\\nWhere\\nRMM is the relative measure of meaning\\ntoken is any block of text, sentence, phrase or word\\nN is the number of tokens being analyzed\\nPMM is the probable measure of meaning based on a corpora\\nd is the non zero location of the token along the sequence of N tokens\\nPF is the probability function specific to a language\\nTies with cognitive linguistics are part of the historical heritage of NLP, but they have been less frequently addressed since the statistical turn during the 1990s. Nevertheless, approaches to develop cognitive models towards technically operationalizable frameworks have been pursued in the context of various frameworks, e.g., of cognitive grammar,[53] functional grammar,[54] construction grammar,[55] computational psycholinguistics and cognitive neuroscience (e.g., ACT-R), however, with limited uptake in mainstream NLP (as measured by presence on major conferences[56] of the ACL). More recently, ideas of cognitive NLP have been revived as an approach to achieve explainability, e.g., under the notion of \"cognitive AI\".[57] Likewise, ideas of cognitive NLP are inherent to neural models multimodal NLP (although rarely made explicit)[58] and developments in artificial intelligence, specifically tools and technologies using large language model approaches[59] and new directions in artificial general intelligence based on the free energy principle[60] by British neuroscientist and theoretician at University College London Karl J. Friston.\\n\\nSee also[edit]\\n\\n1 the Road\\nArtificial intelligence detection software\\nAutomated essay scoring\\nBiomedical text mining\\nCompound term processing\\nComputational linguistics\\nComputer-assisted reviewing\\nControlled natural language\\nDeep learning\\nDeep linguistic processing\\nDistributional semantics\\nForeign language reading aid\\nForeign language writing aid\\nInformation extraction\\nInformation retrieval\\nLanguage and Communication Technologies\\nLanguage model\\nLanguage technology\\nLatent semantic indexing\\nMulti-agent system\\nNative-language identification\\nNatural-language programming\\nNatural-language understanding\\nNatural-language search\\nOutline of natural language processing\\nQuery expansion\\nQuery understanding\\nReification (linguistics)\\nSpeech processing\\nSpoken dialogue systems\\nText-proofing\\nText simplification\\nTransformer (machine learning model)\\nTruecasing\\nQuestion answering\\nWord2vec\\n\\nReferences[edit]\\n\\n\\n^ \"NLP\".\\n\\n^ Hutchins, J. (2005). \"The history of machine translation in a nutshell\" (PDF).[self-published source]\\n\\n^ \"ALPAC: the (in)famous report\", John Hutchins, MT News International, no. 14, June 1996, pp. 9–12.\\n\\n^ Crevier 1993, pp.\\xa0146–148 harvnb error: no target: CITEREFCrevier1993 (help), see also Buchanan 2005, p.\\xa056 harvnb error: no target: CITEREFBuchanan2005 (help): \"Early programs were necessarily limited in scope by the size and speed of memory\"\\n\\n^ Koskenniemi, Kimmo (1983), Two-level morphology: A general computational model of word-form recognition and production (PDF), Department of General Linguistics, University of Helsinki\\n\\n^ Joshi, A. K., & Weinstein, S. (1981, August). Control of Inference: Role of Some Aspects of Discourse Structure-Centering. In IJCAI (pp. 385–387).\\n\\n^ Guida, G.; Mauri, G. (July 1986). \"Evaluation of natural language processing systems: Issues and approaches\". Proceedings of the IEEE. 74 (7): 1026–1035. doi:10.1109/PROC.1986.13580. ISSN\\xa01558-2256. S2CID\\xa030688575.\\n\\n^ Chomskyan linguistics encourages the investigation of \"corner cases\" that stress the limits of its theoretical models (comparable to pathological phenomena in mathematics), typically created using thought experiments, rather than the systematic investigation of typical phenomena that occur in real-world data, as is the case in corpus linguistics.  The creation and use of such corpora of real-world data is a fundamental part of machine-learning algorithms for natural language processing.  In addition, theoretical underpinnings of Chomskyan linguistics such as the so-called \"poverty of the stimulus\" argument entail that general learning algorithms, as are typically used in machine learning, cannot be successful in language processing.  As a result, the Chomskyan paradigm discouraged the application of such models to language processing.\\n\\n^ Bengio, Yoshua; Ducharme, Réjean; Vincent, Pascal; Janvin, Christian (March 1, 2003). \"A neural probabilistic language model\". The Journal of Machine Learning Research. 3: 1137–1155 – via ACM Digital Library.\\n\\n^ Mikolov, Tomáš; Karafiát, Martin; Burget, Lukáš; Černocký, Jan; Khudanpur, Sanjeev (26 September 2010). \"Recurrent neural network based language model\" (PDF). Interspeech 2010. pp.\\xa01045–1048. doi:10.21437/Interspeech.2010-343. S2CID\\xa017048224. {{cite book}}: |journal= ignored (help)\\n\\n^ Goldberg, Yoav (2016). \"A Primer on Neural Network Models for Natural Language Processing\". Journal of Artificial Intelligence Research. 57: 345–420. arXiv:1807.10854. doi:10.1613/jair.4992. S2CID\\xa08273530.\\n\\n^ Goodfellow, Ian; Bengio, Yoshua; Courville, Aaron (2016). Deep Learning. MIT Press.\\n\\n^ Jozefowicz, Rafal; Vinyals, Oriol; Schuster, Mike; Shazeer, Noam; Wu, Yonghui (2016). Exploring the Limits of Language Modeling. arXiv:1602.02410. Bibcode:2016arXiv160202410J.\\n\\n^ Choe, Do Kook; Charniak, Eugene. \"Parsing as Language Modeling\". Emnlp 2016. Archived from the original on 2018-10-23. Retrieved 2018-10-22.\\n\\n^ Vinyals, Oriol; et\\xa0al. (2014). \"Grammar as a Foreign Language\" (PDF). Nips2015. arXiv:1412.7449. Bibcode:2014arXiv1412.7449V.\\n\\n^ Turchin, Alexander; Florez Builes, Luisa F. (2021-03-19). \"Using Natural Language Processing to Measure and Improve Quality of Diabetes Care: A Systematic Review\". Journal of Diabetes Science and Technology. 15 (3): 553–560. doi:10.1177/19322968211000831. ISSN\\xa01932-2968. PMC\\xa08120048. PMID\\xa033736486.\\n\\n^ Lee, Jennifer; Yang, Samuel; Holland-Hall, Cynthia; Sezgin, Emre; Gill, Manjot; Linwood, Simon; Huang, Yungui; Hoffman, Jeffrey (2022-06-10). \"Prevalence of Sensitive Terms in Clinical Notes Using Natural Language Processing Techniques: Observational Study\". JMIR Medical Informatics. 10 (6): e38482. doi:10.2196/38482. ISSN\\xa02291-9694. PMC\\xa09233261. PMID\\xa035687381.\\n\\n^ Winograd, Terry (1971). Procedures as a Representation for Data in a Computer Program for Understanding Natural Language (Thesis).\\n\\n^ Schank, Roger C.; Abelson, Robert P. (1977). Scripts, Plans, Goals, and Understanding: An Inquiry Into Human Knowledge Structures. Hillsdale: Erlbaum. ISBN\\xa00-470-99033-3.\\n\\n^ Mark Johnson. How the statistical revolution changes (computational) linguistics. Proceedings of the EACL 2009 Workshop on the Interaction between Linguistics and Computational Linguistics.\\n\\n^ Philip Resnik. Four revolutions. Language Log, February 5, 2011.\\n\\n^ Socher, Richard. \"Deep Learning For NLP-ACL 2012 Tutorial\". www.socher.org. Retrieved 2020-08-17. This was an early Deep Learning tutorial at the ACL 2012 and met with both interest and (at the time) skepticism by most participants. Until then, neural learning was basically rejected because of its lack of statistical interpretability. Until 2015, deep learning had evolved into the major framework of NLP. [Link is broken, try http://web.stanford.edu/class/cs224n/]\\n\\n^ Segev, Elad (2022). Semantic Network Analysis in Social Sciences. London: Routledge. ISBN\\xa09780367636524. Archived from the original on 5 December 2021. Retrieved 5 December 2021.\\n\\n^ Yi, Chucai; Tian, Yingli (2012), \"Assistive Text Reading from Complex Background for Blind Persons\", Camera-Based Document Analysis and Recognition, Lecture Notes in Computer Science, vol.\\xa07139, Springer Berlin Heidelberg, pp.\\xa015–28, CiteSeerX\\xa010.1.1.668.869, doi:10.1007/978-3-642-29364-1_2, ISBN\\xa09783642293634\\n\\n^ a b \"Natural Language Processing (NLP) - A Complete Guide\". www.deeplearning.ai. 2023-01-11. Retrieved 2024-05-05.\\n\\n^ \"What is Natural Language Processing? Intro to NLP in Machine Learning\". GyanSetu!. 2020-12-06. Retrieved 2021-01-09.\\n\\n^ Kishorjit, N.; Vidya, Raj RK.; Nirmal, Y.; Sivaji, B. (2012). \"Manipuri Morpheme Identification\" (PDF). Proceedings of the 3rd Workshop on South and Southeast Asian Natural Language Processing (SANLP). COLING 2012, Mumbai, December 2012: 95–108.{{cite journal}}:  CS1 maint: location (link)\\n\\n^ Klein, Dan; Manning, Christopher D. (2002). \"Natural language grammar induction using a constituent-context model\" (PDF). Advances in Neural Information Processing Systems.\\n\\n^ Kariampuzha, William; Alyea, Gioconda; Qu, Sue; Sanjak, Jaleal; Mathé, Ewy; Sid, Eric; Chatelaine, Haley; Yadaw, Arjun; Xu, Yanji; Zhu, Qian (2023). \"Precision information extraction for rare disease epidemiology at scale\". Journal of Translational Medicine. 21 (1): 157. doi:10.1186/s12967-023-04011-y. PMC\\xa09972634. PMID\\xa036855134.\\n\\n^ PASCAL Recognizing Textual Entailment Challenge (RTE-7) https://tac.nist.gov//2011/RTE/\\n\\n^ Lippi, Marco; Torroni, Paolo (2016-04-20). \"Argumentation Mining: State of the Art and Emerging Trends\". ACM Transactions on Internet Technology. 16 (2): 1–25. doi:10.1145/2850417. hdl:11585/523460. ISSN\\xa01533-5399. S2CID\\xa09561587.\\n\\n^ \"Argument Mining – IJCAI2016 Tutorial\". www.i3s.unice.fr. Retrieved 2021-03-09.\\n\\n^ \"NLP Approaches to Computational Argumentation – ACL 2016, Berlin\". Retrieved 2021-03-09.\\n\\n^ Administration. \"Centre for Language Technology (CLT)\". Macquarie University. Retrieved 2021-01-11.\\n\\n^ \"Shared Task: Grammatical Error Correction\". www.comp.nus.edu.sg. Retrieved 2021-01-11.\\n\\n^ \"Shared Task: Grammatical Error Correction\". www.comp.nus.edu.sg. Retrieved 2021-01-11.\\n\\n^ Duan, Yucong; Cruz, Christophe (2011). \"Formalizing Semantic of Natural Language through Conceptualization from Existence\". International Journal of Innovation, Management and Technology. 2 (1): 37–42. Archived from the original on 2011-10-09.\\n\\n^ \"U B U W E B\\xa0:: Racter\". www.ubu.com. Retrieved 2020-08-17.\\n\\n^ Writer, Beta (2019). Lithium-Ion Batteries. doi:10.1007/978-3-030-16800-1. ISBN\\xa0978-3-030-16799-8. S2CID\\xa0155818532.\\n\\n^ \"Document Understanding AI on Google Cloud (Cloud Next \\'19) – YouTube\". www.youtube.com. 11 April 2019. Archived from the original on 2021-10-30. Retrieved 2021-01-11.\\n\\n^ Robertson, Adi (2022-04-06). \"OpenAI\\'s DALL-E AI image generator can now edit pictures, too\". The Verge. Retrieved 2022-06-07.\\n\\n^ \"The Stanford Natural Language Processing Group\". nlp.stanford.edu. Retrieved 2022-06-07.\\n\\n^ Coyne, Bob; Sproat, Richard (2001-08-01). \"WordsEye\". Proceedings of the 28th annual conference on Computer graphics and interactive techniques. SIGGRAPH \\'01. New York, NY, USA: Association for Computing Machinery. pp.\\xa0487–496. doi:10.1145/383259.383316. ISBN\\xa0978-1-58113-374-5. S2CID\\xa03842372.\\n\\n^ \"Google announces AI advances in text-to-video, language translation, more\". VentureBeat. 2022-11-02. Retrieved 2022-11-09.\\n\\n^ Vincent, James (2022-09-29). \"Meta\\'s new text-to-video AI generator is like DALL-E for video\". The Verge. Retrieved 2022-11-09.\\n\\n^ \"Previous shared tasks | CoNLL\". www.conll.org. Retrieved 2021-01-11.\\n\\n^ \"Cognition\". Lexico. Oxford University Press and Dictionary.com. Archived from the original on July 15, 2020. Retrieved 6 May 2020.\\n\\n^ \"Ask the Cognitive Scientist\". American Federation of Teachers. 8 August 2014. Cognitive science is an interdisciplinary field of researchers from Linguistics, psychology, neuroscience, philosophy, computer science, and anthropology that seek to understand the mind.\\n\\n^ Robinson, Peter (2008). Handbook of Cognitive Linguistics and Second Language Acquisition. Routledge. pp.\\xa03–8. ISBN\\xa0978-0-805-85352-0.\\n\\n^ Lakoff, George (1999). Philosophy in the Flesh: The Embodied Mind and Its Challenge to Western Philosophy; Appendix: The Neural Theory of Language Paradigm. New York Basic Books. pp.\\xa0569–583. ISBN\\xa0978-0-465-05674-3.\\n\\n^ Strauss, Claudia (1999). A Cognitive Theory of Cultural Meaning. Cambridge University Press. pp.\\xa0156–164. ISBN\\xa0978-0-521-59541-4.\\n\\n^ US patent 9269353\\xa0\\n\\n^ \"Universal Conceptual Cognitive Annotation (UCCA)\". Universal Conceptual Cognitive Annotation (UCCA). Retrieved 2021-01-11.\\n\\n^ Rodríguez, F. C., & Mairal-Usón, R. (2016). Building an RRG computational grammar. Onomazein, (34), 86–117.\\n\\n^ \"Fluid Construction Grammar – A fully operational processing system for construction grammars\". Retrieved 2021-01-11.\\n\\n^ \"ACL Member Portal | The Association for Computational Linguistics Member Portal\". www.aclweb.org. Retrieved 2021-01-11.\\n\\n^ \"Chunks and Rules\". W3C. Retrieved 2021-01-11.\\n\\n^ Socher, Richard; Karpathy, Andrej; Le, Quoc V.; Manning, Christopher D.; Ng, Andrew Y. (2014). \"Grounded Compositional Semantics for Finding and Describing Images with Sentences\". Transactions of the Association for Computational Linguistics. 2: 207–218. doi:10.1162/tacl_a_00177. S2CID\\xa02317858.\\n\\n^ Dasgupta, Ishita; Lampinen, Andrew K.; Chan, Stephanie C. Y.; Creswell, Antonia; Kumaran, Dharshan; McClelland, James L.; Hill, Felix (2022). \"Language models show human-like content effects on reasoning, Dasgupta, Lampinen et al\". arXiv:2207.07051 [cs.CL].\\n\\n^ Friston, Karl J. (2022). Active Inference: The Free Energy Principle in Mind, Brain, and Behavior; Chapter 4 The Generative Models of Active Inference. The MIT Press. ISBN\\xa0978-0-262-36997-8.\\n\\n\\nFurther reading[edit]\\n\\nBates, M (1995). \"Models of natural language understanding\". Proceedings of the National Academy of Sciences of the United States of America. 92 (22): 9977–9982. Bibcode:1995PNAS...92.9977B. doi:10.1073/pnas.92.22.9977. PMC\\xa040721. PMID\\xa07479812.\\nSteven Bird, Ewan Klein, and Edward Loper (2009). Natural Language Processing with Python. O\\'Reilly Media. ISBN\\xa0978-0-596-51649-9.\\nKenna Hughes-Castleberry, \"A Murder Mystery Puzzle: The literary puzzle Cain\\'s Jawbone, which has stumped humans for decades, reveals the limitations of natural-language-processing algorithms\", Scientific American, vol. 329, no. 4 (November 2023), pp. 81–82. \"This murder mystery competition has revealed that although NLP (natural-language processing) models are capable of incredible feats, their abilities are very much limited by the amount of context they receive. This [...] could cause [difficulties] for researchers who hope to use them to do things such as analyze ancient languages. In some cases, there are few historical records on long-gone civilizations to serve as training data for such a purpose.\" (p. 82.)\\nDaniel Jurafsky and James H. Martin (2008). Speech and Language Processing, 2nd edition. Pearson Prentice Hall. ISBN\\xa0978-0-13-187321-6.\\nMohamed Zakaria Kurdi (2016). Natural Language Processing and Computational Linguistics: speech, morphology, and syntax, Volume 1. ISTE-Wiley. ISBN\\xa0978-1848218482.\\nMohamed Zakaria Kurdi (2017). Natural Language Processing and Computational Linguistics: semantics, discourse, and applications, Volume 2. ISTE-Wiley. ISBN\\xa0978-1848219212.\\nChristopher D. Manning, Prabhakar Raghavan, and Hinrich Schütze (2008). Introduction to Information Retrieval. Cambridge University Press. ISBN\\xa0978-0-521-86571-5. Official html and pdf versions available without charge.\\nChristopher D. Manning and Hinrich Schütze (1999). Foundations of Statistical Natural Language Processing. The MIT Press. ISBN\\xa0978-0-262-13360-9.\\nDavid M. W. Powers and Christopher C. R. Turk (1989). Machine Learning of Natural Language. Springer-Verlag. ISBN\\xa0978-0-387-19557-5.\\n\\nExternal links[edit]\\n Media related to Natural language processing at Wikimedia Commons\\nvteNatural language processingGeneral terms\\nAI-complete\\nBag-of-words\\nn-gram\\nBigram\\nTrigram\\nComputational linguistics\\nNatural language understanding\\nStop words\\nText processing\\nText analysis\\nArgument mining\\nCollocation extraction\\nConcept mining\\nCoreference resolution\\nDeep linguistic processing\\nDistant reading\\nInformation extraction\\nNamed-entity recognition\\nOntology learning\\nParsing\\nSemantic parsing\\nSyntactic parsing\\nPart-of-speech tagging\\nSemantic analysis\\nSemantic role labeling\\nSemantic decomposition\\nSemantic similarity\\nSentiment analysis\\nTerminology extraction\\nText mining\\nTextual entailment\\nTruecasing\\nWord-sense disambiguation\\nWord-sense induction\\nText segmentation\\nCompound-term processing\\nLemmatisation\\nLexical analysis\\nText chunking\\nStemming\\nSentence segmentation\\nWord segmentation\\n\\nAutomatic summarization\\nMulti-document summarization\\nSentence extraction\\nText simplification\\nMachine translation\\nComputer-assisted\\nExample-based\\nRule-based\\nStatistical\\nTransfer-based\\nNeural\\nDistributional semantics models\\nBERT\\nDocument-term matrix\\nExplicit semantic analysis\\nfastText\\nGloVe\\nLanguage model (large)\\nLatent semantic analysis\\nSeq2seq\\nWord embedding\\nWord2vec\\nLanguage resources,datasets and corporaTypes andstandards\\nCorpus linguistics\\nLexical resource\\nLinguistic Linked Open Data\\nMachine-readable dictionary\\nParallel text\\nPropBank\\nSemantic network\\nSimple Knowledge Organization System\\nSpeech corpus\\nText corpus\\nThesaurus (information retrieval)\\nTreebank\\nUniversal Dependencies\\nData\\nBabelNet\\nBank of English\\nDBpedia\\nFrameNet\\nGoogle Ngram Viewer\\nUBY\\nWordNet\\nWikidata\\nAutomatic identificationand data capture\\nSpeech recognition\\nSpeech segmentation\\nSpeech synthesis\\nNatural language generation\\nOptical character recognition\\nTopic model\\nDocument classification\\nLatent Dirichlet allocation\\nPachinko allocation\\nComputer-assistedreviewing\\nAutomated essay scoring\\nConcordancer\\nGrammar checker\\nPredictive text\\nPronunciation assessment\\nSpell checker\\nNatural languageuser interface\\nChatbot\\nInteractive fiction (cf. Syntax guessing)\\nQuestion answering\\nVirtual assistant\\nVoice user interface\\nRelated\\nFormal semantics\\nHallucination\\nNatural Language Toolkit\\nspaCy\\n\\nPortal: Language\\nAuthority control databases: National United StatesJapanCzech RepublicIsrael\\n\\n\\n\\n\\nRetrieved from \"https://en.wikipedia.org/w/index.php?title=Natural_language_processing&oldid=1292777221\"\\nCategories: Natural language processingComputational fields of studyComputational linguisticsSpeech recognitionHidden categories: All accuracy disputesAccuracy disputes from December 2013Harv and Sfn no-target errorsCS1 errors: periodical ignoredCS1 maint: locationArticles with short descriptionShort description is different from WikidataArticles needing additional references from May 2024All articles needing additional referencesAll articles with unsourced statementsArticles with unsourced statements from May 2024Commons category link from Wikidata\\n\\n\\n\\n\\n\\n\\n This page was last edited on 28 May 2025, at 19:13\\xa0(UTC).\\nText is available under the Creative Commons Attribution-ShareAlike 4.0 License;\\nadditional terms may apply. By using this site, you agree to the Terms of Use and Privacy Policy. Wikipedia® is a registered trademark of the Wikimedia Foundation, Inc., a non-profit organization.\\n\\n\\nPrivacy policy\\nAbout Wikipedia\\nDisclaimers\\nContact Wikipedia\\nCode of Conduct\\nDevelopers\\nStatistics\\nCookie statement\\nMobile view\\n\\n\\n\\n\\n\\n\\n\\n\\n\\n\\n\\n\\n\\n\\nSearch\\n\\n\\n\\n\\n\\n\\n\\n\\n\\n\\n\\n\\n\\nSearch\\n\\n\\n\\n\\n\\n\\n\\n\\n\\nToggle the table of contents\\n\\n\\n\\n\\n\\n\\n\\nNatural language processing\\n\\n\\n\\n\\n\\n\\n\\n\\n\\n\\n\\n\\n\\n\\n\\n\\n\\n\\n\\n\\n\\n\\n\\n\\n\\n\\n\\n\\n70 languages\\n\\n\\nAdd topic\\n\\n\\n\\n\\n\\n\\n\\n\\n\\n\\n\\n\\n\\n\\n\\n\\n'"
            ],
            "application/vnd.google.colaboratory.intrinsic+json": {
              "type": "string"
            }
          },
          "metadata": {},
          "execution_count": 8
        }
      ]
    },
    {
      "cell_type": "code",
      "source": [
        "with open('nlp_article.txt', 'w', encoding='utf-8') as f:\n",
        "    f.write(text)\n",
        "\n",
        "print(\"Saved as nlp_article.txt\")"
      ],
      "metadata": {
        "colab": {
          "base_uri": "https://localhost:8080/"
        },
        "id": "dPzJHHi1x97k",
        "outputId": "f7a11cd5-3aee-407f-dc49-e645855be4a7"
      },
      "execution_count": null,
      "outputs": [
        {
          "output_type": "stream",
          "name": "stdout",
          "text": [
            "Saved as nlp_article.txt\n"
          ]
        }
      ]
    },
    {
      "cell_type": "markdown",
      "source": [
        "First NLTK Benchmark"
      ],
      "metadata": {
        "id": "h5iPao3MyWvT"
      }
    },
    {
      "cell_type": "code",
      "source": [
        "import nltk\n",
        "import time\n",
        "nltk.download('punkt') #download punctuation model\n",
        "nltk.download('averaged_perceptron_tagger')  #download as POS model\n",
        "nltk.download('punkt_tab')\n",
        "nltk.download('averaged_perceptron_tagger_eng')"
      ],
      "metadata": {
        "colab": {
          "base_uri": "https://localhost:8080/"
        },
        "id": "YUK5HHhCycE3",
        "outputId": "4c055e9f-dc03-4e8c-c67d-3371ac80ed21"
      },
      "execution_count": null,
      "outputs": [
        {
          "output_type": "stream",
          "name": "stderr",
          "text": [
            "[nltk_data] Downloading package punkt to /root/nltk_data...\n",
            "[nltk_data]   Unzipping tokenizers/punkt.zip.\n",
            "[nltk_data] Downloading package averaged_perceptron_tagger to\n",
            "[nltk_data]     /root/nltk_data...\n",
            "[nltk_data]   Unzipping taggers/averaged_perceptron_tagger.zip.\n",
            "[nltk_data] Downloading package punkt_tab to /root/nltk_data...\n",
            "[nltk_data]   Unzipping tokenizers/punkt_tab.zip.\n",
            "[nltk_data] Downloading package averaged_perceptron_tagger_eng to\n",
            "[nltk_data]     /root/nltk_data...\n",
            "[nltk_data]   Unzipping taggers/averaged_perceptron_tagger_eng.zip.\n"
          ]
        },
        {
          "output_type": "execute_result",
          "data": {
            "text/plain": [
              "True"
            ]
          },
          "metadata": {},
          "execution_count": 10
        }
      ]
    },
    {
      "cell_type": "code",
      "source": [
        "with open('nlp_article.txt', encoding='utf-8') as f:\n",
        "    text = f.read()\n",
        "\n",
        "start = time.time()\n",
        "tokens_nltk = nltk.word_tokenize(text)\n",
        "pos_tags_nltk = nltk.pos_tag(tokens_nltk)\n",
        "end = time.time()\n",
        "print(f'Time taken: {end - start:.4f} seconds')\n",
        "print(f'Number of tokens: {len(tokens_nltk)}')\n",
        "print(f'Number of POS tags: {len(pos_tags_nltk)}')"
      ],
      "metadata": {
        "colab": {
          "base_uri": "https://localhost:8080/"
        },
        "id": "5JTm5-xcztFu",
        "outputId": "8960b9cf-cad0-4e20-c7fc-8be80ff524e9"
      },
      "execution_count": null,
      "outputs": [
        {
          "output_type": "stream",
          "name": "stdout",
          "text": [
            "Time taken: 1.5770 seconds\n",
            "Number of tokens: 9080\n",
            "Number of POS tags: 9080\n"
          ]
        }
      ]
    },
    {
      "cell_type": "markdown",
      "source": [
        "Spacy Benchmark"
      ],
      "metadata": {
        "id": "G58cZFQq0JCq"
      }
    },
    {
      "cell_type": "code",
      "source": [
        "import spacy"
      ],
      "metadata": {
        "id": "4TsfDh1Fz9jw"
      },
      "execution_count": null,
      "outputs": []
    },
    {
      "cell_type": "code",
      "source": [
        "#load only tokenizer and tagger\n",
        "nlp = spacy.load(\"en_core_web_sm\", disable = [\"parser\",\"ner\"])\n"
      ],
      "metadata": {
        "id": "gUiUAjNF0OMu"
      },
      "execution_count": null,
      "outputs": []
    },
    {
      "cell_type": "code",
      "source": [
        "with open('nlp_article.txt', encoding='utf-8') as f:\n",
        "    text = f.read()\n",
        "\n",
        "start = time.time()\n",
        "doc = nlp(text)\n",
        "tokens_spacy = [token.text for token in doc]\n",
        "pos_tags_spacy = [(token.text, token.pos_) for token in doc]\n",
        "end = time.time()\n",
        "print(f'Time taken: {end - start:.4f} seconds')\n",
        "print(f'Number of tokens: {len(tokens_spacy)}')\n",
        "print(f'Number of POS tags: {len(pos_tags_spacy)}')"
      ],
      "metadata": {
        "colab": {
          "base_uri": "https://localhost:8080/"
        },
        "id": "lF1ELnjAz9f_",
        "outputId": "d40b5369-ead4-46bf-ca33-fe4e772e7733"
      },
      "execution_count": null,
      "outputs": [
        {
          "output_type": "stream",
          "name": "stdout",
          "text": [
            "Time taken: 1.1490 seconds\n",
            "Number of tokens: 10040\n",
            "Number of POS tags: 10040\n"
          ]
        }
      ]
    },
    {
      "cell_type": "markdown",
      "source": [
        "# ***DAY2***"
      ],
      "metadata": {
        "id": "BrsccD-nUqiL"
      }
    },
    {
      "cell_type": "markdown",
      "source": [
        "# **Tokenization**"
      ],
      "metadata": {
        "id": "qQrF22NE50OQ"
      }
    },
    {
      "cell_type": "markdown",
      "source": [
        "NLTK"
      ],
      "metadata": {
        "id": "B4dtFYD26ewB"
      }
    },
    {
      "cell_type": "code",
      "source": [
        "s = \"Hi Everyone ! hola gr8\"\n",
        "print(s.split())\n",
        "#"
      ],
      "metadata": {
        "colab": {
          "base_uri": "https://localhost:8080/"
        },
        "id": "hxhlb0cMz9J2",
        "outputId": "8bc828f5-cb0c-4608-bfaf-40cb06f68e47"
      },
      "execution_count": null,
      "outputs": [
        {
          "output_type": "stream",
          "name": "stdout",
          "text": [
            "['Hi', 'Everyone', '!', 'hola', 'gr8']\n"
          ]
        }
      ]
    },
    {
      "cell_type": "code",
      "source": [
        "from nltk.tokenize import word_tokenize\n",
        "print(word_tokenize(s))"
      ],
      "metadata": {
        "colab": {
          "base_uri": "https://localhost:8080/"
        },
        "id": "bJoAIgnl6ETQ",
        "outputId": "1352db75-45d8-4df3-ac22-8338dc412d36"
      },
      "execution_count": null,
      "outputs": [
        {
          "output_type": "stream",
          "name": "stdout",
          "text": [
            "['Hi', 'Everyone', '!', 'hola', 'gr8']\n"
          ]
        }
      ]
    },
    {
      "cell_type": "code",
      "source": [
        "from nltk.tokenize import wordpunct_tokenize, regexp_tokenize, blankline_tokenize\n",
        "print(regexp_tokenize(s, pattern='\\w+')) # word\n",
        "print(regexp_tokenize(s, pattern='\\d+')) # number"
      ],
      "metadata": {
        "colab": {
          "base_uri": "https://localhost:8080/"
        },
        "id": "i2WPVQUL6IF8",
        "outputId": "7e42613b-9fe3-475a-ea30-6ee4605a10ca"
      },
      "execution_count": null,
      "outputs": [
        {
          "output_type": "stream",
          "name": "stdout",
          "text": [
            "['Hi', 'Everyone', 'hola', 'gr8']\n",
            "['8']\n"
          ]
        }
      ]
    },
    {
      "cell_type": "markdown",
      "source": [
        "Spacy"
      ],
      "metadata": {
        "id": "i5Uwjzqj6gfQ"
      }
    },
    {
      "cell_type": "code",
      "source": [
        "nlp = spacy.load(\"en_core_web_sm\")\n",
        "doc = nlp(u'I am flying to San Franciso')\n",
        "print([w.text for w in doc])"
      ],
      "metadata": {
        "colab": {
          "base_uri": "https://localhost:8080/"
        },
        "id": "jxnXupJi6jrG",
        "outputId": "a2bc0408-2531-4b18-f870-a65ff162f9a8"
      },
      "execution_count": null,
      "outputs": [
        {
          "output_type": "stream",
          "name": "stdout",
          "text": [
            "['I', 'am', 'flying', 'to', 'San', 'Franciso']\n"
          ]
        }
      ]
    },
    {
      "cell_type": "code",
      "source": [
        "# spacy automatically tokenizes the sentences and handles punctuation, spaces, and special entities\n",
        "\n",
        "print(\"Spacy Tokenization\")\n",
        "print([token.text for token in doc] )"
      ],
      "metadata": {
        "colab": {
          "base_uri": "https://localhost:8080/"
        },
        "id": "M3Nc2s7KJW54",
        "outputId": "cfd9ff8a-df97-497b-b42b-185a9b484a82"
      },
      "execution_count": null,
      "outputs": [
        {
          "output_type": "stream",
          "name": "stdout",
          "text": [
            "Spacy Tokenization\n",
            "['I', 'am', 'flying', 'to', 'San', 'Franciso']\n"
          ]
        }
      ]
    },
    {
      "cell_type": "code",
      "source": [
        "for token in doc:\n",
        "    print(f'{token.text: <12} | POS : {token.pos_:<10} | Lemma: {token.lemma_}')"
      ],
      "metadata": {
        "id": "YZk9r-ww7DxG",
        "colab": {
          "base_uri": "https://localhost:8080/"
        },
        "outputId": "9ceb5263-505a-4c9d-9354-833989c2349e"
      },
      "execution_count": null,
      "outputs": [
        {
          "output_type": "stream",
          "name": "stdout",
          "text": [
            "I            | POS : PRON       | Lemma: I\n",
            "am           | POS : AUX        | Lemma: be\n",
            "flying       | POS : VERB       | Lemma: fly\n",
            "to           | POS : ADP        | Lemma: to\n",
            "San          | POS : PROPN      | Lemma: San\n",
            "Franciso     | POS : PROPN      | Lemma: Franciso\n"
          ]
        }
      ]
    },
    {
      "cell_type": "code",
      "source": [
        "s = 'Hi Everyone ! hola gr8'\n",
        "print(s.split())\n"
      ],
      "metadata": {
        "colab": {
          "base_uri": "https://localhost:8080/"
        },
        "id": "yq7w8v8wKh4-",
        "outputId": "7d4197a8-cb74-42b6-93b0-63c8e94c9791"
      },
      "execution_count": null,
      "outputs": [
        {
          "output_type": "stream",
          "name": "stdout",
          "text": [
            "['Hi', 'Everyone', '!', 'hola', 'gr8']\n"
          ]
        }
      ]
    },
    {
      "cell_type": "code",
      "source": [
        "from nltk.tokenize import word_tokenize\n",
        "print(word_tokenize(s))"
      ],
      "metadata": {
        "colab": {
          "base_uri": "https://localhost:8080/"
        },
        "id": "LXIaWOCNMBNq",
        "outputId": "e0ca9295-fb10-4e4f-a896-315d7b1b1289"
      },
      "execution_count": null,
      "outputs": [
        {
          "output_type": "stream",
          "name": "stdout",
          "text": [
            "['Hi', 'Everyone', '!', 'hola', 'gr8']\n"
          ]
        }
      ]
    },
    {
      "cell_type": "code",
      "source": [
        "from nltk.tokenize import wordpunct_tokenize\n",
        "print(wordpunct_tokenize(s))"
      ],
      "metadata": {
        "colab": {
          "base_uri": "https://localhost:8080/"
        },
        "id": "CXypNivQMHzs",
        "outputId": "d1c85e1c-81eb-403d-980c-7173f97e7666"
      },
      "execution_count": null,
      "outputs": [
        {
          "output_type": "stream",
          "name": "stdout",
          "text": [
            "['Hi', 'Everyone', '!', 'hola', 'gr8']\n"
          ]
        }
      ]
    },
    {
      "cell_type": "code",
      "source": [
        "from nltk.tokenize import regexp_tokenize, wordpunct_tokenize, blankline_tokenize\n",
        "print(regexp_tokenize(s, pattern='\\w+')) # only word\n",
        "print(regexp_tokenize(s, pattern='\\d+')) # only digits/numbers\n",
        "print(blankline_tokenize(s))"
      ],
      "metadata": {
        "colab": {
          "base_uri": "https://localhost:8080/"
        },
        "id": "cQ70rqKUMO_f",
        "outputId": "d1e23ff8-b62b-46e1-f24c-50d9975030db"
      },
      "execution_count": null,
      "outputs": [
        {
          "output_type": "stream",
          "name": "stdout",
          "text": [
            "['Hi', 'Everyone', 'hola', 'gr8']\n",
            "['8']\n",
            "['Hi Everyone ! hola gr8']\n"
          ]
        }
      ]
    },
    {
      "cell_type": "code",
      "source": [
        "s = '123'\n",
        "print(regexp_tokenize(s, pattern='/d+'))"
      ],
      "metadata": {
        "colab": {
          "base_uri": "https://localhost:8080/"
        },
        "id": "4DclLblkMv0f",
        "outputId": "da3c58cf-e246-4c76-9cfd-381b9138321e"
      },
      "execution_count": null,
      "outputs": [
        {
          "output_type": "stream",
          "name": "stdout",
          "text": [
            "[]\n"
          ]
        }
      ]
    },
    {
      "cell_type": "code",
      "source": [
        "#copied from https://en.wikipedia.org/wiki/European_Union\n",
        "\n",
        "eu_definition = ''' The European Union (EU) is a supranational political and economic union of 27 member states that are located primarily in Europe.[9][10] The union has a total area of 4,233,255 km2 (1,634,469 sq mi) and an estimated population of over 449 million as of 2024. The EU is often described as a sui generis political entity combining characteristics of both a federation and a confederation.[11][12]\n",
        "\n",
        "Containing 5.5% of the world population in 2023,[13] EU member states generated a nominal gross domestic product (GDP) of around €17.935 trillion in 2024, accounting for approximately one sixth of global economic output.[14] Its cornerstone, the Customs Union, paved the way to establishing an internal single market based on standardised legal framework and legislation that applies in all member states in those matters, and only those matters, where the states have agreed to act as one. EU policies aim to ensure the free movement of people, goods, services and capital within the internal market;[15] enact legislation in justice and home affairs; and maintain common policies on trade,[16] agriculture,[17] fisheries and regional development.[18] Passport controls have been abolished for travel within the Schengen Area.[19] The eurozone is a group composed of the 20 EU member states that have fully implemented the EU's economic and monetary union and use the euro currency. Through the Common Foreign and Security Policy, the union has developed a role in external relations and defence. It maintains permanent diplomatic missions throughout the world and represents itself at the United Nations, the World Trade Organization, the G7 and the G20. Due to its global influence, the European Union has been described by some scholars as an emerging superpower.[20][21][22][needs update]'''"
      ],
      "metadata": {
        "id": "S_CnZGoCNbZt"
      },
      "execution_count": null,
      "outputs": []
    },
    {
      "cell_type": "code",
      "source": [
        "print(eu_definition)"
      ],
      "metadata": {
        "colab": {
          "base_uri": "https://localhost:8080/"
        },
        "id": "kCLbuOS7PjtP",
        "outputId": "39cd0f8c-015b-48f6-ef3d-d75bae48ad00"
      },
      "execution_count": null,
      "outputs": [
        {
          "output_type": "stream",
          "name": "stdout",
          "text": [
            " The European Union (EU) is a supranational political and economic union of 27 member states that are located primarily in Europe.[9][10] The union has a total area of 4,233,255 km2 (1,634,469 sq mi) and an estimated population of over 449 million as of 2024. The EU is often described as a sui generis political entity combining characteristics of both a federation and a confederation.[11][12]\n",
            "\n",
            "Containing 5.5% of the world population in 2023,[13] EU member states generated a nominal gross domestic product (GDP) of around €17.935 trillion in 2024, accounting for approximately one sixth of global economic output.[14] Its cornerstone, the Customs Union, paved the way to establishing an internal single market based on standardised legal framework and legislation that applies in all member states in those matters, and only those matters, where the states have agreed to act as one. EU policies aim to ensure the free movement of people, goods, services and capital within the internal market;[15] enact legislation in justice and home affairs; and maintain common policies on trade,[16] agriculture,[17] fisheries and regional development.[18] Passport controls have been abolished for travel within the Schengen Area.[19] The eurozone is a group composed of the 20 EU member states that have fully implemented the EU's economic and monetary union and use the euro currency. Through the Common Foreign and Security Policy, the union has developed a role in external relations and defence. It maintains permanent diplomatic missions throughout the world and represents itself at the United Nations, the World Trade Organization, the G7 and the G20. Due to its global influence, the European Union has been described by some scholars as an emerging superpower.[20][21][22][needs update]\n"
          ]
        }
      ]
    },
    {
      "cell_type": "code",
      "source": [
        "sentences_example_split = eu_definition.split('.')\n",
        "print(sentences_example_split[0])\n"
      ],
      "metadata": {
        "colab": {
          "base_uri": "https://localhost:8080/"
        },
        "id": "a8D9Y3p7Ptnp",
        "outputId": "0cb05862-8726-4671-b441-5e7e3b2ac256"
      },
      "execution_count": null,
      "outputs": [
        {
          "output_type": "stream",
          "name": "stdout",
          "text": [
            " The European Union (EU) is a supranational political and economic union of 27 member states that are located primarily in Europe\n"
          ]
        }
      ]
    },
    {
      "cell_type": "code",
      "source": [
        "print(sentences_example_split[1])"
      ],
      "metadata": {
        "colab": {
          "base_uri": "https://localhost:8080/"
        },
        "id": "H8qAFHBuQBbt",
        "outputId": "41e0b09b-103c-437d-f98d-5a1950d2cee7"
      },
      "execution_count": null,
      "outputs": [
        {
          "output_type": "stream",
          "name": "stdout",
          "text": [
            "[9][10] The union has a total area of 4,233,255 km2 (1,634,469 sq mi) and an estimated population of over 449 million as of 2024\n"
          ]
        }
      ]
    },
    {
      "cell_type": "code",
      "source": [
        "print(sentences_example_split[2])"
      ],
      "metadata": {
        "colab": {
          "base_uri": "https://localhost:8080/"
        },
        "id": "tmZ1mgH4QE8T",
        "outputId": "d92fe0ad-8fba-4828-c7b0-0b5aa07f72c4"
      },
      "execution_count": null,
      "outputs": [
        {
          "output_type": "stream",
          "name": "stdout",
          "text": [
            " The EU is often described as a sui generis political entity combining characteristics of both a federation and a confederation\n"
          ]
        }
      ]
    },
    {
      "cell_type": "code",
      "source": [
        "print(sentences_example_split[3])  #problem"
      ],
      "metadata": {
        "colab": {
          "base_uri": "https://localhost:8080/"
        },
        "id": "YEyeh9ZdQG_y",
        "outputId": "b51cb20d-022d-4d2a-82c9-9b8d7b03dcda"
      },
      "execution_count": null,
      "outputs": [
        {
          "output_type": "stream",
          "name": "stdout",
          "text": [
            "[11][12]\n",
            "\n",
            "Containing 5\n"
          ]
        }
      ]
    },
    {
      "cell_type": "code",
      "source": [
        "print(sentences_example_split[4])  #problem"
      ],
      "metadata": {
        "colab": {
          "base_uri": "https://localhost:8080/"
        },
        "id": "mAP0-yV8QJfP",
        "outputId": "0d03eb8a-adef-48cd-8c86-c76afbc252f3"
      },
      "execution_count": null,
      "outputs": [
        {
          "output_type": "stream",
          "name": "stdout",
          "text": [
            "5% of the world population in 2023,[13] EU member states generated a nominal gross domestic product (GDP) of around €17\n"
          ]
        }
      ]
    },
    {
      "cell_type": "code",
      "source": [
        "#solution use nltk, sentence tokenizer\n",
        "import nltk"
      ],
      "metadata": {
        "id": "xihB8KGHQYYt"
      },
      "execution_count": null,
      "outputs": []
    },
    {
      "cell_type": "code",
      "source": [
        "sentences_example_nltk = nltk.tokenize.sent_tokenize(eu_definition)\n",
        "print(sentences_example_nltk[0])"
      ],
      "metadata": {
        "colab": {
          "base_uri": "https://localhost:8080/"
        },
        "id": "fNR4GKjPQd_b",
        "outputId": "d78f3eb8-b79f-4ecd-f7b6-2c7d4c8f7917"
      },
      "execution_count": null,
      "outputs": [
        {
          "output_type": "stream",
          "name": "stdout",
          "text": [
            " The European Union (EU) is a supranational political and economic union of 27 member states that are located primarily in Europe.\n"
          ]
        }
      ]
    },
    {
      "cell_type": "code",
      "source": [
        "print(sentences_example_nltk[1])"
      ],
      "metadata": {
        "colab": {
          "base_uri": "https://localhost:8080/"
        },
        "id": "5ZCPSsemRD6U",
        "outputId": "45e5c176-7157-4a11-a7d6-722d6bebdc99"
      },
      "execution_count": null,
      "outputs": [
        {
          "output_type": "stream",
          "name": "stdout",
          "text": [
            "[9][10] The union has a total area of 4,233,255 km2 (1,634,469 sq mi) and an estimated population of over 449 million as of 2024.\n"
          ]
        }
      ]
    },
    {
      "cell_type": "code",
      "source": [
        "print(sentences_example_nltk[2])"
      ],
      "metadata": {
        "colab": {
          "base_uri": "https://localhost:8080/"
        },
        "id": "brO-Wi6cRLAD",
        "outputId": "7b7c6a11-a490-4ec3-cc5b-523f87b975ea"
      },
      "execution_count": null,
      "outputs": [
        {
          "output_type": "stream",
          "name": "stdout",
          "text": [
            "The EU is often described as a sui generis political entity combining characteristics of both a federation and a confederation.\n"
          ]
        }
      ]
    },
    {
      "cell_type": "code",
      "source": [
        "print(sentences_example_nltk[3])"
      ],
      "metadata": {
        "colab": {
          "base_uri": "https://localhost:8080/"
        },
        "id": "GIJ2Hq2RRMKD",
        "outputId": "84b3def5-be16-4dde-b764-91eb12c5206d"
      },
      "execution_count": null,
      "outputs": [
        {
          "output_type": "stream",
          "name": "stdout",
          "text": [
            "[11][12]\n",
            "\n",
            "Containing 5.5% of the world population in 2023,[13] EU member states generated a nominal gross domestic product (GDP) of around €17.935 trillion in 2024, accounting for approximately one sixth of global economic output.\n"
          ]
        }
      ]
    },
    {
      "cell_type": "code",
      "source": [
        "print(sentences_example_nltk[4])"
      ],
      "metadata": {
        "colab": {
          "base_uri": "https://localhost:8080/"
        },
        "id": "X3Z0vusfRNYB",
        "outputId": "8143852d-69da-44ee-8a78-c7bd6de9d4b6"
      },
      "execution_count": null,
      "outputs": [
        {
          "output_type": "stream",
          "name": "stdout",
          "text": [
            "[14] Its cornerstone, the Customs Union, paved the way to establishing an internal single market based on standardised legal framework and legislation that applies in all member states in those matters, and only those matters, where the states have agreed to act as one.\n"
          ]
        }
      ]
    },
    {
      "cell_type": "code",
      "source": [
        "print(\"Manual split on '.':\")\n",
        "for i, s in enumerate(sentences_example_split[:6], 1):\n",
        "    print(f'{i}: {s.strip()}')"
      ],
      "metadata": {
        "colab": {
          "base_uri": "https://localhost:8080/"
        },
        "id": "O0AEVru0RPcQ",
        "outputId": "f87895f4-9c8b-47ee-b0dd-17b05de71a6c"
      },
      "execution_count": null,
      "outputs": [
        {
          "output_type": "stream",
          "name": "stdout",
          "text": [
            "Manual split on '.':\n",
            "1: The European Union (EU) is a supranational political and economic union of 27 member states that are located primarily in Europe\n",
            "2: [9][10] The union has a total area of 4,233,255 km2 (1,634,469 sq mi) and an estimated population of over 449 million as of 2024\n",
            "3: The EU is often described as a sui generis political entity combining characteristics of both a federation and a confederation\n",
            "4: [11][12]\n",
            "\n",
            "Containing 5\n",
            "5: 5% of the world population in 2023,[13] EU member states generated a nominal gross domestic product (GDP) of around €17\n",
            "6: 935 trillion in 2024, accounting for approximately one sixth of global economic output\n"
          ]
        }
      ]
    },
    {
      "cell_type": "code",
      "source": [
        "print(\"NLTK sent tokenise output:\")\n",
        "for i, s in enumerate(sentences_example_nltk[:6], 1):\n",
        "    print(f'{i}: {s}')"
      ],
      "metadata": {
        "colab": {
          "base_uri": "https://localhost:8080/"
        },
        "id": "gJEVFtHpRmWq",
        "outputId": "be9cd1e8-0415-4381-caa0-cfc97823df18"
      },
      "execution_count": null,
      "outputs": [
        {
          "output_type": "stream",
          "name": "stdout",
          "text": [
            "NLTK sent tokenise output:\n",
            "1:  The European Union (EU) is a supranational political and economic union of 27 member states that are located primarily in Europe.\n",
            "2: [9][10] The union has a total area of 4,233,255 km2 (1,634,469 sq mi) and an estimated population of over 449 million as of 2024.\n",
            "3: The EU is often described as a sui generis political entity combining characteristics of both a federation and a confederation.\n",
            "4: [11][12]\n",
            "\n",
            "Containing 5.5% of the world population in 2023,[13] EU member states generated a nominal gross domestic product (GDP) of around €17.935 trillion in 2024, accounting for approximately one sixth of global economic output.\n",
            "5: [14] Its cornerstone, the Customs Union, paved the way to establishing an internal single market based on standardised legal framework and legislation that applies in all member states in those matters, and only those matters, where the states have agreed to act as one.\n",
            "6: EU policies aim to ensure the free movement of people, goods, services and capital within the internal market;[15] enact legislation in justice and home affairs; and maintain common policies on trade,[16] agriculture,[17] fisheries and regional development.\n"
          ]
        }
      ]
    },
    {
      "cell_type": "markdown",
      "source": [
        "Hindi"
      ],
      "metadata": {
        "id": "aNaPRb4yTtab"
      }
    },
    {
      "cell_type": "code",
      "source": [
        "import requests\n",
        "from bs4 import BeautifulSoup"
      ],
      "metadata": {
        "id": "B1sIZOCvS-h_"
      },
      "execution_count": null,
      "outputs": []
    },
    {
      "cell_type": "code",
      "source": [
        "url = \"https://hi.wikipedia.org/wiki/%E0%A4%B8%E0%A5%8D%E0%A4%9F%E0%A5%80%E0%A4%B5_%E0%A4%9C%E0%A5%89%E0%A4%AC%E0%A5%8D%E0%A4%B8\"\n",
        "res = requests.get(url)\n",
        "soup = BeautifulSoup(res.text, 'html.parser')"
      ],
      "metadata": {
        "id": "6m6UOe30TLqy"
      },
      "execution_count": null,
      "outputs": []
    },
    {
      "cell_type": "code",
      "source": [
        "text = ' '.join(p.get_text() for p in soup.select('p'))\n",
        "print(\"preview of extracted text\")\n",
        "print(text[:500])"
      ],
      "metadata": {
        "colab": {
          "base_uri": "https://localhost:8080/"
        },
        "id": "EgGIMOeETXk7",
        "outputId": "9eb08fb6-a161-4007-b3d3-9bb961b59a05"
      },
      "execution_count": null,
      "outputs": [
        {
          "output_type": "stream",
          "name": "stdout",
          "text": [
            "preview of extracted text\n",
            "स्टीवन पॉल \"स्टीव\" जॉब्स (अंग्रेज़ी: Steven Paul \"Steve\" Jobs) (जन्म: २४ फरवरी, १९५५ - अक्टूबर ५, २०११) एक अमेरिकी बिजनेस टाईकून और आविष्कारक थे। वे एप्पल इंक के सह-संस्थापक और मुख्य कार्यकारी अधिकारी थे। अगस्त २०११ में उन्होने इस पद से त्यागपत्र दे दिया। जॉब्स पिक्सर एनीमेशन स्टूडियोज के मुख्य कार्यकारी अधिकारी भी रहे। सन् २००६ में वह दि वाल्ट डिज्नी कम्पनी के निदेशक मंडल के सदस्य भी रहे, जिसके बाद डिज्नी ने पिक्सर का अधिग्रहण कर लिया था। १९९५ में आई फिल्म टॉय स्टोरी के  वह  कार्यकारी निर्माता \n"
          ]
        }
      ]
    },
    {
      "cell_type": "markdown",
      "source": [
        "Tokenization using NLTK"
      ],
      "metadata": {
        "id": "kPjZj6jBTqy1"
      }
    },
    {
      "cell_type": "code",
      "source": [
        "from nltk.tokenize import sent_tokenize, word_tokenize\n",
        "import nltk\n",
        "nltk.download('punkt')"
      ],
      "metadata": {
        "colab": {
          "base_uri": "https://localhost:8080/"
        },
        "id": "eZ9JMBE5TpsW",
        "outputId": "b72bec11-d3be-416b-d3d8-688edf71851f"
      },
      "execution_count": null,
      "outputs": [
        {
          "output_type": "stream",
          "name": "stderr",
          "text": [
            "[nltk_data] Downloading package punkt to /root/nltk_data...\n",
            "[nltk_data]   Package punkt is already up-to-date!\n"
          ]
        },
        {
          "output_type": "execute_result",
          "data": {
            "text/plain": [
              "True"
            ]
          },
          "metadata": {},
          "execution_count": 65
        }
      ]
    },
    {
      "cell_type": "code",
      "source": [
        "nltk_sentences = sent_tokenize(text)\n",
        "print(f'nltk_sentence count: {len(nltk_sentences)}')"
      ],
      "metadata": {
        "colab": {
          "base_uri": "https://localhost:8080/"
        },
        "id": "hC1JeFWuUkGc",
        "outputId": "4d62e5c3-22cd-4ef4-fc56-4acc38354671"
      },
      "execution_count": null,
      "outputs": [
        {
          "output_type": "stream",
          "name": "stdout",
          "text": [
            "nltk_sentence count: 11\n"
          ]
        }
      ]
    },
    {
      "cell_type": "code",
      "source": [
        "# Word tokeniztion\n",
        "nltk_words = word_tokenize(text)\n",
        "print(f'nltk_word count: {len(nltk_words)}')"
      ],
      "metadata": {
        "colab": {
          "base_uri": "https://localhost:8080/"
        },
        "id": "w_wshQs2UhfU",
        "outputId": "b594980b-13a9-4ffa-af03-4cdc8eb3eadc"
      },
      "execution_count": null,
      "outputs": [
        {
          "output_type": "stream",
          "name": "stdout",
          "text": [
            "nltk_word count: 1834\n"
          ]
        }
      ]
    },
    {
      "cell_type": "markdown",
      "source": [
        "Tokenization using spacy"
      ],
      "metadata": {
        "id": "OblD0ZWgVEPe"
      }
    },
    {
      "cell_type": "code",
      "source": [
        "import spacy\n",
        "\n",
        "# Download the multi-language model\n",
        "!python -m spacy download xx_ent_wiki_sm\n",
        "\n",
        "# Load the downloaded model\n"
      ],
      "metadata": {
        "colab": {
          "base_uri": "https://localhost:8080/"
        },
        "id": "qqdgPX6uVITj",
        "outputId": "78bcdcf6-c409-4f02-b460-41d9adc8257f"
      },
      "execution_count": null,
      "outputs": [
        {
          "output_type": "stream",
          "name": "stdout",
          "text": [
            "Collecting xx-ent-wiki-sm==3.8.0\n",
            "  Downloading https://github.com/explosion/spacy-models/releases/download/xx_ent_wiki_sm-3.8.0/xx_ent_wiki_sm-3.8.0-py3-none-any.whl (11.1 MB)\n",
            "\u001b[2K     \u001b[90m━━━━━━━━━━━━━━━━━━━━━━━━━━━━━━━━━━━━━━━\u001b[0m \u001b[32m11.1/11.1 MB\u001b[0m \u001b[31m104.9 MB/s\u001b[0m eta \u001b[36m0:00:00\u001b[0m\n",
            "\u001b[?25hInstalling collected packages: xx-ent-wiki-sm\n",
            "Successfully installed xx-ent-wiki-sm-3.8.0\n",
            "\u001b[38;5;2m✔ Download and installation successful\u001b[0m\n",
            "You can now load the package via spacy.load('xx_ent_wiki_sm')\n",
            "\u001b[38;5;3m⚠ Restart to reload dependencies\u001b[0m\n",
            "If you are in a Jupyter or Colab notebook, you may need to restart Python in\n",
            "order to load all the package's dependencies. You can do this by selecting the\n",
            "'Restart kernel' or 'Restart runtime' option.\n"
          ]
        }
      ]
    },
    {
      "cell_type": "code",
      "source": [
        "nlp = spacy.load('xx_ent_wiki_sm')"
      ],
      "metadata": {
        "id": "1-hZKWsvVI3L"
      },
      "execution_count": null,
      "outputs": []
    },
    {
      "cell_type": "code",
      "source": [
        "#add sentencizer as xx_ent_wiki_sm doesn't include parser\n",
        "nlp.add_pipe('sentencizer')   # not built in for some lang in model so pipe"
      ],
      "metadata": {
        "colab": {
          "base_uri": "https://localhost:8080/"
        },
        "id": "nVh9QujvVI0D",
        "outputId": "a32c4531-ca5c-448b-aa34-086a75cb4942"
      },
      "execution_count": null,
      "outputs": [
        {
          "output_type": "execute_result",
          "data": {
            "text/plain": [
              "<spacy.pipeline.sentencizer.Sentencizer at 0x7f7ba7a54e90>"
            ]
          },
          "metadata": {},
          "execution_count": 75
        }
      ]
    },
    {
      "cell_type": "code",
      "source": [
        "doc = nlp(text)\n",
        "\n",
        "#sentence tokeniztion\n",
        "spacy_sentences = [sent.text for sent in doc.sents]\n",
        "print(f'spacy_sentence count: {len(spacy_sentences)}')"
      ],
      "metadata": {
        "colab": {
          "base_uri": "https://localhost:8080/"
        },
        "id": "Zqyn8JecVIur",
        "outputId": "34056f8a-466c-4de2-b608-bd91f42b40b1"
      },
      "execution_count": null,
      "outputs": [
        {
          "output_type": "stream",
          "name": "stdout",
          "text": [
            "spacy_sentence count: 88\n"
          ]
        }
      ]
    },
    {
      "cell_type": "code",
      "source": [
        "spacy_words = [token.text for token in doc]\n",
        "print(f'spacy_word count: {len(spacy_words)}')"
      ],
      "metadata": {
        "colab": {
          "base_uri": "https://localhost:8080/"
        },
        "id": "Cyj1RlzkVIrz",
        "outputId": "dfe44a99-ddf8-4be5-8064-06d59a2a66df"
      },
      "execution_count": null,
      "outputs": [
        {
          "output_type": "stream",
          "name": "stdout",
          "text": [
            "spacy_word count: 1952\n"
          ]
        }
      ]
    },
    {
      "cell_type": "code",
      "source": [
        "# nltk sent_tokenise uses a punct model trained primarily in eng\n",
        "# it does not handle hindi sent boundaries(like |) very well\n",
        "# which is why it returned nly 11 sentences\n",
        "\n",
        "# spacy (with xx_ent_wiki_sm + sentenciser) handles Unicode-aware punctuations\n",
        "# better, including hindi sentences boundaries(|), leading to more accurate semtence splits\n",
        "\n"
      ],
      "metadata": {
        "id": "kufap8qXXJks"
      },
      "execution_count": null,
      "outputs": []
    },
    {
      "cell_type": "code",
      "source": [
        "nlp = spacy.load('en_core_web_sm')"
      ],
      "metadata": {
        "id": "3DdWtH-UZxEK"
      },
      "execution_count": null,
      "outputs": []
    },
    {
      "cell_type": "code",
      "source": [
        "examples = [\"\\\"We're moving to L.A.!\\\"\",\n",
        "            \"We're here to help! Send snail-mail, email support@cdac.in or visit us at http://www.cdac.in\",\n",
        "            \"A 5km NYYC cab ride costs $10.30\",\n",
        "            \"Let's visit St. Louis in the U.S. next year.\"]"
      ],
      "metadata": {
        "id": "YyZOv6WlaF1b"
      },
      "execution_count": null,
      "outputs": []
    },
    {
      "cell_type": "code",
      "source": [
        "for i, sentence in enumerate(examples, 1):\n",
        "    doc = nlp(sentence)\n",
        "    tokens = [token.text for token in doc]\n",
        "    print(f'Sentence {i}: {sentence}')\n",
        "    print(f'Token ({len(tokens)}): {tokens}')\n",
        "    print(\"_\" * 60)"
      ],
      "metadata": {
        "colab": {
          "base_uri": "https://localhost:8080/"
        },
        "id": "Axh5g5CoaxRG",
        "outputId": "78aa87fd-08ef-48d6-cdaa-8eb8e8a80aeb"
      },
      "execution_count": null,
      "outputs": [
        {
          "output_type": "stream",
          "name": "stdout",
          "text": [
            "Sentence 1: \"We're moving to L.A.!\"\n",
            "Token (8): ['\"', 'We', \"'re\", 'moving', 'to', 'L.A.', '!', '\"']\n",
            "____________________________________________________________\n",
            "Sentence 2: We're here to help! Send snail-mail, email support@cdac.in or visit us at http://www.cdac.in\n",
            "Token (18): ['We', \"'re\", 'here', 'to', 'help', '!', 'Send', 'snail', '-', 'mail', ',', 'email', 'support@cdac.in', 'or', 'visit', 'us', 'at', 'http://www.cdac.in']\n",
            "____________________________________________________________\n",
            "Sentence 3: A 5km NYYC cab ride costs $10.30\n",
            "Token (9): ['A', '5', 'km', 'NYYC', 'cab', 'ride', 'costs', '$', '10.30']\n",
            "____________________________________________________________\n",
            "Sentence 4: Let's visit St. Louis in the U.S. next year.\n",
            "Token (11): ['Let', \"'s\", 'visit', 'St.', 'Louis', 'in', 'the', 'U.S.', 'next', 'year', '.']\n",
            "____________________________________________________________\n"
          ]
        }
      ]
    },
    {
      "cell_type": "markdown",
      "source": [
        "How nltk will do this"
      ],
      "metadata": {
        "id": "HNn8I4uHbVI_"
      }
    },
    {
      "cell_type": "code",
      "source": [
        "import nltk"
      ],
      "metadata": {
        "id": "bIbPAfUxbYOB"
      },
      "execution_count": null,
      "outputs": []
    },
    {
      "cell_type": "code",
      "source": [
        "from nltk.tokenize import word_tokenize\n",
        "nltk.download('punkt')"
      ],
      "metadata": {
        "colab": {
          "base_uri": "https://localhost:8080/"
        },
        "id": "2ygqnaa0bbP5",
        "outputId": "c9a70dbf-7b6e-406f-e342-ffdf7f057765"
      },
      "execution_count": null,
      "outputs": [
        {
          "output_type": "stream",
          "name": "stderr",
          "text": [
            "[nltk_data] Downloading package punkt to /root/nltk_data...\n",
            "[nltk_data]   Package punkt is already up-to-date!\n"
          ]
        },
        {
          "output_type": "execute_result",
          "data": {
            "text/plain": [
              "True"
            ]
          },
          "metadata": {},
          "execution_count": 84
        }
      ]
    },
    {
      "cell_type": "code",
      "source": [
        "for text in examples:\n",
        "  print(f'Text: {text}')\n",
        "  tokens = word_tokenize(text)\n",
        "  print(f'No of Token : ({len(tokens)})')\n"
      ],
      "metadata": {
        "colab": {
          "base_uri": "https://localhost:8080/"
        },
        "id": "o13Vx1hTcO5Z",
        "outputId": "c1a6882c-4db7-4c3f-fbec-3a20eb474701"
      },
      "execution_count": null,
      "outputs": [
        {
          "output_type": "stream",
          "name": "stdout",
          "text": [
            "Text: \"We're moving to L.A.!\"\n",
            "No of Token : (8)\n",
            "Text: We're here to help! Send snail-mail, email support@cdac.in or visit us at http://www.cdac.in\n",
            "No of Token : (20)\n",
            "Text: A 5km NYYC cab ride costs $10.30\n",
            "No of Token : (8)\n",
            "Text: Let's visit St. Louis in the U.S. next year.\n",
            "No of Token : (11)\n"
          ]
        }
      ]
    },
    {
      "cell_type": "code",
      "source": [
        "from nltk import sent_tokenize, word_tokenize, pos_tag, ne_chunk\n",
        "from nltk.tree import Tree"
      ],
      "metadata": {
        "id": "U8251-PCi4yz"
      },
      "execution_count": null,
      "outputs": []
    },
    {
      "cell_type": "code",
      "source": [
        "nltk.download('punkt')\n",
        "nltk.download('averaged_perceptron_tagger')\n",
        "nltk.download('maxent_ne_chunker')\n",
        "nltk.download('words')"
      ],
      "metadata": {
        "colab": {
          "base_uri": "https://localhost:8080/"
        },
        "id": "4SRkuoYZjNs6",
        "outputId": "d80690a5-cb10-40c5-a673-d319d8dbfa87"
      },
      "execution_count": null,
      "outputs": [
        {
          "output_type": "stream",
          "name": "stderr",
          "text": [
            "[nltk_data] Downloading package punkt to /root/nltk_data...\n",
            "[nltk_data]   Package punkt is already up-to-date!\n",
            "[nltk_data] Downloading package averaged_perceptron_tagger to\n",
            "[nltk_data]     /root/nltk_data...\n",
            "[nltk_data]   Package averaged_perceptron_tagger is already up-to-\n",
            "[nltk_data]       date!\n",
            "[nltk_data] Downloading package maxent_ne_chunker to\n",
            "[nltk_data]     /root/nltk_data...\n",
            "[nltk_data]   Unzipping chunkers/maxent_ne_chunker.zip.\n",
            "[nltk_data] Downloading package words to /root/nltk_data...\n",
            "[nltk_data]   Unzipping corpora/words.zip.\n"
          ]
        },
        {
          "output_type": "execute_result",
          "data": {
            "text/plain": [
              "True"
            ]
          },
          "metadata": {},
          "execution_count": 89
        }
      ]
    },
    {
      "cell_type": "code",
      "source": [
        "text = \"Apple was founded by Steve Jobs in California. He emailed support@apple.com from L.A.\""
      ],
      "metadata": {
        "id": "5hkb9Qt0iksR"
      },
      "execution_count": null,
      "outputs": []
    },
    {
      "cell_type": "code",
      "source": [
        "#1. Sentence Tokenization\n",
        "sentences = sent_tokenize(text)\n",
        "\n",
        "print(sentences)"
      ],
      "metadata": {
        "colab": {
          "base_uri": "https://localhost:8080/"
        },
        "id": "RSOYqH2xjH-l",
        "outputId": "dfa0795a-c2cb-4428-e8af-2a9bef3de6d3"
      },
      "execution_count": null,
      "outputs": [
        {
          "output_type": "stream",
          "name": "stdout",
          "text": [
            "['Apple was founded by Steve Jobs in California.', 'He emailed support@apple.com from L.A.']\n"
          ]
        }
      ]
    },
    {
      "cell_type": "code",
      "source": [
        "# 2. Word Tokenization\n",
        "tokens = word_tokenize(text)\n",
        "print(tokens)"
      ],
      "metadata": {
        "colab": {
          "base_uri": "https://localhost:8080/"
        },
        "id": "YASdGS03jfO6",
        "outputId": "425acbc3-7072-4d46-d015-420f778d8a37"
      },
      "execution_count": null,
      "outputs": [
        {
          "output_type": "stream",
          "name": "stdout",
          "text": [
            "['Apple', 'was', 'founded', 'by', 'Steve', 'Jobs', 'in', 'California', '.', 'He', 'emailed', 'support', '@', 'apple.com', 'from', 'L.A', '.']\n"
          ]
        }
      ]
    },
    {
      "cell_type": "code",
      "source": [
        "pos_tags = pos_tag(tokens)\n",
        "print(pos_tags)"
      ],
      "metadata": {
        "colab": {
          "base_uri": "https://localhost:8080/"
        },
        "id": "M-RrT3w8j9G3",
        "outputId": "bdd5b2b5-979f-4f82-868a-67a9ce236658"
      },
      "execution_count": null,
      "outputs": [
        {
          "output_type": "stream",
          "name": "stdout",
          "text": [
            "[('Apple', 'NNP'), ('was', 'VBD'), ('founded', 'VBN'), ('by', 'IN'), ('Steve', 'NNP'), ('Jobs', 'NNP'), ('in', 'IN'), ('California', 'NNP'), ('.', '.'), ('He', 'PRP'), ('emailed', 'VBD'), ('support', 'NN'), ('@', 'NNP'), ('apple.com', 'NN'), ('from', 'IN'), ('L.A', 'NNP'), ('.', '.')]\n"
          ]
        }
      ]
    },
    {
      "cell_type": "code",
      "source": [
        "\n",
        " nltk.download('maxent_ne_chunker_tab')"
      ],
      "metadata": {
        "colab": {
          "base_uri": "https://localhost:8080/"
        },
        "id": "UOi7weeDkXt2",
        "outputId": "fca39afc-f15f-47dd-d126-689637c7e6ef"
      },
      "execution_count": null,
      "outputs": [
        {
          "output_type": "stream",
          "name": "stderr",
          "text": [
            "[nltk_data] Downloading package maxent_ne_chunker_tab to\n",
            "[nltk_data]     /root/nltk_data...\n",
            "[nltk_data]   Unzipping chunkers/maxent_ne_chunker_tab.zip.\n"
          ]
        },
        {
          "output_type": "execute_result",
          "data": {
            "text/plain": [
              "True"
            ]
          },
          "metadata": {},
          "execution_count": 99
        }
      ]
    },
    {
      "cell_type": "markdown",
      "source": [
        "NER"
      ],
      "metadata": {
        "id": "pKcn5cqakei4"
      }
    },
    {
      "cell_type": "code",
      "source": [
        "ne_tree = ne_chunk(pos_tags)\n",
        "print(ne_tree)"
      ],
      "metadata": {
        "colab": {
          "base_uri": "https://localhost:8080/"
        },
        "id": "ibmdZWvskGEu",
        "outputId": "889e3c8a-8572-4e82-e8d5-3e402f5b97e9"
      },
      "execution_count": null,
      "outputs": [
        {
          "output_type": "stream",
          "name": "stdout",
          "text": [
            "(S\n",
            "  (PERSON Apple/NNP)\n",
            "  was/VBD\n",
            "  founded/VBN\n",
            "  by/IN\n",
            "  (PERSON Steve/NNP Jobs/NNP)\n",
            "  in/IN\n",
            "  (GPE California/NNP)\n",
            "  ./.\n",
            "  He/PRP\n",
            "  emailed/VBD\n",
            "  support/NN\n",
            "  @/NNP\n",
            "  apple.com/NN\n",
            "  from/IN\n",
            "  L.A/NNP\n",
            "  ./.)\n"
          ]
        }
      ]
    },
    {
      "cell_type": "markdown",
      "source": [
        "Extract name entities in(entity, type) form"
      ],
      "metadata": {
        "id": "Y0ujA8JNkipi"
      }
    },
    {
      "cell_type": "code",
      "source": [
        "named_entities = []\n",
        "for subtree in ne_tree:\n",
        "  if isinstance(subtree, Tree):\n",
        "    entity = ' '.join([token for token, pos in subtree.leaves()])\n",
        "    label = subtree.label()\n",
        "    named_entities.append((entity, label))\n",
        "\n",
        "### Output Summary\n",
        "\n",
        "print(\"=== NLTK Pipeline ===\")\n",
        "print(f'Sentences ({len(sentences)}):', sentences)\n",
        "print(f'Tokens ({len(tokens)}):', tokens)\n",
        "print(f'POS Tags ({len(pos_tags)}):', pos_tags)\n",
        "print(f'Named Entities ({len(named_entities)}):', named_entities)\n",
        "print(\"\\n Pipieline Stages : ['Tokenizer', 'POS Tagger', 'Chunker/NER']\")"
      ],
      "metadata": {
        "colab": {
          "base_uri": "https://localhost:8080/"
        },
        "id": "ZfcJsY-dkbTT",
        "outputId": "85b04a0f-e27b-4eeb-d7fd-72a77f5237c0"
      },
      "execution_count": null,
      "outputs": [
        {
          "output_type": "stream",
          "name": "stdout",
          "text": [
            "=== NLTK Pipeline ===\n",
            "Sentences (2): ['Apple was founded by Steve Jobs in California.', 'He emailed support@apple.com from L.A.']\n",
            "Tokens (17): ['Apple', 'was', 'founded', 'by', 'Steve', 'Jobs', 'in', 'California', '.', 'He', 'emailed', 'support', '@', 'apple.com', 'from', 'L.A', '.']\n",
            "POS Tags (17): [('Apple', 'NNP'), ('was', 'VBD'), ('founded', 'VBN'), ('by', 'IN'), ('Steve', 'NNP'), ('Jobs', 'NNP'), ('in', 'IN'), ('California', 'NNP'), ('.', '.'), ('He', 'PRP'), ('emailed', 'VBD'), ('support', 'NN'), ('@', 'NNP'), ('apple.com', 'NN'), ('from', 'IN'), ('L.A', 'NNP'), ('.', '.')]\n",
            "Named Entities (3): [('Apple', 'PERSON'), ('Steve Jobs', 'PERSON'), ('California', 'GPE')]\n",
            "\n",
            " Pipieline Stages : ['Tokenizer', 'POS Tagger', 'Chunker/NER']\n"
          ]
        }
      ]
    },
    {
      "cell_type": "code",
      "source": [
        "import spacy\n",
        "from spacy import displacy, explain"
      ],
      "metadata": {
        "id": "nSzU90PYmFki"
      },
      "execution_count": null,
      "outputs": []
    },
    {
      "cell_type": "code",
      "source": [
        "nlp = spacy.load('en_core_web_sm')\n",
        "print(\"Pipeline components:\", nlp.pipeline)\n",
        "print(\"component names:\", nlp.pipe_names)"
      ],
      "metadata": {
        "colab": {
          "base_uri": "https://localhost:8080/"
        },
        "id": "yIUaD2R9mLYg",
        "outputId": "e51de08f-1d51-4420-e278-2b70b46a8368"
      },
      "execution_count": null,
      "outputs": [
        {
          "output_type": "stream",
          "name": "stdout",
          "text": [
            "Pipeline components: [('tok2vec', <spacy.pipeline.tok2vec.Tok2Vec object at 0x7f7baaecef30>), ('tagger', <spacy.pipeline.tagger.Tagger object at 0x7f7baaeceb10>), ('parser', <spacy.pipeline.dep_parser.DependencyParser object at 0x7f7baaeebae0>), ('attribute_ruler', <spacy.pipeline.attributeruler.AttributeRuler object at 0x7f7b9b202bd0>), ('lemmatizer', <spacy.lang.en.lemmatizer.EnglishLemmatizer object at 0x7f7b89e869d0>), ('ner', <spacy.pipeline.ner.EntityRecognizer object at 0x7f7baaeeb610>)]\n",
            "component names: ['tok2vec', 'tagger', 'parser', 'attribute_ruler', 'lemmatizer', 'ner']\n"
          ]
        }
      ]
    },
    {
      "cell_type": "code",
      "source": [
        "# add sentenciser if not present\n",
        "if 'sentencizer' not in nlp.pipe_names:\n",
        "    nlp.add_pipe('sentencizer', before = 'parser')\n",
        "    print(\"Sentencizer added\")"
      ],
      "metadata": {
        "colab": {
          "base_uri": "https://localhost:8080/"
        },
        "id": "mQDP-F0Vmj47",
        "outputId": "9e18f91d-0117-4918-d5b2-bb087a336c40"
      },
      "execution_count": null,
      "outputs": [
        {
          "output_type": "stream",
          "name": "stdout",
          "text": [
            "Sentencizer added\n"
          ]
        }
      ]
    },
    {
      "cell_type": "code",
      "source": [
        "# process text\n",
        "doc = nlp(text)"
      ],
      "metadata": {
        "id": "s30kgE89m1Qg"
      },
      "execution_count": null,
      "outputs": []
    },
    {
      "cell_type": "code",
      "source": [
        "# print tokens\n",
        "print(\"Tokens\")\n",
        "\n",
        "print([token.text for token in doc])"
      ],
      "metadata": {
        "colab": {
          "base_uri": "https://localhost:8080/"
        },
        "id": "JUao-RA9m7hT",
        "outputId": "27826834-10d4-4d28-cab7-e9effaaf3758"
      },
      "execution_count": null,
      "outputs": [
        {
          "output_type": "stream",
          "name": "stdout",
          "text": [
            "Tokens\n",
            "['Apple', 'was', 'founded', 'by', 'Steve', 'Jobs', 'in', 'California', '.', 'He', 'emailed', 'support@apple.com', 'from', 'L.A.']\n"
          ]
        }
      ]
    },
    {
      "cell_type": "code",
      "source": [
        "# print sentences\n",
        "print(\"Sentences:\")\n",
        "print([sent.text for sent in doc.sents])"
      ],
      "metadata": {
        "colab": {
          "base_uri": "https://localhost:8080/"
        },
        "id": "Xni_hS-nnGZN",
        "outputId": "eaff67e4-2fad-4039-c4d3-a26a5b42a414"
      },
      "execution_count": null,
      "outputs": [
        {
          "output_type": "stream",
          "name": "stdout",
          "text": [
            "Sentences:\n",
            "['Apple was founded by Steve Jobs in California.', 'He emailed support@apple.com from L.A.']\n"
          ]
        }
      ]
    },
    {
      "cell_type": "code",
      "source": [
        "# explain some POS/DEP/NER tags\n",
        "print(\"Explanations:\")\n",
        "print(\"VBZ\", explain('VBZ'))\n",
        "print(\"nsubj\", explain('nsubj'))\n",
        "print(\"ORG\",explain('ORG'))"
      ],
      "metadata": {
        "colab": {
          "base_uri": "https://localhost:8080/"
        },
        "id": "Cu-wLUVHng4x",
        "outputId": "2f57554d-db39-4f48-d483-ed1e72405853"
      },
      "execution_count": null,
      "outputs": [
        {
          "output_type": "stream",
          "name": "stdout",
          "text": [
            "Explanations:\n",
            "VBZ verb, 3rd person singular present\n",
            "nsubj nominal subject\n",
            "ORG Companies, agencies, institutions, etc.\n"
          ]
        }
      ]
    },
    {
      "cell_type": "code",
      "source": [
        "# visualized ner\n",
        "# displacy.serve(doc, style ='ent', port = 5000, host = '127.0.0.1') # For non jupyter/Colab\n",
        "\n",
        "displacy.render(doc, style ='ent')"
      ],
      "metadata": {
        "colab": {
          "base_uri": "https://localhost:8080/",
          "height": 52
        },
        "id": "ZaVAPRJSn9ET",
        "outputId": "a45ac1e8-7542-4b8c-c1c5-4abcd70bebe1"
      },
      "execution_count": null,
      "outputs": [
        {
          "output_type": "display_data",
          "data": {
            "text/plain": [
              "<IPython.core.display.HTML object>"
            ],
            "text/html": [
              "<span class=\"tex2jax_ignore\"><div class=\"entities\" style=\"line-height: 2.5; direction: ltr\">\n",
              "<mark class=\"entity\" style=\"background: #7aecec; padding: 0.45em 0.6em; margin: 0 0.25em; line-height: 1; border-radius: 0.35em;\">\n",
              "    Apple\n",
              "    <span style=\"font-size: 0.8em; font-weight: bold; line-height: 1; border-radius: 0.35em; vertical-align: middle; margin-left: 0.5rem\">ORG</span>\n",
              "</mark>\n",
              " was founded by \n",
              "<mark class=\"entity\" style=\"background: #aa9cfc; padding: 0.45em 0.6em; margin: 0 0.25em; line-height: 1; border-radius: 0.35em;\">\n",
              "    Steve Jobs\n",
              "    <span style=\"font-size: 0.8em; font-weight: bold; line-height: 1; border-radius: 0.35em; vertical-align: middle; margin-left: 0.5rem\">PERSON</span>\n",
              "</mark>\n",
              " in \n",
              "<mark class=\"entity\" style=\"background: #feca74; padding: 0.45em 0.6em; margin: 0 0.25em; line-height: 1; border-radius: 0.35em;\">\n",
              "    California\n",
              "    <span style=\"font-size: 0.8em; font-weight: bold; line-height: 1; border-radius: 0.35em; vertical-align: middle; margin-left: 0.5rem\">GPE</span>\n",
              "</mark>\n",
              ". He emailed support@apple.com from \n",
              "<mark class=\"entity\" style=\"background: #feca74; padding: 0.45em 0.6em; margin: 0 0.25em; line-height: 1; border-radius: 0.35em;\">\n",
              "    L.A.\n",
              "    <span style=\"font-size: 0.8em; font-weight: bold; line-height: 1; border-radius: 0.35em; vertical-align: middle; margin-left: 0.5rem\">GPE</span>\n",
              "</mark>\n",
              "</div></span>"
            ]
          },
          "metadata": {}
        }
      ]
    },
    {
      "cell_type": "code",
      "source": [
        "#final summary\n",
        "print(\"Final Summary\")\n",
        "print(f'Total Components :{len(nlp.pipe_names)}')\n",
        "print(f'NER present : {\"ner\" in nlp.pipe_names}')"
      ],
      "metadata": {
        "colab": {
          "base_uri": "https://localhost:8080/"
        },
        "id": "jERrZSyFoir2",
        "outputId": "84af9945-c6cd-4de2-f9d7-0a646e9fde2a"
      },
      "execution_count": null,
      "outputs": [
        {
          "output_type": "stream",
          "name": "stdout",
          "text": [
            "Final Summary\n",
            "Total Components :7\n",
            "NER present : True\n"
          ]
        }
      ]
    },
    {
      "cell_type": "code",
      "source": [
        "# Assignmnet 1"
      ],
      "metadata": {
        "id": "EJCzpuSbqOll"
      },
      "execution_count": null,
      "outputs": []
    },
    {
      "cell_type": "code",
      "source": [
        "url = \"https://en.wikipedia.org/wiki/Centre_for_Development_of_Advanced_Computing\"\n",
        "res = requests.get(url)\n",
        "soup = BeautifulSoup(res.text, 'html.parser')\n",
        "text = soup.get_text()\n",
        "text"
      ],
      "metadata": {
        "colab": {
          "base_uri": "https://localhost:8080/",
          "height": 105
        },
        "id": "p697DA9oqO2B",
        "outputId": "d1e59164-9c91-469b-b2f8-c6253f4d1939"
      },
      "execution_count": null,
      "outputs": [
        {
          "output_type": "execute_result",
          "data": {
            "text/plain": [
              "'\\n\\n\\n\\nCentre for Development of Advanced Computing - Wikipedia\\n\\n\\n\\n\\n\\n\\n\\n\\n\\n\\n\\n\\n\\n\\n\\n\\n\\n\\n\\n\\n\\n\\n\\n\\n\\n\\n\\n\\n\\n\\n\\n\\n\\n\\n\\nJump to content\\n\\n\\n\\n\\n\\n\\n\\nMain menu\\n\\n\\n\\n\\n\\nMain menu\\nmove to sidebar\\nhide\\n\\n\\n\\n\\t\\tNavigation\\n\\t\\n\\n\\nMain pageContentsCurrent eventsRandom articleAbout WikipediaContact us\\n\\n\\n\\n\\n\\n\\t\\tContribute\\n\\t\\n\\n\\nHelpLearn to editCommunity portalRecent changesUpload fileSpecial pages\\n\\n\\n\\n\\n\\n\\n\\n\\n\\n\\n\\n\\n\\n\\n\\n\\n\\n\\n\\nSearch\\n\\n\\n\\n\\n\\n\\n\\n\\n\\n\\n\\nSearch\\n\\n\\n\\n\\n\\n\\n\\n\\n\\n\\n\\n\\n\\n\\n\\n\\n\\n\\n\\n\\n\\n\\nAppearance\\n\\n\\n\\n\\n\\n\\n\\n\\n\\n\\n\\n\\n\\n\\n\\n\\nDonate\\n\\nCreate account\\n\\nLog in\\n\\n\\n\\n\\n\\n\\n\\n\\nPersonal tools\\n\\n\\n\\n\\n\\nDonate Create account Log in\\n\\n\\n\\n\\n\\n\\t\\tPages for logged out editors learn more\\n\\n\\n\\nContributionsTalk\\n\\n\\n\\n\\n\\n\\n\\n\\n\\n\\n\\n\\n\\n\\n\\n\\n\\n\\n\\n\\n\\n\\n\\n\\n\\n\\n\\n\\nContents\\nmove to sidebar\\nhide\\n\\n\\n\\n\\n(Top)\\n\\n\\n\\n\\n\\n1\\nHistory\\n\\n\\n\\n\\n\\n\\n\\n\\n2\\nResearch activities\\n\\n\\n\\n\\n\\n\\n\\n\\n3\\nCentres\\n\\n\\n\\n\\n\\n\\n\\n\\n4\\nEducation and training\\n\\n\\n\\n\\n\\n\\n\\n\\n5\\nCommercialization\\n\\n\\n\\n\\n\\n\\n\\n\\n6\\nProducts and developments\\n\\n\\n\\n\\n\\n\\n\\n\\n7\\nNotable researchers and alumnus\\n\\n\\n\\n\\n\\n\\n\\n\\n8\\nNotable awards and accolades\\n\\n\\n\\n\\n\\n\\n\\n\\n9\\nOther projects\\n\\n\\n\\n\\n\\n\\n\\n\\n10\\nSee also\\n\\n\\n\\n\\n\\n\\n\\n\\n11\\nReferences\\n\\n\\n\\n\\n\\n\\n\\n\\n\\n\\n\\n\\n\\n\\n\\n\\n\\n\\nToggle the table of contents\\n\\n\\n\\n\\n\\n\\n\\nCentre for Development of Advanced Computing\\n\\n\\n\\n6 languages\\n\\n\\n\\n\\nहिन्दीമലയാളംमराठीРусскийதமிழ்Українська\\n\\nEdit links\\n\\n\\n\\n\\n\\n\\n\\n\\n\\n\\n\\nArticleTalk\\n\\n\\n\\n\\n\\nEnglish\\n\\n\\n\\n\\n\\n\\n\\n\\n\\n\\n\\n\\n\\n\\n\\n\\n\\nReadEditView history\\n\\n\\n\\n\\n\\n\\n\\nTools\\n\\n\\n\\n\\n\\nTools\\nmove to sidebar\\nhide\\n\\n\\n\\n\\t\\tActions\\n\\t\\n\\n\\nReadEditView history\\n\\n\\n\\n\\n\\n\\t\\tGeneral\\n\\t\\n\\n\\nWhat links hereRelated changesUpload filePermanent linkPage informationCite this pageGet shortened URLDownload QR code\\n\\n\\n\\n\\n\\n\\t\\tPrint/export\\n\\t\\n\\n\\nDownload as PDFPrintable version\\n\\n\\n\\n\\n\\n\\t\\tIn other projects\\n\\t\\n\\n\\nWikidata item\\n\\n\\n\\n\\n\\n\\n\\n\\n\\n\\n\\n\\n\\n\\n\\n\\n\\n\\n\\n\\n\\nAppearance\\nmove to sidebar\\nhide\\n\\n\\n\\n\\n\\n\\n\\n\\n\\nCoordinates: 18°33′06″N 73°49′26″E\\ufeff / \\ufeff18.551747°N 73.823750°E\\ufeff / 18.551747; 73.823750\\n\\nFrom Wikipedia, the free encyclopedia\\n\\n\\nAutonomous scientific society\\n\\n18°33′06″N 73°49′26″E\\ufeff / \\ufeff18.551747°N 73.823750°E\\ufeff / 18.551747; 73.823750\\n\\nCentre for Development of Advanced ComputingMottoज्ञानादेव तु कैवल्यम्\\xa0(Sanskrit)Only through knowledge one attains liberation (English translated)Established1988; 37\\xa0years ago\\xa0(1988)Field\\xa0of researchHigh Performance Computing, Multi-lingual Computing and Heritage Computing, Professional Electronics, Software Technologies, Cyber Security, Blockchain, Data Science, Health InformaticsDirectorMagesh Ethirajan[1] (Director General)AddressC-DAC Innovation Park, Panchavati, Pashan,Pune - 411 008, Maharashtra, IndiaLocationPune, India (headquarters)NicknameC-DACOperating agencyMinistry of Electronics and Information Technology, Government of IndiaWebsitewww.cdac.in\\nThe Centre for Development of Advanced Computing (C-DAC) is an Indian autonomous scientific society, operating under the Ministry of Electronics and Information Technology.[2]\\n\\n\\nHistory[edit]\\nFurther information: Supercomputing in India and PARAM\\nC-DAC was created in November 1987,[3] initially as the Centre for Development of Advanced Computing Technology (C-DACT).[4][3] In 1988, the US Government refused to sell India a Cray supercomputer due to concerns about India using it to develop nuclear weapons.[5] In response India started development of its own supercomputer, and C-DACT was created as part of this programme.[6][7]\\nDr Vijay Bhatkar was hired as the director of C-DACT.[7] The project was given an initial run of three years and an initial funding of ₹30,00,00,000, the cost of a Cray supercomputer.[7]\\nA prototype computer was benchmarked at the 1990 Zurich Super-computing Show. It demonstrated that India had the second most powerful, publicly demonstrated, supercomputer in the world after the United States.[7][8]\\nThe final result of the effort was the PARAM 8000, released in 1991.[9]\\nThe National Centre for Software Technology (NCST), Electronic Research and Development Centre (ER&DC) and CEDTI were merged into C-DAC in 2003.[10][11]\\n\\nResearch activities[edit]\\nOriginally established to research and assemble High Performance Computers, the research of C-DAC now includes:\\n\\n\\nHigh Performance Computing\\nGrid Computing\\nCloud Computing\\nMultilingual and Heritage Computing\\nVLSI and Processor design\\nEmbedded Systems\\nSpeech and Natural Language Processing\\nInformation and Cyber Security\\nUbiquitous Computing\\nBioinformatics\\nGeomatics\\nDigital forensics\\nBig data analytics\\nBlockchain\\nHealth Informatics\\nQuantum computing\\n\\nCentres[edit]\\nC-DAC branches and training centres include:[12]\\n\\n\\nC-DAC Pune (Headquarters)\\nC-DAC Mumbai\\nC-DAC Bangalore\\nC-DAC Chennai\\nC-DAC Delhi\\nC-DAC Kolkata\\nC-DAC Patna\\nC-DAC Mohali\\nC-DAC Noida\\nC-DAC Hyderabad\\nC-DAC Thiruvananthapuram\\nC-DAC Silchar\\n\\nEducation and training[edit]\\nC-DAC provides several courses in the field of advanced computing and software development. Among these are the HPC certification course- C-DAC Certified HPC Professional Certification Programme (CCHPCP).[13] C-DAC organises advanced computing diploma programmes through the Advanced Computing Training School (ACTS) located all over India.[14] The PG Diploma courses include\\n\\nSpecialisations in Embedded System Design,\\nVLSI,\\nBig Data Analytics,\\nGeoinformatics,\\nArtificial Intelligence\\nC-DAC has also established Centres of Excellence in Information Technology (CEIT) abroad under the Ministry of External Affairs\\' s development partnership projects.[15][16][17][18]\\n\\nCommercialization[edit]\\nThis article appears to contain a large number of buzzwords. There might be a discussion about this on the talk page. Please help improve this article if you can. (April 2025)\\nOn August 28, 2024, C-DAC and L&T Semiconductor Technologies (LTSCT) signed a Memorandum of Understanding (MoU). It will establish a program for the commercialization of cutting-edge technologies created by C-DAC in the areas of power systems, embedded software, open-source operating systems, high performance computing, and semiconductor design and development. LTSCT will leverage C-DAC\\'s extensive pipeline of in-house intellectual property (IPs), which includes the VEGA processor, to create global product prospects through application design and validation for Field Programmable Gate Arrays. By facilitating the creation of cutting-edge goods and solutions for the automotive, industrial, information and communications technology infrastructure, and energy sectors, the collaboration to create indigenous ICs and SoCs based in Vega is expected to pick up speed.[19][20]\\n\\nProducts and developments[edit]\\nPARAM series of supercomputers[21]\\nVEGA Microprocessors, India\\'s first indigenous 64-bit Multi-core Superscalar Out-of-Order RISC-V Processor[22]\\nM-Kavach 2, an android-based mobile device security solution addressing emerging threats.[23]\\nMobile Seva AppStore, a mobile app marketplace[24]\\nBharat Operating System Solutions, a Linux-based general purpose operating system[25]\\nAnvaya, a workflow environment for automated genome analysis.[26]\\nNamescape, the search engine for the Aadhaar unique-ID project.[27]\\nGARUDA, India\\'s National Grid Computing Initiative[28][29]\\nTaxoGrid, a grid-based molecular phylogenetics and drug discovery system[30]\\nGIST, Graphics and Intelligence based Script Technology[31]\\nDARPAN, a real time network monitoring, visualization and Service Level Agreement monitoring tool.[32]\\nOLabs, an internet based platform for conduct of school laboratory experiments and assessment.[33]\\nPunarjjani, a web based integrated assessment tool for mentally challenged children.[34]\\nShrutlekhan-Rajbhasha, a Hindi language speech recognition software application developed by C-DAC in collaboration with IBM[35]\\neSanjeevani, a digital modality of healthcare service delivery.[36]\\ne-Pramaan, a national e-Authentication framework for accessing various government services.[37][38]\\nQSim, India\\'s first Quantum Computer Simulator Toolkit in collaboration with IISc Bengaluru and IIT Roorkee.[39]\\nCerviSCAN, a Cervical Cancer screening device suite[40]\\nThe Artificial Intelligence and Facial Recognition (ASTR) powered solution for Telecom SIM subscriber verification.[41][42]\\nNotable researchers and alumnus[edit]\\nVijay P. Bhatkar, founding director, recipient of Padma Bhushan award[43]\\nRajat Moona, Director IIT Gandhinagar, former director general of C-DAC.[44]\\nRajkumar Buyya, professor at Melbourne University, formerly worked as a Senior Scientist at C-DAC Bangalore[45]\\nSrinivasan Ramani, contributed in bringing the internet to India in 1987 through the academic network ERNET,[46][47] served as an adviser on UN ICT Task Force, and was the first director of HP Labs, India[48]\\nSudhir P. Mudur, former director of C-DAC Mumbai (erstwhile NCST Mumbai), professor at Gina Cody School of Engineering and Computer Science, Concordia University.[49]\\nT M Vijayaraman, head of Persistent Systems\\'s research, formerly worked at C-DAC Mumbai.[50]\\nGeetha Manjunath, founder & CEO of NIRAMAI, former member of PARAM development team at C-DAC Pune.[51]\\nP Sadanandan, former director of NCSDT (now C-DAC Mumbai).[46]\\nNotable awards and accolades[edit]\\nManthan Award 2013 for Mobile Tele-Ophthalmology Units,[52] e-safeT,[53] ONAMA.[54]\\nManthan Award 2012 for Interactive Museum,[55] Megh Sushrut,[56] National e-Governance Service Delivery Gateway.[57]\\nNational Award for the Empowerment of Persons with Disabilities, 2012[58]\\nSkoch Digital Inclusion Award, 2011[59]\\nOther projects[edit]\\ne-mahashabdkosh\\nSee also[edit]\\nSupercomputing in India\\nReferences[edit]\\n\\n\\n^ \"Officials in C-DAC { As on 7.4.2022 }\". cdac.in. Centre for Development of Advanced Computing. Retrieved 12 April 2022.\\n\\n^ \"C-DAC Memorandum of Association\". cdac.in. 19 April 2017. Retrieved 19 April 2017.\\n\\n^ a b Sinha, P. K.; Dixit, S. P.; Mohanram, N.; Purohit, S. C.; Arora, R. K.; Ramakrishnan, S. (2004). \"Current state and future trends in high performance computing and communications (HPCC) research in India\". Proceedings. 10th IEEE International Workshop on Future Trends of Distributed Computing Systems, 2004. FTDCS 2004. pp.\\xa0217–220. doi:10.1109/FTDCS.2004.1316619. ISBN\\xa00-7695-2118-5. S2CID\\xa047348115.\\n\\n^ Delapierre, Michel; Zimmermann, Jean-Benoît (1989). \"La nouvelle politique industrielle\\xa0: le cas de l\\'informatique\". Tiers-Monde. 30 (119): 559–576. doi:10.3406/tiers.1989.3862.\\n\\n^ Nolan, Janne E. (1994). Global engagement: cooperation and security in the 21st century. Brookings Institution Press. p.\\xa0532. ISBN\\xa00815716729. Retrieved 15 September 2011.\\n\\n^ Beary, Habib (1 April 2003). \"India unveils huge supercomputer\". BBC News. India began developing supercomputers in the late 1980s after being refused one by the US.\\n\\n^ a b c d \"God, Man And Machine\". Outlook Business. 1 July 1998. Retrieved 15 September 2011.\\n\\n^ Pal, Sanchari (13 January 2017). \"The Little Known Story of How India\\'s First Indigenous Supercomputer Amazed the World in 1991\". The Better India. Retrieved 21 May 2022.\\n\\n^ Rajaraman, V. (1999). Super Computers (1st\\xa0ed.). Universities Press. p.\\xa075. ISBN\\xa09788173711497. Retrieved 15 September 2011.\\n\\n^ \"Merger of IT R&D bodies: a sign of the times\". Express Computer. 19 May 2003. Archived from the original on 12 August 2013. Retrieved 28 July 2013.\\n\\n^ \"New domain name registration policy soon\". The Economic Times. 26 October 2004. Archived from the original on 28 January 2012. Retrieved 28 July 2013.\\n\\n^ Unless otherwise indicated, sourced from C-DAC: Contact (cdac.in)\\n\\n^ \"C-DAC launches country\\'s first HPC certification in high performance computing\". The Times of India. 8 September 2008. Archived from the original on 27 September 2012. Retrieved 16 September 2008. The certification will be called the \\'C-DAC Certified HPC Professional Certification Programme\\' (CCHPCP) and the exam will be conducted online every quarterly, on the lines of software programming certifications. There won\\'t be any eligibility requirements to appear for the certification, and the paper will contain objective questions.\\n\\n^ \"C-DAC launches technical courses for students | Patna News\". The Times of India. 22 September 2021.\\n\\n^ \"Centre of Excellence in Information Technology (CEIT) | Namibia University of Science and Technology\". www.nust.na. Retrieved 8 May 2020.\\n\\n^ Meusa, Shamar (21 June 2019). \"Centre for Excellence in IT formally launched\". Stabroek News. Retrieved 6 May 2023.\\n\\n^ \"MoU Signed for a New Centre of Excellence in IT\". Fiji Sun. 8 August 2018. Retrieved 6 May 2023.\\n\\n^ Kumar, Nitin (6 June 2023). \"Jaishankar inaugurates IT Centre at Namibia University, meets Gujarat\\'s diamond businesses\". www.indiatvnews.com. India TV.\\n\\n^ \"L&T Semiconductor Technologies Inks MoU with C-DAC\". www.larsentoubro.com. Retrieved 4 September 2024.\\n\\n^ \"L&T Semiconductor, C-DAC sign pact to jointly work on indigenous chip tech\". Business Standard. 28 August 2024. Retrieved 5 September 2024.\\n\\n^ \"PARAM 8000: The Incredible Story of India\\'s First Supercomputer\". India Today. 13 August 2021.\\n\\n^ \"IIT Madras, CDAC jointly develop microprocessors\". ETTelecom.com. The Economic Times. 18 August 2020.\\n\\n^ Bengrut, Dheeraj (30 March 2022). \"C-DAC Pune to launch three new security products\". Hindustan Times.\\n\\n^ \"Govt keen to develop, strengthen own mobile app store: Ravi Shankar Prasad\". Business Standard India. 18 March 2021.\\n\\n^ Anil, Sasi (12 January 2015). \"Government\\'s BOSS move: Now a homegrown system to run computers\". The Indian Express.\\n\\n^ Limaye, Bhakti; Banerjee, Ruma; Datta, Avik; Inamdar, Harshal; Vats, Pankaj; Dahale, Sonal; Bhandari, Alok; Ramakrishnan, E. P.; Tupakula, Rajnikanth; Malviya, Sandeep; Bayaskar, Avinash (2012). \"Anvaya: a workflows environment for automated genome analysis\". Journal of Bioinformatics and Computational Biology. 10 (4): 1250006. doi:10.1142/S0219720012500060. ISSN\\xa01757-6334. PMID\\xa022809419.\\n\\n^ \"Two new software tools from C-DAC\". The Times of India. 2 April 2011. Archived from the original on 2 February 2014. Retrieved 16 September 2008. Namescape is a search engine used on a pilot-basis in the Unique Identification Authority of India (UIDAI) project of the Union government.\\n\\n^ \"Garuda, the nationwide computer grid, takes wing\". Livemint. 18 December 2007. Retrieved 27 June 2014.\\n\\n^ \"GARUDA\". CTWatch. Archived from the original on 3 March 2016. Retrieved 26 June 2014.\\n\\n^ \"C-DAC launches two products\". The Indian Express. 5 April 2011. Namescape and TaxoGrid, the two products designed by the Centre for Development of Advanced Computing,Pune, were launched today at the 24th Foundation Day of the Centre.\\n\\n^ Darshankar, Purushottam (3 October 2018). \"The unique challenge India presents to natural language processing\". Business Today (India).\\n\\n^ \"Darpan\". CDAC. Archived from the original on 27 December 2013. Retrieved 26 December 2013.\\n\\n^ \"Science teachers to be trained in digital learning\". The Hindu. 5 September 2015.\\n\\n^ \"Punarjjani\". CDAC. Retrieved 26 December 2013.\\n\\n^ \"IBM IRL News/Success stories - India\". www.research.ibm.com. Archived from the original on 12 February 2008.\\n\\n^ \"Working from home, Punjab developers launch India\\'s largest online OPD\". The Indian Express. 4 May 2020.\\n\\n^ \"What is e-Pramaan?\". epramaan.gov.in. Retrieved 22 July 2022.\\n\\n^ Chaplot, Akshita (8 July 2022). \"Meri Pehchan: Relief from multi-login credentials on government platforms\". Times Now.\\n\\n^ Kalita, Bishal (28 August 2021). \"IIT Roorkee, IISc Bangalore, C-DAC Develops India\\'s First Quantum Computer Simulator Toolkit\". NDTV.com.\\n\\n^ \"C-DAC signs ToT pact for cervical cancer screening\". The Times of India. 5 March 2023.\\n\\n^ Dabhi, Brendan (27 April 2023). \"Cops use AI to detect 2.25 lakh benami SIM\". Ahmedabad Mirror.\\n\\n^ Munjal, Diksha (27 May 2023). \"Explained | Will facial recognition AI tools help detect telecom fraud?\". The Hindu.\\n\\n^ \"List of Padma Shri award recipients\". Government of India. Archived from the original on 29 April 2012. Retrieved 15 September 2011.\\n\\n^ \"IIT Gandhinagar appoints Prof Rajat Moona as new Director\". The Indian Express. 20 September 2022.\\n\\n^ \"Home Page of Professor Dr. Rajkumar Buyya\". Retrieved 29 December 2013.\\n\\n^ a b \"The story of how the Internet came to India: An insider\\'s account\". News18. 14 August 2015. Retrieved 8 January 2023.\\n\\n^ \"Srinivasan Ramani: Innovating for India\". HP Labs. February 2002. Retrieved 15 September 2011. He played a pioneering role in bringing the first Internet connection to India in the 1980s\\n\\n^ \"HP Labs India: Past Directors\". Archived from the original on 14 October 2011. Retrieved 15 September 2011.\\n\\n^ \"Faculty: Mudur, Sudhir P.\" Concordia University. Archived from the original on 2 April 2012. Retrieved 15 September 2011.\\n\\n^ \"About: Management Team\". Persistent Systems. Archived from the original on 31 January 2013. Retrieved 15 September 2011.\\n\\n^ \"Geetha Manjunath\". Women in Data Science (WiDS) Conference. Stanford University. 24 June 2021.\\n\\n^ \"Mobile Tele-Ophthalmology Units\". Manthan Awards 2013\\n\\n^ \"e-SafeT\".- Manthan Awards 2013\\n\\n^ \"ONAMA\". - Manthan Awards 2013\\n\\n^ \"Interactive Museum\\xa0: e-Culture and Heritage\". Manthan Awards 2012\\n\\n^ \"Megh Sushrut\\xa0: e-Health\".- Manthan Awards 2013\\n\\n^ \"National e-Governance Service Delivery Gateway\\xa0: e-Infrastructure\". - Manthan Awards 2012\\n\\n^ \"List of Awardees of National Award for the Empowerment of Persons with Disability, 2012\" (PDF). Ministry of Social Justice and Empowerment. Government of India. 3 December 2012.\\n\\n^ \"C-DAC bags Skoch Digital Inclusion Award for two projects\". The Indian Express. 13 September 2011.\\n\\n\\nvte Ministry of Electronics and Information Technology (India)AgenciesNIC\\nNetwork\\nData Centers\\nDigiLocker\\nMyGov.in\\nNational Portal of India\\nIN Registry\\n.in\\n.भारत\\nOther\\nStandardisation Testing and Quality Certification Directorate (STQC)\\nController of Certifying Authorities (CCA)\\nCyber Appellate Tribunal (CAT)\\nIndian Computer Emergency Response Team (ICERT)\\nCompanies\\nCSC e-Governance Services India Limited\\nMedia Lab Asia (MLAsia)\\nNational Informatics Centre Services Incorporated (NICSI) — PSE under National Informatics Centre\\nNational Internet Exchange of India (NIXI)\\nSTPI\\nUnique Identification Authority of India (UIDAI)\\nAutonomousSocieties\\nEducation and Research in Computer Networking (ERNET)\\nCentre for Development of Advanced Computing (C-DAC)\\nCentre for Materials for Electronics Technology (C-MET)\\nNational Institute of Electronics and Information Technology (NIELIT) — Formerly DOEACC Society\\nSociety for Applied Microwave Electronics Engineering and Research (SAMEER)\\nSoftware Technology Parks of India (STPI)\\nElectronics and Computer Software Export Promotion Council (ESC)\\nSemi-Conductor Laboratory (SCL)\\nMinisters\\nAshwini Vaishnaw (incumbent)\\nMinisters of State\\nJitin Prasada (incumbent)\\n\\nAuthority control databases InternationalISNIVIAFNationalGermanyUnited StatesIsrael\\n\\n\\n\\n\\nRetrieved from \"https://en.wikipedia.org/w/index.php?title=Centre_for_Development_of_Advanced_Computing&oldid=1285579997\"\\nCategories: Research institutes in PuneInformation technology organisations based in India1988 establishments in MaharashtraResearch institutes established in 1988Hidden categories: Pages using gadget WikiMiniAtlasArticles with short descriptionShort description matches WikidataEngvarB from July 2015Use dmy dates from July 2015Coordinates on WikidataArticles containing Sanskrit-language textWikipedia articles containing buzzwords from April 2025\\n\\n\\n\\n\\n\\n\\n This page was last edited on 14 April 2025, at 14:34\\xa0(UTC).\\nText is available under the Creative Commons Attribution-ShareAlike 4.0 License;\\nadditional terms may apply. By using this site, you agree to the Terms of Use and Privacy Policy. Wikipedia® is a registered trademark of the Wikimedia Foundation, Inc., a non-profit organization.\\n\\n\\nPrivacy policy\\nAbout Wikipedia\\nDisclaimers\\nContact Wikipedia\\nCode of Conduct\\nDevelopers\\nStatistics\\nCookie statement\\nMobile view\\n\\n\\n\\n\\n\\n\\n\\n\\n\\n\\n\\n\\n\\n\\nSearch\\n\\n\\n\\n\\n\\n\\n\\n\\n\\n\\n\\n\\n\\nSearch\\n\\n\\n\\n\\n\\n\\n\\n\\n\\nToggle the table of contents\\n\\n\\n\\n\\n\\n\\n\\nCentre for Development of Advanced Computing\\n\\n\\n\\n\\n\\n\\n\\n\\n\\n\\n\\n\\n\\n\\n\\n\\n\\n\\n\\n\\n\\n\\n\\n\\n\\n\\n\\n\\n6 languages\\n\\n\\nAdd topic\\n\\n\\n\\n\\n\\n\\n\\n\\n\\n\\n\\n\\n\\n\\n\\n\\n'"
            ],
            "application/vnd.google.colaboratory.intrinsic+json": {
              "type": "string"
            }
          },
          "metadata": {},
          "execution_count": 132
        }
      ]
    },
    {
      "cell_type": "code",
      "source": [
        "from nltk.tokenize import sent_tokenize, word_tokenize\n",
        "import nltk\n",
        "nltk.download('punkt')"
      ],
      "metadata": {
        "colab": {
          "base_uri": "https://localhost:8080/"
        },
        "outputId": "f9716d4b-ec64-4a07-9958-90f307b3094f",
        "id": "-tm96_nKqO2D"
      },
      "execution_count": null,
      "outputs": [
        {
          "output_type": "stream",
          "name": "stderr",
          "text": [
            "[nltk_data] Downloading package punkt to /root/nltk_data...\n",
            "[nltk_data]   Package punkt is already up-to-date!\n"
          ]
        },
        {
          "output_type": "execute_result",
          "data": {
            "text/plain": [
              "True"
            ]
          },
          "metadata": {},
          "execution_count": 133
        }
      ]
    },
    {
      "cell_type": "code",
      "source": [
        "nltk_sentences = sent_tokenize(text)\n",
        "print(f'nltk_sentence count: {len(nltk_sentences)}')"
      ],
      "metadata": {
        "colab": {
          "base_uri": "https://localhost:8080/"
        },
        "outputId": "7d2bb551-5730-42f5-8aca-5398db3b9d9f",
        "id": "U_ajSfhGqO2E"
      },
      "execution_count": null,
      "outputs": [
        {
          "output_type": "stream",
          "name": "stdout",
          "text": [
            "nltk_sentence count: 248\n"
          ]
        }
      ]
    },
    {
      "cell_type": "code",
      "source": [
        "# Word tokeniztion\n",
        "nltk_words = word_tokenize(text)\n",
        "print(f'nltk_word count: {len(nltk_words)}')"
      ],
      "metadata": {
        "colab": {
          "base_uri": "https://localhost:8080/"
        },
        "outputId": "2ee5aee8-d52b-48ac-eeb1-e256aff4b321",
        "id": "cGucKr_3qO2F"
      },
      "execution_count": null,
      "outputs": [
        {
          "output_type": "stream",
          "name": "stdout",
          "text": [
            "nltk_word count: 3555\n"
          ]
        }
      ]
    },
    {
      "cell_type": "markdown",
      "source": [
        "using spacy"
      ],
      "metadata": {
        "id": "qVohIoDarjY_"
      }
    },
    {
      "cell_type": "code",
      "source": [
        "import spacy"
      ],
      "metadata": {
        "id": "wsKcH7v_q-NQ"
      },
      "execution_count": null,
      "outputs": []
    },
    {
      "cell_type": "code",
      "source": [
        "nlp = spacy.load('en_core_web_sm')"
      ],
      "metadata": {
        "id": "q7yjBAnkq-NV"
      },
      "execution_count": null,
      "outputs": []
    },
    {
      "cell_type": "code",
      "source": [
        "#add sentencizer as xx_ent_wiki_sm doesn't include parser\n",
        "nlp.add_pipe('sentencizer')   # not built in for some lang in model so pipe"
      ],
      "metadata": {
        "colab": {
          "base_uri": "https://localhost:8080/"
        },
        "outputId": "2fa8ac05-f213-403f-9fbe-784d9efc43a7",
        "id": "U3KVi-klq-NS"
      },
      "execution_count": null,
      "outputs": [
        {
          "output_type": "execute_result",
          "data": {
            "text/plain": [
              "<spacy.pipeline.sentencizer.Sentencizer at 0x7f7b9a330250>"
            ]
          },
          "metadata": {},
          "execution_count": 138
        }
      ]
    },
    {
      "cell_type": "code",
      "source": [
        "doc = nlp(text)\n",
        "\n",
        "#sentence tokeniztion\n",
        "spacy_sentences = [sent.text for sent in doc.sents]\n",
        "print(f'spacy_sentence count: {len(spacy_sentences)}')"
      ],
      "metadata": {
        "colab": {
          "base_uri": "https://localhost:8080/"
        },
        "outputId": "7dceb4c7-ba1e-4c9d-a741-b18f8b1ed435",
        "id": "FHsF2-9Uq-NT"
      },
      "execution_count": null,
      "outputs": [
        {
          "output_type": "stream",
          "name": "stdout",
          "text": [
            "spacy_sentence count: 236\n"
          ]
        }
      ]
    },
    {
      "cell_type": "code",
      "source": [
        "spacy_words = [token.text for token in doc]\n",
        "print(f'spacy_word count: {len(spacy_words)}')"
      ],
      "metadata": {
        "colab": {
          "base_uri": "https://localhost:8080/"
        },
        "outputId": "27f69171-8d1d-4539-ae16-a9df6c72eea9",
        "id": "exbixiwuq-NU"
      },
      "execution_count": null,
      "outputs": [
        {
          "output_type": "stream",
          "name": "stdout",
          "text": [
            "spacy_word count: 3840\n"
          ]
        }
      ]
    },
    {
      "cell_type": "markdown",
      "source": [
        "# ***DAY3***"
      ],
      "metadata": {
        "id": "88id27tbUYOG"
      }
    },
    {
      "cell_type": "markdown",
      "source": [
        "STEMMING"
      ],
      "metadata": {
        "id": "NEc1buTxQlkI"
      }
    },
    {
      "cell_type": "markdown",
      "source": [
        "Port Stemmer"
      ],
      "metadata": {
        "id": "K_2F_cM5O5hs"
      }
    },
    {
      "cell_type": "code",
      "source": [
        "from nltk.stem import PorterStemmer"
      ],
      "metadata": {
        "id": "agsN2MxxO4oG"
      },
      "execution_count": null,
      "outputs": []
    },
    {
      "cell_type": "code",
      "source": [
        "import nltk\n",
        "nltk.download('punkt')"
      ],
      "metadata": {
        "colab": {
          "base_uri": "https://localhost:8080/"
        },
        "id": "WQNIrP8pPBJY",
        "outputId": "fd840a3d-f0b5-4d02-ed61-bfadbfe01845"
      },
      "execution_count": null,
      "outputs": [
        {
          "output_type": "stream",
          "name": "stderr",
          "text": [
            "[nltk_data] Downloading package punkt to /root/nltk_data...\n",
            "[nltk_data]   Unzipping tokenizers/punkt.zip.\n"
          ]
        },
        {
          "output_type": "execute_result",
          "data": {
            "text/plain": [
              "True"
            ]
          },
          "metadata": {},
          "execution_count": 3
        }
      ]
    },
    {
      "cell_type": "code",
      "source": [
        "porter_stemmer = PorterStemmer()"
      ],
      "metadata": {
        "id": "S4ae7-q4PK0J"
      },
      "execution_count": null,
      "outputs": []
    },
    {
      "cell_type": "code",
      "source": [
        "words = ['running', 'ran', 'runner','flies', 'fairly','happiness','agreed','trouble','meeting', 'flies', 'easily']\n",
        "\n",
        "for word in words:\n",
        "  print(f'Original : {word} --------> Stemmed : {porter_stemmer.stem(word)}')"
      ],
      "metadata": {
        "colab": {
          "base_uri": "https://localhost:8080/"
        },
        "id": "mACeJOshPNpP",
        "outputId": "71a4b7d9-3fef-49e7-e5fb-4a65f767d403"
      },
      "execution_count": null,
      "outputs": [
        {
          "output_type": "stream",
          "name": "stdout",
          "text": [
            "Original : running --------> Stemmed : run\n",
            "Original : ran --------> Stemmed : ran\n",
            "Original : runner --------> Stemmed : runner\n",
            "Original : flies --------> Stemmed : fli\n",
            "Original : fairly --------> Stemmed : fairli\n",
            "Original : happiness --------> Stemmed : happi\n",
            "Original : agreed --------> Stemmed : agre\n",
            "Original : trouble --------> Stemmed : troubl\n",
            "Original : meeting --------> Stemmed : meet\n",
            "Original : flies --------> Stemmed : fli\n",
            "Original : easily --------> Stemmed : easili\n"
          ]
        }
      ]
    },
    {
      "cell_type": "code",
      "source": [
        "from nltk.stem.snowball import SnowballStemmer"
      ],
      "metadata": {
        "id": "AoqCsQzuP5NE"
      },
      "execution_count": null,
      "outputs": []
    },
    {
      "cell_type": "code",
      "source": [
        "nltk.download('punkt')"
      ],
      "metadata": {
        "colab": {
          "base_uri": "https://localhost:8080/"
        },
        "id": "pHcouPiMRUQU",
        "outputId": "9729be1b-f8ca-4a3b-a6dc-3bbfb18be3c9"
      },
      "execution_count": null,
      "outputs": [
        {
          "output_type": "stream",
          "name": "stderr",
          "text": [
            "[nltk_data] Downloading package punkt to /root/nltk_data...\n",
            "[nltk_data]   Package punkt is already up-to-date!\n"
          ]
        },
        {
          "output_type": "execute_result",
          "data": {
            "text/plain": [
              "True"
            ]
          },
          "metadata": {},
          "execution_count": 8
        }
      ]
    },
    {
      "cell_type": "code",
      "source": [
        "snowball_stemmer = SnowballStemmer(language = 'english')"
      ],
      "metadata": {
        "id": "vO3wufr1RZyn"
      },
      "execution_count": null,
      "outputs": []
    },
    {
      "cell_type": "code",
      "source": [
        "words = ['running', 'ran', 'runner','flies', 'fairly','happiness','agreed','trouble','meeting', 'flies', 'easily']\n",
        "\n",
        "for word in words:\n",
        "  print(f'Original : {word} --------> Stemmed : {snowball_stemmer.stem(word)}')"
      ],
      "metadata": {
        "colab": {
          "base_uri": "https://localhost:8080/"
        },
        "id": "c7J0hxnvRcvC",
        "outputId": "81fca2ff-7878-4533-f275-d4abc03ebaaf"
      },
      "execution_count": null,
      "outputs": [
        {
          "output_type": "stream",
          "name": "stdout",
          "text": [
            "Original : running --------> Stemmed : run\n",
            "Original : ran --------> Stemmed : ran\n",
            "Original : runner --------> Stemmed : runner\n",
            "Original : flies --------> Stemmed : fli\n",
            "Original : fairly --------> Stemmed : fair\n",
            "Original : happiness --------> Stemmed : happi\n",
            "Original : agreed --------> Stemmed : agre\n",
            "Original : trouble --------> Stemmed : troubl\n",
            "Original : meeting --------> Stemmed : meet\n",
            "Original : flies --------> Stemmed : fli\n",
            "Original : easily --------> Stemmed : easili\n"
          ]
        }
      ]
    },
    {
      "cell_type": "code",
      "source": [
        "print(f\"Porter Stemmer : {porter_stemmer.stem('fairly')}, {porter_stemmer.stem('sportingly')}\")\n",
        "print(f\"Snowball Stemmer : {snowball_stemmer.stem('fairly')}, {snowball_stemmer.stem('sportingly')}\")"
      ],
      "metadata": {
        "colab": {
          "base_uri": "https://localhost:8080/"
        },
        "id": "YWaWD3L_R0sh",
        "outputId": "54fbb402-bd55-4242-ed65-714485fe5000"
      },
      "execution_count": null,
      "outputs": [
        {
          "output_type": "stream",
          "name": "stdout",
          "text": [
            "Porter Stemmer : fairli, sportingli\n",
            "Snowball Stemmer : fair, sport\n"
          ]
        }
      ]
    },
    {
      "cell_type": "code",
      "source": [
        "print(f\"Porter Stemmer : {porter_stemmer.stem('going')}\")\n",
        "print(f\"Snowball Stemmer : {snowball_stemmer.stem('going')}\")"
      ],
      "metadata": {
        "colab": {
          "base_uri": "https://localhost:8080/"
        },
        "id": "SpkpDuAYTEGz",
        "outputId": "8aab388c-ae34-4757-f2a4-1ec2834c5579"
      },
      "execution_count": null,
      "outputs": [
        {
          "output_type": "stream",
          "name": "stdout",
          "text": [
            "Porter Stemmer : go\n",
            "Snowball Stemmer : go\n"
          ]
        }
      ]
    },
    {
      "cell_type": "markdown",
      "source": [
        "Porter Stemmer"
      ],
      "metadata": {
        "id": "aWzDLEOVTwmH"
      }
    },
    {
      "cell_type": "code",
      "source": [
        "word_1 = 'relate'\n",
        "word_2 = 'relativity'\n",
        "\n",
        "stemming = PorterStemmer()\n",
        "\n",
        "stem_word_1 = stemming.stem(word_1)\n",
        "stem_word_2 = stemming.stem(word_2)\n",
        "\n",
        "print(f\"Word 1 : {word_1} --------> Stemmed : {stem_word_1}\")\n",
        "print(f\"Word 2 : {word_2} --------> Stemmed : {stem_word_2}\")"
      ],
      "metadata": {
        "colab": {
          "base_uri": "https://localhost:8080/"
        },
        "id": "YWdBez4JTeL7",
        "outputId": "9fc358f4-4c5a-4c40-9002-9ca1d568df4c"
      },
      "execution_count": null,
      "outputs": [
        {
          "output_type": "stream",
          "name": "stdout",
          "text": [
            "Word 1 : relate --------> Stemmed : relat\n",
            "Word 2 : relativity --------> Stemmed : rel\n"
          ]
        }
      ]
    },
    {
      "cell_type": "code",
      "source": [
        "word_1 = 'probe'\n",
        "word_2 = 'probate'\n",
        "\n",
        "stemming = PorterStemmer()\n",
        "\n",
        "stem_word_1 = stemming.stem(word_1)\n",
        "stem_word_2 = stemming.stem(word_2)\n",
        "\n",
        "print(f\"Word 1 : {word_1} --------> Stemmed : {stem_word_1}\")\n",
        "print(f\"Word 2 : {word_2} --------> Stemmed : {stem_word_2}\")\n"
      ],
      "metadata": {
        "colab": {
          "base_uri": "https://localhost:8080/"
        },
        "id": "omaXbtEHT_HA",
        "outputId": "6eb28410-9a08-4b90-85a3-133bc89e83ad"
      },
      "execution_count": null,
      "outputs": [
        {
          "output_type": "stream",
          "name": "stdout",
          "text": [
            "Word 1 : probe --------> Stemmed : probe\n",
            "Word 2 : probate --------> Stemmed : probat\n"
          ]
        }
      ]
    },
    {
      "cell_type": "markdown",
      "source": [
        "Lemmatization"
      ],
      "metadata": {
        "id": "9ZaIIgX7V-8M"
      }
    },
    {
      "cell_type": "code",
      "source": [
        "import spacy"
      ],
      "metadata": {
        "id": "AKH4KCJ2Vt8J"
      },
      "execution_count": null,
      "outputs": []
    },
    {
      "cell_type": "code",
      "source": [
        "nlp = spacy.load('en_core_web_sm')"
      ],
      "metadata": {
        "id": "2W7ZZIXzYJF_"
      },
      "execution_count": null,
      "outputs": []
    },
    {
      "cell_type": "code",
      "source": [
        "doc = nlp(u'this product integrates both libraries for downloading and applying patches')\n",
        "\n",
        "for token in doc:\n",
        "  print(token.text,'|', token.lemma_)"
      ],
      "metadata": {
        "colab": {
          "base_uri": "https://localhost:8080/"
        },
        "id": "3g2U67KZYKc-",
        "outputId": "7fe687fb-ea8e-4eda-fd09-bff0bf80d28d"
      },
      "execution_count": null,
      "outputs": [
        {
          "output_type": "stream",
          "name": "stdout",
          "text": [
            "this | this\n",
            "product | product\n",
            "integrates | integrate\n",
            "both | both\n",
            "libraries | library\n",
            "for | for\n",
            "downloading | download\n",
            "and | and\n",
            "applying | apply\n",
            "patches | patch\n"
          ]
        }
      ]
    },
    {
      "cell_type": "code",
      "source": [
        "from nltk.stem import WordNetLemmatizer"
      ],
      "metadata": {
        "id": "zNVJyTaLY9jO"
      },
      "execution_count": null,
      "outputs": []
    },
    {
      "cell_type": "code",
      "source": [
        "from nltk.tokenize import word_tokenize"
      ],
      "metadata": {
        "id": "Ejd14CsAZAus"
      },
      "execution_count": null,
      "outputs": []
    },
    {
      "cell_type": "code",
      "source": [
        "nltk.download('punkt')\n",
        "nltk.download('wordnet')\n",
        "nltk.download('punkt_tab')"
      ],
      "metadata": {
        "colab": {
          "base_uri": "https://localhost:8080/"
        },
        "id": "Qm9gZg7dZGDa",
        "outputId": "2022e711-2890-40cf-a2bd-08d109ff293f"
      },
      "execution_count": null,
      "outputs": [
        {
          "output_type": "stream",
          "name": "stderr",
          "text": [
            "[nltk_data] Downloading package punkt to /root/nltk_data...\n",
            "[nltk_data]   Package punkt is already up-to-date!\n",
            "[nltk_data] Downloading package wordnet to /root/nltk_data...\n",
            "[nltk_data]   Package wordnet is already up-to-date!\n",
            "[nltk_data] Downloading package punkt_tab to /root/nltk_data...\n",
            "[nltk_data]   Unzipping tokenizers/punkt_tab.zip.\n"
          ]
        },
        {
          "output_type": "execute_result",
          "data": {
            "text/plain": [
              "True"
            ]
          },
          "metadata": {},
          "execution_count": 28
        }
      ]
    },
    {
      "cell_type": "code",
      "source": [
        "lemmatizer = WordNetLemmatizer()\n"
      ],
      "metadata": {
        "id": "zDl9K1MkZLrW"
      },
      "execution_count": null,
      "outputs": []
    },
    {
      "cell_type": "code",
      "source": [
        "print(lemmatizer.lemmatize('going'))\n",
        "print(lemmatizer.lemmatize('going', pos = 'n'))\n",
        "print(lemmatizer.lemmatize('going', pos = 'v'))"
      ],
      "metadata": {
        "colab": {
          "base_uri": "https://localhost:8080/"
        },
        "id": "wF_EljNZZOBz",
        "outputId": "b97f3142-0737-48f3-cd4d-e00dd07fe9c9"
      },
      "execution_count": null,
      "outputs": [
        {
          "output_type": "stream",
          "name": "stdout",
          "text": [
            "going\n",
            "going\n",
            "go\n"
          ]
        }
      ]
    },
    {
      "cell_type": "code",
      "source": [
        "words = \"\"\" He is playing the music beautifully. She has painted this picture so well.\n",
        " They will be going to Mumbai tomorrow. By when will they have returned?\n",
        " Historically batting is better than bowling first.\"\"\""
      ],
      "metadata": {
        "id": "3iqReNsTZbw9"
      },
      "execution_count": null,
      "outputs": []
    },
    {
      "cell_type": "code",
      "source": [
        "tokenized_words = word_tokenize(words)\n",
        "print(tokenized_words)"
      ],
      "metadata": {
        "colab": {
          "base_uri": "https://localhost:8080/"
        },
        "id": "PTL4LnBTZ5sK",
        "outputId": "ba84e14a-be2e-4ee8-8fda-c3d88e8cf422"
      },
      "execution_count": null,
      "outputs": [
        {
          "output_type": "stream",
          "name": "stdout",
          "text": [
            "['He', 'is', 'playing', 'the', 'music', 'beautifully', '.', 'She', 'has', 'painted', 'this', 'picture', 'so', 'well', '.', 'They', 'will', 'be', 'going', 'to', 'Mumbai', 'tomorrow', '.', 'By', 'when', 'will', 'they', 'have', 'returned', '?', 'Historically', 'batting', 'is', 'better', 'than', 'bowling', 'first', '.']\n"
          ]
        }
      ]
    },
    {
      "cell_type": "code",
      "source": [
        "print(\"********* Default Lemmatizing *********\")\n",
        "for word in tokenized_words:\n",
        "  print(f'{word} --------> {lemmatizer.lemmatize(word)}')"
      ],
      "metadata": {
        "colab": {
          "base_uri": "https://localhost:8080/"
        },
        "id": "mxWyrGQxaUi1",
        "outputId": "ee23a72b-00a6-4d4d-d555-a4f61b969e3b"
      },
      "execution_count": null,
      "outputs": [
        {
          "output_type": "stream",
          "name": "stdout",
          "text": [
            "********* Default Lemmatizing *********\n",
            "He --------> He\n",
            "is --------> is\n",
            "playing --------> playing\n",
            "the --------> the\n",
            "music --------> music\n",
            "beautifully --------> beautifully\n",
            ". --------> .\n",
            "She --------> She\n",
            "has --------> ha\n",
            "painted --------> painted\n",
            "this --------> this\n",
            "picture --------> picture\n",
            "so --------> so\n",
            "well --------> well\n",
            ". --------> .\n",
            "They --------> They\n",
            "will --------> will\n",
            "be --------> be\n",
            "going --------> going\n",
            "to --------> to\n",
            "Mumbai --------> Mumbai\n",
            "tomorrow --------> tomorrow\n",
            ". --------> .\n",
            "By --------> By\n",
            "when --------> when\n",
            "will --------> will\n",
            "they --------> they\n",
            "have --------> have\n",
            "returned --------> returned\n",
            "? --------> ?\n",
            "Historically --------> Historically\n",
            "batting --------> batting\n",
            "is --------> is\n",
            "better --------> better\n",
            "than --------> than\n",
            "bowling --------> bowling\n",
            "first --------> first\n",
            ". --------> .\n"
          ]
        }
      ]
    },
    {
      "cell_type": "code",
      "source": [
        "print(\"********* Lemmatizing with option as verb *********\")\n",
        "for word in tokenized_words:\n",
        "  print(f\"{word} --------> {lemmatizer.lemmatize(word, pos = 'v')}\")"
      ],
      "metadata": {
        "colab": {
          "base_uri": "https://localhost:8080/"
        },
        "id": "CCkviDT1apD2",
        "outputId": "fbaf8420-78ff-4c2b-c4f5-17701d2b078d"
      },
      "execution_count": null,
      "outputs": [
        {
          "output_type": "stream",
          "name": "stdout",
          "text": [
            "********* Lemmatizing with option as verb *********\n",
            "He --------> He\n",
            "is --------> be\n",
            "playing --------> play\n",
            "the --------> the\n",
            "music --------> music\n",
            "beautifully --------> beautifully\n",
            ". --------> .\n",
            "She --------> She\n",
            "has --------> have\n",
            "painted --------> paint\n",
            "this --------> this\n",
            "picture --------> picture\n",
            "so --------> so\n",
            "well --------> well\n",
            ". --------> .\n",
            "They --------> They\n",
            "will --------> will\n",
            "be --------> be\n",
            "going --------> go\n",
            "to --------> to\n",
            "Mumbai --------> Mumbai\n",
            "tomorrow --------> tomorrow\n",
            ". --------> .\n",
            "By --------> By\n",
            "when --------> when\n",
            "will --------> will\n",
            "they --------> they\n",
            "have --------> have\n",
            "returned --------> return\n",
            "? --------> ?\n",
            "Historically --------> Historically\n",
            "batting --------> bat\n",
            "is --------> be\n",
            "better --------> better\n",
            "than --------> than\n",
            "bowling --------> bowl\n",
            "first --------> first\n",
            ". --------> .\n"
          ]
        }
      ]
    },
    {
      "cell_type": "code",
      "source": [
        "sentences = [\"The cat are running in the garden.\",\n",
        "             \"She bettered her skills by practicing regularly.\" ,\n",
        "             \"Mice and rats can be found in the bins.\"]"
      ],
      "metadata": {
        "id": "aUtowhWdbCH2"
      },
      "execution_count": null,
      "outputs": []
    },
    {
      "cell_type": "code",
      "source": [
        "for sentence in sentences:\n",
        "  doc = nlp(sentence)\n",
        "  print(f\"Original sentence : {sentence}\")\n",
        "  for token in doc:\n",
        "    print(f\"Original: {token.text} --------> \\t Lemmatized: {token.lemma_}\")\n"
      ],
      "metadata": {
        "colab": {
          "base_uri": "https://localhost:8080/"
        },
        "id": "3RROeIe6btnq",
        "outputId": "a99bd48a-9462-412f-f9c4-77209abea217"
      },
      "execution_count": null,
      "outputs": [
        {
          "output_type": "stream",
          "name": "stdout",
          "text": [
            "Original sentence : The cat are running in the garden.\n",
            "Original: The --------> \t Lemmatized: the\n",
            "Original: cat --------> \t Lemmatized: cat\n",
            "Original: are --------> \t Lemmatized: be\n",
            "Original: running --------> \t Lemmatized: run\n",
            "Original: in --------> \t Lemmatized: in\n",
            "Original: the --------> \t Lemmatized: the\n",
            "Original: garden --------> \t Lemmatized: garden\n",
            "Original: . --------> \t Lemmatized: .\n",
            "Original sentence : She bettered her skills by practicing regularly.\n",
            "Original: She --------> \t Lemmatized: she\n",
            "Original: bettered --------> \t Lemmatized: better\n",
            "Original: her --------> \t Lemmatized: her\n",
            "Original: skills --------> \t Lemmatized: skill\n",
            "Original: by --------> \t Lemmatized: by\n",
            "Original: practicing --------> \t Lemmatized: practice\n",
            "Original: regularly --------> \t Lemmatized: regularly\n",
            "Original: . --------> \t Lemmatized: .\n",
            "Original sentence : Mice and rats can be found in the bins.\n",
            "Original: Mice --------> \t Lemmatized: mouse\n",
            "Original: and --------> \t Lemmatized: and\n",
            "Original: rats --------> \t Lemmatized: rat\n",
            "Original: can --------> \t Lemmatized: can\n",
            "Original: be --------> \t Lemmatized: be\n",
            "Original: found --------> \t Lemmatized: find\n",
            "Original: in --------> \t Lemmatized: in\n",
            "Original: the --------> \t Lemmatized: the\n",
            "Original: bins --------> \t Lemmatized: bin\n",
            "Original: . --------> \t Lemmatized: .\n"
          ]
        }
      ]
    },
    {
      "cell_type": "code",
      "source": [
        "doc1 = nlp(u'I am a runner running in a race because I love to run since I ran today')"
      ],
      "metadata": {
        "id": "7R8d49cbbtdQ"
      },
      "execution_count": null,
      "outputs": []
    },
    {
      "cell_type": "code",
      "source": [
        "for token in doc1:\n",
        "  print(token.text, '\\t', token.pos_, '\\t', token.lemma, '\\t', token.lemma_)\n",
        "\n",
        "  # lemma is internal hash value of the lemma and lemma_ is the actual lemma"
      ],
      "metadata": {
        "colab": {
          "base_uri": "https://localhost:8080/"
        },
        "id": "KobHcxMKdUkS",
        "outputId": "097bb544-3b9e-4ed6-ef08-8bd35a2714cf"
      },
      "execution_count": null,
      "outputs": [
        {
          "output_type": "stream",
          "name": "stdout",
          "text": [
            "I \t PRON \t 4690420944186131903 \t I\n",
            "am \t AUX \t 10382539506755952630 \t be\n",
            "a \t DET \t 11901859001352538922 \t a\n",
            "runner \t NOUN \t 12640964157389618806 \t runner\n",
            "running \t VERB \t 12767647472892411841 \t run\n",
            "in \t ADP \t 3002984154512732771 \t in\n",
            "a \t DET \t 11901859001352538922 \t a\n",
            "race \t NOUN \t 8048469955494714898 \t race\n",
            "because \t SCONJ \t 16950148841647037698 \t because\n",
            "I \t PRON \t 4690420944186131903 \t I\n",
            "love \t VERB \t 3702023516439754181 \t love\n",
            "to \t PART \t 3791531372978436496 \t to\n",
            "run \t VERB \t 12767647472892411841 \t run\n",
            "since \t SCONJ \t 10066841407251338481 \t since\n",
            "I \t PRON \t 4690420944186131903 \t I\n",
            "ran \t VERB \t 12767647472892411841 \t run\n",
            "today \t NOUN \t 11042482332948150395 \t today\n"
          ]
        }
      ]
    },
    {
      "cell_type": "markdown",
      "source": [
        "SPAN"
      ],
      "metadata": {
        "id": "UduiNTOIgtTI"
      }
    },
    {
      "cell_type": "code",
      "source": [
        " from spacy.tokens import Span"
      ],
      "metadata": {
        "id": "och0P7QvdmqZ"
      },
      "execution_count": null,
      "outputs": []
    },
    {
      "cell_type": "code",
      "source": [
        "nlp = spacy.load(\"en_core_web_sm\")"
      ],
      "metadata": {
        "id": "d5MnHfDbezW-"
      },
      "execution_count": null,
      "outputs": []
    },
    {
      "cell_type": "code",
      "source": [
        "doc = nlp(\"SpaCy is a great tool for Natural Language Processing.\")"
      ],
      "metadata": {
        "id": "Yg2DNs59e6Pq"
      },
      "execution_count": null,
      "outputs": []
    },
    {
      "cell_type": "code",
      "source": [
        "span = Span(doc, start = 2, end = 6)"
      ],
      "metadata": {
        "id": "XS87ucCMe2t7"
      },
      "execution_count": null,
      "outputs": []
    },
    {
      "cell_type": "code",
      "source": [
        "# access info about span\n",
        "print(span.text)\n",
        "print(span.start)\n",
        "print(span.end)\n",
        "print(type(span))\n",
        "\n",
        "print(type(doc))"
      ],
      "metadata": {
        "colab": {
          "base_uri": "https://localhost:8080/"
        },
        "id": "QaQnrlyofMl0",
        "outputId": "a870aaec-807c-4e3a-cc3a-d6820f81f38b"
      },
      "execution_count": null,
      "outputs": [
        {
          "output_type": "stream",
          "name": "stdout",
          "text": [
            "a great tool for\n",
            "2\n",
            "6\n",
            "<class 'spacy.tokens.span.Span'>\n",
            "<class 'spacy.tokens.doc.Doc'>\n"
          ]
        }
      ]
    },
    {
      "cell_type": "code",
      "source": [
        "# access linguistic features\n",
        "for token in span:\n",
        "  print(token.text, token.pos_, token.dep_)\n",
        "  #adposition ...... for (preposition/ postposition) ---- introduces the purpose (learning here)"
      ],
      "metadata": {
        "colab": {
          "base_uri": "https://localhost:8080/"
        },
        "id": "e1W_80GifmjW",
        "outputId": "a4525afc-e216-4990-c78f-5631a6f6a112"
      },
      "execution_count": null,
      "outputs": [
        {
          "output_type": "stream",
          "name": "stdout",
          "text": [
            "a DET det\n",
            "great ADJ amod\n",
            "tool NOUN attr\n",
            "for ADP prep\n"
          ]
        }
      ]
    },
    {
      "cell_type": "code",
      "source": [
        " from nltk.tokenize import TweetTokenizer, word_tokenize"
      ],
      "metadata": {
        "id": "s7bSxXHpfp5P"
      },
      "execution_count": null,
      "outputs": []
    },
    {
      "cell_type": "code",
      "source": [
        "import pandas as pd"
      ],
      "metadata": {
        "id": "mkIp_7kviMue"
      },
      "execution_count": null,
      "outputs": []
    },
    {
      "cell_type": "code",
      "source": [
        "tweets_df = pd.read_csv('tweets.csv')"
      ],
      "metadata": {
        "id": "ck7RrLsGiEbT"
      },
      "execution_count": null,
      "outputs": []
    },
    {
      "cell_type": "code",
      "source": [
        "tweet_tokenizer = TweetTokenizer()\n",
        "\n",
        "first_10_tweets = tweets_df['Tweet Content'].dropna().astype(str).head(10)\n",
        "\n",
        "tweet_tokenized_tweets = [tweet_tokenizer.tokenize(tweet) for tweet in first_10_tweets]\n",
        "\n",
        "default_tokenized_tweets = [word_tokenize(tweet) for tweet in first_10_tweets]\n",
        "\n",
        "print(\"Using TweetTokenizer:\")\n",
        "for i, tokens in enumerate(tweet_tokenized_tweets, start = 1):\n",
        "    print(f\"Tweet {i}: Tokens : {tokens}\")\n",
        "\n",
        "print(\"\\nUsing default word_tokenize:\")\n",
        "for i, tokens in enumerate(default_tokenized_tweets, start = 1):\n",
        "    print(f\"Tweet {i}: Tokens : {tokens}\")"
      ],
      "metadata": {
        "colab": {
          "base_uri": "https://localhost:8080/"
        },
        "id": "A6QZomAOiOiD",
        "outputId": "10de3a91-dca5-40e7-9c19-c95981c7e988"
      },
      "execution_count": null,
      "outputs": [
        {
          "output_type": "stream",
          "name": "stdout",
          "text": [
            "Using TweetTokenizer:\n",
            "Tweet 1: Tokens : ['Pets', 'change', 'our', 'lives', '&', 'become', 'a', 'part', 'of', 'our', 'families', '❤', '️', \"That's\", 'why', 'our', 'members', 'offer', 'many', 'solutions', 'to', 'help', 'you', 'to', 'enjoy', 'a', 'long-lasting', 'bond', 'with', 'your', 'happy', '&', 'healthy', 'pet', '🐱', '🐶', '#MorethanMedicine', '#PetCare', '#PetsareFamily', 'https://t.co/fZNIXge9a3']\n",
            "Tweet 2: Tokens : ['Another', 'spot', 'of', 'our', '#morethanmedicine', 'bus', 'in', '#bristol', 'this', 'week', '!', 'If', 'you', 'need', 'support', 'with', 'your', 'cancer', 'diagnosis', 'call', 'us', 'on', '0303 3000', '118', '.', '#livingwellwithcancer', 'https://t.co/eZGLz0BkXB']\n",
            "Tweet 3: Tokens : ['What', 'a', 'great', 'team', '\\u2066', '@HealthSourceOH', '\\u2069', '\\u2066', '@Local12', '\\u2069', '#morethanmedicine', 'https://t.co/g2YzMDUpVA']\n",
            "Tweet 4: Tokens : ['What', 'a', 'great', 'team', '\\u2066', '@HealthSourceOH', '\\u2069', '\\u2066', '@Local12', '\\u2069', '#morethanmedicine', 'https://t.co/g2YzMDUpVA']\n",
            "Tweet 5: Tokens : ['What', 'a', 'great', 'team', '\\u2066', '@HealthSourceOH', '\\u2069', '\\u2066', '@Local12', '\\u2069', '#morethanmedicine', 'https://t.co/g2YzMDUpVA']\n",
            "Tweet 6: Tokens : ['What', 'a', 'great', 'team', '\\u2066', '@HealthSourceOH', '\\u2069', '\\u2066', '@Local12', '\\u2069', '#morethanmedicine', 'https://t.co/g2YzMDUpVA']\n",
            "Tweet 7: Tokens : ['Will', 'you', 'be', 'at', '#FIX19', '?', 'Want', 'a', 'preview', 'of', '@AG_EM33', 'story', '?', 'Then', 'check', 'back', 'Monday', 'for', '#ChangeOfHeart', 'where', 'we', 'sat', 'down', 'with', 'Alin', 'to', 'discuss', 'her', 'new', 'life', 'since', 'her', 'heart', '#transplant', '#MoreThanMedicine', 'https://t.co/Xl9zjr7kZ1']\n",
            "Tweet 8: Tokens : ['Will', 'you', 'be', 'at', '#FIX19', '?', 'Want', 'a', 'preview', 'of', '@AG_EM33', 'story', '?', 'Then', 'check', 'back', 'Monday', 'for', '#ChangeOfHeart', 'where', 'we', 'sat', 'down', 'with', 'Alin', 'to', 'discuss', 'her', 'new', 'life', 'since', 'her', 'heart', '#transplant', '#MoreThanMedicine', 'https://t.co/Xl9zjr7kZ1']\n",
            "Tweet 9: Tokens : ['Will', 'you', 'be', 'at', '#FIX19', '?', 'Want', 'a', 'preview', 'of', '@AG_EM33', 'story', '?', 'Then', 'check', 'back', 'Monday', 'for', '#ChangeOfHeart', 'where', 'we', 'sat', 'down', 'with', 'Alin', 'to', 'discuss', 'her', 'new', 'life', 'since', 'her', 'heart', '#transplant', '#MoreThanMedicine', 'https://t.co/Xl9zjr7kZ1']\n",
            "Tweet 10: Tokens : ['Will', 'you', 'be', 'at', '#FIX19', '?', 'Want', 'a', 'preview', 'of', '@AG_EM33', 'story', '?', 'Then', 'check', 'back', 'Monday', 'for', '#ChangeOfHeart', 'where', 'we', 'sat', 'down', 'with', 'Alin', 'to', 'discuss', 'her', 'new', 'life', 'since', 'her', 'heart', '#transplant', '#MoreThanMedicine', 'https://t.co/Xl9zjr7kZ1']\n",
            "\n",
            "Using default word_tokenize:\n",
            "Tweet 1: Tokens : ['Pets', 'change', 'our', 'lives', '&', 'amp', ';', 'become', 'a', 'part', 'of', 'our', 'families', '❤️', 'That', \"'s\", 'why', 'our', 'members', 'offer', 'many', 'solutions', 'to', 'help', 'you', 'to', 'enjoy', 'a', 'long-lasting', 'bond', 'with', 'your', 'happy', '&', 'amp', ';', 'healthy', 'pet', '🐱🐶', '#', 'MorethanMedicine', '#', 'PetCare', '#', 'PetsareFamily', 'https', ':', '//t.co/fZNIXge9a3']\n",
            "Tweet 2: Tokens : ['Another', 'spot', 'of', 'our', '#', 'morethanmedicine', 'bus', 'in', '#', 'bristol', 'this', 'week', '!', 'If', 'you', 'need', 'support', 'with', 'your', 'cancer', 'diagnosis', 'call', 'us', 'on', '0303', '3000', '118', '.', '#', 'livingwellwithcancer', 'https', ':', '//t.co/eZGLz0BkXB']\n",
            "Tweet 3: Tokens : ['What', 'a', 'great', 'team', '\\u2066', '@', 'HealthSourceOH\\u2069', '\\u2066', '@', 'Local12\\u2069', '#', 'morethanmedicine', 'https', ':', '//t.co/g2YzMDUpVA']\n",
            "Tweet 4: Tokens : ['What', 'a', 'great', 'team', '\\u2066', '@', 'HealthSourceOH\\u2069', '\\u2066', '@', 'Local12\\u2069', '#', 'morethanmedicine', 'https', ':', '//t.co/g2YzMDUpVA']\n",
            "Tweet 5: Tokens : ['What', 'a', 'great', 'team', '\\u2066', '@', 'HealthSourceOH\\u2069', '\\u2066', '@', 'Local12\\u2069', '#', 'morethanmedicine', 'https', ':', '//t.co/g2YzMDUpVA']\n",
            "Tweet 6: Tokens : ['What', 'a', 'great', 'team', '\\u2066', '@', 'HealthSourceOH\\u2069', '\\u2066', '@', 'Local12\\u2069', '#', 'morethanmedicine', 'https', ':', '//t.co/g2YzMDUpVA']\n",
            "Tweet 7: Tokens : ['Will', 'you', 'be', 'at', '#', 'FIX19', '?', 'Want', 'a', 'preview', 'of', '@', 'AG_EM33', 'story', '?', 'Then', 'check', 'back', 'Monday', 'for', '#', 'ChangeOfHeart', 'where', 'we', 'sat', 'down', 'with', 'Alin', 'to', 'discuss', 'her', 'new', 'life', 'since', 'her', 'heart', '#', 'transplant', '#', 'MoreThanMedicine', 'https', ':', '//t.co/Xl9zjr7kZ1']\n",
            "Tweet 8: Tokens : ['Will', 'you', 'be', 'at', '#', 'FIX19', '?', 'Want', 'a', 'preview', 'of', '@', 'AG_EM33', 'story', '?', 'Then', 'check', 'back', 'Monday', 'for', '#', 'ChangeOfHeart', 'where', 'we', 'sat', 'down', 'with', 'Alin', 'to', 'discuss', 'her', 'new', 'life', 'since', 'her', 'heart', '#', 'transplant', '#', 'MoreThanMedicine', 'https', ':', '//t.co/Xl9zjr7kZ1']\n",
            "Tweet 9: Tokens : ['Will', 'you', 'be', 'at', '#', 'FIX19', '?', 'Want', 'a', 'preview', 'of', '@', 'AG_EM33', 'story', '?', 'Then', 'check', 'back', 'Monday', 'for', '#', 'ChangeOfHeart', 'where', 'we', 'sat', 'down', 'with', 'Alin', 'to', 'discuss', 'her', 'new', 'life', 'since', 'her', 'heart', '#', 'transplant', '#', 'MoreThanMedicine', 'https', ':', '//t.co/Xl9zjr7kZ1']\n",
            "Tweet 10: Tokens : ['Will', 'you', 'be', 'at', '#', 'FIX19', '?', 'Want', 'a', 'preview', 'of', '@', 'AG_EM33', 'story', '?', 'Then', 'check', 'back', 'Monday', 'for', '#', 'ChangeOfHeart', 'where', 'we', 'sat', 'down', 'with', 'Alin', 'to', 'discuss', 'her', 'new', 'life', 'since', 'her', 'heart', '#', 'transplant', '#', 'MoreThanMedicine', 'https', ':', '//t.co/Xl9zjr7kZ1']\n"
          ]
        }
      ]
    },
    {
      "cell_type": "markdown",
      "source": [
        "Text Cleaning/ Preprocessing"
      ],
      "metadata": {
        "id": "1bsRHdj2w4Mw"
      }
    },
    {
      "cell_type": "code",
      "source": [
        "import string"
      ],
      "metadata": {
        "id": "en1Ay7USj4N3"
      },
      "execution_count": null,
      "outputs": []
    },
    {
      "cell_type": "code",
      "source": [
        "print(\"Punctuation Character:\", string.punctuation)"
      ],
      "metadata": {
        "colab": {
          "base_uri": "https://localhost:8080/"
        },
        "id": "kYEF6yACt2R0",
        "outputId": "4272df89-e756-4837-98f1-39f662e6bf93"
      },
      "execution_count": null,
      "outputs": [
        {
          "output_type": "stream",
          "name": "stdout",
          "text": [
            "Punctuation Character: !\"#$%&'()*+,-./:;<=>?@[\\]^_`{|}~\n"
          ]
        }
      ]
    },
    {
      "cell_type": "code",
      "source": [
        "eu_definition = \"\"\" The European Union (EU) is a supernational political and economic union of 27 members states that are located primarily in Europe. The Union has a total area of 4,233,255 kms (1,634,469 sq mi) and an estimated total population of over 449 million\"\"\"\n",
        "\n",
        "eu_definition = eu_definition.replace('\\n' ,' ')"
      ],
      "metadata": {
        "id": "txBfDiQXuJtP"
      },
      "execution_count": null,
      "outputs": []
    },
    {
      "cell_type": "code",
      "source": [
        "print(\"punctuation list:\")\n",
        "for punct in string.punctuation:\n",
        "  print(punct)"
      ],
      "metadata": {
        "colab": {
          "base_uri": "https://localhost:8080/"
        },
        "id": "qd7nW9imvAZh",
        "outputId": "3b07536c-7e9b-42ef-954a-24464121579d"
      },
      "execution_count": null,
      "outputs": [
        {
          "output_type": "stream",
          "name": "stdout",
          "text": [
            "punctuation list:\n",
            "!\n",
            "\"\n",
            "#\n",
            "$\n",
            "%\n",
            "&\n",
            "'\n",
            "(\n",
            ")\n",
            "*\n",
            "+\n",
            ",\n",
            "-\n",
            ".\n",
            "/\n",
            ":\n",
            ";\n",
            "<\n",
            "=\n",
            ">\n",
            "?\n",
            "@\n",
            "[\n",
            "\\\n",
            "]\n",
            "^\n",
            "_\n",
            "`\n",
            "{\n",
            "|\n",
            "}\n",
            "~\n"
          ]
        }
      ]
    },
    {
      "cell_type": "code",
      "source": [
        "# apply to our text\n",
        "for punct in string.punctuation:\n",
        "  eu_definition = eu_definition.replace(punct, '')\n"
      ],
      "metadata": {
        "id": "I8SPiJTZvQhh"
      },
      "execution_count": null,
      "outputs": []
    },
    {
      "cell_type": "code",
      "source": [
        "print(\"Text without punctuation\")\n",
        "print(eu_definition)"
      ],
      "metadata": {
        "colab": {
          "base_uri": "https://localhost:8080/"
        },
        "id": "UoAqFub2vehb",
        "outputId": "b5cd463b-2b06-4476-bcf3-799cf6fb6296"
      },
      "execution_count": null,
      "outputs": [
        {
          "output_type": "stream",
          "name": "stdout",
          "text": [
            "Text without punctuation\n",
            " The European Union EU is a supernational political and economic union of 27 members states that are located primarily in Europe The Union has a total area of 4233255 kms 1634469 sq mi and an estimated total population of over 449 million\n"
          ]
        }
      ]
    },
    {
      "cell_type": "code",
      "source": [
        "eu_definition = eu_definition.lower()\n",
        "print(\"Lower cased text:\")\n",
        "print(eu_definition)"
      ],
      "metadata": {
        "colab": {
          "base_uri": "https://localhost:8080/"
        },
        "id": "9wesSgzJv_Yo",
        "outputId": "ebe890f6-ee59-49e2-ebf1-812f0c39e678"
      },
      "execution_count": null,
      "outputs": [
        {
          "output_type": "stream",
          "name": "stdout",
          "text": [
            "Lower cased text:\n",
            " the european union eu is a supernational political and economic union of 27 members states that are located primarily in europe the union has a total area of 4233255 kms 1634469 sq mi and an estimated total population of over 449 million\n"
          ]
        }
      ]
    },
    {
      "cell_type": "code",
      "source": [
        "# now tokenize\n",
        "tokenized_eu_definition = nltk.tokenize.word_tokenize(eu_definition)\n",
        "print(\"Tokenized text:\")\n",
        "print(tokenized_eu_definition)"
      ],
      "metadata": {
        "colab": {
          "base_uri": "https://localhost:8080/"
        },
        "id": "ixepYJSrwsj2",
        "outputId": "fc513de1-fd41-4451-dece-73fbbd743764"
      },
      "execution_count": null,
      "outputs": [
        {
          "output_type": "stream",
          "name": "stdout",
          "text": [
            "Tokenized text:\n",
            "['the', 'european', 'union', 'eu', 'is', 'a', 'supernational', 'political', 'and', 'economic', 'union', 'of', '27', 'members', 'states', 'that', 'are', 'located', 'primarily', 'in', 'europe', 'the', 'union', 'has', 'a', 'total', 'area', 'of', '4233255', 'kms', '1634469', 'sq', 'mi', 'and', 'an', 'estimated', 'total', 'population', 'of', 'over', '449', 'million']\n"
          ]
        }
      ]
    },
    {
      "cell_type": "code",
      "source": [
        "print(\"First 10 tokens\")\n",
        "print(tokenized_eu_definition[:10])"
      ],
      "metadata": {
        "colab": {
          "base_uri": "https://localhost:8080/"
        },
        "id": "TPaH-wFOxywd",
        "outputId": "65dd55a8-e901-4094-9546-aef374fce2e9"
      },
      "execution_count": null,
      "outputs": [
        {
          "output_type": "stream",
          "name": "stdout",
          "text": [
            "First 10 tokens\n",
            "['the', 'european', 'union', 'eu', 'is', 'a', 'supernational', 'political', 'and', 'economic']\n"
          ]
        }
      ]
    },
    {
      "cell_type": "code",
      "source": [
        "from pprint import pprint"
      ],
      "metadata": {
        "id": "uh2jIdn3x0QV"
      },
      "execution_count": null,
      "outputs": []
    },
    {
      "cell_type": "code",
      "source": [
        "print(\"top 20 most common tokens\")\n",
        "fdist = nltk.FreqDist(tokenized_eu_definition)\n",
        "top_tokens = fdist.most_common(20)\n",
        "pprint(top_tokens)\n",
        "\n",
        "# print(len(fdist))"
      ],
      "metadata": {
        "colab": {
          "base_uri": "https://localhost:8080/"
        },
        "id": "LyyV7dTNx5MZ",
        "outputId": "ba446b4c-6872-48f0-8d37-dcd5d77a2e9e"
      },
      "execution_count": null,
      "outputs": [
        {
          "output_type": "stream",
          "name": "stdout",
          "text": [
            "top 20 most common tokens\n",
            "[('union', 3),\n",
            " ('of', 3),\n",
            " ('the', 2),\n",
            " ('a', 2),\n",
            " ('and', 2),\n",
            " ('total', 2),\n",
            " ('european', 1),\n",
            " ('eu', 1),\n",
            " ('is', 1),\n",
            " ('supernational', 1),\n",
            " ('political', 1),\n",
            " ('economic', 1),\n",
            " ('27', 1),\n",
            " ('members', 1),\n",
            " ('states', 1),\n",
            " ('that', 1),\n",
            " ('are', 1),\n",
            " ('located', 1),\n",
            " ('primarily', 1),\n",
            " ('in', 1)]\n",
            "34\n"
          ]
        }
      ]
    },
    {
      "cell_type": "code",
      "source": [
        "!python -m spacy download fr_core_news_sm"
      ],
      "metadata": {
        "colab": {
          "base_uri": "https://localhost:8080/"
        },
        "id": "ogDGXYho0KgW",
        "outputId": "840921b4-0a20-4133-aa28-2631ad802801"
      },
      "execution_count": null,
      "outputs": [
        {
          "output_type": "stream",
          "name": "stdout",
          "text": [
            "Collecting fr-core-news-sm==3.8.0\n",
            "  Downloading https://github.com/explosion/spacy-models/releases/download/fr_core_news_sm-3.8.0/fr_core_news_sm-3.8.0-py3-none-any.whl (16.3 MB)\n",
            "\u001b[2K     \u001b[90m━━━━━━━━━━━━━━━━━━━━━━━━━━━━━━━━━━━━━━━━\u001b[0m \u001b[32m16.3/16.3 MB\u001b[0m \u001b[31m53.9 MB/s\u001b[0m eta \u001b[36m0:00:00\u001b[0m\n",
            "\u001b[?25hInstalling collected packages: fr-core-news-sm\n",
            "Successfully installed fr-core-news-sm-3.8.0\n",
            "\u001b[38;5;2m✔ Download and installation successful\u001b[0m\n",
            "You can now load the package via spacy.load('fr_core_news_sm')\n",
            "\u001b[38;5;3m⚠ Restart to reload dependencies\u001b[0m\n",
            "If you are in a Jupyter or Colab notebook, you may need to restart Python in\n",
            "order to load all the package's dependencies. You can do this by selecting the\n",
            "'Restart kernel' or 'Restart runtime' option.\n"
          ]
        }
      ]
    },
    {
      "cell_type": "code",
      "source": [
        "# remove stop words\n",
        "nltk.download('stopwords')\n",
        "from nltk.corpus import stopwords\n",
        "# for other lang:\n",
        "\n",
        "# nlp_french = spacy.load(\"fr_core_news_sm\")\n",
        "# stop_words = nlp_french_Defaults.stop_words"
      ],
      "metadata": {
        "colab": {
          "base_uri": "https://localhost:8080/"
        },
        "id": "h1SGoj_3yxP8",
        "outputId": "bcba9b99-1a27-4393-8f51-5c3706e8a3af"
      },
      "execution_count": null,
      "outputs": [
        {
          "output_type": "stream",
          "name": "stderr",
          "text": [
            "[nltk_data] Downloading package stopwords to /root/nltk_data...\n",
            "[nltk_data]   Package stopwords is already up-to-date!\n"
          ]
        }
      ]
    },
    {
      "cell_type": "code",
      "source": [
        "paragraph = \"\"\" The Project Gutenberg eBook of The Great Gatsby\n",
        "\n",
        "This ebook is for the use of anyone anywhere in the United States and\n",
        "most other parts of the world at no cost and with almost no restrictions\n",
        "whatsoever. You may copy it, give it away or re-use it under the terms\n",
        "of the Project Gutenberg License included with this ebook or online\n",
        "at www.gutenberg.org. If you are not located in the United States,\n",
        "you will have to check the laws of the country where you are located\n",
        "before using this eBook.\n",
        "\n",
        "Title: The Great Gatsby\n",
        "\n",
        "Author: F. Scott Fitzgerald\n",
        "\n",
        "Release date: January 17, 2021 [eBook #64317]\n",
        "                Most recently updated: January 26, 2025\n",
        "\n",
        "Language: English\n",
        "\n",
        "Credits: Produced by Alex Cabal for the Standard Ebooks project, based on a transcription produced for Project Gutenberg Australia. \"\"\""
      ],
      "metadata": {
        "id": "6jSxLQWW0vnZ"
      },
      "execution_count": null,
      "outputs": []
    },
    {
      "cell_type": "code",
      "source": [
        "stemmer = PorterStemmer()\n",
        "sentences = nltk.sent_tokenize(paragraph)\n",
        "stop_words = set(stopwords.words('english'))\n",
        "print(sentences)\n",
        "\n",
        "for i in range(len(sentences)):\n",
        "    words = nltk.word_tokenize(sentences[i])\n",
        "    filtered_words = [word for word in words if word.lower() not in stop_words]\n",
        "    stemmed_words = [stemmer.stem(word) for word in filtered_words]\n",
        "    print(f\"Original Sentence: {sentences[i]}\")\n",
        "    print(f\"Filtered words:{filtered_words}\")\n",
        "    print(f\"Stemmed words: {stemmed_words}\")\n",
        "\n"
      ],
      "metadata": {
        "colab": {
          "base_uri": "https://localhost:8080/"
        },
        "id": "pqcN39Gd1GdE",
        "outputId": "551cc319-539e-4330-b756-b643a51cafa6"
      },
      "execution_count": null,
      "outputs": [
        {
          "output_type": "stream",
          "name": "stdout",
          "text": [
            "[' The Project Gutenberg eBook of The Great Gatsby\\n    \\nThis ebook is for the use of anyone anywhere in the United States and\\nmost other parts of the world at no cost and with almost no restrictions\\nwhatsoever.', 'You may copy it, give it away or re-use it under the terms\\nof the Project Gutenberg License included with this ebook or online\\nat www.gutenberg.org.', 'If you are not located in the United States,\\nyou will have to check the laws of the country where you are located\\nbefore using this eBook.', 'Title: The Great Gatsby\\n\\nAuthor: F. Scott Fitzgerald\\n\\nRelease date: January 17, 2021 [eBook #64317]\\n                Most recently updated: January 26, 2025\\n\\nLanguage: English\\n\\nCredits: Produced by Alex Cabal for the Standard Ebooks project, based on a transcription produced for Project Gutenberg Australia.']\n",
            "Original Sentence:  The Project Gutenberg eBook of The Great Gatsby\n",
            "    \n",
            "This ebook is for the use of anyone anywhere in the United States and\n",
            "most other parts of the world at no cost and with almost no restrictions\n",
            "whatsoever.\n",
            "Filtered words:['Project', 'Gutenberg', 'eBook', 'Great', 'Gatsby', 'ebook', 'use', 'anyone', 'anywhere', 'United', 'States', 'parts', 'world', 'cost', 'almost', 'restrictions', 'whatsoever', '.']\n",
            "Stemmed words: ['project', 'gutenberg', 'ebook', 'great', 'gatsbi', 'ebook', 'use', 'anyon', 'anywher', 'unit', 'state', 'part', 'world', 'cost', 'almost', 'restrict', 'whatsoev', '.']\n",
            "Original Sentence: You may copy it, give it away or re-use it under the terms\n",
            "of the Project Gutenberg License included with this ebook or online\n",
            "at www.gutenberg.org.\n",
            "Filtered words:['may', 'copy', ',', 'give', 'away', 're-use', 'terms', 'Project', 'Gutenberg', 'License', 'included', 'ebook', 'online', 'www.gutenberg.org', '.']\n",
            "Stemmed words: ['may', 'copi', ',', 'give', 'away', 're-us', 'term', 'project', 'gutenberg', 'licens', 'includ', 'ebook', 'onlin', 'www.gutenberg.org', '.']\n",
            "Original Sentence: If you are not located in the United States,\n",
            "you will have to check the laws of the country where you are located\n",
            "before using this eBook.\n",
            "Filtered words:['located', 'United', 'States', ',', 'check', 'laws', 'country', 'located', 'using', 'eBook', '.']\n",
            "Stemmed words: ['locat', 'unit', 'state', ',', 'check', 'law', 'countri', 'locat', 'use', 'ebook', '.']\n",
            "Original Sentence: Title: The Great Gatsby\n",
            "\n",
            "Author: F. Scott Fitzgerald\n",
            "\n",
            "Release date: January 17, 2021 [eBook #64317]\n",
            "                Most recently updated: January 26, 2025\n",
            "\n",
            "Language: English\n",
            "\n",
            "Credits: Produced by Alex Cabal for the Standard Ebooks project, based on a transcription produced for Project Gutenberg Australia.\n",
            "Filtered words:['Title', ':', 'Great', 'Gatsby', 'Author', ':', 'F.', 'Scott', 'Fitzgerald', 'Release', 'date', ':', 'January', '17', ',', '2021', '[', 'eBook', '#', '64317', ']', 'recently', 'updated', ':', 'January', '26', ',', '2025', 'Language', ':', 'English', 'Credits', ':', 'Produced', 'Alex', 'Cabal', 'Standard', 'Ebooks', 'project', ',', 'based', 'transcription', 'produced', 'Project', 'Gutenberg', 'Australia', '.']\n",
            "Stemmed words: ['titl', ':', 'great', 'gatsbi', 'author', ':', 'f.', 'scott', 'fitzgerald', 'releas', 'date', ':', 'januari', '17', ',', '2021', '[', 'ebook', '#', '64317', ']', 'recent', 'updat', ':', 'januari', '26', ',', '2025', 'languag', ':', 'english', 'credit', ':', 'produc', 'alex', 'cabal', 'standard', 'ebook', 'project', ',', 'base', 'transcript', 'produc', 'project', 'gutenberg', 'australia', '.']\n"
          ]
        }
      ]
    },
    {
      "cell_type": "code",
      "source": [
        "from nltk.stem import WordNetLemmatizer\n",
        "lemmatizer = WordNetLemmatizer()\n",
        "\n",
        "processed_sentences = []\n",
        "for i in range(len(sentences)):\n",
        "    words = nltk.word_tokenize(sentences[i])\n",
        "    filtered_words = [word for word in words if word.lower() not in stop_words]\n",
        "    lemmatized_words = [lemmatizer.lemmatize(word, pos = 'v') for word in filtered_words]\n",
        "\n",
        "    print(f\"Original Sentence: {sentences[i]}\")\n",
        "    print(f\"Filtered words:{filtered_words}\")\n",
        "    print(f\"Lemmatized words: {lemmatized_words}\")\n",
        "    print()\n",
        "\n",
        "    processed_sentence = ' '.join(lemmatized_words)\n",
        "    processed_sentences.append(processed_sentence)\n",
        "    print(\"Procssesed Sentence:\", processed_sentence)\n"
      ],
      "metadata": {
        "colab": {
          "base_uri": "https://localhost:8080/"
        },
        "id": "4LyfvmQx2m3f",
        "outputId": "e7c0ad44-0658-49bc-f867-e29a3fc69495"
      },
      "execution_count": null,
      "outputs": [
        {
          "output_type": "stream",
          "name": "stdout",
          "text": [
            "Original Sentence:  The Project Gutenberg eBook of The Great Gatsby\n",
            "    \n",
            "This ebook is for the use of anyone anywhere in the United States and\n",
            "most other parts of the world at no cost and with almost no restrictions\n",
            "whatsoever.\n",
            "Filtered words:['Project', 'Gutenberg', 'eBook', 'Great', 'Gatsby', 'ebook', 'use', 'anyone', 'anywhere', 'United', 'States', 'parts', 'world', 'cost', 'almost', 'restrictions', 'whatsoever', '.']\n",
            "Lemmatized words: ['Project', 'Gutenberg', 'eBook', 'Great', 'Gatsby', 'ebook', 'use', 'anyone', 'anywhere', 'United', 'States', 'part', 'world', 'cost', 'almost', 'restrictions', 'whatsoever', '.']\n",
            "\n",
            "Procssesed Sentence: Project Gutenberg eBook Great Gatsby ebook use anyone anywhere United States part world cost almost restrictions whatsoever .\n",
            "Original Sentence: You may copy it, give it away or re-use it under the terms\n",
            "of the Project Gutenberg License included with this ebook or online\n",
            "at www.gutenberg.org.\n",
            "Filtered words:['may', 'copy', ',', 'give', 'away', 're-use', 'terms', 'Project', 'Gutenberg', 'License', 'included', 'ebook', 'online', 'www.gutenberg.org', '.']\n",
            "Lemmatized words: ['may', 'copy', ',', 'give', 'away', 're-use', 'term', 'Project', 'Gutenberg', 'License', 'include', 'ebook', 'online', 'www.gutenberg.org', '.']\n",
            "\n",
            "Procssesed Sentence: may copy , give away re-use term Project Gutenberg License include ebook online www.gutenberg.org .\n",
            "Original Sentence: If you are not located in the United States,\n",
            "you will have to check the laws of the country where you are located\n",
            "before using this eBook.\n",
            "Filtered words:['located', 'United', 'States', ',', 'check', 'laws', 'country', 'located', 'using', 'eBook', '.']\n",
            "Lemmatized words: ['locate', 'United', 'States', ',', 'check', 'laws', 'country', 'locate', 'use', 'eBook', '.']\n",
            "\n",
            "Procssesed Sentence: locate United States , check laws country locate use eBook .\n",
            "Original Sentence: Title: The Great Gatsby\n",
            "\n",
            "Author: F. Scott Fitzgerald\n",
            "\n",
            "Release date: January 17, 2021 [eBook #64317]\n",
            "                Most recently updated: January 26, 2025\n",
            "\n",
            "Language: English\n",
            "\n",
            "Credits: Produced by Alex Cabal for the Standard Ebooks project, based on a transcription produced for Project Gutenberg Australia.\n",
            "Filtered words:['Title', ':', 'Great', 'Gatsby', 'Author', ':', 'F.', 'Scott', 'Fitzgerald', 'Release', 'date', ':', 'January', '17', ',', '2021', '[', 'eBook', '#', '64317', ']', 'recently', 'updated', ':', 'January', '26', ',', '2025', 'Language', ':', 'English', 'Credits', ':', 'Produced', 'Alex', 'Cabal', 'Standard', 'Ebooks', 'project', ',', 'based', 'transcription', 'produced', 'Project', 'Gutenberg', 'Australia', '.']\n",
            "Lemmatized words: ['Title', ':', 'Great', 'Gatsby', 'Author', ':', 'F.', 'Scott', 'Fitzgerald', 'Release', 'date', ':', 'January', '17', ',', '2021', '[', 'eBook', '#', '64317', ']', 'recently', 'update', ':', 'January', '26', ',', '2025', 'Language', ':', 'English', 'Credits', ':', 'Produced', 'Alex', 'Cabal', 'Standard', 'Ebooks', 'project', ',', 'base', 'transcription', 'produce', 'Project', 'Gutenberg', 'Australia', '.']\n",
            "\n",
            "Procssesed Sentence: Title : Great Gatsby Author : F. Scott Fitzgerald Release date : January 17 , 2021 [ eBook # 64317 ] recently update : January 26 , 2025 Language : English Credits : Produced Alex Cabal Standard Ebooks project , base transcription produce Project Gutenberg Australia .\n"
          ]
        }
      ]
    },
    {
      "cell_type": "markdown",
      "source": [
        "Stop words in spacy"
      ],
      "metadata": {
        "id": "Wbgr882d4iyV"
      }
    },
    {
      "cell_type": "code",
      "source": [
        "sentence = \"The best minds are the ones that have a unique aptitide for greatness. An example of such a mind is Einstein\"\n",
        "\n",
        "doc = nlp(sentence)\n",
        "\n",
        "#print each word whether its a stopword or not\n",
        "for token in doc:\n",
        "  print(f\"Word: {token.text} \\t\\t Stop Word: {token.is_stop}\")\n",
        "\n",
        "\n",
        "\n"
      ],
      "metadata": {
        "colab": {
          "base_uri": "https://localhost:8080/"
        },
        "id": "RQypPOoi4hpG",
        "outputId": "87d3cbb8-2b6e-454d-fd17-cf93cccc1cdd"
      },
      "execution_count": null,
      "outputs": [
        {
          "output_type": "stream",
          "name": "stdout",
          "text": [
            "Word: The \t\t Stop Word: True\n",
            "Word: best \t\t Stop Word: False\n",
            "Word: minds \t\t Stop Word: False\n",
            "Word: are \t\t Stop Word: True\n",
            "Word: the \t\t Stop Word: True\n",
            "Word: ones \t\t Stop Word: False\n",
            "Word: that \t\t Stop Word: True\n",
            "Word: have \t\t Stop Word: True\n",
            "Word: a \t\t Stop Word: True\n",
            "Word: unique \t\t Stop Word: False\n",
            "Word: aptitide \t\t Stop Word: False\n",
            "Word: for \t\t Stop Word: True\n",
            "Word: greatness \t\t Stop Word: False\n",
            "Word: . \t\t Stop Word: False\n",
            "Word: An \t\t Stop Word: True\n",
            "Word: example \t\t Stop Word: False\n",
            "Word: of \t\t Stop Word: True\n",
            "Word: such \t\t Stop Word: True\n",
            "Word: a \t\t Stop Word: True\n",
            "Word: mind \t\t Stop Word: False\n",
            "Word: is \t\t Stop Word: True\n",
            "Word: Einstein \t\t Stop Word: False\n"
          ]
        }
      ]
    },
    {
      "cell_type": "code",
      "source": [
        "# print all default stopwords\n",
        "print(nlp.Defaults.stop_words)\n",
        "print(len(nlp.Defaults.stop_words))"
      ],
      "metadata": {
        "colab": {
          "base_uri": "https://localhost:8080/"
        },
        "id": "dAMflSn15RPs",
        "outputId": "e7579c0e-631d-4a6d-e4fa-464960018432"
      },
      "execution_count": null,
      "outputs": [
        {
          "output_type": "stream",
          "name": "stdout",
          "text": [
            "{'than', 'and', 'six', 'fifty', 'nor', 'then', 'you', 'before', 'five', 'thereby', 'over', 'they', 'only', 'not', 'back', 'no', 'someone', 'be', 'thereafter', 'others', 'we', 'at', 'upon', 'more', 'during', 'those', 'now', 'third', 'me', 'doing', 'namely', 'such', 'meanwhile', 'been', 'anything', '‘re', 'formerly', 'cannot', 'which', 'wherever', \"'ve\", 'enough', 'on', 'well', 'yet', 'a', 'whereas', '‘s', 'hereupon', 'latter', 'yours', 'to', 'rather', 'empty', 'the', 'these', 'really', '’ll', 'often', 'does', 'call', 'down', 'become', 'seem', 'thus', 'since', 'our', 'whence', 'as', 'of', 'otherwise', 'amongst', 'whoever', 'against', 'here', 'why', 'myself', 'seemed', 'again', 'ourselves', 'below', 'former', 'every', 'towards', 'further', 'most', 'must', 'various', 'seems', 'yourselves', 'n‘t', 'will', 'sometimes', 'several', 'off', 'show', 'make', 'unless', 'almost', 'just', 'he', 'with', 'thence', 'another', 'top', 'however', 'eight', 'all', 'per', '‘ve', '’m', 'behind', 'somewhere', 'name', 'nothing', 'there', 'toward', 'could', '’ve', 'everywhere', 'everyone', 'yourself', 'beforehand', 'get', 'onto', 'beyond', 'this', 'moreover', 'made', 'very', 'mine', 'some', 'but', 'was', 'your', 'twenty', 'whole', 'whereafter', 'serious', 'thru', 'may', 'am', 'thereupon', 'alone', 'its', 'many', 'between', 'if', 'once', 'though', 'see', 'where', 'regarding', 'beside', 'by', 'seeming', 'together', 'under', 'latterly', 'nine', 'ten', 'whereupon', \"'ll\", 'or', 'have', 'quite', 'becoming', 'hereby', 'even', 'should', 'were', 'being', 'take', 'somehow', 'what', \"'re\", 'last', 'please', 'herself', 'themselves', 'for', 'first', 'is', '’re', 'himself', 'side', 'hundred', 'move', 'through', 'i', 'she', 'ever', 'their', 'when', 'part', 'out', '‘d', 'whither', 'him', 'becomes', 'except', 'something', 'became', 'how', 'can', 'whatever', 'itself', 'via', 'within', 'until', 'above', 'used', 'might', '‘m', 'done', 'so', 'two', 'amount', 'noone', 'hers', 'because', 'herein', '’d', 'least', 'nowhere', 'nobody', 'in', 'give', 'always', 'say', 'whether', 'else', 'either', 'none', 'any', 'besides', 'other', '’s', 'without', 'who', 'full', 'around', 'therefore', 'much', 'one', 'forty', 'n’t', 'everything', 'anywhere', \"'m\", '‘ll', 'would', 'each', \"n't\", 'into', 'did', 'us', 'therein', 'whose', 'an', 'ours', 'go', 'hence', 'after', 're', 'twelve', 'same', \"'s\", 'both', 'afterwards', 'few', 'her', 'across', 'sixty', 'about', 'among', 'whereby', 'never', 'bottom', 'do', 'put', 'from', 'had', 'them', 'although', 'using', 'too', 'my', 'perhaps', 'next', 'mostly', \"'d\", 'it', 'nevertheless', 'three', 'also', 'elsewhere', 'own', 'whom', 'fifteen', 'keep', 'hereafter', 'due', 'front', 'neither', 'are', 'whenever', 'anyway', 'still', 'his', 'has', 'less', 'sometime', 'that', 'eleven', 'along', 'up', 'throughout', 'four', 'anyhow', 'already', 'ca', 'while', 'wherein', 'anyone', 'indeed'}\n",
            "326\n"
          ]
        }
      ]
    },
    {
      "cell_type": "code",
      "source": [
        "# find if a word is a stop word\n",
        "print(nlp.vocab['is'].is_stop)\n",
        "print(nlp.vocab['student'].is_stop)"
      ],
      "metadata": {
        "colab": {
          "base_uri": "https://localhost:8080/"
        },
        "id": "5PXDvXri5e4_",
        "outputId": "3c32ce1c-48c0-44a8-9a92-79eed9f65a92"
      },
      "execution_count": null,
      "outputs": [
        {
          "output_type": "stream",
          "name": "stdout",
          "text": [
            "True\n",
            "False\n"
          ]
        }
      ]
    },
    {
      "cell_type": "markdown",
      "source": [
        "custom stopwords add/remove"
      ],
      "metadata": {
        "id": "4nTkV_aN697Z"
      }
    },
    {
      "cell_type": "code",
      "source": [
        "nlp.Defaults.stop_words.add('btw')\n",
        "nlp.vocab['btw'].is_stop = True\n",
        "print(len(nlp.Defaults.stop_words))"
      ],
      "metadata": {
        "colab": {
          "base_uri": "https://localhost:8080/"
        },
        "id": "NKHuZ1pm5sxl",
        "outputId": "e8eccb14-ad77-4df7-ab0c-9a57a9582189"
      },
      "execution_count": null,
      "outputs": [
        {
          "output_type": "stream",
          "name": "stdout",
          "text": [
            "327\n"
          ]
        }
      ]
    },
    {
      "cell_type": "code",
      "source": [
        "nlp.Defaults.stop_words.remove('beyond')\n",
        "nlp.vocab['beyond'].is_stop = False\n",
        "print(len(nlp.Defaults.stop_words))"
      ],
      "metadata": {
        "colab": {
          "base_uri": "https://localhost:8080/"
        },
        "id": "I7sGiJUh6jdX",
        "outputId": "736bc059-39bf-49e5-bdad-b37d7b9f95e0"
      },
      "execution_count": null,
      "outputs": [
        {
          "output_type": "stream",
          "name": "stdout",
          "text": [
            "326\n"
          ]
        }
      ]
    },
    {
      "cell_type": "code",
      "source": [
        "para = \"\"\" Geoffrey Everest Hinton (born 1947) is a British-Canadian computer scientist, cognitive scientist, and cognitive psychologist known for his work on artificial neural networks, which earned him the title \"the Godfather of AI\".[9]\n",
        "\n",
        "Hinton is University Professor Emeritus at the University of Toronto. From 2013 to 2023, he divided his time working for Google (Google Brain) and the University of Toronto before publicly announcing his departure from Google in May 2023, citing concerns about the many risks of artificial intelligence (AI) technology.[10][11] In 2017, he co-founded and became the chief scientific advisor of the Vector Institute in Toronto.[12][13]\n",
        "\n",
        "With David Rumelhart and Ronald J. Williams, Hinton was co-author of a highly cited paper published in 1986 that popularised the backpropagation algorithm for training multi-layer neural networks,[14] although they were not the first to propose the approach.[15] Hinton is viewed as a leading figure in the deep learning community.[21] The image-recognition milestone of the AlexNet designed in collaboration with his students Alex Krizhevsky[22] and Ilya Sutskever for the ImageNet challenge 2012[8] was a breakthrough in the field of computer vision.[23]\"\"\""
      ],
      "metadata": {
        "id": "CzJe-ZYI7EVE"
      },
      "execution_count": null,
      "outputs": []
    }
  ]
}